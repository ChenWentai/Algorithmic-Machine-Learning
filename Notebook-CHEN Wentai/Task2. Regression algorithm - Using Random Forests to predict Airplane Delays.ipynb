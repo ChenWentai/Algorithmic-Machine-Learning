{
 "cells": [
  {
   "cell_type": "markdown",
   "metadata": {},
   "source": [
    "# Task 2. Using Random Forests to predict Airplane Delays\n",
    "In this notebook, we will learn how to solve the regression problem of predicting flight delays, using decision trees and random forests.\n",
    "\n",
    "# Goals\n",
    "The main goals of this project are the following:\n",
    "1. Revisit the concepts behind Decision Trees and Random Forests\n",
    "2. Build a simple methodology to address Data Science projects\n",
    "3. Use the existing implementation of Random Forests in MLLib in a specific use case, that is to predict the delay of flights\n",
    "\n",
    "# Steps\n",
    "\n",
    "- First, in section 1, we will go through a short introduction about the fundamentals of Decision Trees and Random Forests, such as feature definition, the form of a decision tree, how does it work and the idea of a forest of decision trees. If the student is familiar with these topics, skip to section 2.\n",
    "- In section 2, we delve into the details of the use case of this notebook including: providing the context, introducing the data and the basic methodology to address the project in this notebook\n",
    "- In section 3, we perform data exploration\n",
    "- In section 4, we build the statistical model and validate it"
   ]
  },
  {
   "cell_type": "markdown",
   "metadata": {},
   "source": [
    "# 1. Decision trees and Random Forests: Simple but Powerful Algorithms\n",
    "> Prediction is very difficult, especially if it’s about the future. (Niels Bohr)\n",
    "\n",
    "Decision trees are a very popular approach to prediction problems. Decision trees can be trained from both categorical and numerical features, to perform classification and regression. They are the oldest and most well-studied types of predictive analytics. In many analytics packages and libraries, most algorithms are devoted either to address classification or regression problems, and they include for example support vector machines (SVM), neural networks, naïve Bayes, logistic regression, and deep learning...\n",
    "\n",
    "In general, classification refers to the problem of predicting a label, or category, like *spam/not spam*, *rainy/sunny/mild*, for some given data. Regression refers to predicting a numeric quantity like salary, temperature, delay time, product's price. Both classification and regression involve predicting one (or more) values given one (or more) other input values. They require labelled data to perform a training phase, which builds the statistical model: they belong to *supervised learning* techniques.\n",
    "\n",
    "## 1.1 Feature definition\n",
    "To understand how regression and classification operate, it is necessary to briefly define the terms that describe their input and output. \n",
    "\n",
    "Assume that we want to predict the temperature of tomorrow given today's weather information.\n",
    "The weather information is a loose concept. For example, we can use many variables to express today's weather such as:\n",
    "* the average humidity today\n",
    "* today’s high temperature\n",
    "* today’s low temperature \n",
    "* wind speed\n",
    "* outlook: e.g. cloudy, rainy, or clear\n",
    "* ....\n",
    "\n",
    "These variables are called *features* or *dimensions*. \n",
    "\n",
    "Each variable can be quantified. For example, high and low temperatures are measured in degrees Celsius, humidity can be measured as a fraction between 0 and 1, and weather type can be labeled `cloudy`, `rainy` or `clear`...\n",
    "So, the weather today can be expressed by a list of values: `11.4, 18.0, 0.64, 20, cloudy`. \n",
    "Each feature is also called a `predictor`. Together, they constitute a `feature vector`.\n",
    "\n",
    "A feature whose domain is a set of categories is called **categorical feature**. In our example, `outlook` is a  categorical feature. A feature whose values are numerical is called **numerical feature**. In our example, `temperature` is a numerical feature.\n",
    "\n",
    "Finally, tomorrow's temperature, that is what we want to predict, is called *target feature*.\n",
    "\n",
    "## 1.2 Decision Trees & Random Forests\n",
    "The first question that you might ask is: \"Why Decision trees and not another approach?\"\n",
    "\n",
    "Well, the literature shows that the family of algorithms known as decision trees can naturally handle both categorical and numeric features. The training process is easy to understand. The model is easy to interpret. They are robust to outliers in the data, meaning that a few extreme and possibly erroneous data points should not affect the tree at all. The model can be trained in parallel easily. The accuracy is comparable to other methods... In short, there are lots of advantages when using decision trees with respect to other methods! \n",
    "\n",
    "The way we use a tree model is very simple to understand. We can say that this process \"mimics\" the way humans take decisions. For example, to decide whether to play football or not, a natural question would be \"does it rain now?\". If yes, the decision is `no`. If it's sunny, the condition is favorable to play football. A second natural question could be: \"is it windy?\". If no, then you may want to stay at home because otherwise it is going to be too hot. Otherwise, a third plausible question could be: \"do we have enough people?\". If no, then there's no point playing. Otherwise, time to play!\n",
    "\n",
    "Using a decision tree allows to follow a similar process to that described above (see the image below). Given a new input, the algorithm traverses the tree in a such a way that the input satisfies the condition of each node until reaching a leaf one. The value of the leaf node is the decision.\n",
    "\n",
    "![A decision tree](https://farm2.staticflickr.com/1690/24308350756_8533286fb5_z.jpg)\n",
    "\n",
    "The tree model in the figure is built from historical information concerning many past days. The `feature predictor` contains three features: Rain, Is_Windy, Enough_People.\n",
    "An example of the training data is as follows:\n",
    "\n",
    "Rain | Is_Windy | Enough_People | Play\n",
    "-----|----------|---------------|------\n",
    "Yes | Yes | No | No\n",
    "No  | No | No | No\n",
    "No | Yes | Yes | Yes\n",
    "No | No | Yes | No\n",
    "\n",
    "As you can see, in the training data, we know the values of predictors and we also know the corresponding answer: we have the ground truth.\n",
    "\n",
    "One limitation of decision trees is that it's easy to incur in overfitting problems. In other words, the model is too fit to the training data, it is too precise and not general enough. So, when testing the quality of predictions with different testing sets, accuracy could fluctuate. To overcome this limitation, the tree can be pruned after it is built, or even be pruned during the training process. Another approach is building a `Random Decision Forest`.\n",
    "\n",
    "A `Random Decision Forest`, as its name implies, is a forest of random Decision trees. Each tree element is built randomly from the training data. Randomization generally applies to:\n",
    "* Building new training data: Random selection of samples from the training data (with replacement) from the original training data\n",
    "* When building a node: Random selection of a subset of features\n",
    "\n",
    "To take a decision, the forest \"asks\" all trees about their prediction, and then chooses the outcome which is the most voted."
   ]
  },
  {
   "cell_type": "markdown",
   "metadata": {},
   "source": [
    "# 2. Use case: Flights delay prediction\n",
    "## 2.1 Context\n",
    "Every day, in US, there are thousands of flights departures and arrivals: unfortunately, as you may have noticed yourself, flight delays are not a rare event!! Now, given historical data about flights in the country, including the delay information that was computed *a-posteriori* (so the ground truth is available), we want to build a model that can be used to predict how many minutes of delay a flight might experience in the future. This model should provide useful information for the airport to manage better its resources, to minimize the delays and their impact on the journey of its passengers. Alternatively, astute passengers could even use the model to choose the best time for flying, such as to avoid delays.\n",
    "\n",
    "## 2.2 Data\n",
    "The data we will use in this notebook has been collected by the RITA (Research and Innovative Technology Administration), and it contains details facets about each air flight that happened in the US between 1987 and 2008. It includes 29 variables such as the origin airport, the destination airport, the scheduled departure time, day, month, the arrival delay... For more information, please visit the following [link](http://stat-computing.org/dataexpo/2009/the-data.html), that provides a lot of detail on the data. Our goal is to build a model to predict `the arrival delay`."
   ]
  },
  {
   "cell_type": "markdown",
   "metadata": {},
   "source": [
    "## 2.3 Methodology\n",
    "For our project, we can follow a simple methodology:\n",
    "\n",
    "- Understand clearly the context, the data and the goal of the project\n",
    "- Pre-process the data (data cleaning): the data can contain invalid values or missing values. We have to process our data to deal with them\n",
    "- Retrieve descriptive information about data: the idea is to discover if whether the data has patterns, whether features have patterns, the skew of values...\n",
    "- Select appropriate features: Only work with significant features will save us memory, communication cost, and ultimately, training time. Feature selection is also important as it can reduce the impact of noise that characterize the unimportant features.\n",
    "- Divide the data into training and testing set\n",
    "- Build a model from the feature in the training set\n",
    "- Test the model"
   ]
  },
  {
   "cell_type": "markdown",
   "metadata": {},
   "source": [
    "# 3. Let's play: Data Exploration"
   ]
  },
  {
   "cell_type": "markdown",
   "metadata": {},
   "source": [
    "## 3.1 Understanding the data schema\n",
    "\n",
    "The data has 29 features, that can be either categorical or numerical. For example, the `src_airport` (source airport) is categorical: there exist no comparison operator between airport names. We can not say \"SGN is bigger than NCE\". The departure is numerical, for which a comparison operator exists. For instance, \"flight departing before 6PM\" can be express by \"departure_time < 1800\".\n",
    "\n",
    "In this use case, most features are numerical, except `carier`, `flight_number`, `cancelled`, `cancelation_code` and `diverted`. \n",
    "\n",
    "The data contains a header, that is useless in building the statistical model. In addition, we already know the data schema, so we can safely neglect it. Note that there are some features with missing values in some lines of the dataset. The missing values are marked by \"NA\". These values can cause problems when processing and can lead to unexpected results. Therefore, we need to remove the header and replace all \"NA\" values by empty values, such as they can be interpreted as null values.\n",
    "\n",
    "As we have seen already, there are multiple ways to manipulate data:\n",
    "\n",
    "- Using the RDD abstraction\n",
    "- Using the DataFrame abstraction. DataFrames can be thought of as distributed tables: each item is a list of values  (the columns). Also, the value in each row of each column can be accessed by the column's name.\n",
    "\n",
    "Next, we will focus on using DataFrames. However, to use DataFrames, the data must be clean (no invalid values). That means we cannot create DataFrame directly from the \"RAW\" data. Instead, we will first create an RDD from RAW data, produce a new, clean RDD, then transform it to a DataFrame and work on it. The RDD `cleaned_data` is an RDD[String]. We need to transform it to RDD[(TypeOfColumn1, TypeOfColumn2,.., TypeOfColumn29)] then call a function to create a DataFrame from the new RDD.\n"
   ]
  },
  {
   "cell_type": "markdown",
   "metadata": {},
   "source": [
    "## 3.2 Data cleaning\n",
    "Let's prepare for the cleaning step: Loading the data into an RDD.\n",
    "\n",
    "First, we need to import some useful python modules for this notebook."
   ]
  },
  {
   "cell_type": "code",
   "execution_count": null,
   "metadata": {
    "collapsed": true
   },
   "outputs": [],
   "source": [
    "!hdfs dfs -ls "
   ]
  },
  {
   "cell_type": "code",
   "execution_count": 5,
   "metadata": {
    "collapsed": true
   },
   "outputs": [],
   "source": [
    "import os\n",
    "import sys\n",
    "import re\n",
    "from pyspark import SparkContext\n",
    "from pyspark import SparkContext\n",
    "from pyspark.sql import SQLContext\n",
    "from pyspark.sql.types import *\n",
    "from pyspark.sql import Row\n",
    "from pyspark.sql.functions import *\n",
    "%matplotlib inline\n",
    "import matplotlib.pyplot as plt\n",
    "import pandas as pd\n",
    "import numpy as np\n",
    "import pyspark.sql.functions as func\n",
    "import matplotlib.patches as mpatches\n",
    "\n",
    "# to start testing, we can focus on a single year\n",
    "input_path = \"/datasets/airline/1994.csv\"\n",
    "raw_data = sc.textFile(input_path)"
   ]
  },
  {
   "cell_type": "code",
   "execution_count": null,
   "metadata": {
    "collapsed": true
   },
   "outputs": [],
   "source": [
    "raw_data.count()"
   ]
  },
  {
   "cell_type": "markdown",
   "metadata": {},
   "source": [
    "### Question 1 \n",
    "Remove the header and replace the invalid values in our input dataset.\n",
    "\n",
    "#### Question 1.1\n",
    "\n",
    "<div class=\"alert alert-info\">\n",
    "\n",
    "How many records (rows) in the RAW data?\n",
    "\n",
    "</div>"
   ]
  },
  {
   "cell_type": "code",
   "execution_count": 2,
   "metadata": {
    "collapsed": false
   },
   "outputs": [
    {
     "name": "stdout",
     "output_type": "stream",
     "text": [
      "number of rows before cleaning: 5180049\n"
     ]
    }
   ],
   "source": [
    "print(\"number of rows before cleaning:\", raw_data.count())"
   ]
  },
  {
   "cell_type": "markdown",
   "metadata": {},
   "source": [
    "#### Question 1.2\n",
    "\n",
    "\n",
    "<div class=\"alert alert-info\">\n",
    "Except for the first column, the others might contain missing values, which are denoted by `NA`.  \n",
    "\n",
    "Remove the header and replace NA by an empty character. How many records are left after cleaning the RAW dataset?  \n",
    "\n",
    "<div class=\"label label-danger\">**NOTE**:</div> be careful with the valid values that can contain string `NA` inside.\n",
    "</div>"
   ]
  },
  {
   "cell_type": "code",
   "execution_count": 4,
   "metadata": {
    "collapsed": false
   },
   "outputs": [
    {
     "name": "stdout",
     "output_type": "stream",
     "text": [
      "number of rows after cleaning: 5180048\n",
      "['1994,1,7,5,858,900,954,1003,US,227,,56,63,,-9,-2,CLT,ORF,290,,,0,,0,,,,,', '1994,1,8,6,859,900,952,1003,US,227,,53,63,,-11,-1,CLT,ORF,290,,,0,,0,,,,,', '1994,1,10,1,935,900,1023,1003,US,227,,48,63,,20,35,CLT,ORF,290,,,0,,0,,,,,', '1994,1,11,2,903,900,1131,1003,US,227,,148,63,,88,3,CLT,ORF,290,,,0,,0,,,,,', '1994,1,12,3,933,900,1024,1003,US,227,,51,63,,21,33,CLT,ORF,290,,,0,,0,,,,,', '1994,1,13,4,,900,,1003,US,227,,,63,,,,CLT,ORF,290,,,1,,0,,,,,', '1994,1,14,5,903,900,1005,1003,US,227,,62,63,,2,3,CLT,ORF,290,,,0,,0,,,,,', '1994,1,15,6,859,900,1004,1003,US,227,,65,63,,1,-1,CLT,ORF,290,,,0,,0,,,,,', '1994,1,17,1,859,900,955,1003,US,227,,56,63,,-8,-1,CLT,ORF,290,,,0,,0,,,,,', '1994,1,18,2,904,900,959,1003,US,227,,55,63,,-4,4,CLT,ORF,290,,,0,,0,,,,,']\n"
     ]
    }
   ],
   "source": [
    "# extract the header\n",
    "header = raw_data.first()\n",
    "import re\n",
    "# replace invalid data with NULL and remove header\n",
    "cleaned_data = (raw_data\\\n",
    "        # filter out the header\n",
    "        .filter(lambda x: x!=header)\\\n",
    "        # replace the missing values with empty characters\n",
    "        .map(lambda x:re.sub(r'\\bNA\\b','',x))\n",
    "        \n",
    "        )\n",
    "        \n",
    "\n",
    "print(\"number of rows after cleaning:\", cleaned_data.count())\n",
    "print(cleaned_data.take(10))\n"
   ]
  },
  {
   "cell_type": "markdown",
   "metadata": {},
   "source": [
    "<font color=OrangeRed size=4>**[Group 6]**</font>\n",
    "<div class=\"alert alert-warning\">In order to avoid replacing 'NA' in **valid value.** e.g. some airports may be named \"NAT\",\"WNA\". \n",
    "\n",
    "Here we use regular expression to make sure the valid value not be replaced. </div>\n"
   ]
  },
  {
   "cell_type": "markdown",
   "metadata": {},
   "source": [
    "## 3.3 Transforming our data to a DataFrame\n",
    "\n",
    "Now the data is clean, valid and can be used to create DataFrame. First, we will declare the data schema for the DataFrame. By doing that, we can specify the name and data type of each column."
   ]
  },
  {
   "cell_type": "code",
   "execution_count": 5,
   "metadata": {
    "collapsed": true
   },
   "outputs": [],
   "source": [
    "sqlContext = SQLContext(sc)\n",
    "\n",
    "\n",
    "# Declare the data schema\n",
    "# see http://stat-computing.org/dataexpo/2009/the-data.html\n",
    "# for more information\n",
    "airline_data_schema = StructType([ \\\n",
    "    #StructField( name, dataType, nullable)\n",
    "    StructField(\"year\",                     IntegerType(), True), \\\n",
    "    StructField(\"month\",                    IntegerType(), True), \\\n",
    "    StructField(\"day_of_month\",             IntegerType(), True), \\\n",
    "    StructField(\"day_of_week\",              IntegerType(), True), \\\n",
    "    StructField(\"departure_time\",           IntegerType(), True), \\\n",
    "    StructField(\"scheduled_departure_time\", IntegerType(), True), \\\n",
    "    StructField(\"arrival_time\",             IntegerType(), True), \\\n",
    "    StructField(\"scheduled_arrival_time\",   IntegerType(), True), \\\n",
    "    StructField(\"carrier\",                  StringType(),  True), \\\n",
    "    StructField(\"flight_number\",            StringType(),  True), \\\n",
    "    StructField(\"tail_number\",              StringType(), True), \\\n",
    "    StructField(\"actual_elapsed_time\",      IntegerType(), True), \\\n",
    "    StructField(\"scheduled_elapsed_time\",   IntegerType(), True), \\\n",
    "    StructField(\"air_time\",                 IntegerType(), True), \\\n",
    "    StructField(\"arrival_delay\",            IntegerType(), True), \\\n",
    "    StructField(\"departure_delay\",          IntegerType(), True), \\\n",
    "    StructField(\"src_airport\",              StringType(),  True), \\\n",
    "    StructField(\"dest_airport\",             StringType(),  True), \\\n",
    "    StructField(\"distance\",                 IntegerType(), True), \\\n",
    "    StructField(\"taxi_in_time\",             IntegerType(), True), \\\n",
    "    StructField(\"taxi_out_time\",            IntegerType(), True), \\\n",
    "    StructField(\"cancelled\",                StringType(),  True), \\\n",
    "    StructField(\"cancellation_code\",        StringType(),  True), \\\n",
    "    StructField(\"diverted\",                 StringType(),  True), \\\n",
    "    StructField(\"carrier_delay\",            IntegerType(), True), \\\n",
    "    StructField(\"weather_delay\",            IntegerType(), True), \\\n",
    "    StructField(\"nas_delay\",                IntegerType(), True), \\\n",
    "    StructField(\"security_delay\",           IntegerType(), True), \\\n",
    "    StructField(\"late_aircraft_delay\",      IntegerType(), True)\\\n",
    "])"
   ]
  },
  {
   "cell_type": "markdown",
   "metadata": {},
   "source": [
    "To \"convert\" an RDD to DataFrame, each element in the RDD must be a list of column values that match the data schema."
   ]
  },
  {
   "cell_type": "code",
   "execution_count": 6,
   "metadata": {
    "collapsed": true
   },
   "outputs": [],
   "source": [
    "# convert each line into a tuple of features (columns)\n",
    "cleaned_data_to_columns = cleaned_data.map(lambda l: l.split(\",\"))\\\n",
    "    .map(lambda cols: \n",
    "         (\n",
    "            int(cols[0])  if cols[0] else None,\n",
    "            int(cols[1])  if cols[1] else None,\n",
    "            int(cols[2])  if cols[2] else None,\n",
    "            int(cols[3])  if cols[3] else None,\n",
    "            int(cols[4])  if cols[4] else None,\n",
    "            int(cols[5])  if cols[5] else None,\n",
    "            int(cols[6])  if cols[6] else None,\n",
    "            int(cols[7])  if cols[7] else None,\n",
    "            cols[8]       if cols[8] else None,\n",
    "            cols[9]       if cols[9] else None,\n",
    "            cols[10]      if cols[10] else None,\n",
    "            int(cols[11]) if cols[11] else None,\n",
    "            int(cols[12]) if cols[12] else None,\n",
    "            int(cols[13]) if cols[13] else None,\n",
    "            int(cols[14]) if cols[14] else None,\n",
    "            int(cols[15]) if cols[15] else None,\n",
    "            cols[16]      if cols[16] else None,\n",
    "            cols[17]      if cols[17] else None,\n",
    "            int(cols[18]) if cols[18] else None,\n",
    "            int(cols[19]) if cols[19] else None,\n",
    "            int(cols[20]) if cols[20] else None,\n",
    "            cols[21]      if cols[21] else None,\n",
    "            cols[22]      if cols[22] else None,\n",
    "            cols[23]      if cols[23] else None,\n",
    "            int(cols[24]) if cols[24] else None,\n",
    "            int(cols[25]) if cols[25] else None,\n",
    "            int(cols[26]) if cols[26] else None,\n",
    "            int(cols[27]) if cols[27] else None,\n",
    "            int(cols[28]) if cols[28] else None\n",
    "         ))"
   ]
  },
  {
   "cell_type": "markdown",
   "metadata": {},
   "source": [
    "To train our model, we use the following features: `year`, `month`, `day_of_month`, `day_of_week`, `scheduled_departure_time`, `scheduled_arrival_time`, `arrival_delay`, `distance`, `src_airport`, `dest_airport`."
   ]
  },
  {
   "cell_type": "markdown",
   "metadata": {},
   "source": [
    "### Question 2\n",
    "\n",
    "<div class=\"alert alert-info\">\n",
    "From RDD `cleaned_data_to_columns` and the schema `airline_data_schema` which are declared before, create a new DataFrame **`df`**.  \n",
    "\n",
    "Note that, we should only select the necessary features defined above:  \n",
    "\n",
    "[ `year`, `month`, `day_of_month`, `day_of_week`, `scheduled_departure_time`, `scheduled_arrival_time`, `arrival_delay`, `distance`, `src_airport`, `dest_airport`].  \n",
    "\n",
    "Finally, the data should be cached.\n",
    "</div>"
   ]
  },
  {
   "cell_type": "code",
   "execution_count": 7,
   "metadata": {
    "collapsed": true
   },
   "outputs": [],
   "source": [
    "# create dataframe df\n",
    "df = (sqlContext.createDataFrame(cleaned_data_to_columns,airline_data_schema )\n",
    "          .select([\"year\",\"month\",\"day_of_month\",\"day_of_week\",\"scheduled_departure_time\",\"scheduled_arrival_time\",\n",
    "          \"arrival_delay\",\"distance\",\"src_airport\",\"dest_airport\",\"carrier\"]).cache()\n",
    "    )\n"
   ]
  },
  {
   "cell_type": "markdown",
   "metadata": {
    "collapsed": true
   },
   "source": [
    "## 3.4 Descriptive statistics\n",
    "Next, we will go over a series of simple queries on our data, to explore it and compute statistics. These queries directly map to the questions you need to answer. \n",
    "\n",
    "**NOTE:** finding the right question to ask is difficult! Don't be afraid to complement the questions below, with your own questions that, in your opinion, are valuable ways to inspect data. This can give you extra points!\n",
    "\n",
    "- Basic queries:\n",
    "  - How many unique origin airports?\n",
    "  - How many unique destination airports?\n",
    "  - How many carriers?\n",
    "  - How many flights that have a scheduled departure time later than 18h00?\n",
    "  \n",
    "- Statistic on flight volume: this kind of statistics are helpful to reason about delays. Indeed, it is plausible to assume that \"*the more flights in an airport, the higher the probability of delay*\".\n",
    "  - How many flights in each month of the year?\n",
    "  - Is there any relationship between the number of flights and the days of week?\n",
    "  - How many flights in different days of months and in different hours of days?\n",
    "  - Which are the top 20 busiest airports (this depends on inbound and outbound traffic)?\n",
    "  - Which are the top 20 busiest carriers?\n",
    "  \n",
    "- Statistic on the fraction of delayed flights\n",
    "  - What is the percentage of delayed flights (over total flights) for different hours of the day?\n",
    "  - Which hours of the day are characterized by the longest flight delay?\n",
    "  - What are the fluctuation of the percentage of delayed flights over different time granularities?\n",
    "  - What is the percentage of delayed flights which depart from one of the top 20 busiest airports?\n",
    "  - What is the percentage of delayed flights which belong to one of the top 20 busiest carriers?"
   ]
  },
  {
   "cell_type": "markdown",
   "metadata": {},
   "source": [
    "### Question 3: Basic queries\n",
    "\n",
    "#### Question 3.1 \n",
    "<div class=\"alert alert-info\">\n",
    "How many origin airports? How many destination airports?\n",
    "</div>"
   ]
  },
  {
   "cell_type": "code",
   "execution_count": 6,
   "metadata": {
    "collapsed": false,
    "scrolled": true
   },
   "outputs": [
    {
     "name": "stdout",
     "output_type": "stream",
     "text": [
      "number of origin airports  224\n",
      "number of destination airports  225\n",
      "+-----------+\n",
      "|src_airport|\n",
      "+-----------+\n",
      "|        BGM|\n",
      "|        PSE|\n",
      "|        DLG|\n",
      "|        MSY|\n",
      "|        GEG|\n",
      "|        SNA|\n",
      "|        BUR|\n",
      "|        GTF|\n",
      "|        GRB|\n",
      "|        IDA|\n",
      "|        GRR|\n",
      "|        EUG|\n",
      "|        PSG|\n",
      "|        GSO|\n",
      "|        PVD|\n",
      "|        MYR|\n",
      "|        OAK|\n",
      "|        MSN|\n",
      "|        FAR|\n",
      "|        BTM|\n",
      "+-----------+\n",
      "only showing top 20 rows\n",
      "\n",
      "+------------+\n",
      "|dest_airport|\n",
      "+------------+\n",
      "|         BGM|\n",
      "|         PSE|\n",
      "|         DLG|\n",
      "|         MSY|\n",
      "|         GEG|\n",
      "|         SNA|\n",
      "|         BUR|\n",
      "|         GTF|\n",
      "|         GRB|\n",
      "|         IDA|\n",
      "|         GRR|\n",
      "|         EUG|\n",
      "|         PSG|\n",
      "|         GSO|\n",
      "|         PVD|\n",
      "|         MYR|\n",
      "|         OAK|\n",
      "|         MSN|\n",
      "|         BTM|\n",
      "|         FAR|\n",
      "+------------+\n",
      "only showing top 20 rows\n",
      "\n"
     ]
    }
   ],
   "source": [
    "#df.show()\n",
    "num_src_airport = df.select(\"src_airport\").distinct().count()\n",
    "num_dest_airport = df.select(\"dest_airport\").distinct().count()\n",
    "print(\"number of origin airports \", num_src_airport)\n",
    "print(\"number of destination airports \", num_dest_airport)\n",
    "df.select(\"src_airport\").distinct().show()\n",
    "df.select(\"dest_airport\").distinct().show()"
   ]
  },
  {
   "cell_type": "markdown",
   "metadata": {},
   "source": [
    "#### Question 3.2\n",
    "<div class=\"alert alert-info\">\n",
    "How many carriers?\n",
    "</div>"
   ]
  },
  {
   "cell_type": "code",
   "execution_count": 20,
   "metadata": {
    "collapsed": false
   },
   "outputs": [
    {
     "name": "stdout",
     "output_type": "stream",
     "text": [
      "the number distinct carriers: 10\n",
      "+-------+\n",
      "|carrier|\n",
      "+-------+\n",
      "|     UA|\n",
      "|     AA|\n",
      "|     NW|\n",
      "|     HP|\n",
      "|     TW|\n",
      "|     DL|\n",
      "|     US|\n",
      "|     AS|\n",
      "|     CO|\n",
      "|     WN|\n",
      "+-------+\n",
      "\n"
     ]
    }
   ],
   "source": [
    "num_carriers = df.select(\"carrier\").distinct().count()\n",
    "print(\"the number distinct carriers:\", num_carriers)\n",
    "df.select(\"carrier\").distinct().show()"
   ]
  },
  {
   "cell_type": "markdown",
   "metadata": {},
   "source": [
    "#### Question 3.3\n",
    "\n",
    "<div class=\"alert alert-info\">\n",
    "How many night flights (that is, flights departing later than 6pm)?\n",
    "</div>"
   ]
  },
  {
   "cell_type": "code",
   "execution_count": 8,
   "metadata": {
    "collapsed": false
   },
   "outputs": [
    {
     "name": "stdout",
     "output_type": "stream",
     "text": [
      "the number of night flights: 1078203\n"
     ]
    }
   ],
   "source": [
    "print(\"the number of night flights:\", df[df.scheduled_departure_time>1800].count())"
   ]
  },
  {
   "cell_type": "markdown",
   "metadata": {},
   "source": [
    "### Question 4: Flight volume statistics\n",
    "\n",
    "#### Question 4.1: \n",
    "\n",
    "<div class=\"alert alert-info\">\n",
    "How many flights in each month of the year? Plot the changes over months by a line chart and comment the figure.\n",
    "From the result, we can learn the dynamics of flight volume over months. For example, if we only consider flights in 1994 (to start, it's always better to focus on smaller amount of data), we can discuss about which months are most likely to have flights experiencing delays.\n",
    "</div>\n"
   ]
  },
  {
   "cell_type": "code",
   "execution_count": 9,
   "metadata": {
    "collapsed": false,
    "scrolled": false
   },
   "outputs": [
    {
     "data": {
      "image/png": "[encoded data removed]",
      "text/plain": [
       "<matplotlib.figure.Figure at 0x7faed0c57f60>"
      ]
     },
     "metadata": {},
     "output_type": "display_data"
    },
    {
     "name": "stdout",
     "output_type": "stream",
     "text": [
      "[Row(month=12, count=446521), Row(month=1, count=423861), Row(month=6, count=426490), Row(month=3, count=435516), Row(month=5, count=436432), Row(month=9, count=430861), Row(month=4, count=420995), Row(month=8, count=451086), Row(month=7, count=443736), Row(month=10, count=449369), Row(month=11, count=428227), Row(month=2, count=386954)]\n",
      "    month   count\n",
      "0       1  423861\n",
      "1       2  386954\n",
      "2       3  435516\n",
      "3       4  420995\n",
      "4       5  436432\n",
      "5       6  426490\n",
      "6       7  443736\n",
      "7       8  451086\n",
      "8       9  430861\n",
      "9      10  449369\n",
      "10     11  428227\n",
      "11     12  446521\n"
     ]
    }
   ],
   "source": [
    "statistic_month = df.groupBy('month').count().orderBy('month').take(12)\n",
    "#statistic_day_of_week.show()\n",
    "pdf = pd.DataFrame(data=statistic_month,columns = ['month','count'])\n",
    "plt.xlabel(\"Months\")\n",
    "plt.ylabel(\"Number of flights\")\n",
    "plt.ylim([350000,480000])\n",
    "plt.title('Figure 1: The change of number flights over months')\n",
    "plt.grid(True,which=\"both\",ls=\"-\")\n",
    "plt.plot(pdf.month, pdf)\n",
    "plt.show()\n",
    "print (df.groupBy('month').count().take(12))\n",
    "print(pdf)\n"
   ]
  },
  {
   "cell_type": "markdown",
   "metadata": {},
   "source": [
    "<font color=OrangeRed size=4>**[Group 6]**</font>\n",
    "<div class=\"alert alert-warning\"> According to the figure above, we can conclude that, the busiest months are August, October, and December; while the Feburary is the slack season among the whole year.  \n",
    "\n",
    "Furthermore, Feburary is the only month that the flight number is below 400,000.  \n",
    "\n",
    "We could infer that during the festivals or vacations, the flight number tends to increase with respect to workdays.  \n",
    "\n",
    "e.g.  Christmas Holidays(December) or Summer holiday(August) are busy season while the ordinary working period (Feburary) is slack season in America.\n",
    "</div>"
   ]
  },
  {
   "cell_type": "markdown",
   "metadata": {},
   "source": [
    "#### Question 4.2: \n",
    "<div class=\"alert alert-info\">\n",
    "Is there any relationship between the number of flights and the days of the week?  \n",
    "\n",
    "Plot a bar chart and interpret the figure.  \n",
    "\n",
    "By answering this question, we could learn about the importance of the weekend/weekday feature for our predictive task.\n",
    "</div>"
   ]
  },
  {
   "cell_type": "code",
   "execution_count": 10,
   "metadata": {
    "collapsed": false,
    "scrolled": true
   },
   "outputs": [
    {
     "name": "stdout",
     "output_type": "stream",
     "text": [
      "[Row(day_of_week=1, count=754636), Row(day_of_week=6, count=695245), Row(day_of_week=3, count=756864), Row(day_of_week=5, count=751531), Row(day_of_week=4, count=751537), Row(day_of_week=7, count=713703), Row(day_of_week=2, count=756532)]\n"
     ]
    },
    {
     "data": {
      "image/png": "[encoded data removed]",
      "text/plain": [
       "<matplotlib.figure.Figure at 0x7faed04cd710>"
      ]
     },
     "metadata": {},
     "output_type": "display_data"
    }
   ],
   "source": [
    "statistic_day_of_week = df.groupBy(\"day_of_week\").count().take(7)\n",
    "print(statistic_day_of_week)\n",
    "pdf = pd.DataFrame(statistic_day_of_week)\n",
    "plt.xlabel(\"Days of week\")\n",
    "plt.ylabel(\"Number of flights\")\n",
    "plt.title('Figure 2: The change of number flights over days of week')\n",
    "plt.grid(True,which=\"both\",ls=\"-\")\n",
    "map_int_into_day = { 1:\"Mon\", 2:\"Tue\", 3:\"Wed\", 4:\"Thu\", 5:\"Fri\", 6:\"Sat\", 7:\"Sun\" }\n",
    "day_of_week_label = pdf[0].map(lambda i: map_int_into_day[i])\n",
    "\n",
    "# plot bar chart\n",
    "plt.bar(pdf[0],pdf[1], align='center')\n",
    "\n",
    "plt.xticks(pdf[0], day_of_week_label)\n",
    "plt.show()"
   ]
  },
  {
   "cell_type": "markdown",
   "metadata": {},
   "source": [
    "<font color=OrangeRed size=4>**[Group 6]**</font>  \n",
    "\n",
    "<div class=\"alert alert-warning\"> From this figure we saw that during weekdays the flight numbers tend to be flat, without remarkable difference. And the overall flight number of weekdays is higher than those in weekends.  \n",
    "The result may relate to the different ticket price during the week, or maybe there are more flights for business than for travel.</div>  "
   ]
  },
  {
   "cell_type": "markdown",
   "metadata": {},
   "source": [
    "#### Question 4.3\n",
    "<div class=\"alert alert-info\">\n",
    "How many flights in different days of months and in different hours of days?  \n",
    "\n",
    "Plot  bar charts, and interpret your figures.\n",
    "</div>"
   ]
  },
  {
   "cell_type": "code",
   "execution_count": 11,
   "metadata": {
    "collapsed": false,
    "scrolled": false
   },
   "outputs": [
    {
     "name": "stdout",
     "output_type": "stream",
     "text": [
      "     0       1\n",
      "0    1  169674\n",
      "1    2  169829\n",
      "2    3  168678\n",
      "3    4  169399\n",
      "4    5  168423\n",
      "5    6  170650\n",
      "6    7  172210\n",
      "7    8  170674\n",
      "8    9  170077\n",
      "9   10  170252\n",
      "10  11  172362\n",
      "11  12  169542\n",
      "12  13  171230\n",
      "13  14  172081\n",
      "14  15  170737\n",
      "15  16  169985\n",
      "16  17  170132\n",
      "17  18  171868\n",
      "18  19  169483\n",
      "19  20  171142\n",
      "20  21  172283\n",
      "21  22  171305\n",
      "22  23  170695\n",
      "23  24  166379\n",
      "24  25  167435\n",
      "25  26  168767\n",
      "26  27  171222\n",
      "27  28  171760\n",
      "28  29  155695\n",
      "29  30  155915\n",
      "30  31  100164\n"
     ]
    },
    {
     "data": {
      "image/png": "[encoded data removed]",
      "text/plain": [
       "<matplotlib.figure.Figure at 0x7faed048c438>"
      ]
     },
     "metadata": {},
     "output_type": "display_data"
    }
   ],
   "source": [
    "statistic_day_of_month = df.groupBy(\"day_of_month\").count().orderBy(\"day_of_month\").take(31)\n",
    "#statistic_day_of_month.show()\n",
    "pdf = pd.DataFrame(statistic_day_of_month)\n",
    "print(pdf)\n",
    "\n",
    "# plot bar chart\n",
    "plt.xlim([0,32])\n",
    "plt.xlabel(\"Day of month\")\n",
    "plt.ylabel(\"Number of flights\")\n",
    "plt.title(\"Figure 3:The number of filghts over days of month\")\n",
    "plt.grid(True, which=\"both\",ls=\"-\")\n",
    "\n",
    "plt.bar(pdf[0],pdf[1],align=\"center\")\n",
    "plt.show()\n"
   ]
  },
  {
   "cell_type": "code",
   "execution_count": 12,
   "metadata": {
    "collapsed": false,
    "scrolled": false
   },
   "outputs": [
    {
     "name": "stdout",
     "output_type": "stream",
     "text": [
      "     0       1\n",
      "0    0   13641\n",
      "1    1   12825\n",
      "2    2    2842\n",
      "3    3     564\n",
      "4    4     486\n",
      "5    5   13357\n",
      "6    6  257486\n",
      "7    7  398796\n",
      "8    8  397060\n",
      "9    9  341597\n",
      "10  10  300375\n",
      "11  11  313577\n",
      "12  12  356830\n",
      "13  13  360762\n",
      "14  14  294214\n",
      "15  15  313131\n",
      "16  16  317809\n",
      "17  17  368695\n",
      "18  18  338147\n",
      "19  19  287033\n",
      "20  20  232898\n",
      "21  21  168138\n",
      "22  22   52395\n",
      "23  23   37389\n"
     ]
    },
    {
     "data": {
      "text/plain": [
       "<matplotlib.text.Text at 0x7faed02f8e10>"
      ]
     },
     "execution_count": 12,
     "metadata": {},
     "output_type": "execute_result"
    },
    {
     "data": {
      "image/png": "[encoded data removed]",
      "text/plain": [
       "<matplotlib.figure.Figure at 0x7faed037fb00>"
      ]
     },
     "metadata": {},
     "output_type": "display_data"
    }
   ],
   "source": [
    "\n",
    "statistic_hour_of_day = df.withColumn(\"hours\", (df.scheduled_departure_time/100).cast(\"int\")).groupBy(\"hours\").count().orderBy(\"hours\").take(24)\n",
    "pdf = pd.DataFrame(data = statistic_hour_of_day)\n",
    "print(pdf)\n",
    "#plot char chart\n",
    "plt.xlim([-1,24])\n",
    "plt.xlabel(\"Hours of day\")\n",
    "plt.ylabel(\"Number of flight\")\n",
    "plt.bar(pdf[0],pdf[1],align=\"center\")\n",
    "plt.grid(True,which=\"both\",ls='-')\n",
    "plt.title('Figure 4: The change of number flights over hours of day')\n",
    "##plt.show()"
   ]
  },
  {
   "cell_type": "markdown",
   "metadata": {},
   "source": [
    "<font color=OrangeRed size=4>**[Group 6]** </font>   \n",
    "\n",
    "<div class=\"alert alert-warning\"> According to the Figure 4, the rush hour of the day are around 7AM - 8AM. Accordingly, the number of night flight(from 10 PM to 5 AM) are notably low. </div>"
   ]
  },
  {
   "cell_type": "code",
   "execution_count": 13,
   "metadata": {
    "collapsed": false,
    "scrolled": false
   },
   "outputs": [
    {
     "name": "stdout",
     "output_type": "stream",
     "text": [
      "     0       1\n",
      "0    0   13641\n",
      "1    1   12825\n",
      "2    2    2842\n",
      "3    3     564\n",
      "4    4     486\n",
      "5    5   13357\n",
      "6    6  257486\n",
      "7    7  398796\n",
      "8    8  397060\n",
      "9    9  341597\n",
      "10  10  300375\n",
      "11  11  313577\n",
      "12  12  356830\n",
      "13  13  360762\n",
      "14  14  294214\n",
      "15  15  313131\n",
      "16  16  317809\n",
      "17  17  368695\n",
      "18  18  338147\n",
      "19  19  287033\n",
      "20  20  232898\n",
      "21  21  168138\n",
      "22  22   52395\n",
      "23  23   37389\n"
     ]
    },
    {
     "data": {
      "text/plain": [
       "<matplotlib.text.Text at 0x7faed0335ef0>"
      ]
     },
     "execution_count": 13,
     "metadata": {},
     "output_type": "execute_result"
    },
    {
     "data": {
      "image/png": "[encoded data removed]",
      "text/plain": [
       "<matplotlib.figure.Figure at 0x7faed04d9a20>"
      ]
     },
     "metadata": {},
     "output_type": "display_data"
    }
   ],
   "source": [
    "statistic_hour_of_day = df.withColumn(\"hours\", (df.scheduled_departure_time/100).cast(\"int\")).groupBy(\"hours\").count().orderBy(\"hours\").take(24)\n",
    "pdf = pd.DataFrame(data = statistic_hour_of_day)\n",
    "print(pdf)\n",
    "#plot char chart\n",
    "plt.xlim([-1,24])\n",
    "plt.xlabel(\"Hours of day\")\n",
    "plt.ylabel(\"Number of flight\")\n",
    "plt.bar(pdf[0],pdf[1],align=\"center\")\n",
    "plt.grid(True,which=\"both\",ls='-')\n",
    "plt.title('Figure 4: The change of number flights over hours of day')\n",
    "##plt.show()"
   ]
  },
  {
   "cell_type": "markdown",
   "metadata": {},
   "source": [
    "<font color=OrangeRed size=4>**[Group 6]**</font> \n",
    "<div class=\"alert alert-warning\"> According to the Figure 4, the rush hour of the day are around 7AM - 8AM. Accordingly, the number of night flight(from 10 PM to 5 AM) are notably low. </div>\n"
   ]
  },
  {
   "cell_type": "markdown",
   "metadata": {},
   "source": [
    "#### Question 4.4\n",
    "<div class=\"alert alert-info\">\n",
    "Which are the **top 20** busiest airports: compute this in terms of aggregate inbound and outbound number of flights?\n",
    "</div>"
   ]
  },
  {
   "cell_type": "code",
   "execution_count": 14,
   "metadata": {
    "collapsed": false,
    "scrolled": false
   },
   "outputs": [
    {
     "name": "stdout",
     "output_type": "stream",
     "text": [
      "+-----------+------+\n",
      "|src_airport| total|\n",
      "+-----------+------+\n",
      "|        ORD|561461|\n",
      "|        DFW|516523|\n",
      "|        ATL|443074|\n",
      "|        LAX|306453|\n",
      "|        STL|304409|\n",
      "|        DEN|285526|\n",
      "|        PHX|280560|\n",
      "|        DTW|276272|\n",
      "|        PIT|262939|\n",
      "|        CLT|259712|\n",
      "|        MSP|247980|\n",
      "|        SFO|235478|\n",
      "|        EWR|233991|\n",
      "|        IAH|208591|\n",
      "|        LGA|203362|\n",
      "|        BOS|199696|\n",
      "|        LAS|189920|\n",
      "|        PHL|186897|\n",
      "|        DCA|176115|\n",
      "|        MCO|153720|\n",
      "+-----------+------+\n",
      "only showing top 20 rows\n",
      "\n"
     ]
    }
   ],
   "source": [
    "# consider outbound flights\n",
    "stat_src = (df\n",
    "            .groupBy(df.src_airport)\n",
    "            .agg(func.count('*').alias('count1'))\n",
    "            )\n",
    "    \n",
    "# consider inbound flights\n",
    "stat_dest = (df\n",
    "                .groupBy(df.dest_airport)\n",
    "                .agg(func.count('*').alias('count2'))\n",
    "            )\n",
    "\n",
    "\n",
    "# full join the statistic of inbound flights and outbound flights\n",
    "stat_airports = stat_src.join(stat_dest, stat_src.src_airport == stat_dest.dest_airport, how='outer')\n",
    "\n",
    "# TOP 20 BUSIEST AIRPORTS\n",
    "stat_airport_traffic = (stat_airports\n",
    "                            # define the new column `total` \n",
    "                            # which has values are equal to the sum of `count1` and `count2`\n",
    "                            .withColumn('total', stat_airports['count1'] + stat_airports['count2'])\n",
    "                            # select top airpoint in termns of number of flights\n",
    "                            .select(['src_airport','total']).orderBy(desc('total'))\n",
    "                        )\n",
    "stat_airport_traffic.show(20)\n"
   ]
  },
  {
   "cell_type": "markdown",
   "metadata": {},
   "source": [
    "#### Question 4.5\n",
    "<div class=\"alert alert-info\">\n",
    "Which are the **top 20** busiest carriers: compute this in terms of number of flights? \n",
    "</div>\n"
   ]
  },
  {
   "cell_type": "code",
   "execution_count": 15,
   "metadata": {
    "collapsed": false
   },
   "outputs": [
    {
     "name": "stdout",
     "output_type": "stream",
     "text": [
      "+-------+------+\n",
      "|carrier| count|\n",
      "+-------+------+\n",
      "|     DL|874526|\n",
      "|     US|857906|\n",
      "|     AA|722277|\n",
      "|     UA|638750|\n",
      "|     WN|565426|\n",
      "|     CO|484834|\n",
      "|     NW|482798|\n",
      "|     TW|258205|\n",
      "|     HP|177851|\n",
      "|     AS|117475|\n",
      "+-------+------+\n",
      "\n"
     ]
    }
   ],
   "source": [
    "\n",
    "stat_carrier = (df\n",
    "                .groupBy('carrier')\n",
    "                .agg(func.count('*').alias('count'))\n",
    "                .orderBy(desc('count'))\n",
    "                )\n",
    "\n",
    "stat_carrier.show(20)\n"
   ]
  },
  {
   "cell_type": "markdown",
   "metadata": {},
   "source": [
    "<font color=OrangeRed size=4>**[Group 6]**</font> \n",
    "<div class=\"alert alert-warning\">The result of count shows that in this dataset, the total number of carriers is 10 </div>\n"
   ]
  },
  {
   "cell_type": "markdown",
   "metadata": {},
   "source": [
    "### Question 5 \n",
    "Statistics on the percentage of delayed flights\n",
    "\n",
    "#### Question 5.1\n",
    "<div class=\"alert alert-info\">\n",
    "What is the percentage of delayed flights for different hours of the day?  \n",
    "\n",
    "Plot a bar chart and interpret the figure.  \n",
    "\n",
    "\n",
    "<div class=\"label label-success\">Remember</div> a flight is considered as delayed if it's actual arrival time is more than 15 minutes late than the scheduled arrival time.\n",
    "</div>"
   ]
  },
  {
   "cell_type": "code",
   "execution_count": 8,
   "metadata": {
    "collapsed": true
   },
   "outputs": [],
   "source": [
    "# create new column that marks whether the flights are delay\n",
    "df_with_delay = df.withColumn('is_delay', when(df[\"arrival_delay\"] >= 15, 1).otherwise(0))\n",
    "\n",
    "# create a new column that indicates the scheduled departure time in hour \n",
    "# (ignore the part of minute)\n",
    "delay_per_hour = df_with_delay.withColumn('hour', round(df.scheduled_departure_time/100, 0))\n",
    "\n",
    "# group by year and hour\n",
    "statistic_delay_hour = delay_per_hour.groupBy(\"year\",\"hour\")\n",
    "\n",
    "# calculate the delay ratio and create a new column\n",
    "delay_ratio_per_hour = statistic_delay_hour.agg(\n",
    "    (func.sum('is_delay')/func.count('*')).alias('delay_ratio')\n",
    ")\n",
    "\n",
    "    \n",
    "# order the result by hour\n",
    "delay_ratio_per_hour_25 = (\n",
    "            delay_ratio_per_hour\n",
    "                .orderBy('hour')\n",
    "                .select([\"hour\", \"delay_ratio\"])\n",
    "    ).collect()\n",
    "\n",
    "pdf_delay_ratio_per_hour = pd.DataFrame(data=delay_ratio_per_hour_25)\n"
   ]
  },
  {
   "cell_type": "code",
   "execution_count": 17,
   "metadata": {
    "collapsed": false
   },
   "outputs": [
    {
     "data": {
      "image/png": "[encoded data removed]",
      "text/plain": [
       "<matplotlib.figure.Figure at 0x7faed0473828>"
      ]
     },
     "metadata": {},
     "output_type": "display_data"
    }
   ],
   "source": [
    "# plot a bar chart\n",
    "\n",
    "plt.bar(pdf_delay_ratio_per_hour[0],pdf_delay_ratio_per_hour[1],align = 'center')\n",
    "plt.xlabel('hours')\n",
    "plt.ylabel('delay_ration')\n",
    "plt.xlim(-1,25)\n",
    "plt.grid('True',which = 'major',axis= 'both',ls = '-')\n",
    "plt.title('Figure 4: The ratio of delay over hours in day')\n",
    "plt.show()\n"
   ]
  },
  {
   "cell_type": "markdown",
   "metadata": {},
   "source": [
    "<font color=OrangeRed size=4>**[Group 6]**</font> \n",
    "<div class=\"alert alert-warning\"> While observing the result above, we found that the range of x axis is from 0h to 24h. Actually the 24 h is the 0h of the following day, which is redundant information. So instead of doing \"collect()\", we use \"take(24)\" to show only from 0h to 24 h in one single day.  \n",
    "\n",
    "The code and figure are shown as below.\n",
    "</div>"
   ]
  },
  {
   "cell_type": "code",
   "execution_count": 18,
   "metadata": {
    "collapsed": false
   },
   "outputs": [
    {
     "data": {
      "image/png": "[encoded data removed]",
      "text/plain": [
       "<matplotlib.figure.Figure at 0x7faed0473080>"
      ]
     },
     "metadata": {},
     "output_type": "display_data"
    }
   ],
   "source": [
    "# plot the bar chart with 24 colomns\n",
    "\n",
    "delay_ratio_per_hour = (\n",
    "            delay_ratio_per_hour\n",
    "                .orderBy('hour')\n",
    "                .select([\"hour\", \"delay_ratio\"])\n",
    "    ).take(24)\n",
    "\n",
    "pdf_delay_ratio_per_hour = pd.DataFrame(data=delay_ratio_per_hour)\n",
    "plt.bar(pdf_delay_ratio_per_hour[0],pdf_delay_ratio_per_hour[1],align = 'center')\n",
    "plt.xlabel('hours')\n",
    "plt.ylabel('delay_ration')\n",
    "plt.xlim(-1,24)\n",
    "plt.grid('True',which = 'major',axis= 'both',ls = '-')\n",
    "plt.title('Figure 4: (25 colomns)The ratio of delay over hours in day')\n",
    "plt.show()"
   ]
  },
  {
   "cell_type": "markdown",
   "metadata": {},
   "source": [
    "#### Question 5.2\n",
    "<div class=\"alert alert-info\">\n",
    "You will realize that saying *\"at 4 A.M. there is a very low chance of a flight being delayed\"* is not giving you a full picture of the situation. Indeed, it might be true that there is very little probability for an early flight to be delayed, but if it does, the delay might be huge, like 6 hours!  \n",
    "\n",
    "<ul></ul>\n",
    "\n",
    "Then, the question is: **which hours of the day are characterized by the largest delay?**  \n",
    "\n",
    "Plot a Bar chart and explain it.  \n",
    "\n",
    "</div>"
   ]
  },
  {
   "cell_type": "code",
   "execution_count": 19,
   "metadata": {
    "collapsed": false
   },
   "outputs": [
    {
     "data": {
      "image/png": "[encoded data removed]",
      "text/plain": [
       "<matplotlib.figure.Figure at 0x7faed0257748>"
      ]
     },
     "metadata": {},
     "output_type": "display_data"
    }
   ],
   "source": [
    "mean_delay_per_hour = statistic_delay_hour.agg(\n",
    "    (func.mean('arrival_delay')).alias('mean_delay')\n",
    ")\n",
    "    \n",
    "mean_delay_per_hour = (\n",
    "    mean_delay_per_hour\n",
    "        .orderBy('hour')\n",
    "        .select(['hour','mean_delay'])\n",
    "    )\n",
    "    \n",
    "pdf_mean_delay_per_hour = pd.DataFrame(data = mean_delay_per_hour.take(24))\n",
    "\n",
    "plt.bar(pdf_mean_delay_per_hour[0],pdf_mean_delay_per_hour[1],align = 'center')\n",
    "plt.xlabel(\"hours   h\")\n",
    "plt.ylabel(\"mean delay   min\")\n",
    "plt.grid(True,which = 'both',ls = '-')\n",
    "plt.title('Figure 5: The delay over hours in day')\n",
    "plt.xlim(-1,24)\n",
    "plt.show()\n",
    "#print(pdf_mean_delay_per_hour)\n",
    "\n",
    "\n",
    "\n"
   ]
  },
  {
   "cell_type": "markdown",
   "metadata": {},
   "source": [
    "\n",
    "<font color=OrangeRed size=4>**[Group 6]**</font> \n",
    "<div class=\"alert alert-warning\"> According to Figure 5, we observed that the longest delay tend to happen in the evening(5PM - 8PM), and in the morning and late at night the delay is relatively short. Besides, in 3AM and 4AM, the delay time is minus, which means the flights often depart in advance.\n",
    "</div>"
   ]
  },
  {
   "cell_type": "markdown",
   "metadata": {},
   "source": [
    "With data of year 1994, the flight from 3AM to 4AM often depart earlier than in their schedule. The flights in the morning have less delay then in the afternoon and evening.\n",
    "\n",
    "So, an attentive student should notice here that we have somehow a problem with the definition of delay! Next, we will improve how to represent and visualize data to overcome this problem."
   ]
  },
  {
   "cell_type": "code",
   "execution_count": 21,
   "metadata": {
    "collapsed": false,
    "scrolled": true
   },
   "outputs": [
    {
     "data": {
      "image/png": "[encoded data removed]",
      "text/plain": [
       "<matplotlib.figure.Figure at 0x7faed00ecc88>"
      ]
     },
     "metadata": {},
     "output_type": "display_data"
    }
   ],
   "source": [
    "#pdf2 = pd.DataFrame(data=mean_delay_per_hour.collect())\n",
    "plt.xlabel(\"Hours\")\n",
    "plt.ylabel(\"Ratio of delay\")\n",
    "plt.title('Figure 6: The radio of delay over hours in day')\n",
    "plt.grid(True,which=\"both\",ls=\"-\")\n",
    "bars = plt.bar(pdf_delay_ratio_per_hour[0], pdf_delay_ratio_per_hour[1], align='center', edgecolor = \"black\")\n",
    "for i in range(0, len(bars)):\n",
    "    color = 'red'\n",
    "    if pdf_mean_delay_per_hour[1][i] < 0:\n",
    "        color = 'lightgreen'\n",
    "    elif pdf_mean_delay_per_hour[1][i] < 2:\n",
    "        color = 'green'\n",
    "    elif pdf_mean_delay_per_hour[1][i] < 4:\n",
    "        color = 'yellow'\n",
    "    elif pdf_mean_delay_per_hour[1][i] < 8:\n",
    "        color = 'orange'\n",
    "\n",
    "    bars[i].set_color(color)\n",
    "        \n",
    "patch1 = mpatches.Patch(color='lightgreen', label='Depart earlier')\n",
    "patch2 = mpatches.Patch(color='green', label='delay < 2 minutes')\n",
    "patch3 = mpatches.Patch(color='yellow', label='delay < 4 minutes')\n",
    "patch4 = mpatches.Patch(color='orange', label='delay < 8 minutes')\n",
    "patch5 = mpatches.Patch(color='red', label='delay >= 8 minutes')\n",
    "\n",
    "plt.legend(handles=[patch1, patch2, patch3, patch4, patch5], bbox_to_anchor=(1.05, 1), loc=2, borderaxespad=0.)\n",
    "\n",
    "plt.show()"
   ]
  },
  {
   "cell_type": "markdown",
   "metadata": {},
   "source": [
    "In the new figure (Figure 6), we have more information in a single plot. The flights in 3AM to 4AM have very low probability of being delayed, and actually depart earlier than their schedule. In contrast, the flights in the 4PM to 8PM range have higher chances of being delayed: in more than 50% of the cases, the delay is 8 minutes or more.\n",
    "\n",
    "This example shows us that the way representing results are also important.\n"
   ]
  },
  {
   "cell_type": "markdown",
   "metadata": {},
   "source": [
    "\n",
    "<font color=OrangeRed size=4>**[Group 6]**</font> \n",
    "<div class=\"alert alert-warning\"> From the this figure we can see that the high delay ratio always comes with a longer delay time. e.g. all the hours with delay ratio larger then 0.2(**red bars in the figure**) have a delay time greater than 8 minutes.\n",
    "</div>"
   ]
  },
  {
   "cell_type": "markdown",
   "metadata": {},
   "source": [
    "#### Question 5.3\n",
    "<div class=\"alert alert-info\">\n",
    "Plot a bar chart to show the percentage of delayed flights over days in a month\n",
    "</div>"
   ]
  },
  {
   "cell_type": "code",
   "execution_count": 22,
   "metadata": {
    "collapsed": false
   },
   "outputs": [
    {
     "data": {
      "image/png": "[encoded data removed]",
      "text/plain": [
       "<matplotlib.figure.Figure at 0x7faed012ee48>"
      ]
     },
     "metadata": {},
     "output_type": "display_data"
    }
   ],
   "source": [
    "\n",
    "####### The changes of delay ratio over days of month ########\n",
    "# calculate the delay ratio in each day of month\n",
    "statistic_day_of_month = (\n",
    "    df_with_delay\n",
    "        .groupBy(\"day_of_month\")\n",
    "        .agg(func.sum(\"is_delay\")/func.count(\"*\"))\n",
    "        # order by day_of_month\n",
    "        .orderBy(\"day_of_month\")\n",
    "    )\n",
    "    \n",
    "# collect data and plot\n",
    "pdf_day_of_month = pd.DataFrame(data=statistic_day_of_month.take(31))\n",
    "plt.xlabel(\"day of month\")\n",
    "plt.ylabel(\"delay ratio\")\n",
    "plt.grid(True,which=\"both\",ls='-')\n",
    "plt.bar(pdf_day_of_month[0],pdf_day_of_month[1],align='center')\n",
    "plt.xlim([0,32])\n",
    "plt.title('Figure 7: The radio of delay over days of month')\n",
    "plt.show()\n"
   ]
  },
  {
   "cell_type": "markdown",
   "metadata": {},
   "source": [
    "\n",
    "<font color=OrangeRed size=4>**[Group 6]**</font> \n",
    "<div class=\"alert alert-warning\"> As shown in Figure 7, the delay ratio over day of month range from 0.13 to 0.23. The day most likely to have delayed flight are 26,27,28 of the month.  \n",
    "In order to add the delay time information to the Figure 7, we use the same method in Figure 6, i.e. use different colors to show the range of delay time.  \n",
    "As the result shown in the figure below, only 27th of the month has the mean delay time over 8 minuties.(The **red bar** in the figure)\n",
    "</div>"
   ]
  },
  {
   "cell_type": "markdown",
   "metadata": {},
   "source": [
    "delay_per_day_of_month = df_with_delay.withColumn('day_of_month', df[\"day_of_month\"])\n",
    "statistic_delay_day_of_month = df_with_delay.groupBy(\"year\",\"day_of_month\")\n",
    "mean_delay_per_day_of_month = statistic_delay_day_of_month.agg(\n",
    "    (func.mean('arrival_delay')).alias('mean_delay')\n",
    ")\n",
    "    \n",
    "mean_delay_per_day_of_month = (\n",
    "    mean_delay_per_day_of_month\n",
    "        .orderBy('day_of_month')\n",
    "        .select(['day_of_month','mean_delay'])\n",
    "    )\n",
    "    \n",
    "pdf_mean_delay_per_day_of_month = pd.DataFrame(data = mean_delay_per_day_of_month.take(31))\n",
    "\n",
    "\n",
    "plt.xlabel(\"Day_of_month\")\n",
    "plt.ylabel(\"Ratio of delay\")\n",
    "plt.title('Figure : The radio of delay over day of month')\n",
    "plt.grid(True,which=\"both\",ls=\"-\")\n",
    "bars = plt.bar(pdf_day_of_month[0], pdf_day_of_month[1], align='center', edgecolor = \"black\")\n",
    "print(len(bars))\n",
    "for i in range(0, len(bars)):\n",
    "    color = 'red'\n",
    "    if pdf_mean_delay_per_day_of_month[1][i] < 0:\n",
    "         color = 'lightgreen'\n",
    "    elif pdf_mean_delay_per_day_of_month[1][i] < 2:\n",
    "        color = 'green'\n",
    "    elif pdf_mean_delay_per_day_of_month[1][i] < 4:\n",
    "        color = 'yellow'\n",
    "    elif pdf_mean_delay_per_day_of_month[1][i] < 8:\n",
    "        color = 'orange'\n",
    "\n",
    "    bars[i].set_color(color)\n",
    "        \n",
    "patch1 = mpatches.Patch(color='lightgreen', label='Depart earlier')\n",
    "patch2 = mpatches.Patch(color='green', label='delay < 2 minutes')\n",
    "patch3 = mpatches.Patch(color='yellow', label='delay < 4 minutes')\n",
    "patch4 = mpatches.Patch(color='orange', label='delay < 8 minutes')\n",
    "patch5 = mpatches.Patch(color='red', label='delay >= 8 minutes')\n",
    "\n",
    "plt.legend(handles=[patch1, patch2, patch3, patch4, patch5], bbox_to_anchor=(1.05, 1), loc=2, borderaxespad=0.)\n",
    "plt.xlim(-1,31)\n",
    "plt.show()\n",
    "plt.bar(pdf_mean_delay_per_day_of_month[0],pdf_mean_delay_per_day_of_month[1],align = 'center')\n",
    "plt.xlabel(\"day of month   \")\n",
    "plt.ylabel(\"mean delay   min\")\n",
    "plt.grid(True,which = 'both',ls = '-')\n",
    "plt.title('Figure 5: The mean delay over hours in day')\n",
    "plt.xlim(-1,31)\n",
    "plt.show()\n",
    "#print(pdf_mean_de"
   ]
  },
  {
   "cell_type": "markdown",
   "metadata": {},
   "source": [
    "#### Question 5.4\n",
    "<div class=\"alert alert-info\">\n",
    "Plot a bar chart to show the percentage of delayed flights over days in a week\n",
    "</div>"
   ]
  },
  {
   "cell_type": "code",
   "execution_count": 23,
   "metadata": {
    "collapsed": false
   },
   "outputs": [
    {
     "data": {
      "image/png": "[encoded data removed]",
      "text/plain": [
       "<matplotlib.figure.Figure at 0x7faed0173b38>"
      ]
     },
     "metadata": {},
     "output_type": "display_data"
    }
   ],
   "source": [
    "####### The changes of delay ratio over days of week ########\n",
    "# calculate the delay ratio in each day of week\n",
    "statistic_day_of_week = (\n",
    "    df_with_delay.groupBy(\"day_of_week\")\n",
    "        .agg(func.sum(\"is_delay\")/func.count('*'))\n",
    "        .orderBy(\"day_of_week\")\n",
    "        \n",
    "    )\n",
    "    \n",
    "# collect data and plot\n",
    "pdf_day_of_week = pd.DataFrame(data = statistic_day_of_week.take(7))\n",
    "map_int_into_day = { 1:\"Mon\", 2:\"Tue\", 3:\"Wed\", 4:\"Thu\", 5:\"Fri\", 6:\"Sat\", 7:\"Sun\" }\n",
    "day_of_week_label = pdf_day_of_week[0].map(lambda i: map_int_into_day[i])\n",
    "\n",
    "plt.bar(pdf_day_of_week[0],pdf_day_of_week[1],align = 'center')\n",
    "plt.xlabel(\"day of week\")\n",
    "plt.ylabel(\"delay ratio\")\n",
    "plt.grid(True,which = 'both',ls = '-')\n",
    "plt.xlim(0,8)\n",
    "\n",
    "plt.title('Figure 8: The radio of delay over days of week')\n",
    "plt.xticks(pdf_day_of_week[0], day_of_week_label)\n",
    "plt.show()\n"
   ]
  },
  {
   "cell_type": "code",
   "execution_count": 24,
   "metadata": {
    "collapsed": false
   },
   "outputs": [
    {
     "name": "stdout",
     "output_type": "stream",
     "text": [
      "7\n"
     ]
    },
    {
     "data": {
      "image/png": "[encoded data removed]",
      "text/plain": [
       "<matplotlib.figure.Figure at 0x7faed0167080>"
      ]
     },
     "metadata": {},
     "output_type": "display_data"
    },
    {
     "data": {
      "image/png": "[encoded data removed]",
      "text/plain": [
       "<matplotlib.figure.Figure at 0x7faed04d94e0>"
      ]
     },
     "metadata": {},
     "output_type": "display_data"
    }
   ],
   "source": [
    "\n",
    "statistic_delay_day_of_week = df_with_delay.groupBy(\"year\",\"day_of_week\")\n",
    "mean_delay_per_day_of_week = statistic_delay_day_of_week.agg(\n",
    "    (func.mean('arrival_delay')).alias('mean_delay')\n",
    ")\n",
    "    \n",
    "mean_delay_per_day_of_week = (\n",
    "    mean_delay_per_day_of_week\n",
    "        .orderBy('day_of_week')\n",
    "        .select(['day_of_week','mean_delay'])\n",
    "    )\n",
    "    \n",
    "pdf_mean_delay_per_day_of_week = pd.DataFrame(data = mean_delay_per_day_of_week.take(7))\n",
    "\n",
    "\n",
    "plt.xlabel(\"Day_of_week\")\n",
    "plt.ylabel(\"Ratio of delay\")\n",
    "plt.title('Figure 6: The radio of delay over day of week')\n",
    "plt.grid(True,which=\"both\",ls=\"-\")\n",
    "bars = plt.bar(pdf_day_of_week[0], pdf_day_of_week[1], align='center', edgecolor = \"black\")\n",
    "print(len(bars))\n",
    "for i in range(0, len(bars)):\n",
    "    color = 'red'\n",
    "    if pdf_mean_delay_per_day_of_week[1][i] < 0:\n",
    "         color = 'lightgreen'\n",
    "    elif pdf_mean_delay_per_day_of_week[1][i] < 2:\n",
    "        color = 'green'\n",
    "    elif pdf_mean_delay_per_day_of_week[1][i] < 4:\n",
    "        color = 'yellow'\n",
    "    elif pdf_mean_delay_per_day_of_week[1][i] < 8:\n",
    "        color = 'orange'\n",
    "\n",
    "    bars[i].set_color(color)\n",
    "        \n",
    "patch1 = mpatches.Patch(color='lightgreen', label='Depart earlier')\n",
    "patch2 = mpatches.Patch(color='green', label='delay < 2 minutes')\n",
    "patch3 = mpatches.Patch(color='yellow', label='delay < 4 minutes')\n",
    "patch4 = mpatches.Patch(color='orange', label='delay < 8 minutes')\n",
    "patch5 = mpatches.Patch(color='red', label='delay >= 8 minutes')\n",
    "\n",
    "plt.legend(handles=[patch1, patch2, patch3, patch4, patch5], bbox_to_anchor=(1.05, 1), loc=2, borderaxespad=0.)\n",
    "plt.xlim(-1,8)\n",
    "plt.show()\n",
    "\n",
    "plt.bar(pdf_mean_delay_per_day_of_week[0],pdf_mean_delay_per_day_of_week[1],align = 'center')\n",
    "plt.xlabel(\"day of week\")\n",
    "plt.ylabel(\"mean delay min\")\n",
    "plt.grid(True,which = 'both',ls = '-')\n",
    "plt.title('Figure 5: The mean delay over day of week')\n",
    "plt.xlim(-1,8)\n",
    "plt.show()"
   ]
  },
  {
   "cell_type": "markdown",
   "metadata": {},
   "source": [
    "\n",
    "<font color=OrangeRed size=4>**[Group 6]**</font> \n",
    "<div class=\"alert alert-warning\"> Figure 8 illustrates that on Thursday and Friday the flights are most likely to be delayed(with ratio up to 0.20), while on Saturday the ratio is relatively low(less than 0.15).\n",
    "</div>"
   ]
  },
  {
   "cell_type": "markdown",
   "metadata": {},
   "source": [
    "#### Question 5.5\n",
    "<div class=\"alert alert-info\">\n",
    "Plot a bar chart to show the percentage of delayed flights over months in a year\n",
    "</div>"
   ]
  },
  {
   "cell_type": "code",
   "execution_count": 25,
   "metadata": {
    "collapsed": false
   },
   "outputs": [
    {
     "data": {
      "image/png": "[encoded data removed]",
      "text/plain": [
       "<matplotlib.figure.Figure at 0x7faed04781d0>"
      ]
     },
     "metadata": {},
     "output_type": "display_data"
    }
   ],
   "source": [
    "####### The changes of delay ratio over months ########\n",
    "# calculate the delay ratio in month\n",
    "statistic_month = (\n",
    "    df_with_delay.groupBy(\"month\")\n",
    "    .agg(func.sum('is_delay')/func.count('*'))\n",
    "    .orderBy(\"month\")\n",
    "    )\n",
    "\n",
    "# collect data and plot\n",
    "pdf_month = pd.DataFrame(data = statistic_month.take(12))\n",
    "\n",
    "plt.bar(pdf_month[0],pdf_month[1],align = 'center')\n",
    "plt.xlabel(\"months\")\n",
    "plt.ylabel(\"delay ratio of month\")\n",
    "plt.grid(True,which='both',ls='-')\n",
    "plt.xlim(0,13)\n",
    "plt.title('Figure 9: The radio of delay over months')\n",
    "plt.show()\n"
   ]
  },
  {
   "cell_type": "code",
   "execution_count": 26,
   "metadata": {
    "collapsed": false,
    "scrolled": false
   },
   "outputs": [
    {
     "name": "stdout",
     "output_type": "stream",
     "text": [
      "12\n"
     ]
    },
    {
     "data": {
      "image/png": "[encoded data removed]",
      "text/plain": [
       "<matplotlib.figure.Figure at 0x7faed01318d0>"
      ]
     },
     "metadata": {},
     "output_type": "display_data"
    },
    {
     "data": {
      "image/png": "[encoded data removed]",
      "text/plain": [
       "<matplotlib.figure.Figure at 0x7faec9e32710>"
      ]
     },
     "metadata": {},
     "output_type": "display_data"
    }
   ],
   "source": [
    "statistic_delay_month = df_with_delay.groupBy(\"year\",\"month\")\n",
    "mean_delay_per_month = statistic_delay_month.agg(\n",
    "    (func.mean('arrival_delay')).alias('mean_delay')\n",
    ")\n",
    "    \n",
    "mean_delay_per_month = (\n",
    "    mean_delay_per_month\n",
    "        .orderBy('month')\n",
    "        .select(['month','mean_delay'])\n",
    "    )\n",
    "    \n",
    "pdf_mean_delay_per_month = pd.DataFrame(data = mean_delay_per_month.take(12))\n",
    "\n",
    "\n",
    "plt.xlabel(\"Month\")\n",
    "plt.ylabel(\"Ratio of delay\")\n",
    "plt.title('Figure 6: The radio of delay over month')\n",
    "plt.grid(True,which=\"both\",ls=\"-\")\n",
    "bars = plt.bar(pdf_month[0], pdf_month[1], align='center', edgecolor = \"black\")\n",
    "print(len(bars))\n",
    "for i in range(0, len(bars)):\n",
    "    color = 'red'\n",
    "    if pdf_mean_delay_per_month[1][i] < 0:\n",
    "         color = 'lightgreen'\n",
    "    elif pdf_mean_delay_per_month[1][i] < 2:\n",
    "        color = 'green'\n",
    "    elif pdf_mean_delay_per_month[1][i] < 4:\n",
    "        color = 'yellow'\n",
    "    elif pdf_mean_delay_per_month[1][i] < 8:\n",
    "        color = 'orange'\n",
    "\n",
    "    bars[i].set_color(color)\n",
    "        \n",
    "patch1 = mpatches.Patch(color='lightgreen', label='Depart earlier')\n",
    "patch2 = mpatches.Patch(color='green', label='delay < 2 minutes')\n",
    "patch3 = mpatches.Patch(color='yellow', label='delay < 4 minutes')\n",
    "patch4 = mpatches.Patch(color='orange', label='delay < 8 minutes')\n",
    "patch5 = mpatches.Patch(color='red', label='delay >= 8 minutes')\n",
    "\n",
    "plt.legend(handles=[patch1, patch2, patch3, patch4, patch5], bbox_to_anchor=(1.05, 1), loc=2, borderaxespad=0.)\n",
    "plt.xlim(-1,13)\n",
    "plt.show()\n",
    "\n",
    "plt.bar(pdf_mean_delay_per_month[0],pdf_mean_delay_per_month[1],align = 'center')\n",
    "plt.xlabel(\"day of week\")\n",
    "plt.ylabel(\"mean delay min\")\n",
    "plt.grid(True,which = 'both',ls = '-')\n",
    "plt.title('Figure 5: The mean delay over month')\n",
    "plt.xlim(-1,13)\n",
    "plt.show()\n"
   ]
  },
  {
   "cell_type": "markdown",
   "metadata": {},
   "source": [
    "\n",
    "<font color=OrangeRed size=4>**[Group 6]**</font> \n",
    "<div class=\"alert alert-warning\"> From Figure 9 we can conclude that the highest delay ratio takes place in January and Feburary(over 0.20). This should be considered as a quite high ratio compared with \"day of month\" and \"day of week.\"\n",
    "\n",
    "Also, the **hours** during one day also has a remarkable impact on the delay ratio(refered from **Figure 6**).\n",
    "We can simply conclude that the **month** and **hours** are more important factors on the flight delay with respect to **day of month** and **day of week**\n",
    "</div>"
   ]
  },
  {
   "cell_type": "markdown",
   "metadata": {},
   "source": [
    "We are ready now to draw some observations from our data, even if we have only looked at data coming from a year worth of flights:\n",
    "\n",
    "- The probability for a flight to be delayed is low at the beginning or at the very end of a given months\n",
    "- Flights on two first weekdays and on the weekend, are less likely to be delayed\n",
    "- May and September are very good months for travelling, as the probability of delay is low (remember we're working on US data. Do you think this is also true in France?)\n",
    "\n",
    "Putting things together, we can have a global picture of the whole year!"
   ]
  },
  {
   "cell_type": "code",
   "execution_count": 27,
   "metadata": {
    "collapsed": false,
    "scrolled": false
   },
   "outputs": [
    {
     "name": "stdout",
     "output_type": "stream",
     "text": [
      "        0   1   2  3         4\n",
      "0    1994   1   1  6  0.121484\n",
      "1    1994   1   2  7  0.249577\n",
      "2    1994   1   3  1  0.316953\n",
      "3    1994   1   4  2  0.253472\n",
      "4    1994   1   5  3  0.320918\n",
      "5    1994   1   6  4  0.316606\n",
      "6    1994   1   7  5  0.243818\n",
      "7    1994   1   8  6  0.163427\n",
      "8    1994   1   9  7  0.196553\n",
      "9    1994   1  10  1  0.195652\n",
      "10   1994   1  11  2  0.200411\n",
      "11   1994   1  12  3  0.303967\n",
      "12   1994   1  13  4  0.254373\n",
      "13   1994   1  14  5  0.259518\n",
      "14   1994   1  15  6  0.130622\n",
      "15   1994   1  16  7  0.276416\n",
      "16   1994   1  17  1  0.306501\n",
      "17   1994   1  18  2  0.273498\n",
      "18   1994   1  19  3  0.285787\n",
      "19   1994   1  20  4  0.302062\n",
      "20   1994   1  21  5  0.206234\n",
      "21   1994   1  22  6  0.101059\n",
      "22   1994   1  23  7  0.136844\n",
      "23   1994   1  24  1  0.174423\n",
      "24   1994   1  25  2  0.218615\n",
      "25   1994   1  26  3  0.309078\n",
      "26   1994   1  27  4  0.393276\n",
      "27   1994   1  28  5  0.357378\n",
      "28   1994   1  29  6  0.192912\n",
      "29   1994   1  30  7  0.274829\n",
      "..    ...  ..  .. ..       ...\n",
      "335  1994  12   2  5  0.116841\n",
      "336  1994  12   3  6  0.157287\n",
      "337  1994  12   4  7  0.172913\n",
      "338  1994  12   5  1  0.336555\n",
      "339  1994  12   6  2  0.216628\n",
      "340  1994  12   7  3  0.289443\n",
      "341  1994  12   8  4  0.273526\n",
      "342  1994  12   9  5  0.211778\n",
      "343  1994  12  10  6  0.137743\n",
      "344  1994  12  11  7  0.139568\n",
      "345  1994  12  12  1  0.094788\n",
      "346  1994  12  13  2  0.134836\n",
      "347  1994  12  14  3  0.247846\n",
      "348  1994  12  15  4  0.303450\n",
      "349  1994  12  16  5  0.309083\n",
      "350  1994  12  17  6  0.208816\n",
      "351  1994  12  18  7  0.126811\n",
      "352  1994  12  19  1  0.131291\n",
      "353  1994  12  20  2  0.183340\n",
      "354  1994  12  21  3  0.297812\n",
      "355  1994  12  22  4  0.288045\n",
      "356  1994  12  23  5  0.288207\n",
      "357  1994  12  24  6  0.168970\n",
      "358  1994  12  25  7  0.057752\n",
      "359  1994  12  26  1  0.153684\n",
      "360  1994  12  27  2  0.178658\n",
      "361  1994  12  28  3  0.226012\n",
      "362  1994  12  29  4  0.153465\n",
      "363  1994  12  30  5  0.131448\n",
      "364  1994  12  31  6  0.210394\n",
      "\n",
      "[365 rows x 5 columns]\n"
     ]
    }
   ],
   "source": [
    "df_with_delay = df.withColumn('is_delay', when(df[\"arrival_delay\"] >= 15, 1).otherwise(0))\n",
    "statistic_day = df_with_delay.groupBy(['year','month', 'day_of_month', 'day_of_week'])\\\n",
    "    .agg((func.sum('is_delay')/func.count('*')).alias('delay_ratio'))\n",
    "\n",
    "# assume that we do statistic on year 1994\n",
    "statistic_day = statistic_day\\\n",
    "    .orderBy('year', 'month', 'day_of_month', 'day_of_week')\n",
    "pdf = pd.DataFrame(data=statistic_day.collect())\n",
    "print(pdf)"
   ]
  },
  {
   "cell_type": "code",
   "execution_count": 28,
   "metadata": {
    "collapsed": false
   },
   "outputs": [
    {
     "data": {
      "image/png": "[encoded data removed]",
      "text/plain": [
       "<matplotlib.figure.Figure at 0x7faec9d829e8>"
      ]
     },
     "metadata": {},
     "output_type": "display_data"
    }
   ],
   "source": [
    "fig = plt.figure(figsize=(20,10))                                                             \n",
    "ax = fig.add_subplot(1,1,1)     \n",
    "plt.xlabel(\"Weeks/Months in year\")\n",
    "plt.ylabel(\"Day of weeks (1:Monday -> 7 :Sunday)\")\n",
    "plt.title('Figure 10: The change of number flights over days in year')\n",
    "  \n",
    "rec_size = 0.3\n",
    "from matplotlib.patches import Rectangle\n",
    "import datetime\n",
    "num_days = len(pdf[0])\n",
    "\n",
    "ax.patch.set_facecolor('gray')\n",
    "ax.set_aspect('equal', 'box')\n",
    "ax.xaxis.set_major_locator(plt.NullLocator())\n",
    "ax.yaxis.set_major_locator(plt.NullLocator())\n",
    "\n",
    "for i in range(0, num_days):\n",
    "    # extract information from the result\n",
    "    year = pdf[0][i]\n",
    "    month = pdf[1][i]\n",
    "    day_of_month = pdf[2][i]\n",
    "    day_of_week = pdf[3][i]\n",
    "    day_of_year= datetime.date(year=year, month=month, day=day_of_month).timetuple()\n",
    "    week_of_year = datetime.date(year=year, month=month, day=day_of_month).isocalendar()[1]\n",
    "    \n",
    "    # dealing with the week of the previous year\n",
    "    if week_of_year == 52 and month == 1:\n",
    "        week_of_year = 0\n",
    "        \n",
    "    # the coordinate of a day in graph\n",
    "    X = week_of_year*rec_size\n",
    "    Y = day_of_week*rec_size\n",
    "    \n",
    "    # use different colors to show the delay ratio\n",
    "    color = 'white'\n",
    "    if pdf[4][i] <= 0.084:\n",
    "        color = 'lightyellow'\n",
    "    elif pdf[4][i] <= 0.117:\n",
    "        color = 'lightgreen'\n",
    "    elif pdf[4][i] <= 0.152:\n",
    "        color = 'gold'\n",
    "    elif pdf[4][i] <= 0.201:\n",
    "        color = 'orange'\n",
    "    else:\n",
    "        color = 'red'\n",
    "    rect = plt.Rectangle((X - rec_size/2.0, Y - rec_size/2.0), rec_size, rec_size,\n",
    "                      alpha=1, facecolor=color, edgecolor='whitesmoke',label = 'what')\n",
    "\n",
    "    ax.add_patch(rect)\n",
    "    \n",
    "    # drawing borders to separate months\n",
    "    if day_of_month <= 7:\n",
    "        rect2 = plt.Rectangle((X -rec_size/2.0, Y - rec_size/2.0), 0.01, rec_size,\n",
    "                      alpha=1, facecolor='black',label = 'hello')\n",
    "        ax.add_patch(rect2)\n",
    "    if day_of_month == 1:\n",
    "        rect2 = plt.Rectangle((X - rec_size/2.0, Y - rec_size/2.0), rec_size, 0.01,\n",
    "                      alpha=1, facecolor='black')\n",
    "        ax.add_patch(rect2)\n",
    "ax.autoscale_view()\n",
    "\n",
    "patch1 = mpatches.Patch(color='lightyellow', label='delay ratio < 8.4%')\n",
    "patch2 = mpatches.Patch(color='lightgreen', label='delay ratio < 11.7%')\n",
    "patch3 = mpatches.Patch(color='gold', label='delay ratio < 15.2%')\n",
    "patch4 = mpatches.Patch(color='orange', label='delay ratio < 20.1%')\n",
    "patch5 = mpatches.Patch(color='red', label='delay ratio >= 20.1%')\n",
    "\n",
    "plt.legend(handles=[patch1, patch2, patch3, patch4, patch5], bbox_to_anchor=(1.05, 1), loc=2, borderaxespad=0.)\n",
    "plt.xticks([0.9,2.1,3.4,4.6,6.0,7.4,8.6,9.9,11.3,12.5,14,15.2],('Jan','Feb','Mar','Apr','May','June','July','Aug','Sep','Oct','Nov','Dec'))\n",
    "\n",
    "plt.show()\n"
   ]
  },
  {
   "cell_type": "markdown",
   "metadata": {},
   "source": [
    "#### Question 5.6\n",
    "<div class=\"alert alert-info\">\n",
    "Explain figure 10.\n",
    "</div>"
   ]
  },
  {
   "cell_type": "markdown",
   "metadata": {},
   "source": [
    "<font color=OrangeRed size=4>**[Group 6]**</font>   \n",
    "<div class=\"alert alert-warning\"> The figure above shows the delay ratio among the whole year 1994.\n",
    "According to the ratio of the red cube, January is the month with highest delay ratio, of which 20 days has the delay ratio over 20%. Also Feburary, July, December has the delay ratio over 13 days.  \n",
    "On the contrary, May, September have the relatively low delay ratio.  \n",
    "    \n",
    "    \n",
    "When we look at this figure in \"day of week\", Friday and Thursday seem to be the days with highest delay ratio, while the flight in weekends tend to be more punctual.  \n",
    "  \n",
    "  \n",
    "According to this figure, when passengers book flight, they can choose the date with lower delay ratio; or when they decide to travel on those high delay ratio dates, it's better to buy flight delay insurance.\n",
    "</div>"
   ]
  },
  {
   "cell_type": "markdown",
   "metadata": {
    "collapsed": true
   },
   "source": [
    "#### Question 5.7\n",
    "<div class=\"alert alert-info\">\n",
    "\n",
    "What is the delay probability for the top 20 busiest airports?  \n",
    "\n",
    "\n",
    "By drawing the flight volume of each airport and the associated delay probability in a single plot, we can observe the relationship between airports, number of flights and the delay.  \n",
    "\n",
    "<div class=\"label label-success\">HINT </div>  Function `<df_colum>.isin(<list>)` helps checking whether a value in column belongs to a list.\n",
    "</div>"
   ]
  },
  {
   "cell_type": "code",
   "execution_count": 29,
   "metadata": {
    "collapsed": false,
    "scrolled": false
   },
   "outputs": [
    {
     "name": "stdout",
     "output_type": "stream",
     "text": [
      "+-----------+------+\n",
      "|src_airport| total|\n",
      "+-----------+------+\n",
      "|        ORD|561461|\n",
      "|        DFW|516523|\n",
      "|        ATL|443074|\n",
      "|        LAX|306453|\n",
      "|        STL|304409|\n",
      "|        DEN|285526|\n",
      "|        PHX|280560|\n",
      "|        DTW|276272|\n",
      "|        PIT|262939|\n",
      "|        CLT|259712|\n",
      "|        MSP|247980|\n",
      "|        SFO|235478|\n",
      "|        EWR|233991|\n",
      "|        IAH|208591|\n",
      "|        LGA|203362|\n",
      "|        BOS|199696|\n",
      "|        LAS|189920|\n",
      "|        PHL|186897|\n",
      "|        DCA|176115|\n",
      "|        MCO|153720|\n",
      "+-----------+------+\n",
      "only showing top 20 rows\n",
      "\n"
     ]
    }
   ],
   "source": [
    "stat_airport_traffic.show()\n",
    "top_20_airports = [item[0] for item in stat_airport_traffic.take(20)]\n",
    "#print (top_20_airports)"
   ]
  },
  {
   "cell_type": "code",
   "execution_count": 30,
   "metadata": {
    "collapsed": false,
    "scrolled": false
   },
   "outputs": [
    {
     "name": "stdout",
     "output_type": "stream",
     "text": [
      "+-----------+-------------------------------------------+------------------+\n",
      "|src_airport|(sum(is_delay) / count(1) AS `delay_ratio`)|        mean_delay|\n",
      "+-----------+-------------------------------------------+------------------+\n",
      "|        ATL|                        0.21205403501801467| 7.433333485357767|\n",
      "|        BOS|                        0.20337767149902855| 7.364657993951195|\n",
      "|        CLT|                        0.22251161209048542| 8.260802384407231|\n",
      "|        DCA|                         0.1599864322460286| 4.773016724592382|\n",
      "|        DEN|                        0.20354670607451195| 6.577964625772651|\n",
      "|        DFW|                        0.22524719636014578|  9.32878026820831|\n",
      "|        DTW|                        0.17069213736050923| 4.779673596010123|\n",
      "|        EWR|                        0.26439606741573035|11.807407869413359|\n",
      "|        IAH|                         0.1660171622737133|  4.85737277372192|\n",
      "|        LAS|                        0.17218759213241797| 6.108543246539747|\n",
      "|        LAX|                        0.16996104082244257| 4.648075619244466|\n",
      "|        LGA|                        0.19028312259483232| 5.979760585010628|\n",
      "|        MCO|                          0.167725622406639| 6.090171018516093|\n",
      "|        MSP|                        0.15585690866890653| 3.408195358104381|\n",
      "|        ORD|                        0.16788302771286917| 5.210990005407454|\n",
      "|        PHL|                        0.21505583159694394| 8.159339634032557|\n",
      "|        PHX|                        0.17194317278139576| 6.214927201960502|\n",
      "|        PIT|                        0.21883994899867915| 7.709053359513733|\n",
      "|        SFO|                        0.16634949633351095| 4.515108540575636|\n",
      "|        STL|                        0.18877507271995725| 6.220467280970404|\n",
      "+-----------+-------------------------------------------+------------------+\n",
      "\n"
     ]
    }
   ],
   "source": [
    "\n",
    "####### The delay ratio of the top 20 busiest airports ########\n",
    "K = 20\n",
    "\n",
    "# extract top_20_airports from stat_airport_traffic\n",
    "top_20_airports = [item[0] for item in stat_airport_traffic.take(K)]\n",
    "\n",
    "#select the statistic of source airports\n",
    "statistic_ratio_delay_airport = (\n",
    "    df_with_delay\n",
    "        # select only flights that depart from one of top 20 ariports\n",
    "        .filter(df_with_delay.src_airport.isin(top_20_airports))\n",
    "        # group by source airport\n",
    "        .groupBy('src_airport')\n",
    "        #  calculate the delay ratio\n",
    "        .agg(func.sum(\"is_delay\")/func.count('*').alias('delay_ratio'),(func.mean('arrival_delay')).alias('mean_delay'))\n",
    "        \n",
    "        # sort by name of airport\n",
    "        .orderBy(['src_airport'])\n",
    "    )\n",
    "\n",
    "statistic_ratio_delay_airport.show(20)\n"
   ]
  },
  {
   "cell_type": "code",
   "execution_count": 31,
   "metadata": {
    "collapsed": false,
    "scrolled": false
   },
   "outputs": [
    {
     "name": "stdout",
     "output_type": "stream",
     "text": [
      "   src_airport   total\n",
      "0          ATL  443074\n",
      "1          BOS  199696\n",
      "2          CLT  259712\n",
      "3          DCA  176115\n",
      "4          DEN  285526\n",
      "5          DFW  516523\n",
      "6          DTW  276272\n",
      "7          EWR  233991\n",
      "8          IAH  208591\n",
      "9          LAS  189920\n",
      "10         LAX  306453\n",
      "11         LGA  203362\n",
      "12         MCO  153720\n",
      "13         MSP  247980\n",
      "14         ORD  561461\n",
      "15         PHL  186897\n",
      "16         PHX  280560\n",
      "17         PIT  262939\n",
      "18         SFO  235478\n",
      "19         STL  304409\n"
     ]
    },
    {
     "data": {
      "image/png": "[encoded data removed]",
      "text/plain": [
       "<matplotlib.figure.Figure at 0x7faed043db70>"
      ]
     },
     "metadata": {},
     "output_type": "display_data"
    }
   ],
   "source": [
    "# collect data and plot\n",
    "pdf_ratio_delay_airport = pd.DataFrame(data=statistic_ratio_delay_airport.collect())\n",
    "pdf_top_20_airport_volume = pd.DataFrame(data=stat_airport_traffic.take(K), columns=['src_airport', 'total'])\n",
    "pdf_top_20_airport_volume = pdf_top_20_airport_volume.sort_values(by=\"src_airport\").reset_index(drop=True)\n",
    "print(pdf_top_20_airport_volume)\n",
    "top_20_airports.sort()\n",
    "index = np.arange(len(top_20_airports))\n",
    "bar_width = 0.35\n",
    "opacity = 0.4\n",
    "\n",
    "fig = plt.figure(figsize=(20,10))                                                             \n",
    "ax = fig.add_subplot(1,1,1)\n",
    "\n",
    "ax2 = ax.twinx()\n",
    "plt.axis('normal')\n",
    "ax.set_xlabel(\"Airport\")\n",
    "ax.set_ylabel(\"Flight volume\")\n",
    "ax2.set_ylabel(\"Ratio of delay\")\n",
    "plt.xticks(index + bar_width, top_20_airports)\n",
    "plt.title('Figure 11: The ratio of delay over months')\n",
    "plt.grid(True,which=\"both\",ls=\"-\")\n",
    "bar = ax.bar(index, pdf_top_20_airport_volume['total'], \n",
    "        bar_width, color='b', \n",
    "        label='flight volume')\n",
    "\n",
    "\n",
    "        \n",
    "\n",
    "bar2 = ax2.bar(index + 1.5*bar_width, pdf_ratio_delay_airport[1], bar_width, \n",
    "       align='center', \n",
    "       label='Delay ratio')\n",
    "\n",
    "for i in range(0, len(bar2)):\n",
    "    color2 = 'red'\n",
    "    if pdf_ratio_delay_airport[2][i] < 0:\n",
    "         color2 = 'lightgreen'\n",
    "    elif pdf_ratio_delay_airport[2][i] < 2:\n",
    "        color2 = 'green'\n",
    "    elif pdf_ratio_delay_airport[2][i] < 4:\n",
    "        color2 = 'yellow'\n",
    "    elif pdf_ratio_delay_airport[2][i] < 8:\n",
    "        color2 = 'orange'\n",
    "    bar2[i].set_color(color2)\n",
    "\n",
    "lines, labels = ax.get_legend_handles_labels()\n",
    "lines2, labels2 = ax2.get_legend_handles_labels()\n",
    "#ax2.legend(lines + lines2, labels + labels2, loc=0)\n",
    "\n",
    "patch0 = mpatches.Patch(color='blue', label='flight volumn')\n",
    "patch1 = mpatches.Patch(color='lightgreen', label='Depart earlier')\n",
    "patch2 = mpatches.Patch(color='green', label='delay < 2 minutes')\n",
    "patch3 = mpatches.Patch(color='yellow', label='delay < 4 minutes')\n",
    "patch4 = mpatches.Patch(color='orange', label='delay < 8 minutes')\n",
    "patch5 = mpatches.Patch(color='red', label='delay >= 8 minutes')\n",
    "\n",
    "plt.legend(handles=[patch0,patch1, patch2, patch3, patch4, patch5], bbox_to_anchor=(1.05, 1), loc=2, borderaxespad=0.)\n",
    "plt.tight_layout()\n",
    "plt.show()\n",
    "\n",
    "\n"
   ]
  },
  {
   "cell_type": "markdown",
   "metadata": {},
   "source": [
    "<font color=OrangeRed size=4>**[Group 6]**</font>   \n",
    "<div class=\"alert alert-warning\"> From the figure above we observed that there is no evident relationship between airports and the delay ratio. e.g. airport EWR has a realtively low flight volumn compared with other airports in this figure but with a high delay ratio(over 0.25). At the same time, airport ORD is in the contraty: volumns ranked 1st but with a medium delay ratio(around 0.17)</div>"
   ]
  },
  {
   "cell_type": "markdown",
   "metadata": {},
   "source": [
    "#### Question 5.8\n",
    "<div class=\"alert alert-info\">\n",
    "What is the percentage of delayed flights which belong to one of the top 20 busiest carriers?  \n",
    "Comment the figure!\n",
    "</div>"
   ]
  },
  {
   "cell_type": "code",
   "execution_count": 32,
   "metadata": {
    "collapsed": false,
    "scrolled": true
   },
   "outputs": [
    {
     "name": "stdout",
     "output_type": "stream",
     "text": [
      "+-------+-------------------------------------------+------------------+\n",
      "|carrier|(sum(is_delay) / count(1) AS `delay_ratio`)|        mean_delay|\n",
      "+-------+-------------------------------------------+------------------+\n",
      "|     WN|                        0.12829795587751536|   4.5956443470434|\n",
      "|     US|                        0.18422298014001534|  6.42670592202661|\n",
      "|     UA|                         0.1686528375733855| 5.134817302986583|\n",
      "|     TW|                        0.18212273193780135| 5.759134850420274|\n",
      "|     NW|                         0.1294806523639286|2.0579237244539073|\n",
      "|     HP|                        0.18625141269939444| 7.902057641207331|\n",
      "|     DL|                        0.18328443065157582| 6.573160039794818|\n",
      "|     CO|                         0.1955576547849367| 7.279157626520006|\n",
      "|     AS|                         0.1596424771227921|5.7566915842777915|\n",
      "|     AA|                         0.1752444006939166|   5.6965564881402|\n",
      "+-------+-------------------------------------------+------------------+\n",
      "\n"
     ]
    }
   ],
   "source": [
    "\n",
    "K = 20\n",
    "\n",
    "# extract top_20_carriers from stat_carrier\n",
    "top_20_carriers = [item[0] for item in stat_carrier.take(K)]\n",
    "\n",
    "statistic_ratio_delay_carrier = (\n",
    "    df_with_delay\n",
    "        # select only flights that belong from one of top 20 carriers\n",
    "        .filter(df_with_delay.carrier.isin(top_20_carriers))\n",
    "        # group by carriers\n",
    "        .groupBy(\"carrier\")\n",
    "        #  calculate the delay ratio\n",
    "        .agg(func.sum(\"is_delay\")/func.count(\"*\").alias(\"delay_ratio\"),(func.mean('arrival_delay')).alias('mean_delay'))\n",
    "        # sort by name of airport\n",
    "        .orderBy(desc(\"carrier\"))\n",
    "    )\n",
    "statistic_ratio_delay_carrier.show(20)\n"
   ]
  },
  {
   "cell_type": "code",
   "execution_count": 33,
   "metadata": {
    "collapsed": false,
    "scrolled": false
   },
   "outputs": [
    {
     "name": "stdout",
     "output_type": "stream",
     "text": [
      "  carrier   count\n",
      "0      AA  722277\n",
      "1      AS  117475\n",
      "2      CO  484834\n",
      "3      DL  874526\n",
      "4      HP  177851\n",
      "5      NW  482798\n",
      "6      TW  258205\n",
      "7      UA  638750\n",
      "8      US  857906\n",
      "9      WN  565426\n"
     ]
    },
    {
     "data": {
      "image/png": "[encoded data removed]",
      "text/plain": [
       "<matplotlib.figure.Figure at 0x7faec9aa69b0>"
      ]
     },
     "metadata": {},
     "output_type": "display_data"
    }
   ],
   "source": [
    "# collect data and plot\n",
    "pdf_ratio_delay_carrier = pd.DataFrame(data=statistic_ratio_delay_carrier.collect())\n",
    "pdf_top_20_carrier_volume = pd.DataFrame(data=stat_carrier.take(K), columns=['carrier', 'count'])\n",
    "pdf_top_20_carrier_volume = pdf_top_20_carrier_volume.sort_values(by=\"carrier\").reset_index(drop=True)\n",
    "print(pdf_top_20_carrier_volume)\n",
    "top_20_carriers.sort()\n",
    "index = np.arange(len(top_20_carriers))\n",
    "bar_width = 0.35\n",
    "opacity = 0.4\n",
    "\n",
    "\n",
    "fig = plt.figure(figsize=(20,10))                                                             \n",
    "ax = fig.add_subplot(1,1,1)\n",
    "\n",
    "ax2 = ax.twinx()\n",
    "plt.axis('normal')\n",
    "ax.set_xlabel(\"Carrier\")\n",
    "ax.set_ylabel(\"Flight volume\")\n",
    "ax2.set_ylabel(\"Ratio of delay\")\n",
    "plt.xticks(index + bar_width, top_20_carriers)\n",
    "\n",
    "plt.title('Figure 11: The radio of delay over months')\n",
    "plt.grid(True,which=\"both\",ls=\"-\")\n",
    "bar = ax.bar(index, pdf_top_20_carrier_volume['count'], \n",
    "        bar_width, color='b', \n",
    "        label='flight volume')\n",
    "\n",
    "\n",
    "bar2 = ax2.bar(index + 1.5*bar_width, pdf_ratio_delay_carrier[1], bar_width, \n",
    "       align='center', \n",
    "       label='Delay ratio')\n",
    "\n",
    "for i in range(0, len(bar2)):\n",
    "    color2 = 'red'\n",
    "    if pdf_ratio_delay_carrier[2][i] < 0:\n",
    "         color2 = 'lightgreen'\n",
    "    elif pdf_ratio_delay_carrier[2][i] < 2:\n",
    "        color2 = 'green'\n",
    "    elif pdf_ratio_delay_carrier[2][i] < 4:\n",
    "        color2 = 'yellow'\n",
    "    elif pdf_ratio_delay_carrier[2][i] < 8:\n",
    "        color2 = 'orange'\n",
    "    bar2[i].set_color(color2)\n",
    "    \n",
    "lines, labels = ax.get_legend_handles_labels()\n",
    "lines2, labels2 = ax2.get_legend_handles_labels()\n",
    "#ax2.legend(lines + lines2, labels + labels2, loc=0)\n",
    "patch0 = mpatches.Patch(color='blue', label='flight volumn')\n",
    "patch1 = mpatches.Patch(color='lightgreen', label='Depart earlier')\n",
    "patch2 = mpatches.Patch(color='green', label='delay < 2 minutes')\n",
    "patch3 = mpatches.Patch(color='yellow', label='delay < 4 minutes')\n",
    "patch4 = mpatches.Patch(color='orange', label='delay < 8 minutes')\n",
    "patch5 = mpatches.Patch(color='red', label='delay >= 8 minutes')\n",
    "\n",
    "plt.legend(handles=[patch0,patch1, patch2, patch3, patch4, patch5], bbox_to_anchor=(1.05, 1), loc=2, borderaxespad=0.)\n",
    "plt.tight_layout()\n",
    "plt.show()"
   ]
  },
  {
   "cell_type": "markdown",
   "metadata": {},
   "source": [
    "<font color=OrangeRed size=4>**[Group 6]**</font>   \n",
    "<div class=\"alert alert-warning\"> Similar to the previous figure, there is no strong relation between carrier and delay ratio. e.g. AS has the lowest flight ratio among the 20 carriers  but with a high delay ratio(around 0.17)  </div>"
   ]
  },
  {
   "cell_type": "markdown",
   "metadata": {},
   "source": [
    "# 4. Building a model of our data\n",
    "Now that we have a good grasp on our data and its features, we will focus on how build a statistic model. Note that the features we can decide to use, to train our model, can be put in two groups:\n",
    "\n",
    "- **Explicit features**: these are features that are present in the original data, or that can be built using additional data sources such as `weather` (for example querying a public API)\n",
    "- **Implicit features**: these are the features that are inferred from other features such as `is_weekend`, `is_holiday`, `season`, `in_winter`,...\n",
    "\n",
    "In this notebook, we will focus on the following predictors: `year`, `month`, `day_of_month`, `day_of_week`, `scheduled_departure_time`, `scheduled_arrival_time`, `carrier`, `is_weekend`, `distance`, `src_airport`, `dest_airport`. Among them, `is_weekend` is an implicit feature. The rest are explicit features.\n",
    "\n",
    "The target feature is `arrival_delay`. \n",
    "\n",
    "Currently, MLLIB only supports building models from RDDs. It is important to read well the documentation and the MLLib API, to make sure to use the algorithms in an appropriate manner:\n",
    "\n",
    "- MLLIB supports both categorical and numerical features. However, for each categorical feature, we have to indicate how many distinct values they can take\n",
    "- Each training record must be a ```LabelledPoint```. This data structure has 2 components: ```label``` and ```predictor vector```. ```label``` is the value of target feature in the current record. ```predictor vector``` is a vector of values of type ```Double```. As such, we need to map each value of each categorical feature to a number. In this project, we choose a naïve approach: map each value to a unique index. \n",
    "- MLLIB uses a binning technique to find the split point (the predicate in each tree node). In particular, it divides the domain of numerical features into ```maxBins``` bins (32 by default). With categorical features, each distinct value fits in its own bin. **IMPORTANT:** MLLIB requires that no categorical feature have more than `maxBins` distinct values.\n",
    "- We fill up the missing values in each **categorical** feature with its most common value. The missing values of a **numerical** feature are also replaced by the most common value (however, in some cases, a more sensible approach would be to use the median of this kind of feature).\n"
   ]
  },
  {
   "cell_type": "markdown",
   "metadata": {},
   "source": [
    "## 4.1 Mapping values of each categorical feature to indices"
   ]
  },
  {
   "cell_type": "markdown",
   "metadata": {},
   "source": [
    "### Question 6 \n",
    "\n",
    "Among the selected features, `src_aiport`, `dest_airport`, `carrier` and `distance` have missing values. Besides, the first three of them are categorical features. That means, in order to use them as input features of MLLIB, the values of these features must be numerical. We can use a naïve approach: map each value of each feature to a unique index.\n",
    "\n",
    "#### Question 6.1\n",
    "<div class=\"alert alert-info\">\n",
    "Calculate the frequency of each source airport in the data and build a dictionary that maps each of them to a unique index.  \n",
    "\n",
    "**Note:** we sort the airports by their frequency in descending order, so that we can easily take the most common airport(s) by taking the first element(s) in the result.\n",
    "</div>"
   ]
  },
  {
   "cell_type": "code",
   "execution_count": 9,
   "metadata": {
    "collapsed": false
   },
   "outputs": [
    {
     "name": "stdout",
     "output_type": "stream",
     "text": [
      "0\n",
      "2\n"
     ]
    }
   ],
   "source": [
    "\n",
    "# select distinct source airports and map values to index\n",
    "# sort the airport by their frequency descending\n",
    "# so the most common aiport will be on the top\n",
    "stat_src = (\n",
    "    df\n",
    "        .groupBy(\"src_airport\")\n",
    "        .agg(func.count('*').alias('count'))\n",
    "        .orderBy(desc('count'))\n",
    "    )\n",
    "\n",
    "# extract the airport names from stat_src\n",
    "src_airports = [item[0] for item in stat_src.collect()]\n",
    "\n",
    "num_src_airports = len(src_airports)\n",
    "src_airports_idx = range(0, num_src_airports)\n",
    "map_src_airport_to_index = dict(zip(src_airports,src_airports_idx))\n",
    "\n",
    "# test the dictionary\n",
    "print(map_src_airport_to_index['ORD'])\n",
    "print(map_src_airport_to_index['ATL'])\n"
   ]
  },
  {
   "cell_type": "markdown",
   "metadata": {},
   "source": [
    "#### Question 6.2\n",
    "<div class=\"alert alert-info\">\n",
    "Calculate the frequency of each destination airport in the data and build a dictionary that maps each of them to a unique index.\n",
    "</div>"
   ]
  },
  {
   "cell_type": "code",
   "execution_count": 10,
   "metadata": {
    "collapsed": false
   },
   "outputs": [
    {
     "name": "stdout",
     "output_type": "stream",
     "text": [
      "0\n",
      "2\n"
     ]
    }
   ],
   "source": [
    "\n",
    "# select distinct destination airports and map values to index\n",
    "# sort the airport by their frequency descending\n",
    "# so the most common aiport will be on the top\n",
    "stat_dest =df.groupBy(\"dest_airport\").agg(func.count(\"*\").alias('count')).orderBy(desc('count'))\n",
    "\n",
    "dest_airports = [item[0] for item in stat_dest.collect()]\n",
    "num_dest_airports = len(dest_airports)\n",
    "dest_airports_idx = range(0,num_dest_airports)\n",
    "map_dest_airport_to_index = dict(zip(dest_airports, dest_airports_idx))\n",
    "\n",
    "# test the dictionary\n",
    "print(map_dest_airport_to_index['ORD'])\n",
    "print(map_dest_airport_to_index['ATL'])\n"
   ]
  },
  {
   "cell_type": "markdown",
   "metadata": {},
   "source": [
    "#### Question 6.3\n",
    "<div class=\"alert alert-info\">\n",
    "Calculate the frequency of each carrier in the data and build a dictionary that maps each of them to a unique index.\n",
    "</div>"
   ]
  },
  {
   "cell_type": "code",
   "execution_count": 11,
   "metadata": {
    "collapsed": false
   },
   "outputs": [
    {
     "name": "stdout",
     "output_type": "stream",
     "text": [
      "0\n",
      "2\n"
     ]
    }
   ],
   "source": [
    "\n",
    "# select distinct carriers and map values to index\n",
    "# sort carriers by their frequency descending\n",
    "# so the most common aiport will be on the top\n",
    "stat_carrier =(\n",
    "    df.groupBy('carrier')\n",
    "     .agg(func.count('*').alias('count'))\n",
    "     .orderBy('carrier')\n",
    ")\n",
    "list_carrier = [elem[0] for elem in stat_carrier.collect()]\n",
    "\n",
    "\n",
    "num_stat_carrier = len(list_carrier)\n",
    "carrier_idx = range(0,num_stat_carrier)\n",
    "\n",
    "map_carriers_to_index = dict(zip(list_carrier,carrier_idx))\n",
    "\n",
    "print (map_carriers_to_index['AA'])\n",
    "print (map_carriers_to_index['CO'])\n",
    "                   \n",
    "\n"
   ]
  },
  {
   "cell_type": "markdown",
   "metadata": {},
   "source": [
    "## 4.2 Calculating the most common value of each feature\n",
    "We use a simple strategy for filling in the missing values: replacing them with the most common value of the corresponding feature.\n",
    "\n",
    "<div class=\"alert alert-danger\">\n",
    "**IMPORTANT NOTE:** features like ```month```, ```day_of_month```, etc... can be treated as numerical features in general. However, when it comes to build the model, it is much easier considering them as categorical features. In this case, to compute the most common value for such categorical features, we simply use the frequency of occurrence of each `label`, and chose the most frequent.\n",
    "</div>"
   ]
  },
  {
   "cell_type": "markdown",
   "metadata": {},
   "source": [
    "### Question 7\n",
    "In the previous question, when constructing the dictionary for categorical features, we also sort their statistical information in a such way that the most common value of each feature are placed on the top.\n",
    "\n",
    "Note that, feature `is_weekend` has the most common value set to `0` (that is, `no` the day is not a weekend)."
   ]
  },
  {
   "cell_type": "markdown",
   "metadata": {},
   "source": [
    "#### Question 7.1\n",
    "<div class=\"alert alert-info\">\n",
    "Find the most common value of feature `month` in data.\n",
    "</div>\n",
    "\n"
   ]
  },
  {
   "cell_type": "code",
   "execution_count": 12,
   "metadata": {
    "collapsed": false
   },
   "outputs": [
    {
     "name": "stdout",
     "output_type": "stream",
     "text": [
      "The most common month: 8\n"
     ]
    }
   ],
   "source": [
    "the_most_common_month = (\n",
    "    df\n",
    "        .groupBy('month')\n",
    "        .agg(func.count('*').alias('count'))\n",
    "        .orderBy(desc('count'))\n",
    "    ).first()[0]\n",
    "\n",
    "print(\"The most common month:\", the_most_common_month)\n",
    "       "
   ]
  },
  {
   "cell_type": "markdown",
   "metadata": {},
   "source": [
    "#### Question 7.2\n",
    "<div class=\"alert alert-info\">\n",
    "Find the most common value of features `day_of_month` and `day_of_week`.\n",
    "</div>"
   ]
  },
  {
   "cell_type": "code",
   "execution_count": 13,
   "metadata": {
    "collapsed": false
   },
   "outputs": [
    {
     "name": "stdout",
     "output_type": "stream",
     "text": [
      "The most common day of month: 11\n",
      "The most common day of week: 3\n"
     ]
    }
   ],
   "source": [
    "the_most_common_day_of_month = df.groupBy('day_of_month').agg(func.count('*').alias('count')).orderBy(desc('count')).first()[0]\n",
    "\n",
    "the_most_common_day_of_week =  df.groupBy('day_of_week').agg(func.count('*').alias('count')).orderBy(desc('count')).first()[0]\n",
    "\n",
    "\n",
    "print(\"The most common day of month:\", the_most_common_day_of_month)\n",
    "print(\"The most common day of week:\", the_most_common_day_of_week)"
   ]
  },
  {
   "cell_type": "markdown",
   "metadata": {},
   "source": [
    "#### Question 7.3\n",
    "<div class=\"alert alert-info\">\n",
    "Find the most common value of features `scheduled_departure_time` and `scheduled_arrival_time`.\n",
    "</div>"
   ]
  },
  {
   "cell_type": "code",
   "execution_count": 14,
   "metadata": {
    "collapsed": false
   },
   "outputs": [
    {
     "name": "stdout",
     "output_type": "stream",
     "text": [
      "The most common scheduled departure time: 700\n",
      "The most common scheduled arrival time: 1915\n"
     ]
    }
   ],
   "source": [
    "the_most_common_s_departure_time = df.groupBy(\"scheduled_departure_time\").agg(func.count(\"*\").alias(\"count\")).orderBy(desc(\"count\")).first()[0]\n",
    "\n",
    "the_most_common_s_arrival_time = df.groupBy(\"scheduled_arrival_time\").agg(func.count(\"*\").alias(\"count\")).orderBy(desc(\"count\")).first()[0]\n",
    "\n",
    "print(\"The most common scheduled departure time:\", the_most_common_s_departure_time)\n",
    "print(\"The most common scheduled arrival time:\", the_most_common_s_arrival_time)\n"
   ]
  },
  {
   "cell_type": "markdown",
   "metadata": {},
   "source": [
    "#### Question 7.4\n",
    "<div class=\"alert alert-info\">\n",
    "Calculate the mean of distance in the data. This value will be used to fill in the missing values of feature `distance` later.\n",
    "</div>"
   ]
  },
  {
   "cell_type": "code",
   "execution_count": 15,
   "metadata": {
    "collapsed": false
   },
   "outputs": [
    {
     "name": "stdout",
     "output_type": "stream",
     "text": [
      "mean distance: 670.7402911985982\n",
      "mean distance2: 667.7687320658033\n",
      "Number including null distance: 5180048\n",
      "Number of non-null distance: 5157099\n",
      "mean with extra number 667.7687320658033\n",
      "real mean distance 670.7402911985982\n"
     ]
    }
   ],
   "source": [
    "mean_distance = df.agg(func.mean(\"distance\")).first()[0]\n",
    "mean_distance2 = df.agg(func.sum(\"distance\")/func.count('*')).first()[0]\n",
    "\n",
    "\n",
    "print(\"mean distance:\", mean_distance)\n",
    "print(\"mean distance2:\", mean_distance2)\n",
    "num1 = df.count()\n",
    "num2 = df.select(\"distance\").filter(df.distance != 0).count()\n",
    "print (\"Number including null distance:\",num1)\n",
    "print (\"Number of non-null distance:\",num2)\n",
    "print(\"mean with extra number\",3459074085/num1)\n",
    "print(\"real mean distance\",3459074085/num2)\n"
   ]
  },
  {
   "cell_type": "markdown",
   "metadata": {},
   "source": [
    "<font color=OrangeRed size=4>**[Group 6]**</font> \n",
    "<div class=\"alert alert-warning\"> Here when we calculated the mean distance with different ways, we got the different results as shown in the variables \"mean_distance\" and \"mean_distance2\". This is because when we calculate the mean distance we include the extra number of which the distance value is null. Instead we calculate the number of valide value and get the final result: 670.74.</div> "
   ]
  },
  {
   "cell_type": "markdown",
   "metadata": {},
   "source": [
    "#### Question 7.5\n",
    "<div class=\"alert alert-info\">\n",
    "Calculate the mean of arrival delay.\n",
    "</div>"
   ]
  },
  {
   "cell_type": "code",
   "execution_count": 16,
   "metadata": {
    "collapsed": false
   },
   "outputs": [
    {
     "name": "stdout",
     "output_type": "stream",
     "text": [
      "mean arrival delay: 5.662489742613603\n"
     ]
    }
   ],
   "source": [
    "\n",
    "# calculate mean arrival delay\n",
    "mean_arrival_delay = df.agg(mean(\"arrival_delay\")).first()[0]\n",
    "print(\"mean arrival delay:\", mean_arrival_delay)\n"
   ]
  },
  {
   "cell_type": "markdown",
   "metadata": {},
   "source": [
    "As known from section 3.4, there are 225 different origin airports and 225 different destination airports, more than the number of bins in default configuration. So, we must set `maxBins` >= 225."
   ]
  },
  {
   "cell_type": "markdown",
   "metadata": {},
   "source": [
    "## 4.3 Preparing training data and testing data\n",
    "Recall, in this project we focus on decision trees. One way to think about our task is that we want to predict the unknown `arrival_delay` as a function combining several features, that is:\n",
    "\n",
    "`arrival_delay = f(year, month, day_of_month, day_of_week, scheduled_departure_time, scheduled_arrival_time, carrier, src_airport, dest_airport, distance, is_weekend)`\n",
    "\n",
    "When categorical features contain corrupt data (e.g., missing values), we proceed by replacing corrupt information with the most common value for the feature. For numerical features, in general, we use the same approach as for categorical features; in some cases, we repair corrupt data using the mean value of the distribution for numerical features (e.g., we found the mean for `delay` and `distance`, by answering questions above).\n",
    "\n",
    "The original data is split randomly into two parts with ratios 70% for **training** and 30% for **testing**."
   ]
  },
  {
   "cell_type": "markdown",
   "metadata": {},
   "source": [
    "### Question 8\n",
    "<div class=\"alert alert-info\">\n",
    "  o  Replace the missing values of each feature in our data by the corresponding most common value or mean.  \n",
    "\n",
    "  o  Divide data into two parts: 70% for **training** and 30% for **testing**\n",
    "\n",
    "</div>"
   ]
  },
  {
   "cell_type": "code",
   "execution_count": 17,
   "metadata": {
    "collapsed": false
   },
   "outputs": [
    {
     "name": "stdout",
     "output_type": "stream",
     "text": [
      "[LabeledPoint(-9.0, [1994.0,1.0,7.0,5.0,900.0,1003.0,8.0,9.0,55.0,290.0,0.0]), LabeledPoint(-11.0, [1994.0,1.0,8.0,6.0,900.0,1003.0,8.0,9.0,55.0,290.0,1.0]), LabeledPoint(20.0, [1994.0,1.0,10.0,1.0,900.0,1003.0,8.0,9.0,55.0,290.0,0.0]), LabeledPoint(88.0, [1994.0,1.0,11.0,2.0,900.0,1003.0,8.0,9.0,55.0,290.0,0.0]), LabeledPoint(21.0, [1994.0,1.0,12.0,3.0,900.0,1003.0,8.0,9.0,55.0,290.0,0.0]), LabeledPoint(5.662489742613603, [1994.0,1.0,13.0,4.0,900.0,1003.0,8.0,9.0,55.0,290.0,0.0]), LabeledPoint(2.0, [1994.0,1.0,14.0,5.0,900.0,1003.0,8.0,9.0,55.0,290.0,0.0]), LabeledPoint(1.0, [1994.0,1.0,15.0,6.0,900.0,1003.0,8.0,9.0,55.0,290.0,1.0]), LabeledPoint(-8.0, [1994.0,1.0,17.0,1.0,900.0,1003.0,8.0,9.0,55.0,290.0,0.0]), LabeledPoint(-4.0, [1994.0,1.0,18.0,2.0,900.0,1003.0,8.0,9.0,55.0,290.0,0.0])]\n"
     ]
    },
    {
     "data": {
      "text/plain": [
       "PythonRDD[128] at RDD at PythonRDD.scala:48"
      ]
     },
     "execution_count": 17,
     "metadata": {},
     "output_type": "execute_result"
    }
   ],
   "source": [
    "from pyspark.mllib.tree import DecisionTree, DecisionTreeModel\n",
    "from pyspark.mllib.util import MLUtils\n",
    "from pyspark.mllib.regression import LabeledPoint\n",
    "\n",
    "\n",
    "def is_valid(value):\n",
    "    return value != \"NA\" and len(value) > 0\n",
    "\n",
    "#cleaned_data.take(2)\n",
    "\n",
    "data = cleaned_data\\\n",
    "    .map(lambda line: line.split(','))\\\n",
    "    .map(lambda values: \n",
    "         LabeledPoint( \n",
    "             int(values[14]) if is_valid(values[14]) else mean_arrival_delay, # arrival delay\n",
    "             [\n",
    "                int(values[0]), # year\n",
    "                int(values[1]) if is_valid(values[1]) else the_most_common_month, # month\n",
    "                int(values[2]) if is_valid(values[2]) else the_most_common_day_of_month, # day of month\n",
    "                int(values[3]) if is_valid(values[3]) else the_most_common_day_of_week, # day of week\n",
    "                int(values[5]) if is_valid(values[5]) else the_most_common_s_departure_time, # scheduled departure time\n",
    "                int(values[7]) if is_valid(values[7]) else the_most_common_s_arrival_time, # scheduled arrival time\n",
    "                # if the value is valid, map it to the corresponding index\n",
    "                # otherwise, use the most common value\n",
    "                 map_carriers_to_index[values[8]] if is_valid(values[8]) \\\n",
    "                    else map_carriers_to_index[carriers[0]], # carrier\n",
    "                 map_src_airport_to_index[values[16]] if is_valid(values[16]) else map_src_airport_to_index[src_airports[0]], # src_airport\n",
    "                 map_dest_airport_to_index[values[17]] if is_valid(values[17]) else map_dest_airport_to_index[dest_airports[0]], # destination_airport\n",
    "                 int(values[18]) if is_valid(values[18]) else mean_distance, # distance\n",
    "                 1 if is_valid(values[3]) and int(values[3]) >= 6 else 0, # is_weekend\n",
    "                \n",
    "             ]\n",
    "         )\n",
    "     )\n",
    "\n",
    "print(data.take(10))\n",
    "# Split the data into training and test sets (30% held out for testing)\n",
    "trainingData, testData = data.randomSplit([0.7,0.3])\n",
    "trainingData.take(10)\n",
    "trainingData.cache()\n",
    "testData.cache()\n"
   ]
  },
  {
   "cell_type": "markdown",
   "metadata": {},
   "source": [
    "<font color=OrangeRed size=4>**[Group 6]**</font> \n",
    "<div class=\"alert alert-warning\"> From the previous graph, we can notice that weekdays and weekends indeed have different influence on the delay ratio, so creating a new feature \"is_weekend\" does make sense.  </div>"
   ]
  },
  {
   "cell_type": "markdown",
   "metadata": {},
   "source": [
    "## 5.4 Building a decision tree model"
   ]
  },
  {
   "cell_type": "markdown",
   "metadata": {},
   "source": [
    "### Question 9\n",
    "<div class=\"alert alert-info\">\n",
    "We can train a decision model by using function\n",
    "<code>\n",
    "`DecisionTree.trainRegressor(<training_data>, categoricalFeaturesInfo=<categorical_info>, impurity=<impurity_function>,  maxDepth=<max_depth>, maxBins=<max_bins>)`.  \n",
    "</code>  \n",
    "\n",
    "Where,  \n",
    "<ul>\n",
    "\n",
    "<li> `training_data`: the data used for training  </li>\n",
    "\n",
    "<li> `categorical_info`: a dictionary that maps the index of each categorical features to its number of distinct values  </li>\n",
    "\n",
    "<li> `impurity_function`: the function that is used to calculate impurity of data in order to select the best split  </li>\n",
    "\n",
    "<li> `max_depth`: the maximum depth of the tree  </li>\n",
    "\n",
    "<li> `max_bins`: the maximum number of bins that the algorithm will divide on each feature. </li>\n",
    "\n",
    "</ul>  \n",
    "\n",
    "Note that, `max_bins` cannot smaller than the number distinct values of every categorical features.  \n",
    "\n",
    "Complete the code below to train a decision tree model.\n",
    "</div>\n"
   ]
  },
  {
   "cell_type": "code",
   "execution_count": 43,
   "metadata": {
    "collapsed": true
   },
   "outputs": [],
   "source": [
    "# declare information of categorical features\n",
    "# format:  feature_index : number_distinct_values\n",
    "categorical_info = {6 : num_carriers, 7: num_src_airports, 8: num_dest_airports, 10: 2}\n",
    "\n",
    "# Train a DecisionTree {6 : num_carriers, 7: num_src_airports, 8: num_dest_airports, 10: 2} model.\n",
    "model = DecisionTree.trainRegressor(trainingData, \n",
    "                                    categoricalFeaturesInfo=categorical_info,\n",
    "                                    impurity='variance', maxDepth=12, maxBins=255)"
   ]
  },
  {
   "cell_type": "markdown",
   "metadata": {
    "collapsed": true
   },
   "source": [
    "## 5.5 Testing the decision tree model"
   ]
  },
  {
   "cell_type": "markdown",
   "metadata": {},
   "source": [
    "### Question 10\n",
    "#### Question 10.1\n",
    "<div class=\"alert alert-info\">\n",
    "We often use Mean Square Error as a metric to evaluate the quality of a tree model.  \n",
    "\n",
    "Complete the code below to calculate the MSE of our trained model.\n",
    "</div>"
   ]
  },
  {
   "cell_type": "code",
   "execution_count": 44,
   "metadata": {
    "collapsed": false
   },
   "outputs": [
    {
     "name": "stdout",
     "output_type": "stream",
     "text": [
      "org.apache.spark.api.java.JavaPairRDD@7070cc9e\n",
      "Test Mean Squared Error = 492.216187142838\n",
      "492.216187142838\n"
     ]
    }
   ],
   "source": [
    "# Evaluate model on test instances and compute test error\n",
    "predictions = model.predict(testData.map(lambda x: x.features))\n",
    "labelsAndPredictions = testData.map(lambda lp: lp.label).zip(predictions)\n",
    "#print(labelsAndPredictions.take(10))\n",
    "\n",
    "testMSE = labelsAndPredictions.map(\n",
    "    lambda p: (p[0]-p[1])**2).mean()\n",
    "print(labelsAndPredictions)\n",
    "print('Test Mean Squared Error = ' + str(testMSE))\n",
    "print(testMSE)"
   ]
  },
  {
   "cell_type": "markdown",
   "metadata": {},
   "source": [
    "### Question 10.2\n",
    "<div class=\"alert alert-info\">\n",
    "Comment the results you have obtained. Is the MSE value you get from a decision tree indicating that our statistical model is very good in predicting airplane delays?  \n",
    "\n",
    "Use your own words to describe and interpret the value you obtained for the MSE.\n",
    "</div>"
   ]
  },
  {
   "cell_type": "markdown",
   "metadata": {},
   "source": [
    "<font color=OrangeRed size=4>**[Group 6]**</font> \n",
    "<div class=\"alert alert-warning\"> No, it indicates that it's a very bad model. The mean squared error is more than 400, which means the mean error range is 20 mins </div>"
   ]
  },
  {
   "cell_type": "markdown",
   "metadata": {},
   "source": [
    "## 5.6 Building random decision forest model (or random forest)\n",
    "Next, we use MLLib to build a more powerful model: random forests. In what follows, use the same predictors defined and computed above to build a decision tree, but this time use them to build a random decision forest."
   ]
  },
  {
   "cell_type": "markdown",
   "metadata": {},
   "source": [
    "### Question 11\n",
    "<div class=\"alert alert-info\">\n",
    "Train a random decision forest model and evaluate its quality using MSE metric.  \n",
    "\n",
    "Compare to decision tree model and comment the results.  \n",
    "\n",
    "Similarly to question 10.2, comment with your own words the MSE value you have obtained.\n",
    "</div>"
   ]
  },
  {
   "cell_type": "code",
   "execution_count": 45,
   "metadata": {
    "collapsed": false
   },
   "outputs": [
    {
     "name": "stdout",
     "output_type": "stream",
     "text": [
      "Test Mean Squared Error = 482.1209138560402\n"
     ]
    }
   ],
   "source": [
    "\n",
    "from pyspark.mllib.tree import RandomForest, RandomForestModel\n",
    "\n",
    "# Train a RandomForest model.\n",
    "forest_model = RandomForest.trainRegressor(trainingData, categoricalFeaturesInfo=categorical_info,\n",
    "                                    numTrees=10, impurity='variance', maxDepth=12, maxBins=255)\n",
    "\n",
    "predictions=forest_model.predict(testData.map(lambda x: x.features))\n",
    "labelsAndPredictions=testData.map(lambda l:l.label).zip(predictions)\n",
    "testMSE = labelsAndPredictions.map(lambda p:(p[0]-p[1])**2).mean()\n",
    "print('Test Mean Squared Error = ' + str(testMSE))\n"
   ]
  },
  {
   "cell_type": "code",
   "execution_count": 46,
   "metadata": {
    "collapsed": false
   },
   "outputs": [
    {
     "data": {
      "text/plain": [
       "[(-9.0, 5.669266711430748),\n",
       " (1.0, 0.8462069197857895),\n",
       " (-4.0, 5.669266711430748),\n",
       " (-16.0, 5.669266711430748),\n",
       " (12.0, 5.669266711430748),\n",
       " (5.662489742613603, 5.669266711430748),\n",
       " (-2.0, 0.8462069197857895),\n",
       " (-5.0, 4.9970117128314335),\n",
       " (-13.0, 2.913022121320828),\n",
       " (-5.0, 4.488541450438231)]"
      ]
     },
     "execution_count": 46,
     "metadata": {},
     "output_type": "execute_result"
    }
   ],
   "source": [
    "labelsAndPredictions.take(10)"
   ]
  },
  {
   "cell_type": "markdown",
   "metadata": {},
   "source": [
    "<font color=OrangeRed size=4>**[Group 6]**</font> \n",
    "<div class=\"alert alert-warning\"> The result produced by random forest is better than that of decision tree, compared with decision tree, ramdom forest can avoid overfitting problem relatively. Meantime, through voting, it can provide better prediction.  \n",
    "However it doesn't behave well in this case, we suppose that the choosen features might be inadequate.</div>"
   ]
  },
  {
   "cell_type": "markdown",
   "metadata": {},
   "source": [
    "## 5.7 Parameter tuning\n",
    "In this lecture, we used `maxDepth=12`, `maxBins=255`, `numTrees=10`. Next, we are going to explore the meta-parameter space a little bit.\n",
    "\n",
    "For more information about parameter tuning, please read the documentation of [MLLIB](http://spark.apache.org/docs/latest/mllib-decision-tree.html#tunable-parameters)"
   ]
  },
  {
   "cell_type": "markdown",
   "metadata": {},
   "source": [
    "### Question 12\n",
    "<div class=\"alert alert-info\">\n",
    "Train the random forest model using different parameters, to understand their impact on the main performance metric we have used here, that is the MSE. For example, you can try a similar approach to that presented in the Notebook on recommender systems, that is using nested for loops.\n",
    "</div>"
   ]
  },
  {
   "cell_type": "code",
   "execution_count": 21,
   "metadata": {
    "collapsed": false,
    "scrolled": true
   },
   "outputs": [
    {
     "name": "stdout",
     "output_type": "stream",
     "text": [
      "Train model with maxDepth=12 MaxBins_=225 NumTrees=5\n",
      "Test Mean Squared Error = 484.9728692053775\n",
      "Train model with maxDepth=12 MaxBins_=225 NumTrees=10\n",
      "Test Mean Squared Error = 483.74101673955454\n",
      "Train model with maxDepth=12 MaxBins_=225 NumTrees=20\n",
      "Test Mean Squared Error = 483.9846308722438\n",
      "Train model with maxDepth=12 MaxBins_=350 NumTrees=5\n",
      "Test Mean Squared Error = 486.095134424164\n",
      "Train model with maxDepth=12 MaxBins_=350 NumTrees=10\n",
      "Test Mean Squared Error = 486.72496199848723\n",
      "Train model with maxDepth=12 MaxBins_=350 NumTrees=20\n",
      "Test Mean Squared Error = 481.85751581106956\n",
      "Train model with maxDepth=12 MaxBins_=500 NumTrees=5\n",
      "Test Mean Squared Error = 489.8154971508301\n",
      "Train model with maxDepth=12 MaxBins_=500 NumTrees=10\n",
      "Test Mean Squared Error = 484.2057651128999\n",
      "Train model with maxDepth=12 MaxBins_=500 NumTrees=20\n",
      "Test Mean Squared Error = 483.3539401210662\n",
      "Train model with maxDepth=15 MaxBins_=225 NumTrees=5\n",
      "Test Mean Squared Error = 464.71269022691945\n",
      "Train model with maxDepth=15 MaxBins_=225 NumTrees=10\n",
      "Test Mean Squared Error = 460.20031886650054\n",
      "Train model with maxDepth=15 MaxBins_=225 NumTrees=20\n",
      "Test Mean Squared Error = 452.0199725732915\n",
      "Train model with maxDepth=15 MaxBins_=350 NumTrees=5\n",
      "Test Mean Squared Error = 465.06450075577266\n",
      "Train model with maxDepth=15 MaxBins_=350 NumTrees=10\n",
      "Test Mean Squared Error = 455.8828403693752\n",
      "Train model with maxDepth=15 MaxBins_=350 NumTrees=20\n",
      "Test Mean Squared Error = 455.38222390202657\n",
      "Train model with maxDepth=15 MaxBins_=500 NumTrees=5\n",
      "Test Mean Squared Error = 464.8849360868841\n",
      "Train model with maxDepth=15 MaxBins_=500 NumTrees=10\n",
      "Test Mean Squared Error = 456.40896433471613\n",
      "Train model with maxDepth=15 MaxBins_=500 NumTrees=20\n",
      "Test Mean Squared Error = 451.96095975010974\n",
      "Train model with maxDepth=22 MaxBins_=225 NumTrees=5\n",
      "Test Mean Squared Error = 459.9525377402449\n",
      "Train model with maxDepth=22 MaxBins_=225 NumTrees=10\n"
     ]
    },
    {
     "name": "stderr",
     "output_type": "stream",
     "text": [
      "ERROR:root:Exception while sending command.\n",
      "Traceback (most recent call last):\n",
      "  File \"/opt/spark/python/lib/py4j-0.10.4-src.zip/py4j/java_gateway.py\", line 1035, in send_command\n",
      "    raise Py4JNetworkError(\"Answer from Java side is empty\")\n",
      "py4j.protocol.Py4JNetworkError: Answer from Java side is empty\n",
      "\n",
      "During handling of the above exception, another exception occurred:\n",
      "\n",
      "Traceback (most recent call last):\n",
      "  File \"/opt/spark/python/lib/py4j-0.10.4-src.zip/py4j/java_gateway.py\", line 883, in send_command\n",
      "    response = connection.send_command(command)\n",
      "  File \"/opt/spark/python/lib/py4j-0.10.4-src.zip/py4j/java_gateway.py\", line 1040, in send_command\n",
      "    \"Error while receiving\", e, proto.ERROR_ON_RECEIVE)\n",
      "py4j.protocol.Py4JNetworkError: Error while receiving\n"
     ]
    },
    {
     "name": "stdout",
     "output_type": "stream",
     "text": [
      "----------------------------------------\n",
      "Exception happened during processing of request from ('127.0.0.1', 48578)\n",
      "----------------------------------------\n"
     ]
    },
    {
     "name": "stderr",
     "output_type": "stream",
     "text": [
      "Traceback (most recent call last):\n",
      "  File \"/opt/conda/lib/python3.5/socketserver.py\", line 313, in _handle_request_noblock\n",
      "    self.process_request(request, client_address)\n",
      "  File \"/opt/conda/lib/python3.5/socketserver.py\", line 341, in process_request\n",
      "    self.finish_request(request, client_address)\n",
      "  File \"/opt/conda/lib/python3.5/socketserver.py\", line 354, in finish_request\n",
      "    self.RequestHandlerClass(request, client_address, self)\n",
      "  File \"/opt/conda/lib/python3.5/socketserver.py\", line 681, in __init__\n",
      "    self.handle()\n",
      "  File \"/opt/spark/python/pyspark/accumulators.py\", line 235, in handle\n",
      "    num_updates = read_int(self.rfile)\n",
      "  File \"/opt/spark/python/pyspark/serializers.py\", line 557, in read_int\n",
      "    raise EOFError\n",
      "EOFError\n"
     ]
    },
    {
     "ename": "Py4JError",
     "evalue": "An error occurred while calling o1283.trainRandomForestModel",
     "output_type": "error",
     "traceback": [
      "\u001b[0;31m---------------------------------------------------------------------------\u001b[0m",
      "\u001b[0;31mPy4JError\u001b[0m                                 Traceback (most recent call last)",
      "\u001b[0;32m<ipython-input-21-3dcd16237104>\u001b[0m in \u001b[0;36m<module>\u001b[0;34m()\u001b[0m\n\u001b[1;32m      6\u001b[0m             \u001b[0mprint\u001b[0m\u001b[0;34m(\u001b[0m\u001b[0;34m\"Train model with maxDepth=%d MaxBins_=%d NumTrees=%d\"\u001b[0m \u001b[0;34m%\u001b[0m \u001b[0;34m(\u001b[0m\u001b[0mmaxDepth\u001b[0m\u001b[0;34m,\u001b[0m \u001b[0mmaxBins\u001b[0m\u001b[0;34m,\u001b[0m \u001b[0mnumTrees\u001b[0m\u001b[0;34m)\u001b[0m\u001b[0;34m)\u001b[0m\u001b[0;34m\u001b[0m\u001b[0m\n\u001b[1;32m      7\u001b[0m             forest_model = RandomForest.trainRegressor(trainingData, categoricalFeaturesInfo=categorical_info,\n\u001b[0;32m----> 8\u001b[0;31m                                     numTrees=numTrees, impurity='variance', maxDepth=maxDepth, maxBins=maxBins)\n\u001b[0m\u001b[1;32m      9\u001b[0m             \u001b[0mpredictions\u001b[0m\u001b[0;34m=\u001b[0m\u001b[0mforest_model\u001b[0m\u001b[0;34m.\u001b[0m\u001b[0mpredict\u001b[0m\u001b[0;34m(\u001b[0m\u001b[0mtestData\u001b[0m\u001b[0;34m.\u001b[0m\u001b[0mmap\u001b[0m\u001b[0;34m(\u001b[0m\u001b[0;32mlambda\u001b[0m \u001b[0mx\u001b[0m\u001b[0;34m:\u001b[0m \u001b[0mx\u001b[0m\u001b[0;34m.\u001b[0m\u001b[0mfeatures\u001b[0m\u001b[0;34m)\u001b[0m\u001b[0;34m)\u001b[0m\u001b[0;34m\u001b[0m\u001b[0m\n\u001b[1;32m     10\u001b[0m             \u001b[0mlabelsAndPredictions\u001b[0m\u001b[0;34m=\u001b[0m\u001b[0mtestData\u001b[0m\u001b[0;34m.\u001b[0m\u001b[0mmap\u001b[0m\u001b[0;34m(\u001b[0m\u001b[0;32mlambda\u001b[0m \u001b[0ml\u001b[0m\u001b[0;34m:\u001b[0m\u001b[0ml\u001b[0m\u001b[0;34m.\u001b[0m\u001b[0mlabel\u001b[0m\u001b[0;34m)\u001b[0m\u001b[0;34m.\u001b[0m\u001b[0mzip\u001b[0m\u001b[0;34m(\u001b[0m\u001b[0mpredictions\u001b[0m\u001b[0;34m)\u001b[0m\u001b[0;34m\u001b[0m\u001b[0m\n",
      "\u001b[0;32m/opt/spark/python/pyspark/mllib/tree.py\u001b[0m in \u001b[0;36mtrainRegressor\u001b[0;34m(cls, data, categoricalFeaturesInfo, numTrees, featureSubsetStrategy, impurity, maxDepth, maxBins, seed)\u001b[0m\n\u001b[1;32m    473\u001b[0m         \"\"\"\n\u001b[1;32m    474\u001b[0m         return cls._train(data, \"regression\", 0, categoricalFeaturesInfo, numTrees,\n\u001b[0;32m--> 475\u001b[0;31m                           featureSubsetStrategy, impurity, maxDepth, maxBins, seed)\n\u001b[0m\u001b[1;32m    476\u001b[0m \u001b[0;34m\u001b[0m\u001b[0m\n\u001b[1;32m    477\u001b[0m \u001b[0;34m\u001b[0m\u001b[0m\n",
      "\u001b[0;32m/opt/spark/python/pyspark/mllib/tree.py\u001b[0m in \u001b[0;36m_train\u001b[0;34m(cls, data, algo, numClasses, categoricalFeaturesInfo, numTrees, featureSubsetStrategy, impurity, maxDepth, maxBins, seed)\u001b[0m\n\u001b[1;32m    311\u001b[0m         model = callMLlibFunc(\"trainRandomForestModel\", data, algo, numClasses,\n\u001b[1;32m    312\u001b[0m                               \u001b[0mcategoricalFeaturesInfo\u001b[0m\u001b[0;34m,\u001b[0m \u001b[0mnumTrees\u001b[0m\u001b[0;34m,\u001b[0m \u001b[0mfeatureSubsetStrategy\u001b[0m\u001b[0;34m,\u001b[0m \u001b[0mimpurity\u001b[0m\u001b[0;34m,\u001b[0m\u001b[0;34m\u001b[0m\u001b[0m\n\u001b[0;32m--> 313\u001b[0;31m                               maxDepth, maxBins, seed)\n\u001b[0m\u001b[1;32m    314\u001b[0m         \u001b[0;32mreturn\u001b[0m \u001b[0mRandomForestModel\u001b[0m\u001b[0;34m(\u001b[0m\u001b[0mmodel\u001b[0m\u001b[0;34m)\u001b[0m\u001b[0;34m\u001b[0m\u001b[0m\n\u001b[1;32m    315\u001b[0m \u001b[0;34m\u001b[0m\u001b[0m\n",
      "\u001b[0;32m/opt/spark/python/pyspark/mllib/common.py\u001b[0m in \u001b[0;36mcallMLlibFunc\u001b[0;34m(name, *args)\u001b[0m\n\u001b[1;32m    128\u001b[0m     \u001b[0msc\u001b[0m \u001b[0;34m=\u001b[0m \u001b[0mSparkContext\u001b[0m\u001b[0;34m.\u001b[0m\u001b[0mgetOrCreate\u001b[0m\u001b[0;34m(\u001b[0m\u001b[0;34m)\u001b[0m\u001b[0;34m\u001b[0m\u001b[0m\n\u001b[1;32m    129\u001b[0m     \u001b[0mapi\u001b[0m \u001b[0;34m=\u001b[0m \u001b[0mgetattr\u001b[0m\u001b[0;34m(\u001b[0m\u001b[0msc\u001b[0m\u001b[0;34m.\u001b[0m\u001b[0m_jvm\u001b[0m\u001b[0;34m.\u001b[0m\u001b[0mPythonMLLibAPI\u001b[0m\u001b[0;34m(\u001b[0m\u001b[0;34m)\u001b[0m\u001b[0;34m,\u001b[0m \u001b[0mname\u001b[0m\u001b[0;34m)\u001b[0m\u001b[0;34m\u001b[0m\u001b[0m\n\u001b[0;32m--> 130\u001b[0;31m     \u001b[0;32mreturn\u001b[0m \u001b[0mcallJavaFunc\u001b[0m\u001b[0;34m(\u001b[0m\u001b[0msc\u001b[0m\u001b[0;34m,\u001b[0m \u001b[0mapi\u001b[0m\u001b[0;34m,\u001b[0m \u001b[0;34m*\u001b[0m\u001b[0margs\u001b[0m\u001b[0;34m)\u001b[0m\u001b[0;34m\u001b[0m\u001b[0m\n\u001b[0m\u001b[1;32m    131\u001b[0m \u001b[0;34m\u001b[0m\u001b[0m\n\u001b[1;32m    132\u001b[0m \u001b[0;34m\u001b[0m\u001b[0m\n",
      "\u001b[0;32m/opt/spark/python/pyspark/mllib/common.py\u001b[0m in \u001b[0;36mcallJavaFunc\u001b[0;34m(sc, func, *args)\u001b[0m\n\u001b[1;32m    121\u001b[0m     \u001b[0;34m\"\"\" Call Java Function \"\"\"\u001b[0m\u001b[0;34m\u001b[0m\u001b[0m\n\u001b[1;32m    122\u001b[0m     \u001b[0margs\u001b[0m \u001b[0;34m=\u001b[0m \u001b[0;34m[\u001b[0m\u001b[0m_py2java\u001b[0m\u001b[0;34m(\u001b[0m\u001b[0msc\u001b[0m\u001b[0;34m,\u001b[0m \u001b[0ma\u001b[0m\u001b[0;34m)\u001b[0m \u001b[0;32mfor\u001b[0m \u001b[0ma\u001b[0m \u001b[0;32min\u001b[0m \u001b[0margs\u001b[0m\u001b[0;34m]\u001b[0m\u001b[0;34m\u001b[0m\u001b[0m\n\u001b[0;32m--> 123\u001b[0;31m     \u001b[0;32mreturn\u001b[0m \u001b[0m_java2py\u001b[0m\u001b[0;34m(\u001b[0m\u001b[0msc\u001b[0m\u001b[0;34m,\u001b[0m \u001b[0mfunc\u001b[0m\u001b[0;34m(\u001b[0m\u001b[0;34m*\u001b[0m\u001b[0margs\u001b[0m\u001b[0;34m)\u001b[0m\u001b[0;34m)\u001b[0m\u001b[0;34m\u001b[0m\u001b[0m\n\u001b[0m\u001b[1;32m    124\u001b[0m \u001b[0;34m\u001b[0m\u001b[0m\n\u001b[1;32m    125\u001b[0m \u001b[0;34m\u001b[0m\u001b[0m\n",
      "\u001b[0;32m/opt/spark/python/lib/py4j-0.10.4-src.zip/py4j/java_gateway.py\u001b[0m in \u001b[0;36m__call__\u001b[0;34m(self, *args)\u001b[0m\n\u001b[1;32m   1131\u001b[0m         \u001b[0manswer\u001b[0m \u001b[0;34m=\u001b[0m \u001b[0mself\u001b[0m\u001b[0;34m.\u001b[0m\u001b[0mgateway_client\u001b[0m\u001b[0;34m.\u001b[0m\u001b[0msend_command\u001b[0m\u001b[0;34m(\u001b[0m\u001b[0mcommand\u001b[0m\u001b[0;34m)\u001b[0m\u001b[0;34m\u001b[0m\u001b[0m\n\u001b[1;32m   1132\u001b[0m         return_value = get_return_value(\n\u001b[0;32m-> 1133\u001b[0;31m             answer, self.gateway_client, self.target_id, self.name)\n\u001b[0m\u001b[1;32m   1134\u001b[0m \u001b[0;34m\u001b[0m\u001b[0m\n\u001b[1;32m   1135\u001b[0m         \u001b[0;32mfor\u001b[0m \u001b[0mtemp_arg\u001b[0m \u001b[0;32min\u001b[0m \u001b[0mtemp_args\u001b[0m\u001b[0;34m:\u001b[0m\u001b[0;34m\u001b[0m\u001b[0m\n",
      "\u001b[0;32m/opt/spark/python/pyspark/sql/utils.py\u001b[0m in \u001b[0;36mdeco\u001b[0;34m(*a, **kw)\u001b[0m\n\u001b[1;32m     61\u001b[0m     \u001b[0;32mdef\u001b[0m \u001b[0mdeco\u001b[0m\u001b[0;34m(\u001b[0m\u001b[0;34m*\u001b[0m\u001b[0ma\u001b[0m\u001b[0;34m,\u001b[0m \u001b[0;34m**\u001b[0m\u001b[0mkw\u001b[0m\u001b[0;34m)\u001b[0m\u001b[0;34m:\u001b[0m\u001b[0;34m\u001b[0m\u001b[0m\n\u001b[1;32m     62\u001b[0m         \u001b[0;32mtry\u001b[0m\u001b[0;34m:\u001b[0m\u001b[0;34m\u001b[0m\u001b[0m\n\u001b[0;32m---> 63\u001b[0;31m             \u001b[0;32mreturn\u001b[0m \u001b[0mf\u001b[0m\u001b[0;34m(\u001b[0m\u001b[0;34m*\u001b[0m\u001b[0ma\u001b[0m\u001b[0;34m,\u001b[0m \u001b[0;34m**\u001b[0m\u001b[0mkw\u001b[0m\u001b[0;34m)\u001b[0m\u001b[0;34m\u001b[0m\u001b[0m\n\u001b[0m\u001b[1;32m     64\u001b[0m         \u001b[0;32mexcept\u001b[0m \u001b[0mpy4j\u001b[0m\u001b[0;34m.\u001b[0m\u001b[0mprotocol\u001b[0m\u001b[0;34m.\u001b[0m\u001b[0mPy4JJavaError\u001b[0m \u001b[0;32mas\u001b[0m \u001b[0me\u001b[0m\u001b[0;34m:\u001b[0m\u001b[0;34m\u001b[0m\u001b[0m\n\u001b[1;32m     65\u001b[0m             \u001b[0ms\u001b[0m \u001b[0;34m=\u001b[0m \u001b[0me\u001b[0m\u001b[0;34m.\u001b[0m\u001b[0mjava_exception\u001b[0m\u001b[0;34m.\u001b[0m\u001b[0mtoString\u001b[0m\u001b[0;34m(\u001b[0m\u001b[0;34m)\u001b[0m\u001b[0;34m\u001b[0m\u001b[0m\n",
      "\u001b[0;32m/opt/spark/python/lib/py4j-0.10.4-src.zip/py4j/protocol.py\u001b[0m in \u001b[0;36mget_return_value\u001b[0;34m(answer, gateway_client, target_id, name)\u001b[0m\n\u001b[1;32m    325\u001b[0m             raise Py4JError(\n\u001b[1;32m    326\u001b[0m                 \u001b[0;34m\"An error occurred while calling {0}{1}{2}\"\u001b[0m\u001b[0;34m.\u001b[0m\u001b[0;34m\u001b[0m\u001b[0m\n\u001b[0;32m--> 327\u001b[0;31m                 format(target_id, \".\", name))\n\u001b[0m\u001b[1;32m    328\u001b[0m     \u001b[0;32melse\u001b[0m\u001b[0;34m:\u001b[0m\u001b[0;34m\u001b[0m\u001b[0m\n\u001b[1;32m    329\u001b[0m         \u001b[0mtype\u001b[0m \u001b[0;34m=\u001b[0m \u001b[0manswer\u001b[0m\u001b[0;34m[\u001b[0m\u001b[0;36m1\u001b[0m\u001b[0;34m]\u001b[0m\u001b[0;34m\u001b[0m\u001b[0m\n",
      "\u001b[0;31mPy4JError\u001b[0m: An error occurred while calling o1283.trainRandomForestModel"
     ]
    }
   ],
   "source": [
    "from pyspark.mllib.tree import RandomForest, RandomForestModel\n",
    "categorical_info = {6 : num_carriers, 7: num_src_airports, 8: num_dest_airports, 10: 2}\n",
    "for maxDepth in [12, 15,22]:\n",
    "    for maxBins in [225,350,500]:\n",
    "        for numTrees in [5,10,20]:\n",
    "            print(\"Train model with maxDepth=%d MaxBins_=%d NumTrees=%d\" % (maxDepth, maxBins, numTrees))\n",
    "            forest_model = RandomForest.trainRegressor(trainingData, categoricalFeaturesInfo=categorical_info,\n",
    "                                    numTrees=numTrees, impurity='variance', maxDepth=maxDepth, maxBins=maxBins)\n",
    "            predictions=forest_model.predict(testData.map(lambda x: x.features))\n",
    "            labelsAndPredictions=testData.map(lambda l:l.label).zip(predictions)\n",
    "            testMSE = labelsAndPredictions.map(lambda p:(p[0]-p[1])**2).mean()\n",
    "            print('Test Mean Squared Error = ' + str(testMSE))"
   ]
  },
  {
   "cell_type": "markdown",
   "metadata": {},
   "source": [
    "Train model with maxDepth=5 MaxBins_=225 NumTrees=5\n",
    "Test Mean Squared Error = 526.3103061733494\n",
    "Train model with maxDepth=5 MaxBins_=225 NumTrees=10\n",
    "Test Mean Squared Error = 526.1678706302764\n",
    "Train model with maxDepth=5 MaxBins_=225 NumTrees=20\n",
    "Test Mean Squared Error = 525.7967089394102\n",
    "Train model with maxDepth=5 MaxBins_=225 NumTrees=50\n",
    "Test Mean Squared Error = 525.6403071392925\n",
    "Train model with maxDepth=5 MaxBins_=255 NumTrees=5\n",
    "Test Mean Squared Error = 526.8942322222852\n",
    "Train model with maxDepth=5 MaxBins_=255 NumTrees=10\n",
    "Test Mean Squared Error = 526.070653023138\n",
    "Train model with maxDepth=5 MaxBins_=255 NumTrees=20\n",
    "Test Mean Squared Error = 525.7530368634634\n",
    "Train model with maxDepth=5 MaxBins_=255 NumTrees=50\n",
    "Test Mean Squared Error = 525.676949689774\n",
    "Train model with maxDepth=5 MaxBins_=350 NumTrees=5\n",
    "Test Mean Squared Error = 526.4787046088007\n",
    "Train model with maxDepth=5 MaxBins_=350 NumTrees=10\n",
    "Test Mean Squared Error = 526.2463964470909\n",
    "Train model with maxDepth=5 MaxBins_=350 NumTrees=20\n",
    "Test Mean Squared Error = 525.6214505370939\n",
    "Train model with maxDepth=5 MaxBins_=350 NumTrees=50\n",
    "Test Mean Squared Error = 525.6801468035432\n",
    "Train model with maxDepth=5 MaxBins_=500 NumTrees=5\n",
    "Test Mean Squared Error = 527.3044130116299\n",
    "Train model with maxDepth=5 MaxBins_=500 NumTrees=10\n",
    "Test Mean Squared Error = 526.515867247512\n",
    "Train model with maxDepth=5 MaxBins_=500 NumTrees=20\n",
    "Test Mean Squared Error = 525.3128845699491\n",
    "Train model with maxDepth=5 MaxBins_=500 NumTrees=50\n",
    "Test Mean Squared Error = 525.4877804759248\n",
    "Train model with maxDepth=12 MaxBins_=225 NumTrees=5\n",
    "Test Mean Squared Error = 488.02240765609963\n",
    "Train model with maxDepth=12 MaxBins_=225 NumTrees=10\n",
    "Test Mean Squared Error = 484.8479677139932\n",
    "Train model with maxDepth=12 MaxBins_=225 NumTrees=20\n",
    "Test Mean Squared Error = 480.8697274368009\n",
    "Train model with maxDepth=12 MaxBins_=225 NumTrees=50\n",
    "Test Mean Squared Error = 478.93543818700846\n",
    "Train model with maxDepth=12 MaxBins_=255 NumTrees=5\n",
    "Test Mean Squared Error = 488.09899723729995\n",
    "Train model with maxDepth=12 MaxBins_=255 NumTrees=10\n",
    "Test Mean Squared Error = 482.7449839385137\n",
    "Train model with maxDepth=12 MaxBins_=255 NumTrees=20\n",
    "Test Mean Squared Error = 481.4767005955859\n",
    "Train model with maxDepth=12 MaxBins_=255 NumTrees=50\n",
    "Test Mean Squared Error = 480.5368019642852\n",
    "Train model with maxDepth=12 MaxBins_=350 NumTrees=5\n",
    "Test Mean Squared Error = 487.7536927434495\n",
    "Train model with maxDepth=12 MaxBins_=350 NumTrees=10\n",
    "Test Mean Squared Error = 481.5434868885681\n",
    "Train model with maxDepth=12 MaxBins_=350 NumTrees=20\n",
    "Test Mean Squared Error = 480.9157624980675\n",
    "Train model with maxDepth=12 MaxBins_=350 NumTrees=50\n",
    "Test Mean Squared Error = 480.9936842575206\n",
    "Train model with maxDepth=12 MaxBins_=500 NumTrees=5\n",
    "Test Mean Squared Error = 487.1092437806519\n",
    "Train model with maxDepth=12 MaxBins_=500 NumTrees=10\n",
    "Test Mean Squared Error = 483.3443030906904\n",
    "Train model with maxDepth=12 MaxBins_=500 NumTrees=20\n",
    "Test Mean Squared Error = 480.6083641049547\n",
    "Train model with maxDepth=12 MaxBins_=500 NumTrees=50\n",
    "Test Mean Squared Error = 480.2461585568638\n",
    "Train model with maxDepth=15 MaxBins_=225 NumTrees=5\n",
    "Test Mean Squared Error = 466.1631841819204\n",
    "Train model with maxDepth=15 MaxBins_=225 NumTrees=10\n",
    "Test Mean Squared Error = 456.4691130200981\n",
    "Train model with maxDepth=15 MaxBins_=225 NumTrees=20\n",
    "Test Mean Squared Error = 452.36960245558424\n",
    "Train model with maxDepth=15 MaxBins_=225 NumTrees=50\n",
    "Test Mean Squared Error = 450.2309994010504\n",
    "Train model with maxDepth=15 MaxBins_=255 NumTrees=5\n",
    "Test Mean Squared Error = 467.6207751999511\n",
    "Train model with maxDepth=15 MaxBins_=255 NumTrees=10\n",
    "Test Mean Squared Error = 455.77823264813446\n",
    "Train model with maxDepth=15 MaxBins_=255 NumTrees=20\n",
    "Test Mean Squared Error = 449.75255952439574\n",
    "Train model with maxDepth=15 MaxBins_=255 NumTrees=50\n",
    "Test Mean Squared Error = 448.0114284698591\n",
    "Train model with maxDepth=15 MaxBins_=350 NumTrees=5"
   ]
  },
  {
   "cell_type": "markdown",
   "metadata": {},
   "source": [
    "<font color=OrangeRed size=4>**[Group 6]**</font> \n",
    "<div class=\"alert alert-warning\"> Obviously, larger MaxBins, more and deeper trees will make the result \n",
    "more accurate, while also take longer time and more resource.</div>"
   ]
  },
  {
   "cell_type": "markdown",
   "metadata": {
    "collapsed": true
   },
   "source": [
    "# Summary\n",
    "In this lecture, we've had an overview about Decision Trees, Random Forests and how to use them. We also insisted on a simple methodology to adopt when dealing with a Data Science problem. \n",
    "The main take home messages should be:\n",
    "\n",
    "* Feature selection is a difficult, delicate and important task. In this project, the student was heavily guided. However, we invite to exercise with additional features, for example external ones related to weather conditions.\n",
    "\n",
    "* Parameter tuning requires a deep understanding of the algorithm used to build a statistical model. In general, to reduce computational cost, several techniques introduce parameters that, if tuned properly, can lead to tremendous time savings."
   ]
  }
 ],
 "metadata": {
  "kernelspec": {
   "display_name": "Python 3",
   "language": "python",
   "name": "python3"
  },
  "language_info": {
   "codemirror_mode": {
    "name": "ipython",
    "version": 3
   },
   "file_extension": ".py",
   "mimetype": "text/x-python",
   "name": "python",
   "nbconvert_exporter": "python",
   "pygments_lexer": "ipython3",
   "version": "3.6.0"
  }
 },
 "nbformat": 4,
 "nbformat_minor": 1
}
