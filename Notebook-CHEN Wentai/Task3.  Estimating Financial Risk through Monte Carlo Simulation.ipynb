{
 "cells": [
  {
   "cell_type": "markdown",
   "metadata": {},
   "source": [
    "# Task 3. Estimating Financial Risk through Monte Carlo Simulation\n",
    "Risk analysis is part of every decision we make when faced with uncertainty, ambiguity, and variability. Indeed, even though we have unprecedented access to information, we can't accurately predict the future. In finance, there is a fair amount of uncertainty and risk involved with estimating the future value of financial products, due to the wide variety of potential outcomes. Monte Carlo simulation (also known as the Monte Carlo Method) allows inspecting many possible outcomes of the decision making process, and can be used to assess the impact of risk: this, in turns, allows for better decision-making under uncertainty.\n",
    "\n",
    "## Goals\n",
    "The main objectives we set for this Notebook are as follows:\n",
    "1. Develop fundamental knowledge about Risk analysis\n",
    "2. Understand Monte Carlo Simulation (MCS)\n",
    "3. Apply Monte Carlo Simulation for predicting risk\n",
    "\n",
    "\n",
    "## Steps\n",
    "1. First, in section 1, we introduce the basics of MCS\n",
    "2. In section 2, we work on a simple example to where we apply the MCS method\n",
    "3. In section 3, we briefly summarize the main characteristics of the Monte Carlo Simulation (MCS) technique\n",
    "4. In section 4, we overview the common distributions which are often used in MCS\n",
    "5. In section 5, we work on a real use case, that focuses on estimating financial risk. We will use techniques such as featurization  (that is, generating additional features to improve model accuracy), linear regression, kernel density estimation, sampling distributions and so on ...\n",
    "\n",
    "## Reference\n",
    "This Notebook is inspired by Chapter 9 of the book [Advanced Analytics with Spark](http://shop.oreilly.com/product/0636920035091.do) by Josh Wills, Sandy Ryza, Sean Owen, and Uri Laserson. It is strongly suggested to read this Chapter to get a general idea of the topic of this Notebook.\n",
    "\n",
    "# 1. Introduction\n",
    "\n",
    "## 1.1. Monte Carlo Simulation (MCS)\n",
    "Monte Carlo simulation is a computerized mathematical technique that can be applied such that it is possible to account for risk in quantitative analysis and decision making. This technique is used in many different fields, such as R&D, risk management, portfolio management, pricing derivatives, strategic planning, project planning, cost modeling and many more.\n",
    "\n",
    "In general, MCS is a technique that \"converts\" uncertainty on input variables of a model into **probability distributions**. By combining the distributions and randomly selecting values from them, it recalculates the simulated model many times, to determine the probability of the output.\n",
    "\n",
    "Historically, this technique was first used by scientists working on the atomic bomb: it was named after Monte Carlo, the Monaco resort town renowned for its casinos.  Since its introduction in World War II, Monte Carlo simulation has been used to model a variety of physical and conceptual systems.\n",
    "\n",
    "## 1.2. How does it work?\n",
    "Monte Carlo simulation performs risk analysis by building models of possible results by *substituting a range of possible input values, that constitute uncertainty, into a statistical distribution*. It then computes possible outcomes repeatedly, each time using a different set of random values from the probability functions that \"model\" the input. Depending upon the number of random input variables and their distribution, a Monte Carlo simulation could involve thousands or tens of thousands of \"rounds\" before it is complete. When complete, *Monte Carlo simulation produces distributions of possible outcome values*.\n",
    "\n",
    "By using probability distributions instead of actual input samples, it is possible to model more accurately uncertainty: different choices of distributions will yield different outputs."
   ]
  },
  {
   "cell_type": "markdown",
   "metadata": {},
   "source": [
    "# 2. Illustrative example\n",
    "\n",
    "When we are planning to introduce a new product, normally we need to estimate the first-year net profit from this product, which might depend on:\n",
    "\n",
    "- Sales volume in units\n",
    "- Price per unit (also called \"Selling price\")\n",
    "- Unit cost\n",
    "- Fixed costs\n",
    "\n",
    "Net profit will be calculated as $Net Profit = Sales Volume* (Selling Price - Unit cost) - Fixed costs$.  Fixed costs (accounting for various overheads, advertising budget, etc.) are known to be \\$ 120,000, which we assume to be deterministic. All other factors, instead, involve some uncertainty: *sales volume* (in units) can cover quite a large range, the *selling price* per unit will depend on competitor actions, which are hard to predict, and *unit costs* will also vary depending on vendor prices and production experience, for example.\n",
    "\n",
    "Now, to build a risk analysis model, we must first identify the uncertain variables -- which are essentially random variables.  While there's some uncertainty in almost all variables in a business model, we want to focus on variables where the range of values is significant."
   ]
  },
  {
   "cell_type": "markdown",
   "metadata": {},
   "source": [
    "## 2.1. Unit sales and unit price\n",
    "\n",
    "Based on a hypothetical market research you have done, you have beliefs that there are equal chances for the market to be `slow`, `normal`, or `hot`:\n",
    "\n",
    "- In a \"slow\" market, you expect to sell 50,000 units at an average selling price of \\$11.00 per unit\n",
    "- In a \"normal\" market, you expect to sell 75,000 units, but you'll likely realize a lower average selling price of \\$10.00 per unit\n",
    "- In a \"hot\" market, you expect to sell 100,000 units, but this will bring in competitors, who will drive down the average selling price to \\$8.00 per unit"
   ]
  },
  {
   "cell_type": "markdown",
   "metadata": {},
   "source": [
    "### Question 1\n",
    "<div class=\"alert alert-info\">\n",
    "Calculate the average units and the unit price that you expect to sell, which depend on the market state. Use the assumptions above to compute the expected quantity of products and their expected unit price. \n",
    "</div>\n"
   ]
  },
  {
   "cell_type": "code",
   "execution_count": 1,
   "metadata": {
    "collapsed": false
   },
   "outputs": [
    {
     "name": "stdout",
     "output_type": "stream",
     "text": [
      "average unit: 75000.00\n",
      "average_price: 9.67\n"
     ]
    }
   ],
   "source": [
    "average_unit = (50000+75000+100000)/3.0\n",
    "average_price = (8+10+11)/3.0\n",
    "print(\"average unit: %.2f\"%average_unit)\n",
    "print(\"average_price: %.2f\"% average_price)"
   ]
  },
  {
   "cell_type": "markdown",
   "metadata": {},
   "source": [
    "## 2.2. Unit Cost\n",
    "\n",
    "Another uncertain variable is Unit Cost. In our illustrative example, we assume that your firm's production manager advises you that unit costs may be anywhere from \\$5.50 to \\$7.50, with a most likely expected cost of \\$6.50. In this case, the most likely cost can be considered as the average cost.\n",
    "\n",
    "## 2.3. A Flawed Model: using averages to represent our random variables\n",
    "Our next step is to identify uncertain functions -- also called functions of a random variable.  Recall that Net Profit is calculated as $Net Profit = Sales Volume * (Selling Price - Unit cost) - Fixed costs$.  However, Sales Volume, Selling Price and Unit Cost are all uncertain variables, so Net Profit is an uncertain function.\n",
    "\n",
    "The simplest model to predict the Net Profit is using average of sales volume, average of selling price and average of unit cost for calculating. So, if only consider averages, we can say that the $Net Profit = 75,000*(9.66666666 - 6.5) - 120,000 \\sim 117,500$.\n",
    "\n",
    "However, as [Dr. Sam Savage](http://web.stanford.edu/~savage/faculty/savage/) warns, \"Plans based on average assumptions will be wrong on average.\" The calculated result is far from the actual value: indeed, the **true average Net Profit** is roughly  \\$93,000, as we will see later in the example."
   ]
  },
  {
   "cell_type": "markdown",
   "metadata": {},
   "source": [
    "### Question 2\n",
    "#### Question 2.1\n",
    "<div class=\"alert alert-info\">\n",
    "Write a function named `calNetProfit` to calculate the Net Profit using the average of sales volume, the average of selling price and the average of unit cost.\n",
    "</div>"
   ]
  },
  {
   "cell_type": "code",
   "execution_count": 2,
   "metadata": {
    "collapsed": false
   },
   "outputs": [
    {
     "name": "stdout",
     "output_type": "stream",
     "text": [
      "Net profit: 117500.000\n"
     ]
    }
   ],
   "source": [
    "def calNetProfit(average_unit, average_price, average_unitcost, fixed_cost):\n",
    "    return average_unit*(average_price - average_unitcost) - fixed_cost\n",
    "\n",
    "average_unitcost = 6.50\n",
    "fixed_cost = 120000\n",
    "NetProfit = calNetProfit(average_unit,average_price,average_unitcost,fixed_cost)\n",
    "print(\"Net profit: %.3f\"%NetProfit)"
   ]
  },
  {
   "cell_type": "markdown",
   "metadata": {},
   "source": [
    "#### Question 2.2\n",
    "<div class=\"alert alert-info\">\n",
    "Verify the warning message of Dr. Sam Savage by calculating the error of our estimated Net Profit using averages only. Recall that the true value is roughly \\$93,000, so we are interested in:\n",
    "<ul></ul>\n",
    "\n",
    "$$ error = \\frac{your\\_value - true\\_value}{true\\_value}$$\n",
    "\n",
    "<ul></ul>\n",
    "Note also we are interested in displaying the error as a percentage.\n",
    "<ul></ul>\n",
    "Looking at the error we make, do you think that we can use the current model that only relies on averages?\n",
    "</div>"
   ]
  },
  {
   "cell_type": "code",
   "execution_count": 3,
   "metadata": {
    "collapsed": false
   },
   "outputs": [
    {
     "name": "stdout",
     "output_type": "stream",
     "text": [
      "Error in percentage: 26.344086021505316\n"
     ]
    }
   ],
   "source": [
    "trueNetProfit = 93000\n",
    "error = (NetProfit - trueNetProfit) / (trueNetProfit)\n",
    "print(\"Error in percentage:\", error * 100)"
   ]
  },
  {
   "cell_type": "markdown",
   "metadata": {},
   "source": [
    "<div class=\"alert alert-warning\">\n",
    "\n",
    "According to the result above, the error is 26.34%, which is a considerably high value. If we use the average value to determine the Net Profit, we will easily get a unprecise prediction, which will do harm to our production and price setting.\n",
    "\n",
    "</div>"
   ]
  },
  {
   "cell_type": "markdown",
   "metadata": {},
   "source": [
    "## 2.4. Using the Monte Carlo Simulation method to improve our model\n",
    "As discussed before, the selling price and selling volume both depend on the state of the market scenario (slow/normal/hot). So, the net profit is the result of two random variables: `market scenario` (which in turn determines `sales volumes` and `selling price`) and `unit cost`.\n",
    "\n",
    "Now, let's assume (this is an *a-priori* assumption we make) that `market scenario` follows a discrete, uniform distribution and that `unit cost` also follows a uniform distribution. Then, we can compute directly the values for selling price and selling volumes based on the outcome of the random variable `market scenario`, as shown in Section 2.1.\n",
    "\n",
    "From these a-priori distributions, in each run (or trial) of our Monte Carlo simulation, we can generate the sample value for each random variable and use it to calculate the Net Profit. The more simulation runs, the more accurate our results will be. For example, if we run the simulation 100,000 times, the average net profit will amount to roughly \\$92,600. Every time we run the simulation, a different prediction will be output: the average of such predictions will consistently be less than \\$117,500, which we predicted using averages only.\n",
    "\n",
    "Note also that in this simple example, we generate values for the `market scenario` and `unit cost` independently: we consider them to be **independent random variables**. This means that the eventual (and realistic!) correlation between the `market scenario` and `unit cost` variables is ignored. Later, we will learn how to be more precise and account for dependency between random variables.\n"
   ]
  },
  {
   "cell_type": "markdown",
   "metadata": {},
   "source": [
    "### Question 3\n",
    "#### Question 3.1\n",
    "<div class=\"alert alert-info\">\n",
    "Write a function named `get_sales_volume_price` that returns the sales volume and price based on the market scenario. In particular, the scenario can get one of three values:\n",
    "<ul>\n",
    "  <li>0: Slow market</li>\n",
    "  <li>1: Normal market</li>\n",
    "  <li>2: Hot market</li>\n",
    "</ul>  \n",
    "\n",
    "The return value is a tuple in the form: `(sales_volume, price)`\n",
    "</div>"
   ]
  },
  {
   "cell_type": "code",
   "execution_count": 4,
   "metadata": {
    "collapsed": true
   },
   "outputs": [],
   "source": [
    "# Get sales volume and  price based on market scenario\n",
    "# the function returns a tuple of (sales_volume, price)\n",
    "def get_sales_volume_price(scenario):\n",
    "    # Slow market\n",
    "    if scenario == 0:\n",
    "        return (50000,11.0)\n",
    "    # Normal market\n",
    "    if scenario == 1:\n",
    "        return (75000,10.0)\n",
    "    # Hot market\n",
    "    if scenario == 2:\n",
    "        return (100000,8.0)"
   ]
  },
  {
   "cell_type": "markdown",
   "metadata": {},
   "source": [
    "#### Question 3.2\n",
    "<div class=\"alert alert-info\">\n",
    "Run 100,000 Monte Carlo simulations and calculate the average net profit they produce. Then, compare the result to the \"average model\" we used in the previous questions (the one we called \"flawed\" model). Put your comments about the discrepancies between a simplistic model, and the more accurate MCS approach.  \n",
    "<ul></ul>\n",
    "Note that in each iteration, the `unit_cost` and `market_scenario` are generated according to their distributions. Also, recall what we have seen in Section 2.2: your firm account manager helped you with some research, to determine the variability of your random variables.  \n",
    "</div>\n",
    "\n",
    "\n",
    "<div class=\"label label-success\">HINT</div>  \n",
    "\n",
    "Function `uniform(a,b)` in module `random` generates a number $a<=c<=b$, which is drawn from a uniform distribution.  \n",
    "\n",
    "Function `randint(a,b)` helps you generating an integer number $a<=c<=b$"
   ]
  },
  {
   "cell_type": "code",
   "execution_count": 5,
   "metadata": {
    "collapsed": false
   },
   "outputs": [
    {
     "name": "stdout",
     "output_type": "stream",
     "text": [
      "average net profit: 92503.59465215857\n",
      "Error in percentage: 0.5337691912273419\n"
     ]
    }
   ],
   "source": [
    "import random\n",
    "\n",
    "total = 0.0\n",
    "num_simulation = 100000\n",
    "for i in range(0,num_simulation):\n",
    "    unit_cost = random.uniform(5.5,7.5)\n",
    "    market_scenario = random.randint(0,2)\n",
    "    sales_volume, price = get_sales_volume_price(market_scenario)\n",
    "    netProfit = calNetProfit(sales_volume,price,unit_cost, fixed_cost)\n",
    "    total = total + netProfit\n",
    "MCS_NetProfit = total/num_simulation\n",
    "MCSerror = abs(MCS_NetProfit - trueNetProfit)/trueNetProfit\n",
    "print(\"average net profit:\", MCS_NetProfit)\n",
    "print(\"Error in percentage:\",MCSerror*100)"
   ]
  },
  {
   "cell_type": "code",
   "execution_count": 27,
   "metadata": {
    "collapsed": false
   },
   "outputs": [
    {
     "data": {
      "image/png": "[encoded data removed]",
      "text/plain": [
       "<matplotlib.figure.Figure at 0x7f9005d33438>"
      ]
     },
     "metadata": {},
     "output_type": "display_data"
    },
    {
     "data": {
      "text/plain": [
       "[<matplotlib.lines.Line2D at 0x7f9005b84588>]"
      ]
     },
     "execution_count": 27,
     "metadata": {},
     "output_type": "execute_result"
    },
    {
     "data": {
      "image/png": "[encoded data removed]",
      "text/plain": [
       "<matplotlib.figure.Figure at 0x7f9005cfee48>"
      ]
     },
     "metadata": {},
     "output_type": "display_data"
    }
   ],
   "source": [
    "import random\n",
    "%matplotlib inline\n",
    "import matplotlib.pyplot as plt\n",
    "import numpy as np\n",
    "\n",
    "MCS_NetProfit=[]\n",
    "MCSerror=[]\n",
    "for i in range(1,20):\n",
    "    total = 0.0\n",
    "    num_simulation = 100000*i\n",
    "    for i in range(0,num_simulation):\n",
    "        unit_cost = random.uniform(5.5,7.5)\n",
    "        market_scenario = random.randint(0,2)\n",
    "        sales_volume, price = get_sales_volume_price(market_scenario)\n",
    "        netProfit = calNetProfit(sales_volume,price,unit_cost, fixed_cost)\n",
    "        total = total + netProfit\n",
    "    MCS_NetProfit.append(total/num_simulation)\n",
    "    MCSerror.append(abs(total/num_simulation - trueNetProfit)/trueNetProfit*100)\n",
    "x = range(1,20)\n",
    "\n",
    "plt.title('MCS_NetProfit changing with num_simulation ')\n",
    "plt.xlabel('num_simulation /100000 times')\n",
    "plt.ylabel('MCS_NetProfit')\n",
    "plt.plot(x,MCS_NetProfit)\n",
    "plt.show()\n",
    "plt.title('MCSerror changing with num_simulation ')\n",
    "plt.xlabel('num_simulation /100000 times')\n",
    "plt.ylabel('MCSerror')\n",
    "plt.plot(x,MCSerror)"
   ]
  },
  {
   "cell_type": "markdown",
   "metadata": {},
   "source": [
    "<div class=\"alert alert-warning\">\n",
    "After 100,000 iterations of MSC, the average net profit is roughly 92,600, and the new error comes to 0.534%, which is much better than the previous method with the average value. We also run several numbers of simulation to observe the relationship between the num_simulation and the error, it seems that MCS_NetProfit vibrates around 925000,and the error is about 0.55. This also indicates that the *a-priori* assumption of uniform distribution is reasonable.\n",
    "</div>"
   ]
  },
  {
   "cell_type": "markdown",
   "metadata": {},
   "source": [
    "\n",
    "# 3. A brief summary of the Monte Carlo Simulation (MCS) technique\n",
    "\n",
    "- A MCS allows several inputs to be used at the same time to compute the probability distribution of one or more outputs\n",
    "- Different types of probability distributions can be assigned to the inputs of the model, depending on any *a-priori* information that is available. When the distribution is completely unknown, a common technique is to use a distribution computed by finding the best fit to the data you have\n",
    "- The MCS method is also called a **stochastic method** because it uses random variables. Note also that the general assumption is for input random variables to be independent from each other. When this is not the case, there are techniques to account for correlation between random variables.\n",
    "- A MCS generates the output as a range instead of a fixed value and shows how likely the output value is to occur in that range. In other words, the model outputs a probability distribution."
   ]
  },
  {
   "cell_type": "markdown",
   "metadata": {
    "collapsed": true
   },
   "source": [
    "# 4. Common distributions used in MCS\n",
    "In what follows, we summarize the most common probability distributions that are used as *a-priori* distributions for input random variables:\n",
    "\n",
    "- *Normal/Gaussian Distribution*: this is a continuous distribution applied in situations where the mean and the standard deviation of a given input variable are given, and the mean represents the most probable value of the variable. In other words, values \"near\" the mean are most likely to occur.  This is symmetric distribution, and it is not bounded in its co-domain. It is very often used to  describe natural phenomena, such as people’s heights, inflation rates, energy prices, and so on and so forth. An illustration of a normal distribution is given below:\n",
    "![normal_distribution](https://upload.wikimedia.org/wikipedia/commons/thumb/7/74/Normal_Distribution_PDF.svg/320px-Normal_Distribution_PDF.svg.png)\n",
    "\n",
    "- *Lognormal Distribution*: this is a distribution which is appropriate for variables taking values in the range $[0, \\infty]$. Values are positively skewed, not symmetric like a normal distribution.  Examples of variables described by some lognormal distributions include, for example, real estate property values, stock prices, and oil reserves. An illustration of a lognormal distribution is given below:\n",
    "![log_normal_distribution](https://upload.wikimedia.org/wikipedia/commons/thumb/a/ae/PDF-log_normal_distributions.svg/320px-PDF-log_normal_distributions.svg.png) \n",
    "\n",
    "- *Triangular Distribution*: this is a continuous distribution with fixed minimum and maximum values. It is bounded by the minimum and maximum values and can be either symmetrical (the most probable value = mean = median) or asymmetrical. Values around the most likely value (e.g. the mean) are more likely to occur.  Variables that could be described by a triangular distribution include, for example, past sales history per unit of time and inventory levels. An illustration of a triangular distribution is given below:\n",
    "![](https://upload.wikimedia.org/wikipedia/commons/thumb/4/45/Triangular_distribution_PMF.png/320px-Triangular_distribution_PMF.png)\n",
    "\n",
    "- *Uniform Distribution*: this is a continuous distribution bounded by known minimum and maximum values. In contrast to the triangular distribution, the likelihood of occurrence of the values between the minimum and maximum is the same. In other words, all values have an equal chance of occurring, and the distribution is simply characterized by the minimum and maximum values. Examples of variables that can be described by a uniform distribution include manufacturing costs or future sales revenues for a new product. An illustration of the uniform distribution is given below:\n",
    "![](https://upload.wikimedia.org/wikipedia/commons/thumb/9/96/Uniform_Distribution_PDF_SVG.svg/320px-Uniform_Distribution_PDF_SVG.svg.png)\n",
    "\n",
    "- *Exponential Distribution*: this is a continuous distribution used to model the time that pass between independent occurrences, provided that the rate of occurrences is known. An example of the exponential distribution is given below:\n",
    "![](https://upload.wikimedia.org/wikipedia/commons/thumb/e/ec/Exponential_pdf.svg/320px-Exponential_pdf.svg.png)\n",
    "\n",
    "- *Discrete Distribution* : for this kind of distribution, the \"user\" defines specific values that may occur and the likelihood of each of them.  An example might be the results of a lawsuit: 20% chance of positive verdict, 30% change of negative verdict, 40% chance of settlement, and 10% chance of mistrial.\n"
   ]
  },
  {
   "cell_type": "markdown",
   "metadata": {},
   "source": [
    "# 5. A real use case: estimating the financial risk of a portfolio of stocks\n",
    "We hope that by now you have a good understanding about Monte Carlo simulation. Next, we apply this method to a real use case: *financial risk estimation*.\n",
    "\n",
    "Imagine that you are an investor on the stock market. You plan to buy some stocks and you want to estimate the maximum loss you could incur after two weeks of investing. This is the quantity that the financial statistic \"Value at Risk\" (VaR) seeks to measure. [VaR](https://en.wikipedia.org/wiki/Value_at_risk) is defined as a measure of investment risk that can be used as a reasonable estimate of the maximum probable loss for a value of an investment portfolio, over a particular time period. A VaR statistic depends on three parameters: a portfolio, a time period, and a confidence level. A VaR of 1 million dollars with a 95% confidence level over two weeks, indicates the belief that the portfolio stands only a 5% chance of losing more than 1 million dollars over two weeks. VaR has seen widespread use across financial services organizations. This statistic plays a vital role in determining how much cash investors must hold to meet the credit ratings that they seek. In addition, it is also used to understand the risk characteristics of large portfolios: it is a good idea to compute the VaR before executing trades, such that it can help take informed decisions about investments. \n",
    "\n",
    "Our goal is calculating VaR of two weeks interval with 95% confidence level and the associated [VaR confidence interval](http://www.investopedia.com/ask/answers/041615/whats-difference-between-confidence-level-and-confidence-interval-value-risk-var.asp).\n",
    "\n",
    "\n",
    "## 5.1. Terminology\n",
    "In this use case, we will use some terms that might require a proper definition, given the domain. This is what we call the *Domain Knowledge*.\n",
    "\n",
    "- **Instrument**: A tradable asset, such as a bond, loan, option, or stock investment. At any particular time, an instrument is considered to have a value, which is the price for which it can be sold. In the use case of this notebook, instruments are stock investments.\n",
    "- **Portfolio**: A collection of instruments owned by a financial institution. \n",
    "- **Return**: The change in an instrument or portfolio’s value over a time period. \n",
    "- **Loss**: A negative return. \n",
    "- **Index**: An imaginary portfolio of instruments. For example, the NASDAQ Composite index includes about 3,000 stocks and similar instruments for major US and international companies. \n",
    "- **Market factor**: A value that can be used as an indicator of macro aspects of the financial climate at a particular time. For example, the value of an index, the Gross Domestic Product of the United States, or the exchange rate between the dollar and the euro. We will often refer to market factors as just factors.\n",
    "\n",
    "## 5.2. The context of our use case\n",
    "We have a list of instruments that we plan to invest in. The historical data of each instrument has been collected for you. For simplicity, assume that the returns of instruments at a given time, depend on 4 market factors only: \n",
    "\n",
    "- GSPC value\n",
    "- IXIC value \n",
    "- The return of crude oil\n",
    "- The return of treasury bonds\n",
    "\n",
    "Our goal is building a model to predict the loss after two weeks' time interval with confidence level set to 95%.\n",
    "\n",
    "As a side note, it is important to realize that the approach presented in this Notebook is a simplified version of what would happen in a real Financial firm. For example, the returns of instruments at a given time often depend on more than 4 market factors only! Moreover, the choice of what constitute an appropriate market factor is an art!\n",
    "\n"
   ]
  },
  {
   "cell_type": "markdown",
   "metadata": {},
   "source": [
    "## 5.3. The Data\n",
    "The stock data can be downloaded (or scraped) from Yahoo! by making a series of REST calls. The data includes multiple files. Each file contains the historical information of each instrument that we want to invest in. The data is in the following format (with some samples):\n",
    "```\n",
    "Date, Open, High, Low, Close, Volume, Adj Close\n",
    "2016-01-22,66.239998,68.07,65.449997,67.860001,137400,67.860001\n",
    "2016-01-21,65.410004,66.18,64.459999,65.050003,148000,65.050003\n",
    "2016-01-20,64.279999,66.32,62.77,65.389999,141300,65.389999\n",
    "2016-01-19,67.720001,67.989998,64.720001,65.379997,178400,65.379997\n",
    "```\n",
    "\n",
    "The data of GSPC and IXIC values (our two first market factors) are also available on Yahoo! and use the very same format. \n",
    "\n",
    "The crude oil and treasure bonds data is collected from investing.com, and has a different format, as shown below (with some samples):\n",
    "```\n",
    "Date    Price   Open    High    Low     Vol.    Change %\n",
    "Jan 25, 2016    32.17   32.36   32.44   32.10   -       -0.59%\n",
    "Jan 24, 2016    32.37   32.10   32.62   31.99   -       0.54%\n",
    "Jan 22, 2016    32.19   29.84   32.35   29.53   -       9.01%\n",
    "Jan 21, 2016    29.53   28.35   30.25   27.87   694.04K 11.22%\n",
    "Jan 20, 2016    26.55   28.33   28.58   26.19   32.11K  -6.71%\n",
    "Jan 19, 2016    28.46   29.20   30.21   28.21   188.03K -5.21%\n",
    "```\n",
    "\n",
    "In our use case, the factors' data will be used jointly to build a statistical model: as a consequence, we first need to preprocess the data to proceed.\n",
    "\n",
    "## 5.4. Data preprocessing\n",
    "In this Notebook, all data files have been downloaded for you, such that you can focus on pre-processing. Next, we will:\n",
    "\n",
    "  - Read the factor data files which are in two different formats, process and merge them together\n",
    "  - Read the stock data and pre-process it\n",
    "  - Trim all data into a specific time region\n",
    "  - Fill in the missing values\n",
    "  - Generate the data of returns in each two weeks' time interval window\n",
    "  \n",
    "### Factor data pre-processing\n",
    "\n",
    "We need two functions to read and parse data from Yahoo! and Investing.com respectively. We are interested only in information about the time and the corresponding returns of a factor or an instrument: as a consequence, we will project away many columns of our RAW data, and keep only the information we are interested in.\n",
    "\n",
    "The 3000-instrument and the 4-factor history are small enough to be read and processed locally: we do not need to use the power of parallel computing to proceed. Note that this is true also for larger cases with hundreds of thousands of instruments and thousands of factors. The need for a distributed system like Spark comes in when actually **running** the Monte Carlo simulations, which can require massive amounts of computation on each instrument. "
   ]
  },
  {
   "cell_type": "markdown",
   "metadata": {},
   "source": [
    "### Question 4\n",
    "#### Question 4.1\n",
    "<div class=\"alert alert-info\">\n",
    "Write a function named `readInvestingDotComHistory` to parse data from investing.com based on the format specified above (see Section 5.3). Recall that we use two factors here: one that is related to the price of crude oil, one that is related to some specific US bonds. \n",
    "\n",
    "<ul></ul>\n",
    "\n",
    "Print the first 5 entries of the first factor (crude oil price) in the parsed data.\n",
    "\n",
    "<ul></ul>\n",
    "\n",
    "Note that we are only interested in the date and price of stocks.\n",
    "\n",
    "</div>\n",
    "\n",
    "<div class=\"label label-success\">HINT</div>  \n",
    "You can parse a string to `datetime` object by using the function `strptime(<string>, <dtime_format>)`. In this case, the datetime format is `\"%b %d, %Y\"`. For more information, please follow this [link](https://docs.python.org/2/library/datetime.html#strftime-and-strptime-behavior)."
   ]
  },
  {
   "cell_type": "markdown",
   "metadata": {},
   "source": [
    "In the next cell, we simply copy data from our HDFS cluster (that contains everything we need for this Notebook) to the instance (a Docker container) running your Notebook. This means that you will have \"local\" data that you can process without using Spark. Note the folder location: find and verify that you have correctly downloaded the files!"
   ]
  },
  {
   "cell_type": "code",
   "execution_count": 7,
   "metadata": {
    "collapsed": false
   },
   "outputs": [],
   "source": [
    "! [ -d monte-carlo-risk ] || (echo \"Downloading prepared data from HDFS. Please wait...\" ; hdfs dfs -copyToLocal /datasets/monte-carlo-risk . ; echo \"Done!\";)"
   ]
  },
  {
   "cell_type": "code",
   "execution_count": 141,
   "metadata": {
    "collapsed": false
   },
   "outputs": [
    {
     "name": "stdout",
     "output_type": "stream",
     "text": [
      "[(datetime.datetime(2016, 1, 25, 0, 0), 32.17), (datetime.datetime(2016, 1, 24, 0, 0), 32.37), (datetime.datetime(2016, 1, 22, 0, 0), 32.19), (datetime.datetime(2016, 1, 21, 0, 0), 29.53), (datetime.datetime(2016, 1, 20, 0, 0), 26.55)]\n"
     ]
    }
   ],
   "source": [
    "from datetime import datetime\n",
    "from datetime import timedelta\n",
    "from itertools import islice\n",
    "%matplotlib inline\n",
    "import numpy as np\n",
    "import statsmodels.api as sm\n",
    "\n",
    "base_folder = \"monte-carlo-risk/\"\n",
    "\n",
    "factors_folder= base_folder + \"factors/\"\n",
    "\n",
    "# read data from local disk\n",
    "def readInvestingDotComHistory(fname):\n",
    "    def process_line(line):\n",
    "        cols = line.split('\\t')\n",
    "        date = datetime.strptime(cols[0],\"%b %d, %Y\")\n",
    "        value = float(cols[1])\n",
    "        return (date, value)\n",
    "\n",
    "    with open(fname) as f:\n",
    "        content_w_header = f.readlines()\n",
    "        # remove the first line \n",
    "        # and reverse lines to sort the data by date, in ascending order\n",
    "        content = content_w_header[1:-1]\n",
    "        return list(map(process_line , content))\n",
    "\n",
    "factor1_files = ['crudeoil.tsv', 'us30yeartreasurybonds.tsv']\n",
    "factor1_files = map(lambda fn: factors_folder + fn, factor1_files)\n",
    "factors1 = [readInvestingDotComHistory(f) for f in factor1_files]\n",
    "\n",
    "print(factors1[0][0:5])"
   ]
  },
  {
   "cell_type": "markdown",
   "metadata": {},
   "source": [
    "Now, the data structure `factors1` is a list, containing data that pertains to two (out of a total of four) factors that influence the market, as obtained by investing.com. Each element in the list is a tuple, containing some sort of timestamp, and the value of one of the two factors discussed above. From now on, we call these elements \"**records**\" or \"**entries**\". Visually, `factors1` looks like this:\n",
    "\n",
    "| 0 (crude oil) | 1 (US bonds)|\n",
    "| --- | --- |\n",
    "| time_stamp, value | time_stamp, value |\n",
    "| ... | ... |\n",
    "| time_stamp, value | time_stamp, value |\n",
    "| ... | ... |\n"
   ]
  },
  {
   "cell_type": "markdown",
   "metadata": {},
   "source": [
    "#### Question 4.2\n",
    "<div class=\"alert alert-info\">\n",
    "Write a function named `readYahooHistory` to parse data from yahoo.com based on its format, as described in Section 5.3.  \n",
    "<ul></ul>\n",
    "Print the first 5 entries of the first factor (namely GSPC). Comment the time range of the second batch of data we use in our Notebook.  \n",
    "<ul></ul>\n",
    "\n",
    "Note that we are only interested in the date and price of stocks.\n",
    "</div>\n",
    "\n",
    "<div class=\"label label-danger\">NOTE</div> The datetime format now is in a different format than the previous one.\n",
    "\n",
    "<div class=\"label label-success\">HINT</div> Use a terminal (or put the bash commands inline in your Notebook) to list filenames in your local working directory to find and have a look at your local files."
   ]
  },
  {
   "cell_type": "code",
   "execution_count": 142,
   "metadata": {
    "collapsed": false
   },
   "outputs": [
    {
     "name": "stdout",
     "output_type": "stream",
     "text": [
      "[(datetime.datetime(2016, 1, 22, 0, 0), 1906.900024), (datetime.datetime(2016, 1, 21, 0, 0), 1868.98999), (datetime.datetime(2016, 1, 20, 0, 0), 1859.329956), (datetime.datetime(2016, 1, 19, 0, 0), 1881.329956), (datetime.datetime(2016, 1, 15, 0, 0), 1880.329956)]\n"
     ]
    }
   ],
   "source": [
    "# read data from local disk\n",
    "def readYahooHistory(fname):\n",
    "    def process_line(line):\n",
    "        cols=line.split(\",\")\n",
    "        date=datetime.strptime(cols[0],'%Y-%m-%d')\n",
    "        value=float(cols[6])\n",
    "        return(date, value)\n",
    "    with open(fname) as f:\n",
    "        content_w_header=f.readlines()\n",
    "        content=content_w_header[1:-1]\n",
    "        return list(map(process_line,content))\n",
    "    \n",
    "\n",
    "factor2_files = [\"GSPC.csv\", \"IXIC.csv\"]\n",
    "factor2_files = map(lambda fn: factors_folder + fn, factor2_files)\n",
    "\n",
    "factors2 = [readYahooHistory(f) for f in factor2_files]\n",
    "\n",
    "print(factors2[0][:5])"
   ]
  },
  {
   "cell_type": "markdown",
   "metadata": {},
   "source": [
    "<div class=\"alert alert-warning\">\n",
    "While choosing the colomn representing the price, we have 5 index in the data set: Open, High, Low, Close, Volume and Adj Close. We decided to use Adj Close to indicate the price. Adjusted Closing Price is a stock's closing price on any given day of trading that has been amended to include any distributions and corporate actions that occurred at any time prior to the next day's open ([reference](http://www.investopedia.com/terms/a/adjusted_closing_price.asp)). So it is used to predict the returns or perform a analysis on the historical returns.\n",
    "</div>"
   ]
  },
  {
   "cell_type": "markdown",
   "metadata": {},
   "source": [
    "Now, the data structure `factors2` is again list, containing data that pertains to the next two (out of a total of four) factors that influence the market, as obtained by Yahoo!. Each element in the list is a tuple, containing some sort of timestamp, and the value of one of the two factors discussed above. Visually, `factors2` looks like this:\n",
    "\n",
    "| 0 (GSPC) | 1 (IXIC)|\n",
    "| --- | --- |\n",
    "| time_stamp, value | time_stamp, value |\n",
    "| ... | ... |\n",
    "| time_stamp, value | time_stamp, value |\n",
    "| ... | ... |\n"
   ]
  },
  {
   "cell_type": "markdown",
   "metadata": {},
   "source": [
    "### Stock data pre-processing\n",
    "\n",
    "Next, we prepare the data for the instruments we consider in this Notebook (i.e., the stocks we want to invest in). "
   ]
  },
  {
   "cell_type": "markdown",
   "metadata": {},
   "source": [
    "#### Question 4.3\n",
    "\n",
    "<div class=\"alert alert-info\">\n",
    "In this Notebook, we assume that we want to invest on the first 35 stocks out of the total 3000 stocks present in our datasets.\n",
    "\n",
    "<ul></ul>\n",
    "\n",
    "Load and prepare all the data for the considered instruments (the first 35 stocks) which have historical information for more than 5 years. This means that all instruments with less than 5 years of history should be removed.\n",
    "\n",
    "</div>\n",
    "\n",
    "<div class=\"label label-success\">HINT</div> we suggest to open a terminal window (not on your local machine, but the Notebook terminal that you can find on the Jupyter dashboard) and visually check the contents of the directories holding our dataset, if you didn't do this before! Have a look at how stock data is organized!"
   ]
  },
  {
   "cell_type": "code",
   "execution_count": 143,
   "metadata": {
    "collapsed": false
   },
   "outputs": [
    {
     "name": "stdout",
     "output_type": "stream",
     "text": [
      "[(datetime.datetime(2016, 1, 22, 0, 0), 40.419998), (datetime.datetime(2016, 1, 21, 0, 0), 40.209999), (datetime.datetime(2016, 1, 20, 0, 0), 40.624999), (datetime.datetime(2016, 1, 19, 0, 0), 41.002722), (datetime.datetime(2016, 1, 15, 0, 0), 41.241285)]\n"
     ]
    }
   ],
   "source": [
    "from os import listdir\n",
    "from os.path import isfile, join\n",
    "\n",
    "stock_folder = base_folder + 'stocks'\n",
    "\n",
    "def process_stock_file(fname):\n",
    "    try:\n",
    "        return readYahooHistory(fname)\n",
    "    except Exception as e:\n",
    "        raise e\n",
    "        return None\n",
    "\n",
    "\n",
    "\n",
    "# select path of all stock data files in \"stock_folder\"\n",
    "files = [join(stock_folder, f) for f in listdir(stock_folder) if isfile(join(stock_folder, f))]\n",
    "\n",
    "# assume that we invest only the first 35 stocks (for faster computation)\n",
    "files = files[:35]\n",
    "\n",
    "# read each line in each file, convert it into the format: (date, value)\n",
    "rawStocks = [process_stock_file(f) for f in files]\n",
    "\n",
    "# select only instruments which have more than 5 years of history\n",
    "# Note: the number of business days in a year is 260\n",
    "number_of_years = 5\n",
    "rawStocks = list(filter(lambda instrument: len(instrument)>=5*260  , rawStocks))\n",
    "\n",
    "\n",
    "# For testing, print the first 5 entry of the first stock\n",
    "print(rawStocks[0][:5])\n",
    "\n"
   ]
  },
  {
   "cell_type": "markdown",
   "metadata": {},
   "source": [
    "### Time alignment for our data\n",
    "Different types of instruments may trade on different days, or the data may have missing values for other reasons, so it is important to make sure that our different histories align. First, we need to trim all of our time series to the same region in time. Then, we need to fill in missing values. To deal with time series that have missing values at the start and end dates in the time region, we simply fill in those dates with nearby values in the time region."
   ]
  },
  {
   "cell_type": "markdown",
   "metadata": {},
   "source": [
    "#### Question 4.4\n",
    "<div class=\"alert alert-info\">\n",
    "Assume that we only focus on the data from 23/01/2009 to 23/01/2014. Write a function named `trimToRegion` to select only the records in that time interval. \n",
    "\n",
    "<ul></ul>\n",
    "\n",
    "**Requirements**: after processing, each instrument $i$ has a list of records: $[r_0, r_2,...,r_{m_i}]$ such that $r_0$ and $r_{m_i}$ are assigned, respectively, the first and the last values corresponding to the extremes of the given time interval. For example: $r_0$ should contain the value at date 23/01/2009.\n",
    "</div>"
   ]
  },
  {
   "cell_type": "code",
   "execution_count": 144,
   "metadata": {
    "collapsed": false
   },
   "outputs": [
    {
     "name": "stdout",
     "output_type": "stream",
     "text": [
      "[(datetime.datetime(2009, 1, 23, 0, 0), 16.254108), (datetime.datetime(2009, 1, 26, 0, 0), 16.470275), (datetime.datetime(2009, 1, 27, 0, 0), 16.703071), (datetime.datetime(2009, 1, 28, 0, 0), 17.975132), (datetime.datetime(2009, 1, 29, 0, 0), 16.478589)]\n",
      "[(datetime.datetime(2014, 1, 16, 0, 0), 35.571935), (datetime.datetime(2014, 1, 17, 0, 0), 35.552912), (datetime.datetime(2014, 1, 21, 0, 0), 35.971404), (datetime.datetime(2014, 1, 22, 0, 0), 36.019202), (datetime.datetime(2014, 1, 23, 0, 0), 35.149312)]\n"
     ]
    }
   ],
   "source": [
    "# note that the data of crude oild and treasury is only available starting from 26/01/2006 \n",
    "start = datetime(year=2009, month=1, day=23)\n",
    "end = datetime(year=2014, month=1, day=23)\n",
    "\n",
    "def trimToRegion(history, start, end):\n",
    "    def isInTimeRegion(entry):\n",
    "        (date, value) = entry\n",
    "        return date >= start and date <= end\n",
    "\n",
    "    # only select entries which are in the time region\n",
    "    trimmed = list(filter(isInTimeRegion,history))\n",
    "    trimmed.reverse()\n",
    "    \n",
    "    # if the data has incorrect time boundaries, add time boundaries\n",
    "    if trimmed[0][0] != start:\n",
    "        trimmed.insert(0, (start, trimmed[0][1]))\n",
    "    if trimmed[-1][0] != end:\n",
    "        trimmed.append((end, trimmed[-1][1]))\n",
    "    return trimmed\n",
    "\n",
    "# test our function\n",
    "trimmedStock0  = trimToRegion(rawStocks[0], start, end)\n",
    "# the first 5 records of stock 0\n",
    "print(trimmedStock0[:5])\n",
    "# the last 5 records of stock 0\n",
    "print(trimmedStock0[-5:])\n",
    "\n",
    "assert(trimmedStock0[0][0] == start), \"the first record must contain the price in the first day of time interval\"\n",
    "assert(trimmedStock0[-1][0] == end), \"the last record must contain the price in the last day of time interval\""
   ]
  },
  {
   "cell_type": "markdown",
   "metadata": {},
   "source": [
    "### Dealing with missing values\n",
    "We expect that we have the price of instruments and factors **in each business day**. Unfortunately, there are many missing values in our data: this means that we miss data for some days, e.g. we have data for the Monday of a certain week, but not for the subsequent Tuesday. So, we need a function that helps filling these missing values.\n",
    "\n",
    "Next, we provide to you the function to fill missing value: read it carefully!"
   ]
  },
  {
   "cell_type": "code",
   "execution_count": 145,
   "metadata": {
    "collapsed": true
   },
   "outputs": [],
   "source": [
    "def fillInHistory(history, start, end):\n",
    "    curr = history\n",
    "    filled = []\n",
    "    idx = 0\n",
    "    curDate = start\n",
    "    numEntries = len(history)\n",
    "    while curDate <= end:\n",
    "        \n",
    "        # if the next entry is in the same day\n",
    "        # or the next entry is at the weekend\n",
    "        # but the curDate has already skipped it and moved to the next monday\n",
    "        # (only in that case, curr[idx + 1][0] < curDate )\n",
    "        # then move to the next entry\n",
    "        while idx + 1 < numEntries and curr[idx + 1][0] == curDate:\n",
    "            idx +=1\n",
    "\n",
    "        # only add the last value of instrument in a single day\n",
    "        # check curDate is weekday or not\n",
    "        # 0: Monday -> 5: Saturday, 6: Sunday\n",
    "        if curDate.weekday() < 5:\n",
    "            \n",
    "            filled.append((curDate, curr[idx][1]))\n",
    "            # move to the next business day\n",
    "            curDate += timedelta(days=1)\n",
    "        \n",
    "        # skip the weekends\n",
    "        if curDate.weekday() >= 5:\n",
    "            # if curDate is Sat, skip 2 days, otherwise, skip 1 day\n",
    "            curDate += timedelta(days=(7-curDate.weekday()))\n",
    "\n",
    "    return filled"
   ]
  },
  {
   "cell_type": "markdown",
   "metadata": {},
   "source": [
    "#### Question 4.5\n",
    "<div class=\"alert alert-info\">\n",
    "Trim data of stocks and factors into the given time interval.\n",
    "</div>"
   ]
  },
  {
   "cell_type": "code",
   "execution_count": 146,
   "metadata": {
    "collapsed": false
   },
   "outputs": [
    {
     "name": "stdout",
     "output_type": "stream",
     "text": [
      "the first 5 records of stock 0: [(datetime.datetime(2009, 1, 23, 0, 0), 16.254108), (datetime.datetime(2009, 1, 26, 0, 0), 16.470275), (datetime.datetime(2009, 1, 27, 0, 0), 16.703071), (datetime.datetime(2009, 1, 28, 0, 0), 17.975132), (datetime.datetime(2009, 1, 29, 0, 0), 16.478589)] \n",
      "\n",
      "the last 5 records of stock 0: [(datetime.datetime(2014, 1, 17, 0, 0), 35.552912), (datetime.datetime(2014, 1, 20, 0, 0), 35.552912), (datetime.datetime(2014, 1, 21, 0, 0), 35.971404), (datetime.datetime(2014, 1, 22, 0, 0), 36.019202), (datetime.datetime(2014, 1, 23, 0, 0), 35.149312)] \n",
      "\n",
      "the first 5 records of factor 0: [(datetime.datetime(2009, 1, 23, 0, 0), 46.47), (datetime.datetime(2009, 1, 26, 0, 0), 45.73), (datetime.datetime(2009, 1, 27, 0, 0), 41.58), (datetime.datetime(2009, 1, 28, 0, 0), 42.16), (datetime.datetime(2009, 1, 29, 0, 0), 41.44)] \n",
      "\n",
      "the first 5 records of factor 0: [(datetime.datetime(2014, 1, 17, 0, 0), 94.37), (datetime.datetime(2014, 1, 20, 0, 0), 93.93), (datetime.datetime(2014, 1, 21, 0, 0), 94.99), (datetime.datetime(2014, 1, 22, 0, 0), 96.73), (datetime.datetime(2014, 1, 23, 0, 0), 97.32)] \n",
      "\n"
     ]
    }
   ],
   "source": [
    "#print rawStocks[0]\n",
    "\n",
    "# trim into a specific time region\n",
    "# and fill up the missing values\n",
    "stocks = list(map(lambda stock: \\\n",
    "            fillInHistory(\n",
    "                trimToRegion(stock, start, end), \n",
    "            start, end), \n",
    "        rawStocks))\n",
    "\n",
    "\n",
    "\n",
    "# merge two factors, trim each factor into a time region\n",
    "# and fill up the missing values\n",
    "allfactors = factors1 + factors2\n",
    "factors = list(map(lambda factor:\n",
    "            fillInHistory(trimToRegion(factor,start,end),start,end), \n",
    "            allfactors\n",
    "            ))\n",
    "\n",
    "# test our code\n",
    "print(\"the first 5 records of stock 0:\", stocks[0][:5], \"\\n\")\n",
    "print(\"the last 5 records of stock 0:\", stocks[0][-5:], \"\\n\")\n",
    "print(\"the first 5 records of factor 0:\", factors[0][:5], \"\\n\")\n",
    "print(\"the first 5 records of factor 0:\", factors[0][-5:], \"\\n\")"
   ]
  },
  {
   "cell_type": "markdown",
   "metadata": {},
   "source": [
    "<div class=\"alert alert-warning\">\n",
    "According to the result, we found that at the end of the records, the entry with date 2014/1/23 is missing. The reason is that in the ```fillInHistory``` function, list ```filled``` only append the date before the ```curDate``` in each loop, so in the end we miss the last date. Thus we change the loop condition from ```curDate < end``` to ```curDate <= end``` to add one extra loop.\n",
    "</div>"
   ]
  },
  {
   "cell_type": "markdown",
   "metadata": {},
   "source": [
    "Recall that Value at Risk (VaR) deals with **losses over a particular time horizon**. We are not concerned with the absolute prices of instruments, but how those prices **change over** a given period of time. In our project, we will set that length to two weeks: we use the sliding window method to transform time series of prices into an overlapping sequence of price change over two-week intervals.\n",
    "\n",
    "The figure below illustrates this process. The returns of market factors after each two-week interval is calculated in the very same way.\n",
    "\n",
    "![](https://dl.dropboxusercontent.com/s/r9ucsicichb6gjh/two-week-time-interval.svg)"
   ]
  },
  {
   "cell_type": "code",
   "execution_count": 147,
   "metadata": {
    "collapsed": true
   },
   "outputs": [],
   "source": [
    "def buildWindow(seq, k=2):\n",
    "    \"Returns a sliding window (of width k) over data from iterable data structures\"\n",
    "    \"   s -> (s0,s1,...s[k-1]), (s1,s2,...,sk), ...                   \"\n",
    "    it = iter(seq)\n",
    "    result = tuple(islice(it, k))\n",
    "    if len(result) == k:\n",
    "        yield result  \n",
    "    for elem in it:\n",
    "        result = result[1:] + (elem,)\n",
    "        yield result"
   ]
  },
  {
   "cell_type": "markdown",
   "metadata": {},
   "source": [
    "#### Question 4.6\n",
    "<div class=\"alert alert-info\">\n",
    "Compute the returns of the stocks after each two-week time window.\n",
    "</div>"
   ]
  },
  {
   "cell_type": "code",
   "execution_count": 148,
   "metadata": {
    "collapsed": false
   },
   "outputs": [
    {
     "name": "stdout",
     "output_type": "stream",
     "text": [
      "the first 5 returns of stock 0: [0.9394960000000019, 0.4822190000000006, -0.6485020000000006, -1.3801449999999988, -0.08314100000000124]\n",
      "the last 5 returns of stock 0: [-1.264989, -0.6562720000000013, -0.34240400000000193, 0.3141109999999969, -0.8030690000000007]\n"
     ]
    }
   ],
   "source": [
    "def calculateReturn(window):\n",
    "    # return the change of value after two weeks\n",
    "    return window[-1][1] - window[0][1]\n",
    "\n",
    "def twoWeekReturns(history):\n",
    "    # we use 10 instead of 14 to define the window\n",
    "    # because financial data does not include weekends\n",
    "    return [calculateReturn(entry) for entry in buildWindow(history, 11)]\n",
    "\n",
    "stocksReturns = list(map(twoWeekReturns, stocks))\n",
    "factorsReturns = list(map(twoWeekReturns, factors))\n",
    "\n",
    "# test our functions\n",
    "print(\"the first 5 returns of stock 0:\", stocksReturns[0][:5])\n",
    "print(\"the last 5 returns of stock 0:\", stocksReturns[0][-5:])"
   ]
  },
  {
   "cell_type": "code",
   "execution_count": 149,
   "metadata": {
    "collapsed": false,
    "scrolled": false
   },
   "outputs": [
    {
     "data": {
      "image/png": "[encoded data removed]",
      "text/plain": [
       "<matplotlib.figure.Figure at 0x7f8ff9311c18>"
      ]
     },
     "metadata": {},
     "output_type": "display_data"
    },
    {
     "data": {
      "image/png": "[encoded data removed]",
      "text/plain": [
       "<matplotlib.figure.Figure at 0x7f8fb1b30978>"
      ]
     },
     "metadata": {},
     "output_type": "display_data"
    },
    {
     "data": {
      "image/png": "[encoded data removed]",
      "text/plain": [
       "<matplotlib.figure.Figure at 0x7f8fb31eb400>"
      ]
     },
     "metadata": {},
     "output_type": "display_data"
    },
    {
     "data": {
      "image/png": "[encoded data removed]",
      "text/plain": [
       "<matplotlib.figure.Figure at 0x7f8ff02b1400>"
      ]
     },
     "metadata": {},
     "output_type": "display_data"
    }
   ],
   "source": [
    "%matplotlib inline\n",
    "import matplotlib.pyplot as plt\n",
    "import numpy as np\n",
    "x=range(0,1295)\n",
    "plt.plot(x,factorsReturns[0])\n",
    "plt.show()\n",
    "plt.plot(x,factorsReturns[1])\n",
    "plt.show()\n",
    "plt.plot(x,factorsReturns[2])\n",
    "plt.show()\n",
    "plt.plot(x,factorsReturns[3])\n",
    "plt.show()"
   ]
  },
  {
   "cell_type": "markdown",
   "metadata": {},
   "source": [
    "<div class=\"alert alert-warning\">\n",
    "Here in order to calculate the return between Monday in 3rd week and Monday in 1st week, we change the window size to **11**.\n",
    "</div>"
   ]
  },
  {
   "cell_type": "markdown",
   "metadata": {},
   "source": [
    "Alright! Now we have data that is properly aligned to start the training process: stocks' returns and factors' returns, per time windows of two weeks. Next, we will apply the MCS method."
   ]
  },
  {
   "cell_type": "markdown",
   "metadata": {},
   "source": [
    "## 5.5. Summary guidelines to apply the MCS method on the data we prepared\n",
    "Next, we overview the steps that you have to follow to build a model of your data, and then use Monte Carlo simulations to produce output distributions:\n",
    "\n",
    "- **Step 1**: Defining the relationship between the market factors and the instrument's returns. This relationship takes the form of a model fitted to historical data.\n",
    "- **Step 2**: Defining the distributions for the market conditions (particularly, the returns of factors) that are straightforward to sample from. These distributions are fitted to historical data. \n",
    "- **Step 3**: Generate the data for each trial of a Monte Carlo run: this amount to generating the random values for market conditions along with these distributions.\n",
    "- **Step 4**: For each trial, from the above values of market conditions, and using the relationship built in step 1, we calculate the return for each instrument and the total return. We use the returns to define an empirical distribution over losses. This means that, if we run 100 trials and want to estimate the 5% VaR, we would choose it as the loss from the trial with the fifth greatest loss.\n",
    "- **Step 5**: Evaluating the result"
   ]
  },
  {
   "cell_type": "markdown",
   "metadata": {},
   "source": [
    "## 5.6. Applying MCS\n",
    "\n",
    "### Step 1: Defining relationship between market factors and instrument's returns\n",
    "\n",
    "In our simulation, we will use a simple linear model. By our definition of return, a factor return is a **change** in the value of a market factor **over a particular time period**, e.g. if the value of the S&P 500 moves from 2000 to 2100 over a time interval, its return would be 100.\n",
    "\n",
    "A vector that contains the return of 4 market factors is called a *market factor vector*. Generally, instead of using this vector as features, we derive a set of features from simple transformation of it. In particular, a vector of 4 values is transformed into a vector of length $m$ by function $F$. In the simplest case $F(v) = v$.\n",
    "\n",
    "Denote $v_t$ the market factor vector, and $f_t$ the transformed features of $v_t$ at time $t$.\n",
    "\n",
    "$f_{tj}$ is the value of feature $j$ in $f_t$.\n",
    "\n",
    "Denote $r_{it}$ the return of instrument $i$ at time $t$ and $c_i$ the [intercept term](http://blog.minitab.com/blog/adventures-in-statistics/regression-analysis-how-to-interpret-the-constant-y-intercept) of instrument $i$.\n",
    "\n",
    "We will use a simple linear function to calculate $r_{it}$ from $f_t$:\n",
    "\n",
    "$$\n",
    "r_{it} = c_i + \\sum_{j=1}^{m}{w_{ij}*f_{tj}}\n",
    "$$\n",
    "\n",
    "where $w_{ij}$ is the weight of feature $j$ for instrument $i$.\n",
    "\n",
    "All that above means that given a market factor vector, we have to apply featurization and then use the result as a surrogate for calculating the return of the instruments, using the above linear function.\n",
    "\n",
    "There are two questions that we should consider: **how we apply featurization to a factor vector?** and **how to pick values for $w_{ij}$?**\n",
    "\n",
    "**How we apply featurization to a factor vector?**\n",
    "In fact, the instruments' returns may be non-linear functions of the factor returns. So, we should not use factor returns as features in the above linear function. Instead, we transform them into a set of features with different size. In this Notebook, we can include some additional features in our model that we derive from non-linear transformations of the factor returns. We will try adding two more features for each factor return: its square and its square root values. So, we can still assume that our model is a linear model in the sense that the response variable is a linear function of the new features. *Note that the particular feature transformation described here is meant to be an illustrative example of some of the options that are available: it shouldn't be considered as the state of the art in predictive financial modeling!!*.\n",
    "\n",
    "**How to pick values for $w_{ij}$?**\n",
    "\n",
    "For all the market factor vectors in our historical data, we transform them to feature vectors. Now, we have feature vectors in many two-week intervals and the corresponding instrument's returns in these intervals. We can use Ordinary Least Square (OLS) regression model to estimate the weights for each instrument such that our linear function can fit to the data. The parameters for OLS function are:\n",
    "\n",
    "- `x`: The collection of columns where **each column** is the value of **a feature** in many two-week interval\n",
    "- `y`: The return of an instrument in the corresponding time interval of x."
   ]
  },
  {
   "cell_type": "markdown",
   "metadata": {},
   "source": [
    "The figure below shows the basic idea of the process to build a statistical model for predicting the returns of stock X.\n",
    "\n",
    "![](https://dl.dropboxusercontent.com/s/kbjtwmnr4w31uev/process-build-model3.svg)\n"
   ]
  },
  {
   "cell_type": "markdown",
   "metadata": {},
   "source": [
    "### Question 5\n",
    "#### Question 5.1\n",
    "\n",
    "<div class=\"alert alert-info\">\n",
    "Currently, our data is in form of:  \n",
    "\n",
    "$$\n",
    "factorsReturns=\n",
    "\\begin{bmatrix}\n",
    " r_{00} & r_{01} & r_{02} & ... & r_{0k} \\\\\n",
    " r_{10} & r_{11} & r_{12} & ... & r_{1k} \\\\\n",
    " ... & ... & ... & ... & ... \\\\\n",
    " r_{n0} & r_{n1} & r_{n2} & ... & r_{nk}\\\\\n",
    "\\end{bmatrix}\n",
    "$$\n",
    "\n",
    "<ul></ul>\n",
    "\n",
    "$$\n",
    "stocksReturns=\n",
    "\\begin{bmatrix}\n",
    " s_{00} & s_{01} & s_{02} & ... & s_{0k} \\\\\n",
    " s_{10} & s_{11} & s_{12} & ... & s_{1k} \\\\\n",
    " ... & ... & ... & ... & ... \\\\\n",
    " s_{n0} & s_{n1} & s_{n2} & ... & s_{nk}\\\\\n",
    "\\end{bmatrix}\n",
    "$$\n",
    "\n",
    "<ul></ul>\n",
    "\n",
    "Where, $r_{ij}$ is the return of factor $i^{th}$ in time window $j^{th}$, $k$ is the number of time windows, and $n$ is the number of factors. A similar definition goes for $s_{ij}$.\n",
    "\n",
    "<ul></ul>\n",
    "\n",
    "In order to use OLS, the parameter must be in form of:\n",
    "\n",
    "<ul></ul>\n",
    "\n",
    "$$\n",
    "x=factorsReturns^T =\n",
    "\\begin{bmatrix}\n",
    " r_{00} & r_{10} & ... & r_{n0} \\\\\n",
    " r_{01} & r_{11} & ... & r_{n1} \\\\\n",
    " r_{02} & r_{12} & ... & r_{n2}\\\\\n",
    " ... & ... & ... & ... \\\\\n",
    " r_{0k} & r_{1k} & ... & r_{nk}\\\\\n",
    "\\end{bmatrix}\n",
    "$$\n",
    "\n",
    "<ul></ul>\n",
    "\n",
    "Whereas, $y$ can be any row in `stocksReturns`.\n",
    "\n",
    "<ul></ul>\n",
    "\n",
    "So, we need a function to transpose a matrix. Write a function named `transpose` to do just that.\n",
    "</div>"
   ]
  },
  {
   "cell_type": "code",
   "execution_count": 150,
   "metadata": {
    "collapsed": true
   },
   "outputs": [],
   "source": [
    "def transpose(matrix):\n",
    "    return [ [ row[i] for row in matrix ] for i in range(len(matrix[0])) ]\n",
    "    \n",
    "# test function\n",
    "assert (transpose([[1,2,3], [4,5,6], [7,8,9]]) == [[1, 4, 7], [2, 5, 8], [3, 6, 9]]), \"Function transpose runs incorrectly\""
   ]
  },
  {
   "cell_type": "markdown",
   "metadata": {},
   "source": [
    "#### Question 5.2\n",
    "<div class=\"alert alert-info\">\n",
    "Write a function named `featurize` that takes a list factor's returns $[x_1, x_2,...,x_k]$ and transform it into a new list of features $[u_1,u_2,..,u_k, v_1, v_2,..,v_k, x_1,x_2,...,x_k]$.\n",
    "\n",
    "<ul></ul>\n",
    "\n",
    "Where,  \n",
    "\n",
    "\n",
    "$u_i$ = $\\left\\{\n",
    "\t\\begin{array}{ll}\n",
    "\t\tx_i^2 & \\mbox{if } x_i \\geq 0 \\\\\n",
    "\t\t-x_i^2 & \\mbox{if } x_i < 0\n",
    "\t\\end{array}\n",
    "\\right.\n",
    "$\n",
    "\n",
    "<ul></ul>\n",
    "\n",
    "and  \n",
    "\n",
    "$v_i$ = $\\left\\{\n",
    "\t\\begin{array}{ll}\n",
    "\t\t\\sqrt{x_i} & \\mbox{if } x_i \\geq 0 \\\\\n",
    "\t\t-\\sqrt{x_i} & \\mbox{if } x_i < 0\n",
    "\t\\end{array}\n",
    "\\right.\n",
    "$  \n",
    "\n",
    "</div>"
   ]
  },
  {
   "cell_type": "code",
   "execution_count": 151,
   "metadata": {
    "collapsed": false
   },
   "outputs": [],
   "source": [
    "import numpy as np\n",
    "\n",
    "def featurize(factorReturns):\n",
    "    try:\n",
    "        factorReturns = factorReturns.tolist()\n",
    "    except:\n",
    "        pass        \n",
    "    squaredReturns = [item*abs(item) for item in factorReturns]\n",
    "    squareRootedReturns = [abs(item)**0.5*np.sign(item) for item in factorReturns]\n",
    "    # concat new features\n",
    "    return squaredReturns + squareRootedReturns + factorReturns\n",
    "\n",
    "# test our function\n",
    "assert (featurize([4, -9, 25]) == [16, -81, 625, 2, -3, 5, 4, -9, 25]), \"Function runs incorrectly\""
   ]
  },
  {
   "cell_type": "markdown",
   "metadata": {},
   "source": [
    "#### Question 5.3\n",
    "<div class=\"alert alert-info\">\n",
    "Using OLS, estimate the weights for each feature on each stock. What is the shape of `weights` (size of each dimension)?  \n",
    "\n",
    "Explain it.\n",
    "</div>"
   ]
  },
  {
   "cell_type": "code",
   "execution_count": 152,
   "metadata": {
    "collapsed": false,
    "scrolled": true
   },
   "outputs": [
    {
     "name": "stdout",
     "output_type": "stream",
     "text": [
      "shape of y: (29, 1295)\n",
      "shape of x: (1295, 13)\n",
      "shape of weight: (13,)\n",
      "weights: [array([  2.88192428e-02,  -5.00311009e-04,  -7.25092298e+00,\n",
      "         1.54593304e-04,  -3.30091223e-05,   8.42147655e-02,\n",
      "        -1.39087038e+00,   1.53302386e-02,  -4.97845754e-02,\n",
      "        -3.26244248e-02,   4.66207848e+00,   4.32089053e-03,\n",
      "         9.17385295e-03]), array([ -9.59393036e-02,   2.62814783e-04,  -5.10959356e+00,\n",
      "         2.28770862e-04,  -3.83523509e-05,   1.29859417e-01,\n",
      "         1.85755258e-01,   9.35501561e-02,  -2.60301484e-02,\n",
      "        -5.82309160e-02,   2.82255548e+00,  -3.22699231e-02,\n",
      "         2.70377868e-02]), array([ -1.60547278e-02,   2.79286113e-03,  -2.25304715e+00,\n",
      "         6.32857594e-05,  -1.84056591e-05,   5.08734644e-02,\n",
      "        -3.33867085e-01,   3.64490486e-03,  -1.26993626e-02,\n",
      "        -5.75866542e-02,   1.35935505e+00,  -2.00754208e-03,\n",
      "         4.21555043e-03]), array([ -1.61697098e+00,  -6.83802476e-02,  -3.01256199e+01,\n",
      "         3.18457848e-04,  -5.13919770e-05,  -3.52419273e+00,\n",
      "        -4.95427690e+00,  -4.71017046e-01,   4.13068727e-01,\n",
      "         2.01764480e+00,   1.67638678e+01,   4.55259206e-02,\n",
      "         1.14875221e-02]), array([ -1.23170858e-01,   6.25610384e-03,   4.25257003e+00,\n",
      "        -7.62088729e-05,   4.00337809e-05,   2.69776391e-01,\n",
      "         7.43747142e-01,   9.86921043e-02,  -1.95935587e-02,\n",
      "        -1.54694502e-01,  -1.61209085e+00,  -2.55443296e-02,\n",
      "         1.00973750e-02]), array([ -2.76020237e-01,  -2.24681330e-02,   1.34502012e+01,\n",
      "         1.00663037e-03,  -2.18525323e-04,   4.51371095e-02,\n",
      "         1.31415310e+00,   5.36427441e-01,  -4.86814089e-01,\n",
      "         3.60282463e-01,  -8.18985631e+00,  -1.81741574e-01,\n",
      "         8.76129218e-02]), array([  5.55238871e-02,   2.94941532e-03,  -5.12959291e-02,\n",
      "        -1.31947595e-04,   1.89460010e-05,   1.77434473e-01,\n",
      "        -2.00712979e-01,  -2.82165955e-02,   1.98079039e-02,\n",
      "        -1.04398906e-01,   5.45705181e-02,   1.65472148e-02,\n",
      "        -1.74428659e-03]), array([  3.77310531e-03,   4.16775370e-03,   1.10433157e+00,\n",
      "         1.29265455e-05,  -1.93654349e-05,   5.79620278e-02,\n",
      "        -2.34305834e-01,   2.07358737e-02,  -2.06221133e-03,\n",
      "        -6.16764281e-02,   4.12096936e-01,  -1.83277622e-03,\n",
      "         4.36279484e-03]), array([ -5.44932425e-01,   2.92001452e-02,   3.03610926e+01,\n",
      "         1.27498090e-03,  -2.83030720e-04,   4.95156539e-01,\n",
      "         1.18131736e+00,   1.02126750e-01,  -1.40251150e-01,\n",
      "        -4.12444898e-01,  -1.06923127e+01,  -7.78486076e-02,\n",
      "         6.61078125e-02]), array([ -2.07944593e-03,   1.04324669e-02,   1.31492092e+01,\n",
      "         2.36947303e-04,  -2.63298684e-05,   5.03425729e-01,\n",
      "         2.76622061e+00,  -7.58215855e-02,   8.51339581e-02,\n",
      "        -2.93528419e-01,  -1.11299094e+01,   2.35995000e-02,\n",
      "        -1.14418794e-03]), array([  2.63609234e-02,  -6.65749217e-03,   2.71095637e+00,\n",
      "        -2.20928699e-04,   4.39661455e-05,  -2.48394113e-01,\n",
      "         8.02677000e-01,  -7.31933731e-02,   3.81971679e-02,\n",
      "         1.53733792e-01,  -2.14747553e+00,   3.30754194e-02,\n",
      "        -2.87326674e-03]), array([ -1.83949693e-01,   9.05383098e-04,   9.18702178e+00,\n",
      "        -4.50914194e-05,  -2.62622135e-05,   2.19095146e-03,\n",
      "         5.09822653e-01,   5.12582676e-03,  -5.71396158e-02,\n",
      "        -1.09381702e-02,  -2.30547039e+00,  -6.60116551e-03,\n",
      "         1.76624294e-02]), array([ -6.62350147e-03,   5.14611554e-04,  -2.16902078e+00,\n",
      "         7.68969027e-05,  -1.45199767e-05,   5.76639189e-02,\n",
      "        -1.53116530e-01,   1.69725956e-02,  -2.42831251e-02,\n",
      "        -1.34329990e-02,   1.11814055e+00,  -4.86278314e-03,\n",
      "         3.66394768e-03]), array([ -1.22418118e-01,  -4.09491617e-04,   4.25399180e+00,\n",
      "         2.57752313e-04,  -5.70813897e-05,  -2.33220442e-02,\n",
      "        -1.33566887e-01,  -5.03269419e-03,   6.12618868e-03,\n",
      "         3.49249358e-03,  -1.59890762e+00,   2.63004249e-03,\n",
      "         1.15164023e-02]), array([ -3.82666471e-02,   5.10883504e-04,  -6.78059728e-01,\n",
      "         1.08437548e-04,  -2.46623999e-05,   1.54611371e-02,\n",
      "        -3.37729613e-01,   3.24017675e-02,  -2.03024098e-02,\n",
      "        -1.50116236e-02,   9.63225514e-01,  -7.09387913e-03,\n",
      "         5.47638245e-03]), array([ -2.20892120e-03,  -1.72729030e-03,  -2.12709174e+00,\n",
      "         2.65214503e-05,   6.93594643e-06,   9.66328980e-03,\n",
      "        -3.65379034e-01,  -3.56353118e-03,   1.87544015e-02,\n",
      "         2.23118377e-02,   1.42183534e+00,  -7.59821884e-03,\n",
      "         9.80219775e-04]), array([ -4.47263847e-02,  -4.13355413e-04,   2.61188022e+00,\n",
      "        -1.10508658e-04,   2.20262641e-05,   3.10573295e-02,\n",
      "         3.17629963e-02,  -1.34463434e-02,   1.83261801e-02,\n",
      "        -1.05590868e-02,  -6.21596550e-01,   1.05469405e-02,\n",
      "        -3.67964316e-03]), array([ -1.62865002e-02,  -8.22359302e-04,   1.64570386e+00,\n",
      "        -1.20889839e-05,   3.92575619e-06,  -3.14610775e-02,\n",
      "         2.98210649e-01,  -6.49705174e-03,   2.03211299e-02,\n",
      "         2.55073970e-02,  -9.94424470e-01,   2.25431060e-03,\n",
      "        -5.45762039e-04]), array([  6.77055212e-03,  -1.33575749e-03,  -2.73495695e-01,\n",
      "         5.69216900e-05,  -9.35261720e-06,  -5.26231830e-02,\n",
      "        -1.32821148e-02,   1.50638043e-02,  -1.03561755e-02,\n",
      "         4.65353508e-02,  -2.52455707e-01,  -7.53474492e-03,\n",
      "         4.44488298e-03]), array([ -1.22554300e-02,   6.19263667e-05,  -1.98358064e+00,\n",
      "         1.09438644e-04,  -3.14450176e-05,   1.54032801e-02,\n",
      "        -7.78998462e-01,  -9.49430361e-03,  -1.38128166e-02,\n",
      "        -1.48215370e-02,   2.08575989e+00,   6.95641300e-03,\n",
      "         6.93636079e-03]), array([ -4.39945044e-02,   9.35682237e-04,  -5.05597353e-01,\n",
      "         4.76910010e-05,  -8.55999172e-06,   2.22074849e-02,\n",
      "        -3.67647735e-01,   9.71469806e-03,  -9.31070279e-03,\n",
      "        -1.77544499e-02,   5.97953996e-01,   1.48062440e-03,\n",
      "         1.97828651e-03]), array([ -1.20845349e-02,  -2.43811820e-04,  -5.42034887e-01,\n",
      "         4.03725441e-05,  -4.05386240e-06,   3.16138037e-03,\n",
      "        -9.72233063e-02,   2.53162229e-02,  -5.71595768e-03,\n",
      "        -7.51468742e-04,   3.61104673e-01,  -5.48371494e-03,\n",
      "         9.15978680e-04]), array([ -5.20826316e-02,   4.30995974e-03,   3.14474226e-01,\n",
      "         1.02991232e-04,  -3.07981214e-05,   1.23614578e-01,\n",
      "        -9.19551426e-01,   2.65387372e-02,  -3.16888051e-02,\n",
      "        -7.43226173e-02,   2.65953434e+00,  -9.61714552e-03,\n",
      "         8.94943884e-03]), array([ -1.43648399e-02,  -1.01968569e-03,   9.35786927e-01,\n",
      "         1.42378306e-04,  -2.86870148e-05,  -4.24461076e-02,\n",
      "         1.57554110e-01,   5.81901757e-02,  -3.20358012e-02,\n",
      "         5.12201183e-03,  -7.93688103e-01,  -1.45175598e-02,\n",
      "         8.29474631e-03]), array([  1.71123893e-02,  -9.87944572e-04,   3.22103090e+00,\n",
      "         5.89134499e-05,  -2.37093378e-06,  -1.81233102e-02,\n",
      "         7.35820701e-01,   2.85401949e-02,   9.18934072e-03,\n",
      "         2.79056798e-02,  -2.56380069e+00,  -8.62043441e-03,\n",
      "        -2.58190852e-04]), array([  3.53398657e-02,   9.78722072e-04,  -4.03040100e-01,\n",
      "        -1.89158295e-05,  -1.71629985e-07,  -3.62530813e-02,\n",
      "        -4.81295928e-01,  -1.12438892e-02,   1.13191136e-02,\n",
      "         6.92963364e-03,   7.68404515e-01,   3.59644226e-03,\n",
      "         1.34279683e-03]), array([  1.45058096e-03,  -1.76222672e-05,   1.84488382e+01,\n",
      "        -4.63494344e-04,   1.80351417e-05,   1.78825056e-01,\n",
      "         2.04741752e+00,  -2.27841412e-01,   7.98844025e-03,\n",
      "        -5.39414264e-02,  -9.64608946e+00,   9.62590523e-02,\n",
      "        -5.07899883e-03]), array([  4.41214708e-01,   2.29505974e-02,   1.88623379e+01,\n",
      "        -7.32894459e-04,   1.94729865e-04,   1.46343512e-01,\n",
      "         2.14520448e+00,  -9.77030610e-02,   1.05387469e-01,\n",
      "        -3.18260437e-01,  -1.03559568e+01,   1.31829758e-01,\n",
      "        -3.37239460e-02]), array([ -1.25014459e-01,  -3.20482201e-03,  -8.45705688e+00,\n",
      "         3.48454807e-04,  -5.99452434e-05,  -5.52326082e-02,\n",
      "        -2.71914432e-01,   6.25635441e-02,  -5.14586109e-02,\n",
      "         6.81897537e-02,   2.18154057e+00,  -9.25365234e-03,\n",
      "         9.15474780e-03])]\n"
     ]
    }
   ],
   "source": [
    "def estimateParams(y, x):\n",
    "    \n",
    "    return sm.OLS(y, x).fit().params\n",
    "\n",
    "# transpose factorsReturns\n",
    "factorMat = transpose(factorsReturns)\n",
    "\n",
    "# featurize each row of factorMat\n",
    "factorFeatures = list(map(featurize,factorMat))\n",
    "\n",
    "# OLS require parameter is a numpy array\n",
    "factor_columns = np.array(factorFeatures)\n",
    "\n",
    "#add a constant - the intercept term for each instrument i.\n",
    "factor_columns = sm.add_constant(factor_columns, prepend=True)\n",
    "\n",
    "# estimate weights\n",
    "weights = [estimateParams(stockReturns, factor_columns) for stockReturns in stocksReturns]\n",
    "\n",
    "print (\"shape of y:\",np.shape(stocksReturns))\n",
    "\n",
    "print (\"shape of x:\",np.shape(factor_columns))\n",
    "print (\"shape of weight:\",np.shape(weights[0]))\n",
    "print (\"weights:\", weights)\n",
    "\n",
    "\n"
   ]
  },
  {
   "cell_type": "markdown",
   "metadata": {},
   "source": [
    "<div class=\"alert alert-warning\">\n",
    "\n",
    "For each dimension of weights, the size is (13,). The total size of weights is (29,13), for the reason that there are 29 stocks in total. In this OLS model, x is ```factor_columns```, the size of which is (1295,13); and y is 1 row of  ```stocksReturns```, with the size (1295,).\n",
    "So in th least square regression process, the linear model can be represented as y<sub>(1295,)</sub> = x<sub>(1295,13)</sub> * w<sub>(13,)</sub>\n",
    "\n",
    "</div>"
   ]
  },
  {
   "cell_type": "markdown",
   "metadata": {},
   "source": [
    "### Step 2: Defining the distributions for the market conditions\n",
    "Since we cannot define the distributions for the market factors directly, we can only approximate their distribution.\n",
    "The best way to do that, is plotting their value. However, these values may fluctuate quite a lot. \n",
    "\n",
    "Next, we show how to use the Kernel density estimation (KDE) technique to approximate such distributions. In brief, kernel density estimation is a way of smoothing out a histogram: this is achieved by assigning (or centering) a probability distribution (usually a normal distribution) to each data point, and then summing. So, a set of two-week-return samples would result in a large number of \"super-imposed\" normal distributions, each with a different mean. \n",
    "\n",
    "To estimate the probability density at a given point, KDE evaluates the PDFs of all the normal distributions at that point and takes their average. The smoothness of a kernel density plot depends on its *bandwidth*, and the standard deviation of each of the normal distributions. For a brief introduction on KDE, please refer to this [link](https://en.wikipedia.org/wiki/Kernel_density_estimation)."
   ]
  },
  {
   "cell_type": "code",
   "execution_count": 153,
   "metadata": {
    "collapsed": false,
    "scrolled": false
   },
   "outputs": [
    {
     "data": {
      "image/png": "[encoded data removed]",
      "text/plain": [
       "<matplotlib.figure.Figure at 0x7f8ff80a6128>"
      ]
     },
     "metadata": {},
     "output_type": "display_data"
    },
    {
     "data": {
      "image/png": "[encoded data removed]",
      "text/plain": [
       "<matplotlib.figure.Figure at 0x7f8ff807c320>"
      ]
     },
     "metadata": {},
     "output_type": "display_data"
    },
    {
     "data": {
      "image/png": "[encoded data removed]",
      "text/plain": [
       "<matplotlib.figure.Figure at 0x7f8fb3641550>"
      ]
     },
     "metadata": {},
     "output_type": "display_data"
    },
    {
     "data": {
      "image/png": "[encoded data removed]",
      "text/plain": [
       "<matplotlib.figure.Figure at 0x7f8fb26c0f28>"
      ]
     },
     "metadata": {},
     "output_type": "display_data"
    }
   ],
   "source": [
    "from statsmodels.nonparametric.kernel_density import KDEMultivariate\n",
    "from statsmodels.nonparametric.kde import KDEUnivariate\n",
    "import matplotlib.pyplot as plt\n",
    "import scipy\n",
    "\n",
    "def plotDistribution(samples):\n",
    "    vmin = min(samples)\n",
    "    vmax = max(samples)\n",
    "    stddev = np.std(samples)\n",
    "    \n",
    "    domain = np.arange(vmin, vmax, (vmax-vmin)/100)\n",
    "    \n",
    "    # a simple heuristic to select bandwidth\n",
    "    bandwidth = 1.06 * stddev * pow(len(samples), -.2)\n",
    "    \n",
    "    # estimate density\n",
    "    kde = KDEUnivariate(samples)\n",
    "    kde.fit(bw=bandwidth)\n",
    "    density = kde.evaluate(domain)\n",
    "    \n",
    "    # plot\n",
    "    plt.plot(domain, density)\n",
    "    plt.show()\n",
    "\n",
    "plotDistribution(factorsReturns[0])\n",
    "plotDistribution(factorsReturns[1])\n",
    "plotDistribution(factorsReturns[2])\n",
    "plotDistribution(factorsReturns[3])"
   ]
  },
  {
   "cell_type": "markdown",
   "metadata": {},
   "source": [
    "For the sake of simplicity, we can say that our smoothed versions of the returns of each factor can be represented quite well by a normal distribution. Of course, more exotic distributions, perhaps with fatter tails, could fit more closely the data, but it is outside the scope of this Notebook to proceed in this way.\n",
    "\n",
    "Now, the simplest way to sample factors returns is to use a normal distribution for each of the factors, and sample from these distributions independently. However, this approach ignores the fact that market factors are often correlated. For example, when the price of crude oil is down, the price of treasury bonds is down too. We can check our data to verify about the correlation."
   ]
  },
  {
   "cell_type": "markdown",
   "metadata": {},
   "source": [
    "![](https://farm2.staticflickr.com/1604/24934700445_833f0a5649_t.jpg)"
   ]
  },
  {
   "cell_type": "markdown",
   "metadata": {},
   "source": [
    "### Question 6\n",
    "\n",
    "#### Question 6.1\n",
    "<div class=\"alert alert-info\">\n",
    "\n",
    "Calculate the correlation between market factors and explain the result.\n",
    "\n",
    "</div>\n",
    "\n",
    "<div class=\"label label-success\">HINT</div> function `np.corrcoef` might be useful."
   ]
  },
  {
   "cell_type": "code",
   "execution_count": 99,
   "metadata": {
    "collapsed": false
   },
   "outputs": [
    {
     "data": {
      "text/plain": [
       "array([[ 1.        ,  0.39726379,  0.46510228,  0.45118714],\n",
       "       [ 0.39726379,  1.        ,  0.58771358,  0.5879905 ],\n",
       "       [ 0.46510228,  0.58771358,  1.        ,  0.9514752 ],\n",
       "       [ 0.45118714,  0.5879905 ,  0.9514752 ,  1.        ]])"
      ]
     },
     "execution_count": 99,
     "metadata": {},
     "output_type": "execute_result"
    }
   ],
   "source": [
    "correlation = np.corrcoef(factorsReturns)\n",
    "correlation"
   ]
  },
  {
   "cell_type": "markdown",
   "metadata": {},
   "source": [
    "<div class=\"alert alert-warning\">\n",
    "\n",
    "According to the correlation calculated above, the relationship between any two fators is positive correlation. So when one factor increase(decrease), the other 3 factors will increase(decrease) accordingly.  \n",
    "  \n",
    "Also, the largest correlation value is between factor3(```GSPC value```) and factor4(```IXIC value```): 0.9514752, which means \n",
    "these two factors has a strong relationship, which means the effect of these two factors on investment is quite similar. So, in the view of dimension reduction, we can just keep one of these two factors and introduce other factors .  \n",
    "\n",
    "The least correlation value is between factor1(```crude oil price```) and factor2(```treasury bonds```), which means there are low correlation between these two values.\n",
    "\n",
    "\n",
    "</div>"
   ]
  },
  {
   "cell_type": "markdown",
   "metadata": {},
   "source": [
    "The multivariate normal distribution can help here by taking the correlation information between the factors into account. Each sample from a multivariate normal distribution can be thought of as a vector. Given values for all of the dimensions but one, the distribution of values along that dimension is normal. But, in their joint distribution, the variables are not independent.\n",
    "\n",
    "For this use case, we can write:\n",
    "\n",
    "$$\n",
    "\\left(\\begin{array}{c}f_{1}\\\\f_{2}\\\\f_{3}\\\\f_{4} \\end{array}\\right)\n",
    "\\sim N \n",
    "\\left[\n",
    "  \\left(\n",
    "    \\begin{array}{c}\n",
    "      \\mu_1\\\\ \\mu_2 \\\\ \\mu_3 \\\\ \\mu_4 \n",
    "    \\end{array}\n",
    "  \\right), \n",
    "  \\left(\n",
    "    \\begin{array}{cccc}\n",
    "      \\sigma^2_1 & \\rho_{12} \\sigma_1\\sigma_2 & \\rho_{13} \\sigma_1\\sigma_3 & \\rho_{14} \\sigma_1\\sigma_4 \\\\ \n",
    "      \\rho_{12}\\sigma_2\\sigma_1 & \\sigma^2_2 & \\rho_{23} \\sigma_2\\sigma_3 & \\rho_{24} \\sigma_2\\sigma_4\\\\\n",
    "      \\rho_{13} \\sigma_3\\sigma_1 & \\rho_{23} \\sigma_3\\sigma_2 & \\sigma^2_3 & \\rho_{34} \\sigma_3\\sigma_4 \\\\ \n",
    "      \\rho_{14} \\sigma_4\\sigma_1 & \\rho_{24} \\sigma_4\\sigma_2 & \\rho_{34} \\sigma_3\\sigma_4 & \\sigma_4^2 \\\\ \n",
    "    \\end{array}\n",
    "  \\right)\n",
    "\\right]\n",
    "$$\n",
    "\n",
    "Or,\n",
    "\n",
    "$$\n",
    "f_t \\sim N(\\mu, \\sum)\n",
    "$$\n",
    "\n",
    "Where $f_1$, $f_2$, $f_3$ and $f_4$ are the market factors, $\\sigma_i$ is the standard deviation of factor $i$, $\\mu$ is a vector of the empirical means of the returns of the factors and $\\sum$ is the empirical covariance matrix of the returns of the factors.\n",
    "\n",
    "The multivariate normal is parameterized with a mean along each dimension and a matrix describing the covariance between each pair of dimensions. When the covariance matrix is diagonal, the multivariate normal reduces to sampling along each dimension independently, but placing non-zero values in the off-diagonals helps capture the relationships between variables. Whenever having the mean of this multivariate normal distribution and its covariance matrix, we can generate the sample values for market factors.\n",
    "\n",
    "Next, we will calculate the mean and the covariance matrix of this multivariate normal distribution from the historical data.\n"
   ]
  },
  {
   "cell_type": "markdown",
   "metadata": {},
   "source": [
    "#### Question 6.2\n",
    "<div class=\"alert alert-info\">\n",
    "\n",
    "Calculate the covariance matrix $\\sum$ and the means $\\mu$ of factors' returns then generate a random vector of factors return that follows a multivariate normal distribution $\\sim N(\\mu, \\sum)$\n",
    "\n",
    "</div>\n",
    "\n",
    "<div class=\"label label-success\">HINT</div>\n",
    "Function `np.cov` can help calculating covariance matrix. Function `np.random.multivariate_normal(<mean>, <cov>)` is often used for generating samples."
   ]
  },
  {
   "cell_type": "code",
   "execution_count": 100,
   "metadata": {
    "collapsed": false
   },
   "outputs": [
    {
     "name": "stdout",
     "output_type": "stream",
     "text": [
      "factorReturnCov: [[  2.25294272e+01   2.92220983e-01   8.36637914e+01   1.86380490e+02]\n",
      " [  2.92220983e-01   2.40167749e-02   3.45173200e+00   7.93042222e+00]\n",
      " [  8.36637914e+01   3.45173200e+00   1.43624322e+03   3.13819645e+03]\n",
      " [  1.86380490e+02   7.93042222e+00   3.13819645e+03   7.57420954e+03]]\n",
      "factorReturnMeans: [0.4024478764478773, -0.0031868725868725786, 7.712640781467181, 20.77304187953668]\n",
      "sample: [[ -5.26341330e-01  -1.59343147e-02  -2.32465942e+01  -6.83832633e+01]\n",
      " [ -4.21532313e+00   8.38534511e-02  -2.56283270e+01  -7.75688420e+01]\n",
      " [  5.77973954e+00   1.42894557e-02  -7.58397451e+00  -1.44179478e+01]\n",
      " [ -4.17710909e+00   1.55657909e-01   1.29425344e+01   1.39283778e+01]\n",
      " [  6.68563535e+00  -1.04552082e-02   3.33611477e+01   9.90887959e+01]\n",
      " [ -1.46937136e+00  -9.33798244e-02  -2.82143311e+01  -8.10450840e+01]\n",
      " [ -3.45241494e+00  -1.37597018e-01  -1.67204370e+01  -3.79455491e+01]\n",
      " [  9.83953292e+00  -5.06911487e-02   2.30873412e+01   4.49421541e+01]\n",
      " [ -3.14707513e+00   1.09235209e-01   2.04095911e+01   3.42880484e+01]\n",
      " [ -4.58967255e+00  -2.98894643e-01  -6.32575946e+01  -1.72049869e+02]]\n"
     ]
    }
   ],
   "source": [
    "factorCov = np.cov(factorsReturns)\n",
    "factorMeans = [sum(factorReturns)/len(factorReturns) for factorReturns in factorsReturns]\n",
    "sample = np.random.multivariate_normal(factorMeans, factorCov,10)\n",
    "print(\"factorReturnCov:\",factorCov)\n",
    "print(\"factorReturnMeans:\",factorMeans)\n",
    "print(\"sample:\",sample)"
   ]
  },
  {
   "cell_type": "code",
   "execution_count": 101,
   "metadata": {
    "collapsed": false,
    "scrolled": false
   },
   "outputs": [
    {
     "name": "stdout",
     "output_type": "stream",
     "text": [
      "factorReturnCov: [[  2.25294272e+01   2.92220983e-01   8.36637914e+01   1.86380490e+02]\n",
      " [  2.92220983e-01   2.40167749e-02   3.45173200e+00   7.93042222e+00]\n",
      " [  8.36637914e+01   3.45173200e+00   1.43624322e+03   3.13819645e+03]\n",
      " [  1.86380490e+02   7.93042222e+00   3.13819645e+03   7.57420954e+03]]\n",
      "factorReturnMeans: [0.4024478764478773, -0.0031868725868725786, 7.712640781467181, 20.77304187953668]\n",
      "sample: [[  3.93574299e+00  -2.07986430e-02  -5.02555810e+01  -1.08693698e+02]\n",
      " [  1.07387888e+00   2.54139380e-02   6.07407249e+01   8.12249474e+01]\n",
      " [ -4.54847854e+00   1.28603317e-02   1.06856407e+01   5.54605873e+01]\n",
      " [ -4.39649761e+00   1.44710037e-01  -1.12629624e+01  -2.90525309e+01]\n",
      " [ -1.13313539e+01   4.66765023e-03  -7.33290813e+00  -1.42498108e+00]\n",
      " [  4.53003838e+00   7.27783915e-02   1.37153410e+01   8.59787328e+01]\n",
      " [  4.51276043e+00  -3.51578473e-02  -2.29569285e+01  -1.40771919e+01]\n",
      " [  2.48928587e-01  -6.31054642e-03  -1.97738888e+01  -6.57694551e+01]\n",
      " [ -3.75007689e-01  -1.60489666e-01  -1.93155785e+01  -5.64200259e+01]\n",
      " [  5.71284748e+00   8.49095253e-03   1.51652524e+01   8.28556327e+01]]\n",
      "sample_lognormal: [[  5.12001771e+01   9.79416157e-01   1.49375201e-22   6.23629912e-48]\n",
      " [  2.92670988e+00   1.02573963e+00   2.39530968e+26   1.88602064e+35]\n",
      " [  1.05832942e-02   1.01294338e+00   4.37234868e+04   1.21962703e+24]\n",
      " [  1.23204153e-02   1.15570441e+00   1.28397801e-05   2.41349363e-13]\n",
      " [  1.19910040e-05   1.00467856e+00   6.53669863e-04   2.40513015e-01]\n",
      " [  9.27621212e+01   1.07549217e+00   9.04684002e+05   2.18821106e+37]\n",
      " [  9.11731484e+01   9.65453010e-01   1.07135312e-10   7.69756299e-07]\n",
      " [  1.28265043e+00   9.93709323e-01   2.58409943e-09   2.73330811e-29]\n",
      " [  6.87283994e-01   8.51726625e-01   4.08649390e-09   3.14118901e-25]\n",
      " [  3.02731866e+02   1.00852710e+00   3.85642971e+06   9.63261252e+35]]\n"
     ]
    }
   ],
   "source": [
    "factorCov = np.cov(factorsReturns)\n",
    "factorMeans = [sum(factorReturns)/len(factorReturns) for factorReturns in factorsReturns]\n",
    "sample = np.random.multivariate_normal(factorMeans, factorCov,10)\n",
    "sample_lognormal = np.exp(sample)\n",
    "print(\"factorReturnCov:\",factorCov)\n",
    "print(\"factorReturnMeans:\",factorMeans)\n",
    "print(\"sample:\",sample)\n",
    "print(\"sample_lognormal:\",sample_lognormal)\n"
   ]
  },
  {
   "cell_type": "markdown",
   "metadata": {},
   "source": [
    "### Step 3&4: Generating samples, running simulation and calculating the VaR"
   ]
  },
  {
   "cell_type": "markdown",
   "metadata": {},
   "source": [
    "We define some functions that helps us calculating VaR 5%. You will see that the functions below are pretty complicated! This is why we provide a solution for you: however, study them well!!\n",
    "\n",
    "The basic idea of calculating VaR 5% is that we need to find a value such that only 5% of the losses are bigger than it. That means the 5th percentile of the losses should be VaR 5%.\n",
    "\n",
    "VaR can sometimes be problematic though, since it does give any information on the extent of the losses which can exceed the VaR estimate. CVar is an extension of VaR that is introduced to deal with this problem. Indeed, CVaR measures the expected value of the loss in those cases where VaR estimate has been exceeded."
   ]
  },
  {
   "cell_type": "code",
   "execution_count": 102,
   "metadata": {
    "collapsed": true
   },
   "outputs": [],
   "source": [
    "def fivePercentVaR(trials):\n",
    "    numTrials = trials.count()\n",
    "    topLosses = trials.takeOrdered(max(round(numTrials/20.0), 1))\n",
    "    return topLosses[-1]\n",
    "\n",
    "# an extension of VaR\n",
    "def fivePercentCVaR(trials):\n",
    "    numTrials = trials.count()\n",
    "    topLosses = trials.takeOrdered(max(round(numTrials/20.0), 1))\n",
    "    return sum(topLosses)/len(topLosses)\n",
    "\n",
    "def bootstrappedConfidenceInterval(\n",
    "      trials, computeStatisticFunction,\n",
    "      numResamples, pValue):\n",
    "    stats = []\n",
    "    for i in range(0, numResamples):\n",
    "        resample = trials.sample(True, 1.0)\n",
    "        stats.append(computeStatisticFunction(resample))\n",
    "    sorted(stats)\n",
    "    lowerIndex = int(numResamples * pValue / 2 - 1)\n",
    "    upperIndex = int(np.ceil(numResamples * (1 - pValue / 2)))\n",
    "    return (stats[lowerIndex], stats[upperIndex])"
   ]
  },
  {
   "cell_type": "markdown",
   "metadata": {},
   "source": [
    "Next, we will run the Monte Carlo simulation 10,000 times, in parallel using Spark. Since your cluster has 12 cores (two Spark worker nodes, each with 6 cores), we can set `parallelism = 12` to dispatch simulation on these cores, across the two machines (remember, those are not really \"physical machines\", they are Docker containers running in our infrastructure)."
   ]
  },
  {
   "cell_type": "markdown",
   "metadata": {},
   "source": [
    "### Question 7\n",
    "<div class=\"alert alert-info\">\n",
    "Complete the code below to define the simulation process and calculate VaR 5%.\n",
    "</div>"
   ]
  },
  {
   "cell_type": "code",
   "execution_count": 103,
   "metadata": {
    "collapsed": false
   },
   "outputs": [
    {
     "name": "stdout",
     "output_type": "stream",
     "text": [
      "Value at Risk(VaR) 5%: -28.362409534\n",
      "Conditional Value at Risk(CVaR) 5%: -36.4007946284\n"
     ]
    }
   ],
   "source": [
    "\n",
    "# RUN SILMULATION\n",
    "def simulateTrialReturns(numTrials, factorMeans, factorCov, weights):\n",
    "    trialReturns = []\n",
    "    \n",
    "    for i in range(0, numTrials):\n",
    "        # generate sample of factors' returns\n",
    "       \n",
    "        trialFactorReturns = np.random.multivariate_normal(factorMeans, factorCov)\n",
    "        print(trialFactorReturns)\n",
    "        # featurize the factors' returns\n",
    "        trialFeatures = featurize(trialFactorReturns)\n",
    "\n",
    "        # insert weight for intercept term\n",
    "        trialFeatures.insert(0,1)\n",
    "\n",
    "        trialTotalReturn = 0\n",
    "\n",
    "        # calculate the return of each instrument\n",
    "        # then calulate the total of return for this trial features        \n",
    "        trialTotalReturn = sum(np.dot(weights,trialFeatures))\n",
    "        trialReturns.append(trialTotalReturn)            \n",
    "    return trialReturns\n",
    "\n",
    "parallelism = 12\n",
    "numTrials = 10000\n",
    "trial_indexes = list(range(0, parallelism))\n",
    "seedRDD = sc.parallelize(trial_indexes, parallelism)\n",
    "#seedRDD : ParallelCollectionRDD\n",
    "#seedRDD.collect() : [0,1,2,3,4,5,6,7,8,9,10,11]\n",
    "bFactorWeights = sc.broadcast(weights)\n",
    "\n",
    "\n",
    "trials = seedRDD.flatMap(lambda idx:\\\n",
    "        simulateTrialReturns(max(int(numTrials/parallelism), 1),factorMeans, factorCov,bFactorWeights.value))\n",
    "\n",
    "trials.cache()\n",
    "\n",
    "valueAtRisk = fivePercentVaR(trials)\n",
    "conditionalValueAtRisk = fivePercentCVaR(trials)\n",
    "\n",
    "print (\"Value at Risk(VaR) 5%:\", valueAtRisk)\n",
    "print (\"Conditional Value at Risk(CVaR) 5%:\", conditionalValueAtRisk)\n"
   ]
  },
  {
   "cell_type": "markdown",
   "metadata": {},
   "source": [
    "The value of VaR depends on how many invested stocks and the chosen distribution of random variables. Assume that we get VaR 5% = -2.66,  that means that there is a 0.05 probability that the portfolio will fall in value by more than \\$2.66 over a two weeks' period if there is no trading. In other words, the loses are less than \\$2.66 over two weeks' period with 95% confidence level. When a loss over two weeks is more than \\$2.66, we call it **failure** (or **exception**). Informally, because of 5% probability, we expect that there are only $0.05*W$ failures out of total $W$ windows."
   ]
  },
  {
   "cell_type": "markdown",
   "metadata": {
    "collapsed": false
   },
   "source": [
    "### Step 5: Evaluating the results using backtesting method\n",
    "In general, the error in a Monte Carlo simulation should be proportional to 1/sqrt(n), where n is the number of trials. This means, for example, that quadrupling the number of trials should approximately cut the error in half. A good way to check the quality of a result is backtesting on historical data. Backtesting is a statistical procedure where actual losses are compared to the estimated VaR. For instance, if the confidence level used to calculate VaR is 95% (or VaR 5%), we expect only 5 failures over 100 two-week time windows.\n",
    "\n",
    "The most common test of a VaR model is counting the number of VaR failures, i.e., in how many windows, the losses exceed VaR estimate. If the number of exceptions is less than selected confidence level would indicate, the VaR model overestimates the risk. On the contrary, if there are too many exceptions, the risk is underestimated. However, it's very hard to observe the amount of failures suggested by the confidence level exactly. Therefore, people try to study whether the number of failures is reasonable or not, or will the model be accepted or rejected.\n",
    "\n",
    "One common test is Kupiec's proportion-of-failures (POF) test. This test considers how the portfolio performed at many historical time intervals and counts the number of times that the losses exceeded the VaR. The null hypothesis is that the VaR is reasonable, and a sufficiently extreme test statistic means that the VaR estimate does not accurately describe the data. The test statistic is computed as:\n",
    "\n",
    "$$\n",
    "-2ln\\Bigg(\\frac{(1-p)^{T-x}p^x}{(1-\\frac{x}{T})^{T-x}(\\frac{x}{T})^x}\\Bigg)\n",
    "$$\n",
    "\n",
    "where:\n",
    "\n",
    "$p$ is the quantile-of-loss of the VaR calculation (e.g., in VaR 5%, p=0.05),\n",
    "\n",
    "$x$ (the number of failures) is the number of historical intervals over which the losses exceeded the VaR \n",
    "\n",
    "$T$ is  the total number of historical intervals considered\n",
    "\n",
    "Or we can expand out the log for better numerical stability:\n",
    "\n",
    "$$\n",
    "\\begin{equation}\n",
    "-2\\Big((T-x)ln(1-p)+x*ln(p)-(T-x)ln(1-\\frac{x}{T})-x*ln(\\frac{x}{T})\\Big)\n",
    "\\end{equation}\n",
    "$$\n",
    "\n",
    "If we assume the null hypothesis that the VaR is reasonable, then this test statistic is drawn from a chi-squared distribution with a single degree of freedom. By using Chi-squared distribution, we can find the `p-value` accompanying our test statistic value.  If `p-value` exceeds the critical value of the Chi-squared distribution, we do have sufficient evidence to reject the null hypothesis that the model is reasonable. Or we can say, in that case, the model is considered as inaccurate.\n",
    "\n",
    "For example, assume that we calculate VaR 5% (the confidence level of the VaR model is 95%) and get value VaR = 2.26. We also observed 50 exceptions over 500 time windows. Using the formula above, the test statistic `p-value` is calculated and equal to `8.08`. Compared to `3.84`, the critical value of Chi-squared distribution with one degree of freedom at probability 5%, the test statistic is larger. So, the model is rejected. The critical values of Chi-squared can be found by following [this link](https://people.richland.edu/james/lecture/m170/tbl-chi.html).\n",
    "However, in this Notebook, it's not a good idea to find the corresponding critical value by looking in a \"messy\" table, especially when we need to change the confidence level. Instead, from `p-value`, we will calculate the probability of the test statistic in Chi-square thanks to some functions in package `scipy`. If the calculated probability is smaller than the quantile of loss (e.g, 0.05), the model is rejected and vice versa.\n"
   ]
  },
  {
   "cell_type": "markdown",
   "metadata": {},
   "source": [
    "### Question 8\n",
    "\n",
    "#### Question 8.1\n",
    "<div class=\"alert alert-info\">\n",
    "\n",
    "Write a function to calculate the number of failures, that is when the losses (in the original data) exceed the VaR.\n",
    "\n",
    "</div>\n",
    "\n",
    "<div class=\"label label-success\">HINT</div>\n",
    "<ul>\n",
    "  <li>First, we need to calculate the total loss in each 2-week time interval</li>\n",
    "  <li>If the total loss of a time interval exceeds VaR, then we say that our VaR fails to estimate the risk in that time interval</li>\n",
    "  <li>Return the number of failures</li>\n",
    "</ul>  \n",
    "\n",
    "<div class=\"label label-danger\">NOTE</div> The loss is often having negative value, so, be careful when compare it to VaR."
   ]
  },
  {
   "cell_type": "code",
   "execution_count": 104,
   "metadata": {
    "collapsed": true
   },
   "outputs": [],
   "source": [
    "from scipy import stats\n",
    "import math\n",
    "\n",
    "def countFailures(stocksReturns, valueAtRisk):\n",
    "    failures = 0\n",
    "    # iterate over time intervals\n",
    "    for i in range(0,len(stocksReturns[0])):\n",
    "        # calculate the losses in each time interval\n",
    "        loss = sum(row[i] for row in stocksReturns)\n",
    "        # if the loss exceeds VaR\n",
    "        if loss < valueAtRisk:\n",
    "            failures += 1\n",
    "    return failures"
   ]
  },
  {
   "cell_type": "markdown",
   "metadata": {},
   "source": [
    "#### Question 8.2\n",
    "<div class=\"alert alert-info\">\n",
    "\n",
    "Write a function named `kupiecTestStatistic` to calculate the test statistic which was described in the above equation.\n",
    "\n",
    "</div>"
   ]
  },
  {
   "cell_type": "code",
   "execution_count": 105,
   "metadata": {
    "collapsed": false
   },
   "outputs": [],
   "source": [
    "import math\n",
    "def kupiecTestStatistic(total, failures, confidenceLevel):\n",
    "    failureRatio = failures/total\n",
    "    logNumer = (total-failures)*math.log(1-confidenceLevel) + failures*math.log(confidenceLevel)\n",
    "    logDenom = (total-failures)*math.log(1-failureRatio)+failures*math.log(failureRatio)\n",
    "    return -2 * (logNumer - logDenom)\n",
    "\n",
    "# test the function\n",
    "assert (round(kupiecTestStatistic(250, 36, 0.1), 2) == 4.80), \"function kupiecTestStatistic runs incorrectly\""
   ]
  },
  {
   "cell_type": "markdown",
   "metadata": {},
   "source": [
    "Now we can find the p-value accompanying our test statistic value."
   ]
  },
  {
   "cell_type": "code",
   "execution_count": 106,
   "metadata": {
    "collapsed": false
   },
   "outputs": [
    {
     "name": "stdout",
     "output_type": "stream",
     "text": [
      "VaR confidence interval:  (-28.442327929505204, -28.317692657385621)\n",
      "CVaR confidence interval:  (-36.086719271129546, -36.105392746504826)\n",
      "num failures: 135\n",
      "Kupiec test probability:  3.48706285908e-15\n"
     ]
    }
   ],
   "source": [
    "def kupiecTestPValue(stocksReturns, valueAtRisk, confidenceLevel):\n",
    "    failures = countFailures(stocksReturns, valueAtRisk)\n",
    "    print(\"num failures:\", failures)\n",
    "    if failures == 0:\n",
    "        # the model is very good\n",
    "        return 1\n",
    "    total = len(stocksReturns[0])\n",
    "    testStatistic = kupiecTestStatistic(total, failures, confidenceLevel)\n",
    "    #return 1 - stats.chi2.cdf(testStatistic, 1.0)\n",
    "    return stats.chisqprob(testStatistic, 1.0)\n",
    "\n",
    "varConfidenceInterval = bootstrappedConfidenceInterval(trials, fivePercentVaR, 100, 0.05)\n",
    "cvarConfidenceInterval = bootstrappedConfidenceInterval(trials, fivePercentCVaR, 100, .05)\n",
    "print(\"VaR confidence interval: \" , varConfidenceInterval)\n",
    "print(\"CVaR confidence interval: \" , cvarConfidenceInterval)\n",
    "print(\"Kupiec test probability: \" , kupiecTestPValue(stocksReturns, valueAtRisk, 0.05))"
   ]
  },
  {
   "cell_type": "markdown",
   "metadata": {},
   "source": [
    "#### Question 8.3\n",
    "<div class=\"alert alert-info\">\n",
    "\n",
    "Discuss the results you have obtained\n",
    "\n",
    "</div>"
   ]
  },
  {
   "cell_type": "markdown",
   "metadata": {},
   "source": [
    "<div class=\"alert alert-warning\">\n",
    "\n",
    "In this whole part, first we used OLS method to generate the weights between y(stocksReturns) and x(factorReturns).  \n",
    "Then we did a 10,000 times' trials to generate the factors by normal distribution. By multiplying the new samples of factors and the weights we got the new stocksReturns.  \n",
    "Compared with the VaR we calculated before(-28.2174567991), we counted the total number of failures in the ```stocksReturns```, and use POF test to calculate statistic value of corresponding chi-square distribution, which is 6.84562493025e-16. Compared with the quantile of loss(0.05), the model ```should be rejected.```\n",
    "\n",
    "</div>"
   ]
  },
  {
   "cell_type": "markdown",
   "metadata": {},
   "source": [
    "### Question 9\n",
    "<div class=\"alert alert-info\">\n",
    "Assume that we invest in more than 100 stocks. Use the same market factors as for the previous questions to estimate VaR by running MCS, then validate your result.  \n",
    "\n",
    "What is the main observation you have, once you answer this question? When you plan to invest in more instruments, how is your ability to predict the risk going to be affected?\n",
    "</div>\n"
   ]
  },
  {
   "cell_type": "markdown",
   "metadata": {},
   "source": [
    "### Prepare stocks data"
   ]
  },
  {
   "cell_type": "code",
   "execution_count": 53,
   "metadata": {
    "collapsed": false
   },
   "outputs": [],
   "source": [
    "from os import listdir\n",
    "from os.path import isfile, join\n",
    "\n",
    "stock_folder = base_folder + 'stocks'\n",
    "\n",
    "def process_stock_file(fname):\n",
    "    try:\n",
    "        return readYahooHistory(fname)\n",
    "    except Exception as e:\n",
    "        raise e\n",
    "        return None\n",
    "\n",
    "\n",
    "# select path of all stock data files in \"stock_folder\"\n",
    "files = [join(stock_folder, f) for f in listdir(stock_folder) if isfile(join(stock_folder, f))]\n",
    "\n",
    "# assume that we invest the first 130 stocks \n",
    "files = files[:130]\n",
    "\n",
    "# read each line in each file, convert it into the format: (date, value)\n",
    "largeRawStocks = [process_stock_file(f) for f in files]\n",
    "\n",
    "# select only instruments which have more than 5 years of history\n",
    "number_of_years = 5\n",
    "largeRawStocks = list(filter(lambda instrument: len(instrument)>=5*260,rawStocks))\n",
    "# trim into a specific time region\n",
    "# and fill up the missing values\n",
    "largeStocks = list(map(lambda stock: \\\n",
    "            fillInHistory(\n",
    "                trimToRegion(stock, start, end), \n",
    "            start, end), \n",
    "        largeRawStocks))"
   ]
  },
  {
   "cell_type": "code",
   "execution_count": 54,
   "metadata": {
    "collapsed": false
   },
   "outputs": [
    {
     "name": "stdout",
     "output_type": "stream",
     "text": [
      "the first 5 returns of stock 0: [0.9394960000000019, 0.4822190000000006, -0.6485020000000006, -1.3801449999999988, -0.08314100000000124]\n",
      "the last 5 returns of stock 0: [-1.264989, -0.6562720000000013, -0.34240400000000193, 0.3141109999999969, -0.8030690000000007]\n"
     ]
    }
   ],
   "source": [
    "#calculate the return\n",
    "largeStocksReturns = list(map(twoWeekReturns, largeStocks))\n",
    "\n",
    "print(\"the first 5 returns of stock 0:\", largeStocksReturns[0][:5])\n",
    "print(\"the last 5 returns of stock 0:\", largeStocksReturns[0][-5:])"
   ]
  },
  {
   "cell_type": "markdown",
   "metadata": {},
   "source": [
    "### Calculate the weights using OLS algorithm"
   ]
  },
  {
   "cell_type": "code",
   "execution_count": 55,
   "metadata": {
    "collapsed": false
   },
   "outputs": [
    {
     "name": "stdout",
     "output_type": "stream",
     "text": [
      "shape of y: (29, 1295)\n",
      "shape of x: (1295, 13)\n",
      "shape of weight: (13,)\n"
     ]
    }
   ],
   "source": [
    "#calculate the weights\n",
    "largeWeights = [estimateParams(largeStockReturns, factor_columns) for largeStockReturns in largeStocksReturns]\n",
    "print (\"shape of y:\",np.shape(largeStocksReturns))\n",
    "print (\"shape of x:\",np.shape(factor_columns))\n",
    "print (\"shape of weight:\",np.shape(largeWeights[0]))"
   ]
  },
  {
   "cell_type": "markdown",
   "metadata": {},
   "source": [
    "### Generate the factors by MCS"
   ]
  },
  {
   "cell_type": "code",
   "execution_count": 56,
   "metadata": {
    "collapsed": false
   },
   "outputs": [
    {
     "name": "stdout",
     "output_type": "stream",
     "text": [
      "factorReturnCov: [[  2.25294272e+01   2.92220983e-01   8.36637914e+01   1.86380490e+02]\n",
      " [  2.92220983e-01   2.40167749e-02   3.45173200e+00   7.93042222e+00]\n",
      " [  8.36637914e+01   3.45173200e+00   1.43624322e+03   3.13819645e+03]\n",
      " [  1.86380490e+02   7.93042222e+00   3.13819645e+03   7.57420954e+03]]\n",
      "factorReturnMeans: [0.4024478764478773, -0.0031868725868725786, 7.712640781467181, 20.77304187953668]\n",
      "sample: [[ -6.36615437e+00  -1.49256981e-01  -4.24363449e+01  -1.16369213e+02]\n",
      " [ -8.43873462e+00   5.17230954e-02   1.42406533e+01   8.83308452e+00]\n",
      " [ -2.19740770e+00  -1.59429982e-01  -5.17246267e+01  -8.54326409e+01]\n",
      " [ -1.77040935e+00   4.67715603e-02  -9.84638098e+00   2.86480671e+01]\n",
      " [ -4.24006864e+00  -1.70408840e-01   1.85561232e+01   2.63066626e+01]\n",
      " [ -3.64227254e+00  -3.00022149e-02   6.67126594e+00   4.29566095e+00]\n",
      " [  5.02320962e+00  -1.46649189e-01  -5.14952390e+01  -6.26758089e+01]\n",
      " [ -5.68824807e+00  -3.07752544e-01  -1.45577483e+01  -6.87339743e+01]\n",
      " [  1.14470222e+00   1.08507592e-01   7.30772149e+01   1.43906527e+02]\n",
      " [  2.92919216e+00   7.36324139e-02   6.51570953e+01   1.58812315e+02]]\n"
     ]
    }
   ],
   "source": [
    "#generate the factors\n",
    "factorCov = np.cov(factorsReturns)\n",
    "factorMeans = [sum(factorReturns)/len(factorReturns) for factorReturns in factorsReturns]\n",
    "sample = np.random.multivariate_normal(factorMeans, factorCov,10)\n",
    "print(\"factorReturnCov:\",factorCov)\n",
    "print(\"factorReturnMeans:\",factorMeans)\n",
    "print(\"sample:\",sample)"
   ]
  },
  {
   "cell_type": "markdown",
   "metadata": {},
   "source": [
    "### Run the simulation to compute the VaR"
   ]
  },
  {
   "cell_type": "code",
   "execution_count": 57,
   "metadata": {
    "collapsed": false
   },
   "outputs": [
    {
     "name": "stdout",
     "output_type": "stream",
     "text": [
      "Value at Risk(VaR) 5%: -28.362409534\n",
      "Conditional Value at Risk(CVaR) 5%: -36.4007946284\n"
     ]
    }
   ],
   "source": [
    "# RUN SILMULATION\n",
    "def simulateTrialReturns(numTrials, factorMeans, factorCov, weights):\n",
    "    trialReturns = []\n",
    "    \n",
    "    for i in range(0, numTrials):\n",
    "        # generate sample of factors' returns\n",
    "       \n",
    "        trialFactorReturns = np.random.multivariate_normal(factorMeans, factorCov)\n",
    "        print(trialFactorReturns)\n",
    "        # featurize the factors' returns\n",
    "        trialFeatures = featurize(trialFactorReturns)\n",
    "\n",
    "        # insert weight for intercept term\n",
    "        trialFeatures.insert(0,1)\n",
    "\n",
    "        trialTotalReturn = 0\n",
    "\n",
    "        # calculate the return of each instrument\n",
    "        # then calulate the total of return for this trial features        \n",
    "        trialTotalReturn = sum(np.array(weights).dot(trialFeatures))\n",
    "        trialReturns.append(trialTotalReturn)            \n",
    "    return trialReturns\n",
    "\n",
    "parallelism = 12\n",
    "numTrials = 10000\n",
    "trial_indexes = list(range(0, parallelism))\n",
    "seedRDD = sc.parallelize(trial_indexes, parallelism)\n",
    "#seedRDD : ParallelCollectionRDD\n",
    "#seedRDD.collect() : [0,1,2,3,4,5,6,7,8,9,10,11]\n",
    "bFactorWeights = sc.broadcast(largeWeights)\n",
    "\n",
    "\n",
    "largeTrials = seedRDD.flatMap(lambda idx:\\\n",
    "        simulateTrialReturns(max(int(numTrials/parallelism), 1),factorMeans, factorCov,bFactorWeights.value))\n",
    "\n",
    "largeTrials.cache()\n",
    "\n",
    "valueAtRisk = fivePercentVaR(largeTrials)\n",
    "conditionalValueAtRisk = fivePercentCVaR(largeTrials)\n",
    "\n",
    "print (\"Value at Risk(VaR) 5%:\", valueAtRisk)\n",
    "print (\"Conditional Value at Risk(CVaR) 5%:\", conditionalValueAtRisk)\n"
   ]
  },
  {
   "cell_type": "markdown",
   "metadata": {},
   "source": [
    "### Evaluate the result"
   ]
  },
  {
   "cell_type": "code",
   "execution_count": 58,
   "metadata": {
    "collapsed": false
   },
   "outputs": [
    {
     "name": "stdout",
     "output_type": "stream",
     "text": [
      "VaR confidence interval:  (-28.439844204591054, -28.362409534044062)\n",
      "CVaR confidence interval:  (-36.582090584035683, -36.103876199042759)\n",
      "num failures: 135\n",
      "Kupiec test probability:  3.48706285908e-15\n"
     ]
    }
   ],
   "source": [
    "#evaluate the result\n",
    "varConfidenceInterval = bootstrappedConfidenceInterval(largeTrials, fivePercentVaR, 100, 0.05)\n",
    "cvarConfidenceInterval = bootstrappedConfidenceInterval(largeTrials, fivePercentCVaR, 100, .05)\n",
    "print(\"VaR confidence interval: \" , varConfidenceInterval)\n",
    "print(\"CVaR confidence interval: \" , cvarConfidenceInterval)\n",
    "print(\"Kupiec test probability: \" , kupiecTestPValue(largeStocksReturns, valueAtRisk, 0.05))"
   ]
  },
  {
   "cell_type": "markdown",
   "metadata": {},
   "source": [
    "<div class=\"alert alert-warning\">\n",
    "\n",
    "By adding the stocks into number 99, the probability in the end is  3.48706285908e-15, which is less than 0.05. So this model tested on 100 stocks should also be rejected.\n",
    "\n",
    "</div>"
   ]
  },
  {
   "cell_type": "markdown",
   "metadata": {},
   "source": [
    "### Question 10\n",
    "<div class=\"alert alert-info\">\n",
    "\n",
    "In the previous questions, we used the normal distributions to sample the factors returns.  \n",
    "\n",
    "Try to study how results vary when selecting other probability distributions: our goal is to improve the result of our MCS.\n",
    "</div>"
   ]
  },
  {
   "cell_type": "markdown",
   "metadata": {},
   "source": [
    "### Choosing model: lognormal distribution"
   ]
  },
  {
   "cell_type": "markdown",
   "metadata": {},
   "source": [
    "<div class=\"alert alert-warning\">\n",
    "As the real estate property values and stock prices are usually described by the lognormal distribution, here we use **multivariate lognormal distrbution** to sample the factors returns. According to the definition of lognormal distribution, first we generate the sample from **multivariate normal distribution**(with transforming the factorsReturns by log()function), then use **np.exp()** to compute the result.  \n",
    "Because in lognormal distribution, the range of domain is larger than zero, but the factor returns have negative values, so we add a constant value to each factor return, sampling from lognormal distribution and substract the same value for the result.\n",
    "\n",
    "</div>"
   ]
  },
  {
   "cell_type": "code",
   "execution_count": 59,
   "metadata": {
    "collapsed": false
   },
   "outputs": [
    {
     "data": {
      "text/plain": [
       "[-3.255959540280994,\n",
       " -0.097520439835238504,\n",
       " -21.908582432163087,\n",
       " -78.940209679793668]"
      ]
     },
     "execution_count": 59,
     "metadata": {},
     "output_type": "execute_result"
    }
   ],
   "source": [
    "def computeMultiLognomal(factorsReturns):\n",
    "    def multiLognormal(means,covs):\n",
    "        return np.exp(np.random.multivariate_normal(means,covs))\n",
    "    #shift factor returns\n",
    "    min_value = [min(i)-1 for i in factorsReturns]\n",
    "    shiftedFactorsReturns = []\n",
    "    for i in range(len(factorsReturns)):\n",
    "        bias = min_value[i]\n",
    "        shiftedFactorsReturns.append([item - bias for item in factorsReturns[i]])\n",
    "    #calculate lognormal distribution\n",
    "    log_factorsReturns = np.log(shiftedFactorsReturns)\n",
    "    norm_factorCov = np.cov(log_factorsReturns)\n",
    "    norm_factorMeans = [sum(log_factorReturns)/len(log_factorReturns) for log_factorReturns in log_factorsReturns]\n",
    "    shifted_sample_lognormal = multiLognormal(norm_factorMeans,norm_factorCov)\n",
    "    sample_lognormal = []\n",
    "    for i in range(len(factorsReturns)):\n",
    "        bias = min_value[i]\n",
    "        sample_lognormal.append(shifted_sample_lognormal[i] + bias)\n",
    "    return sample_lognormal\n",
    "computeMultiLognomal(factorsReturns)"
   ]
  },
  {
   "cell_type": "markdown",
   "metadata": {},
   "source": [
    "### Run simulation"
   ]
  },
  {
   "cell_type": "code",
   "execution_count": 60,
   "metadata": {
    "collapsed": false
   },
   "outputs": [
    {
     "name": "stdout",
     "output_type": "stream",
     "text": [
      "Value at Risk(VaR) 5%: -36.969884982\n",
      "Conditional Value at Risk(CVaR) 5%: -43.6915739387\n"
     ]
    }
   ],
   "source": [
    "\n",
    "# RUN SILMULATION\n",
    "def simulateTrialReturns(numTrials, factorMeans, factorCov, weights):\n",
    "    trialReturns = []\n",
    "    \n",
    "    for i in range(0, numTrials):\n",
    "        # generate sample of factors' returns\n",
    "       \n",
    "        trialFactorReturns = computeMultiLognomal(factorsReturns)\n",
    "        \n",
    "        print(trialFactorReturns)\n",
    "        # featurize the factors' returns\n",
    "        trialFeatures = featurize(trialFactorReturns)\n",
    "\n",
    "        # insert weight for intercept term\n",
    "        trialFeatures.insert(0,1)\n",
    "\n",
    "        trialTotalReturn = 0\n",
    "\n",
    "        # calculate the return of each instrument\n",
    "        # then calulate the total of return for this trial features        \n",
    "        trialTotalReturn = sum(np.dot(weights,trialFeatures))\n",
    "        trialReturns.append(trialTotalReturn)            \n",
    "    return trialReturns\n",
    "\n",
    "parallelism = 12\n",
    "numTrials = 100000\n",
    "trial_indexes = list(range(0, parallelism))\n",
    "seedRDD = sc.parallelize(trial_indexes, parallelism)\n",
    "#seedRDD : ParallelCollectionRDD\n",
    "#seedRDD.collect() : [0,1,2,3,4,5,6,7,8,9,10,11]\n",
    "bFactorWeights = sc.broadcast(weights)\n",
    "\n",
    "\n",
    "trials = seedRDD.flatMap(lambda idx:\\\n",
    "        simulateTrialReturns(max(int(numTrials/parallelism), 1),factorMeans, factorCov,bFactorWeights.value))\n",
    "\n",
    "trials.cache()\n",
    "\n",
    "valueAtRisk = fivePercentVaR(trials)\n",
    "conditionalValueAtRisk = fivePercentCVaR(trials)\n",
    "\n",
    "print (\"Value at Risk(VaR) 5%:\", valueAtRisk)\n",
    "print (\"Conditional Value at Risk(CVaR) 5%:\", conditionalValueAtRisk)\n"
   ]
  },
  {
   "cell_type": "code",
   "execution_count": 61,
   "metadata": {
    "collapsed": false
   },
   "outputs": [
    {
     "name": "stdout",
     "output_type": "stream",
     "text": [
      "num failures: 80\n"
     ]
    },
    {
     "data": {
      "text/plain": [
       "0.060315345229939879"
      ]
     },
     "execution_count": 61,
     "metadata": {},
     "output_type": "execute_result"
    }
   ],
   "source": [
    "kupiecTestPValue(stocksReturns, valueAtRisk, 0.05)"
   ]
  },
  {
   "cell_type": "markdown",
   "metadata": {},
   "source": [
    "<div class=\"alert alert-warning\">\n",
    "It shows the result of lognormal distribution is better than normal distribution, the model is accepted.\n",
    "</div>"
   ]
  },
  {
   "cell_type": "markdown",
   "metadata": {},
   "source": [
    "### In order to observe the influence of other factors, we downloaded the **gold price** from investing.com as the additional factor. So now we have 5 factors now."
   ]
  },
  {
   "cell_type": "markdown",
   "metadata": {},
   "source": [
    "#### Step1 prepare factors"
   ]
  },
  {
   "cell_type": "code",
   "execution_count": 154,
   "metadata": {
    "collapsed": false
   },
   "outputs": [
    {
     "name": "stdout",
     "output_type": "stream",
     "text": [
      "[(datetime.datetime(2016, 1, 25, 0, 0), 32.17), (datetime.datetime(2016, 1, 24, 0, 0), 32.37), (datetime.datetime(2016, 1, 22, 0, 0), 32.19), (datetime.datetime(2016, 1, 21, 0, 0), 29.53), (datetime.datetime(2016, 1, 20, 0, 0), 26.55)]\n"
     ]
    }
   ],
   "source": [
    "from datetime import datetime\n",
    "from datetime import timedelta\n",
    "from itertools import islice\n",
    "%matplotlib inline\n",
    "import numpy as np\n",
    "import statsmodels.api as sm\n",
    "\n",
    "base_folder = \"monte-carlo-risk/\"\n",
    "\n",
    "factors_folder= base_folder + \"factors/\"\n",
    "\n",
    "# read data from local disk\n",
    "def readInvestingDotComHistory(fname):\n",
    "    def process_line(line):\n",
    "        cols = line.split('\\t')\n",
    "        date = datetime.strptime(cols[0],\"%b %d, %Y\")\n",
    "        value = float(cols[1])\n",
    "        return (date, value)\n",
    "\n",
    "    with open(fname) as f:\n",
    "        content_w_header = f.readlines()\n",
    "        # remove the first line \n",
    "        # and reverse lines to sort the data by date, in ascending order\n",
    "        content = content_w_header[1:-1]\n",
    "        return list(map(process_line , content))\n",
    "\n",
    "factor1_files = ['crudeoil.tsv', 'us30yeartreasurybonds.tsv']\n",
    "factor1_files = map(lambda fn: factors_folder + fn, factor1_files)\n",
    "factors1 = [readInvestingDotComHistory(f) for f in factor1_files]\n",
    "\n",
    "print(factors1[0][0:5])"
   ]
  },
  {
   "cell_type": "code",
   "execution_count": 155,
   "metadata": {
    "collapsed": false
   },
   "outputs": [
    {
     "name": "stdout",
     "output_type": "stream",
     "text": [
      "3\n"
     ]
    }
   ],
   "source": [
    "from datetime import datetime\n",
    "from datetime import timedelta\n",
    "from itertools import islice\n",
    "%matplotlib inline\n",
    "import numpy as np\n",
    "import statsmodels.api as sm\n",
    "\n",
    "base_folder = \"monte-carlo-risk/\"\n",
    "\n",
    "factors_folder= base_folder + \"factors/\"\n",
    "\n",
    "# read data from local disk\n",
    "def readInvestingDotComHistory(fname):\n",
    "    def process_line(line):\n",
    "        cols = line.split('\\t')\n",
    "        date = datetime.strptime(cols[0],\"%b %d, %Y\")\n",
    "        value = float(cols[1].replace(',',''))\n",
    "        return (date, value)\n",
    "\n",
    "    with open(fname) as f:\n",
    "        content_w_header = f.readlines()\n",
    "        # remove the first line \n",
    "        # and reverse lines to sort the data by date, in ascending order\n",
    "        content = content_w_header[1:-1]\n",
    "        return list(map(process_line , content))\n",
    "\n",
    "factor11_files = ['gold_value.tsv']\n",
    "factor11_files = map(lambda fn: factors_folder + fn, factor11_files)\n",
    "factors11 = [readInvestingDotComHistory(f) for f in factor11_files]\n",
    "factors1=factors1+factors11\n",
    "print(len(factors1))"
   ]
  },
  {
   "cell_type": "code",
   "execution_count": 156,
   "metadata": {
    "collapsed": false
   },
   "outputs": [
    {
     "name": "stdout",
     "output_type": "stream",
     "text": [
      "[(datetime.datetime(2016, 1, 22, 0, 0), 1906.900024), (datetime.datetime(2016, 1, 21, 0, 0), 1868.98999), (datetime.datetime(2016, 1, 20, 0, 0), 1859.329956), (datetime.datetime(2016, 1, 19, 0, 0), 1881.329956), (datetime.datetime(2016, 1, 15, 0, 0), 1880.329956)]\n"
     ]
    }
   ],
   "source": [
    "# read data from local disk\n",
    "def readYahooHistory(fname):\n",
    "    def process_line(line):\n",
    "        cols=line.split(\",\")\n",
    "        date=datetime.strptime(cols[0],'%Y-%m-%d')\n",
    "        value=float(cols[6])\n",
    "        return(date, value)\n",
    "    with open(fname) as f:\n",
    "        content_w_header=f.readlines()\n",
    "        content=content_w_header[1:-1]\n",
    "        return list(map(process_line,content))\n",
    "    \n",
    "\n",
    "factor2_files = [\"GSPC.csv\", \"IXIC.csv\"]\n",
    "factor2_files = map(lambda fn: factors_folder + fn, factor2_files)\n",
    "\n",
    "factors2 = [readYahooHistory(f) for f in factor2_files]\n",
    "\n",
    "print(factors2[0][:5])"
   ]
  },
  {
   "cell_type": "code",
   "execution_count": 162,
   "metadata": {
    "collapsed": false
   },
   "outputs": [
    {
     "name": "stdout",
     "output_type": "stream",
     "text": [
      "the first 5 records of factor 0: [(datetime.datetime(2009, 1, 23, 0, 0), 46.47), (datetime.datetime(2009, 1, 26, 0, 0), 45.73), (datetime.datetime(2009, 1, 27, 0, 0), 41.58), (datetime.datetime(2009, 1, 28, 0, 0), 42.16), (datetime.datetime(2009, 1, 29, 0, 0), 41.44)] \n",
      "\n",
      "the first 5 records of factor 0: [(datetime.datetime(2014, 1, 17, 0, 0), 94.37), (datetime.datetime(2014, 1, 20, 0, 0), 93.93), (datetime.datetime(2014, 1, 21, 0, 0), 94.99), (datetime.datetime(2014, 1, 22, 0, 0), 96.73), (datetime.datetime(2014, 1, 23, 0, 0), 97.32)] \n",
      "\n",
      "the first 5 returns of stock 0: [0.9394960000000019, 0.4822190000000006, -0.6485020000000006, -1.3801449999999988, -0.08314100000000124]\n",
      "the last 5 returns of stock 0: [-1.264989, -0.6562720000000013, -0.34240400000000193, 0.3141109999999969, -0.8030690000000007]\n"
     ]
    },
    {
     "data": {
      "image/png": "[encoded data removed]",
      "text/plain": [
       "<matplotlib.figure.Figure at 0x7f8ff02b13c8>"
      ]
     },
     "metadata": {},
     "output_type": "display_data"
    },
    {
     "data": {
      "image/png": "[encoded data removed]",
      "text/plain": [
       "<matplotlib.figure.Figure at 0x7f8ff030ebe0>"
      ]
     },
     "metadata": {},
     "output_type": "display_data"
    },
    {
     "data": {
      "image/png": "[encoded data removed]",
      "text/plain": [
       "<matplotlib.figure.Figure at 0x7f8ff915c6a0>"
      ]
     },
     "metadata": {},
     "output_type": "display_data"
    },
    {
     "data": {
      "image/png": "[encoded data removed]",
      "text/plain": [
       "<matplotlib.figure.Figure at 0x7f9005e0e3c8>"
      ]
     },
     "metadata": {},
     "output_type": "display_data"
    },
    {
     "data": {
      "image/png": "[encoded data removed]",
      "text/plain": [
       "<matplotlib.figure.Figure at 0x7f8ff8a58390>"
      ]
     },
     "metadata": {},
     "output_type": "display_data"
    }
   ],
   "source": [
    "allfactors = factors1 + factors2\n",
    "factors = list(map(lambda factor:\n",
    "            fillInHistory(trimToRegion(factor,start,end),start,end), \n",
    "            allfactors\n",
    "            ))\n",
    "\n",
    "# test our code\n",
    "\n",
    "print(\"the first 5 records of factor 0:\", factors[0][:5], \"\\n\")\n",
    "print(\"the first 5 records of factor 0:\", factors[0][-5:], \"\\n\")\n",
    "\n",
    "factorsReturns = list(map(twoWeekReturns, factors))\n",
    "# test our functions\n",
    "print(\"the first 5 returns of stock 0:\", stocksReturns[0][:5])\n",
    "print(\"the last 5 returns of stock 0:\", stocksReturns[0][-5:])\n",
    "%matplotlib inline\n",
    "import matplotlib.pyplot as plt\n",
    "import numpy as np\n",
    "x=range(0,1295)\n",
    "for i in range(5):\n",
    "    plt.plot(x,factorsReturns[i])\n",
    "    plt.show()\n"
   ]
  },
  {
   "cell_type": "markdown",
   "metadata": {},
   "source": [
    "#### Step2 compute means/cov and sample"
   ]
  },
  {
   "cell_type": "code",
   "execution_count": 164,
   "metadata": {
    "collapsed": false,
    "scrolled": false
   },
   "outputs": [
    {
     "name": "stdout",
     "output_type": "stream",
     "text": [
      "shape of y: (29, 1295)\n",
      "shape of x: (1295, 16)\n",
      "shape of weight: (16,)\n",
      "weights: [array([  3.59220700e-02,  -1.20097297e-03,  -7.21566880e+00,\n",
      "        -2.20818672e-06,   1.53432509e-04,  -3.51883484e-05,\n",
      "         6.64440372e-02,  -1.40281586e+00,  -3.64946423e-02,\n",
      "         9.56628624e-03,  -5.24562341e-02,  -1.24945545e-02,\n",
      "         4.54098791e+00,   2.33167203e-03,   4.96396149e-03,\n",
      "         9.98892390e-03]), array([ -9.91580216e-02,   2.86111088e-04,  -5.42940758e+00,\n",
      "        -3.14797168e-05,   2.33680505e-04,  -3.88492161e-05,\n",
      "         1.28809323e-01,   1.22971400e-01,  -3.41160388e-02,\n",
      "         9.73722084e-02,  -2.77848486e-02,  -5.83439673e-02,\n",
      "         3.09866609e+00,   7.26477048e-03,  -3.28892173e-02,\n",
      "         2.71115962e-02]), array([ -1.37932254e-02,   3.05228752e-03,  -2.11264786e+00,\n",
      "         3.02980694e-06,   6.47273576e-05,  -1.79795324e-05,\n",
      "         5.87051906e-02,  -3.12538529e-01,  -1.53302471e-03,\n",
      "         2.67098817e-03,  -1.12104540e-02,  -6.46618373e-02,\n",
      "         1.29767777e+00,   5.33760512e-04,  -1.90110727e-03,\n",
      "         3.96754558e-03]), array([ -1.69326285e+00,  -7.20316693e-02,  -3.38487673e+01,\n",
      "        -1.10016101e-04,   2.97557966e-04,  -5.51829466e-05,\n",
      "        -3.64717723e+00,  -5.49087792e+00,   8.86976075e-02,\n",
      "        -4.26342446e-01,   3.85162260e-01,   2.11502236e+00,\n",
      "         1.89242659e+01,  -7.38955982e-03,   4.02892367e-02,\n",
      "         1.46985376e-02]), array([ -1.08280762e-01,   7.31478908e-03,   4.97743161e+00,\n",
      "         1.14767428e-05,  -6.85283913e-05,   4.12405825e-05,\n",
      "         3.03085455e-01,   8.44316937e-01,  -2.87496037e-02,\n",
      "         9.13185350e-02,  -1.31148308e-02,  -1.83040002e-01,\n",
      "        -1.96341770e+00,   4.73054474e-03,  -2.47554931e-02,\n",
      "         9.16280903e-03]), array([ -2.63896239e-01,  -2.39200285e-02,   1.27613071e+01,\n",
      "        -9.70781935e-05,   1.02028253e-03,  -2.25262595e-04,\n",
      "         4.99548863e-03,   1.12056121e+00,  -2.02209679e-01,\n",
      "         5.31378862e-01,  -4.97268272e-01,   4.04173601e-01,\n",
      "        -7.75795780e+00,   2.88675389e-02,  -1.81764440e-01,\n",
      "         8.96776507e-02]), array([  5.43139450e-02,   3.78965949e-03,  -6.11298008e-02,\n",
      "        -2.04593860e-05,  -1.24244818e-04,   2.02896337e-05,\n",
      "         1.99848446e-01,  -2.07365675e-01,  -1.76303191e-02,\n",
      "        -2.44305188e-02,   2.24127098e-02,  -1.27286061e-01,\n",
      "         2.21787084e-01,   6.45663623e-03,   1.59516406e-02,\n",
      "        -2.52445956e-03]), array([  3.63901373e-03,   4.04518520e-03,   1.47948681e+00,\n",
      "         5.43039192e-05,   2.38858971e-06,  -1.81717363e-05,\n",
      "         5.61080881e-02,  -1.44327892e-01,   7.93492465e-02,\n",
      "         1.74245593e-02,   1.47849127e-04,  -5.97023003e-02,\n",
      "         4.15601301e-02,  -1.49912413e-02,  -1.10701923e-03,\n",
      "         4.24538984e-03]), array([ -5.63790686e-01,   3.22446607e-02,   3.10633428e+01,\n",
      "         7.92805562e-05,   1.27083294e-03,  -2.72790951e-04,\n",
      "         5.77313481e-01,   1.38719515e+00,   2.16326628e-01,\n",
      "         1.15852599e-01,  -1.24142145e-01,  -5.00659056e-01,\n",
      "        -1.08682259e+01,  -2.41349141e-02,  -7.89722179e-02,\n",
      "         6.24137254e-02]), array([ -1.73298408e-02,   1.20879722e-02,   1.29867504e+01,\n",
      "        -1.11625792e-05,   2.43108976e-04,  -2.17531418e-05,\n",
      "         5.45309996e-01,   2.76985369e+00,   5.63607980e-02,\n",
      "        -6.21952759e-02,   9.07331654e-02,  -3.40527592e-01,\n",
      "        -1.07600749e+01,  -4.39905332e-04,   2.19687584e-02,\n",
      "        -2.97759521e-03]), array([  3.35504279e-02,  -6.43737234e-03,   3.01729520e+00,\n",
      "         7.88820648e-06,  -2.19148314e-04,   4.39952829e-05,\n",
      "        -2.40314734e-01,   8.44125938e-01,  -1.31902144e-02,\n",
      "        -7.75373328e-02,   4.01484014e-02,   1.48061571e-01,\n",
      "        -2.33469783e+00,   1.16240025e-03,   3.35746495e-02,\n",
      "        -3.03872953e-03]), array([ -2.01747669e-01,  -2.59079760e-04,   8.82811676e+00,\n",
      "         5.15426644e-05,  -6.56085062e-05,  -2.57593151e-05,\n",
      "        -3.29266780e-02,   5.07743703e-01,   1.31480367e-01,\n",
      "         1.04152523e-02,  -6.11089110e-02,   1.84414915e-02,\n",
      "        -2.33256690e+00,  -2.31908363e-02,  -6.73669666e-03,\n",
      "         1.83878719e-02]), array([ -5.51983143e-03,   2.95776084e-04,  -2.05771469e+00,\n",
      "         1.69585933e-05,   7.30055373e-05,  -1.46321493e-05,\n",
      "         5.23557364e-02,  -1.28924224e-01,   1.87767292e-02,\n",
      "         1.48378189e-02,  -2.43066140e-02,  -7.70491551e-03,\n",
      "         9.80106777e-01,  -4.51476164e-03,  -4.50737305e-03,\n",
      "         3.82590460e-03]), array([ -1.16973400e-01,  -1.09116592e-03,   4.77754256e+00,\n",
      "         6.90154556e-05,   2.43269156e-04,  -5.71815089e-05,\n",
      "        -3.88994400e-02,  -2.45211021e-02,   7.48333685e-02,\n",
      "        -1.38356183e-02,   7.03659833e-03,   2.10925655e-02,\n",
      "        -2.17738300e+00,  -1.76361513e-02,   4.07472062e-03,\n",
      "         1.19753178e-02]), array([ -3.44528655e-02,   3.46039136e-04,  -5.81281568e-01,\n",
      "         3.30300562e-06,   1.08089213e-04,  -2.52661776e-05,\n",
      "         1.19115590e-02,  -3.28139410e-01,  -1.09725100e-02,\n",
      "         2.95202436e-02,  -2.05666949e-02,  -1.01843874e-02,\n",
      "         8.68509548e-01,   3.86451972e-04,  -6.75501836e-03,\n",
      "         5.67907224e-03]), array([  3.96470403e-04,  -1.58903020e-03,  -2.07363265e+00,\n",
      "        -6.51392990e-06,   2.91713701e-05,   6.82155857e-06,\n",
      "         1.39409662e-02,  -3.64510667e-01,  -1.80336543e-02,\n",
      "        -4.46887290e-03,   1.92445489e-02,   1.88776125e-02,\n",
      "         1.41856442e+00,   3.06140515e-03,  -7.55537722e-03,\n",
      "         9.02227599e-04]), array([ -4.46671896e-02,  -4.52453883e-04,   2.70309406e+00,\n",
      "         1.31203962e-05,  -1.13077200e-04,   2.22863772e-05,\n",
      "         3.03686039e-02,   5.33810945e-02,   1.87386852e-02,\n",
      "        -1.43233573e-02,   1.88251509e-02,  -9.81080965e-03,\n",
      "        -7.12881211e-01,  -3.60044749e-03,   1.07310854e-02,\n",
      "        -3.69716762e-03]), array([ -1.53536827e-02,  -6.76435748e-04,   1.71471973e+00,\n",
      "         1.64286512e-06,  -1.13650091e-05,   4.19429658e-06,\n",
      "        -2.71400008e-02,   3.09196324e-01,   3.16843795e-04,\n",
      "        -6.83459334e-03,   2.11286530e-02,   2.14990896e-02,\n",
      "        -1.02236125e+00,   1.78358782e-04,   2.29146528e-03,\n",
      "        -6.89398822e-04]), array([  1.09681702e-02,  -9.03252741e-04,  -1.99662063e-01,\n",
      "        -1.80576639e-05,   6.36473670e-05,  -9.29379678e-06,\n",
      "        -4.01341107e-02,  -1.70375681e-02,  -3.82040427e-02,\n",
      "         1.45073050e-02,  -9.01745916e-03,   3.53799275e-02,\n",
      "        -2.04783119e-01,   7.33360109e-03,  -7.62640457e-03,\n",
      "         4.13926899e-03]), array([ -3.25394995e-03,  -6.21660476e-04,  -1.81963494e+00,\n",
      "         7.44582958e-06,   1.07160610e-04,  -3.35025193e-05,\n",
      "        -1.15240562e-03,  -7.68327416e-01,  -2.92132198e-02,\n",
      "        -1.69319171e-02,  -1.57663473e-02,   4.75223877e-03,\n",
      "         1.86309542e+00,   5.16318009e-04,   7.84097892e-03,\n",
      "         7.71599890e-03]), array([ -3.92929920e-02,   8.82667086e-04,  -3.05933423e-01,\n",
      "         1.06216631e-05,   4.68464341e-05,  -8.81270622e-06,\n",
      "         2.21874165e-02,  -3.38570575e-01,  -2.44819508e-03,\n",
      "         6.12102210e-03,  -8.63373817e-03,  -1.61414480e-02,\n",
      "         4.37044063e-01,  -1.05021356e-03,   1.93693800e-03,\n",
      "         2.04632233e-03]), array([ -7.99399544e-03,  -3.12786695e-04,  -3.85208831e-01,\n",
      "         7.61873200e-06,   3.98146689e-05,  -4.36513870e-06,\n",
      "         2.46310767e-03,  -7.56458766e-02,  -4.73804300e-03,\n",
      "         2.22318321e-02,  -5.31141711e-03,   1.32813031e-03,\n",
      "         2.32115864e-01,  -5.11607650e-04,  -5.10060975e-03,\n",
      "         1.00560668e-03]), array([ -5.78831245e-02,   4.39020410e-03,   4.14859036e-01,\n",
      "         3.30062120e-05,   9.57316158e-05,  -2.92313664e-05,\n",
      "         1.25390522e-01,  -8.74136441e-01,   7.11019470e-02,\n",
      "         2.83564459e-02,  -3.01086901e-02,  -7.79254337e-02,\n",
      "         2.54191006e+00,  -1.11890531e-02,  -9.59254861e-03,\n",
      "         8.64628545e-03]), array([ -1.35289791e-02,  -8.71368888e-04,   1.10270468e+00,\n",
      "         1.50779142e-05,   1.40645505e-04,  -2.80481925e-05,\n",
      "        -3.76918546e-02,   1.91891831e-01,   2.04979130e-02,\n",
      "         5.71452121e-02,  -3.05408050e-02,   6.88700562e-04,\n",
      "        -9.11938450e-01,  -3.50206833e-03,  -1.43148880e-02,\n",
      "         8.08794160e-03]), array([  1.84446740e-02,  -1.12960358e-03,   3.33697999e+00,\n",
      "         1.45469945e-05,   5.59245176e-05,  -2.40434510e-06,\n",
      "        -2.13057426e-02,   7.59375242e-01,   1.51014940e-02,\n",
      "         2.65767023e-02,   9.40485883e-03,   3.15757091e-02,\n",
      "        -2.68916884e+00,  -3.63855751e-03,  -8.30460597e-03,\n",
      "        -1.61120252e-04]), array([  3.36250513e-02,   8.96235716e-04,  -4.37169517e-01,\n",
      "         4.18908078e-06,  -2.05981752e-05,  -8.09360450e-08,\n",
      "        -3.88353098e-02,  -4.81711322e-01,   1.18055347e-02,\n",
      "        -1.06233868e-02,   1.10294270e-02,   8.95632228e-03,\n",
      "         7.71274879e-01,  -1.97411080e-03,   3.56440283e-03,\n",
      "         1.38590137e-03]), array([ -4.40753098e-02,   2.54998137e-04,   1.73154709e+01,\n",
      "         1.12957669e-05,  -4.77298515e-04,   2.30018574e-05,\n",
      "         1.75659575e-01,   1.95639425e+00,   1.89606027e-01,\n",
      "        -2.00137512e-01,   6.17641409e-03,  -6.58547272e-02,\n",
      "        -8.87201180e+00,  -2.11991566e-02,   9.33791058e-02,\n",
      "        -5.99813074e-03]), array([  4.74185425e-01,   2.29645767e-02,   1.87568403e+01,\n",
      "        -1.38447932e-04,  -6.98137342e-04,   1.88123476e-04,\n",
      "         1.50714304e-01,   1.99124003e+00,  -3.27245236e-01,\n",
      "        -1.09811521e-01,   1.01004725e-01,  -3.12104963e-01,\n",
      "        -1.00221112e+01,   5.10456709e-02,   1.32178731e-01,\n",
      "        -3.26967760e-02]), array([ -1.21486610e-01,  -4.24698459e-03,  -8.55470356e+00,\n",
      "         3.01767622e-06,   3.43549308e-04,  -6.23871779e-05,\n",
      "        -8.31902601e-02,  -2.97400016e-01,  -1.86622961e-02,\n",
      "         5.79167135e-02,  -5.56680930e-02,   9.73398811e-02,\n",
      "         2.08961690e+00,  -1.11487351e-03,  -8.67102598e-03,\n",
      "         1.02477237e-02])]\n"
     ]
    }
   ],
   "source": [
    "def estimateParams(y, x):\n",
    "    \n",
    "    return sm.OLS(y, x).fit().params\n",
    "\n",
    "# transpose factorsReturns\n",
    "factorMat = transpose(factorsReturns)\n",
    "\n",
    "# featurize each row of factorMat\n",
    "factorFeatures = list(map(featurize,factorMat))\n",
    "\n",
    "# OLS require parameter is a numpy array\n",
    "factor_columns = np.array(factorFeatures)\n",
    "\n",
    "#add a constant - the intercept term for each instrument i.\n",
    "factor_columns = sm.add_constant(factor_columns, prepend=True)\n",
    "\n",
    "# estimate weights\n",
    "weights = [estimateParams(stockReturns, factor_columns) for stockReturns in stocksReturns]\n",
    "\n",
    "print (\"shape of y:\",np.shape(stocksReturns))\n",
    "\n",
    "print (\"shape of x:\",np.shape(factor_columns))\n",
    "print (\"shape of weight:\",np.shape(weights[0]))\n",
    "print (\"weights:\", weights)\n",
    "\n",
    "\n"
   ]
  },
  {
   "cell_type": "markdown",
   "metadata": {},
   "source": [
    "#### Defining the distributions for the market conditions"
   ]
  },
  {
   "cell_type": "code",
   "execution_count": 166,
   "metadata": {
    "collapsed": false
   },
   "outputs": [
    {
     "data": {
      "image/png": "[encoded data removed]",
      "text/plain": [
       "<matplotlib.figure.Figure at 0x7f8fb25cb080>"
      ]
     },
     "metadata": {},
     "output_type": "display_data"
    },
    {
     "data": {
      "image/png": "[encoded data removed]",
      "text/plain": [
       "<matplotlib.figure.Figure at 0x7f8fb2195c18>"
      ]
     },
     "metadata": {},
     "output_type": "display_data"
    },
    {
     "data": {
      "image/png": "[encoded data removed]",
      "text/plain": [
       "<matplotlib.figure.Figure at 0x7f8fb249ada0>"
      ]
     },
     "metadata": {},
     "output_type": "display_data"
    },
    {
     "data": {
      "image/png": "[encoded data removed]",
      "text/plain": [
       "<matplotlib.figure.Figure at 0x7f8ff91de9b0>"
      ]
     },
     "metadata": {},
     "output_type": "display_data"
    },
    {
     "data": {
      "image/png": "[encoded data removed]",
      "text/plain": [
       "<matplotlib.figure.Figure at 0x7f8ff80a3be0>"
      ]
     },
     "metadata": {},
     "output_type": "display_data"
    }
   ],
   "source": [
    "from statsmodels.nonparametric.kernel_density import KDEMultivariate\n",
    "from statsmodels.nonparametric.kde import KDEUnivariate\n",
    "import matplotlib.pyplot as plt\n",
    "import scipy\n",
    "\n",
    "def plotDistribution(samples):\n",
    "    vmin = min(samples)\n",
    "    vmax = max(samples)\n",
    "    stddev = np.std(samples)\n",
    "    \n",
    "    domain = np.arange(vmin, vmax, (vmax-vmin)/100)\n",
    "    \n",
    "    # a simple heuristic to select bandwidth\n",
    "    bandwidth = 1.06 * stddev * pow(len(samples), -.2)\n",
    "    \n",
    "    # estimate density\n",
    "    kde = KDEUnivariate(samples)\n",
    "    kde.fit(bw=bandwidth)\n",
    "    density = kde.evaluate(domain)\n",
    "    \n",
    "    # plot\n",
    "    plt.plot(domain, density)\n",
    "    plt.show()\n",
    "\n",
    "plotDistribution(factorsReturns[0])\n",
    "plotDistribution(factorsReturns[1])\n",
    "plotDistribution(factorsReturns[2])\n",
    "plotDistribution(factorsReturns[3])\n",
    "plotDistribution(factorsReturns[4])"
   ]
  },
  {
   "cell_type": "code",
   "execution_count": 163,
   "metadata": {
    "collapsed": false
   },
   "outputs": [
    {
     "data": {
      "text/plain": [
       "array([[ 1.        ,  0.39726379,  0.24971271,  0.46510228,  0.45118714],\n",
       "       [ 0.39726379,  1.        , -0.00101098,  0.58771358,  0.5879905 ],\n",
       "       [ 0.24971271, -0.00101098,  1.        ,  0.10359651,  0.11676281],\n",
       "       [ 0.46510228,  0.58771358,  0.10359651,  1.        ,  0.9514752 ],\n",
       "       [ 0.45118714,  0.5879905 ,  0.11676281,  0.9514752 ,  1.        ]])"
      ]
     },
     "execution_count": 163,
     "metadata": {},
     "output_type": "execute_result"
    }
   ],
   "source": [
    "correlation = np.corrcoef(factorsReturns)\n",
    "correlation"
   ]
  },
  {
   "cell_type": "markdown",
   "metadata": {},
   "source": [
    "<div class=\"alert alert-warning\">\n",
    "The third factor represents the gold price, which has less relationship with other factors, will introduce more information for investment.\n",
    "\n",
    "</div>"
   ]
  },
  {
   "cell_type": "markdown",
   "metadata": {},
   "source": [
    "#### Run simulation"
   ]
  },
  {
   "cell_type": "code",
   "execution_count": 1,
   "metadata": {
    "collapsed": false,
    "scrolled": true
   },
   "outputs": [],
   "source": [
    "# RUN SILMULATION\n",
    "def simulateTrialReturns(numTrials, factorMeans, factorCov, weights):\n",
    "    trialReturns = []\n",
    "    \n",
    "    for i in range(0, numTrials):\n",
    "        # generate sample of factors' returns\n",
    "       \n",
    "        trialFactorReturns = computeMultiLognomal(factorsReturns)\n",
    "        \n",
    "        print(trialFactorReturns)\n",
    "        # featurize the factors' returns\n",
    "        trialFeatures = featurize(trialFactorReturns)\n",
    "\n",
    "        # insert weight for intercept term\n",
    "        trialFeatures.insert(0,1)\n",
    "\n",
    "        trialTotalReturn = 0\n",
    "\n",
    "        # calculate the return of each instrument\n",
    "        # then calulate the total of return for this trial features        \n",
    "        trialTotalReturn = sum(np.dot(weights,trialFeatures))\n",
    "        trialReturns.append(trialTotalReturn)            \n",
    "    return trialReturns\n",
    "\n",
    "parallelism = 12\n",
    "numTrials = 50000000\n",
    "trial_indexes = list(range(0, parallelism))\n",
    "seedRDD = sc.parallelize(trial_indexes, parallelism)\n",
    "#seedRDD : ParallelCollectionRDD\n",
    "#seedRDD.collect() : [0,1,2,3,4,5,6,7,8,9,10,11]\n",
    "bFactorWeights = sc.broadcast(weights)\n",
    "\n",
    "\n",
    "trials = seedRDD.flatMap(lambda idx:\\\n",
    "        simulateTrialReturns(max(int(numTrials/parallelism), 1),factorMeans, factorCov,bFactorWeights.value))\n",
    "\n",
    "trials.cache()\n",
    "\n",
    "valueAtRisk = fivePercentVaR(trials)\n",
    "conditionalValueAtRisk = fivePercentCVaR(trials)"
   ]
  },
  {
   "cell_type": "code",
   "execution_count": 189,
   "metadata": {
    "collapsed": false
   },
   "outputs": [
    {
     "name": "stdout",
     "output_type": "stream",
     "text": [
      "num failures: 79\n"
     ]
    },
    {
     "data": {
      "text/plain": [
       "0.078574905354646465"
      ]
     },
     "execution_count": 189,
     "metadata": {},
     "output_type": "execute_result"
    }
   ],
   "source": [
    "kupiecTestPValue(stocksReturns, valueAtRisk, 0.05)"
   ]
  },
  {
   "cell_type": "code",
   "execution_count": 196,
   "metadata": {
    "collapsed": false
   },
   "outputs": [
    {
     "name": "stdout",
     "output_type": "stream",
     "text": [
      "num failures: 51\n"
     ]
    },
    {
     "data": {
      "text/plain": [
       "0.069074144816940464"
      ]
     },
     "execution_count": 196,
     "metadata": {},
     "output_type": "execute_result"
    }
   ],
   "source": [
    "kupiecTestPValue(stocksReturns, -43, 0.05)"
   ]
  },
  {
   "cell_type": "code",
   "execution_count": 197,
   "metadata": {
    "collapsed": false
   },
   "outputs": [
    {
     "data": {
      "text/plain": [
       "0.061003861003861"
      ]
     },
     "execution_count": 197,
     "metadata": {},
     "output_type": "execute_result"
    }
   ],
   "source": [
    "79/1295"
   ]
  },
  {
   "cell_type": "markdown",
   "metadata": {},
   "source": [
    "<div class=\"alert alert-warning\">\n",
    "After adding the gold price, the result is slightly better than the 4 factors' case\n",
    "\n",
    "</div>\n"
   ]
  },
  {
   "cell_type": "markdown",
   "metadata": {},
   "source": [
    "# 6. Summary\n",
    "In this lecture, we studied the Monte Carlo Simulation method and its application to estimate financial risk. To apply it, first, we needed to define the relationship between market factors and the instruments' returns. In such step, you must define the model which maps the market factors' values to the instruments' values: in our use case, we used a linear regression function for building our model. Next, we also had to find the parameters of our model, which are the weights of the factors we considered. Then, we had to study the distribution of each market factor. A good way to do that is using Kernel density estimation to smooth the distribution and plot it. Depending on the shape of each figure, we had to guess the best fit distribution for each factor: in our use case, we used a very simple approach, and decided that our smoothed distributions all looked normal distributions. \n",
    "\n",
    "Then, the idea of Monte Carlo simulation was to generate many possible values for each factor and calculate the corresponding outcomes by a well-defined model in each trial. After many trials, we were able to calculate VaR from the sequences of outcome's values. When the number of trials is large enough, the VaR converges to reasonable values, that we could validate using well-known statistical hypothesis. "
   ]
  },
  {
   "cell_type": "markdown",
   "metadata": {
    "collapsed": true
   },
   "source": [
    "# References\n",
    "- The example in section 2 is inspired from [this article](http://www.solver.com/monte-carlo-simulation-example).\n",
    "- [Backtesting Value-at-Risk models](https://aaltodoc.aalto.fi/bitstream/handle/123456789/181/hse_ethesis_12049.pdf?sequence=1) (Kansantaloustiede, 2009) - (A good reference to study Backtesting).\n"
   ]
  }
 ],
 "metadata": {
  "kernelspec": {
   "display_name": "Python 3",
   "language": "python",
   "name": "python3"
  },
  "language_info": {
   "codemirror_mode": {
    "name": "ipython",
    "version": 3
   },
   "file_extension": ".py",
   "mimetype": "text/x-python",
   "name": "python",
   "nbconvert_exporter": "python",
   "pygments_lexer": "ipython3",
   "version": "3.6.0"
  }
 },
 "nbformat": 4,
 "nbformat_minor": 0
}
