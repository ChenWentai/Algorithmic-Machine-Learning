{
 "cells": [
  {
   "cell_type": "markdown",
   "metadata": {},
   "source": [
    "# Task 1. Building a music recommender system\n",
    "\n",
    "As its name implies, a recommender system is a tool that helps predicting what a user may or may not like among a list of given items. In some sense, you can view this as an alternative to content search, as recommendation engines help users discover products or content that they may not come across otherwise. For example, Facebook suggests friends and pages to users. Youtube recommends videos which users may be interested in. Amazon suggests the products which users may need... Recommendation engines engage users to services, can be seen as a revenue optimization process, and in general help maintaining interest in a service.\n",
    "\n",
    "In this notebook, we study how to build a simple recommender system: we focus on music recommendations, and we use a simple algorithm to predict which items users might like, that is called ALS, alternating least squares.\n",
    "\n",
    "## Goals\n",
    "\n",
    "In this lecture, we expect students to:\n",
    "\n",
    "- Revisit (or learn) recommender algorithms\n",
    "\n",
    "- Understand the idea of Matrix Factorization and the ALS algorithm (serial and parallel versions)\n",
    "\n",
    "- Build a simple model for a real usecase: music recommender system\n",
    "\n",
    "- Understand how to validate the results\n",
    "\n",
    "## Steps\n",
    "\n",
    "We assume students to work outside lab hours on the learning material. These are the steps by which we guide students, during labs, to build a good basis for the end-to-end development of a recommender system:\n",
    "\n",
    "* Inspect the data using Spark SQL, and build some basic, but very valuable knowledge about the information we have at hand\n",
    "* Formally define what is a sensible algorithm to achieve our goal: given the \"history\" of user taste for music, recommend new music to discover. Essentialy, we want to build a statistical model of user preferences such that we can use it to \"predict\" which additional music the user could like\n",
    "* With our formal definition at hand, we will learn different ways to implement such an algorithm. Our goal here is to illustrate what are the difficulties to overcome when implementing a (parallel) algorithm\n",
    "* Finally, we will focus on an existing implementation, available in the Apache Spark MLLib, which we will use out of the box to build a reliable statistical model\n",
    "\n",
    "Now, you may think at this point we will be done!\n",
    "\n",
    "Well, you'd better think twice: one important topic we will cover in all our Notebooks is **how to validate the results we obtain**, and **how to choose good parameters to train models** especially when using an \"opaque\" library for doing the job. As a consequence, we will focus on the statistical validation of our recommender system.\n",
    "\n",
    "# Important note for grading\n",
    "This notebook displays a series of questions, that we use to grade the work done. Since the following questions are rather basic, and do not change much from year to year, they only allow reaching the grade 10/20. Additional points can be gained by showing **originality, depth, algorithmic design and implementations** beyond that used in the notebook. Remember that this should become your own notebook: there is ample room for creativity!"
   ]
  },
  {
   "cell_type": "markdown",
   "metadata": {},
   "source": [
    "# 1. Data\n",
    "\n",
    "Understanding data is one of the most important part when designing any machine learning algorithm. In this notebook, we will use a data set published by Audioscrobbler - a music recommendation system for last.fm. Audioscrobbler is also one of the first internet streaming radio sites, founded in 2002. It provided an open API for “scrobbling”, or recording listeners’ plays of artists’ songs. last.fm used this information to build a powerful music recommender engine.\n",
    "\n",
    "## 1.1. Data schema\n",
    "\n",
    "Unlike a rating dataset which contains information about users' preference for products (one star, 3 stars, and so on), the datasets from Audioscrobbler only has information about events: specifically, it keeps track of how many times a user played songs of a given artist and the names of artists. That means it carries less information than a rating: in the literature, this is called explicit vs. implicit ratings.\n",
    "\n",
    "### Reading material\n",
    "\n",
    "- [Implicit Feedback for Inferring User Preference: A Bibliography](http://people.csail.mit.edu/teevan/work/publications/papers/sigir-forum03.pdf)\n",
    "- [Comparing explicit and implicit feedback techniques for web retrieval: TREC-10 interactive track report](http://trec.nist.gov/pubs/trec10/papers/glasgow.pdf)\n",
    "- [Probabilistic Models for Data Combination in Recommender Systems](http://mlg.eng.cam.ac.uk/pub/pdf/WilGha08.pdf)\n",
    "\n",
    "The data we use in this Notebook is available in 3 files (these files are stored in our HDFS layer, in the directory  ```/datasets/lastfm```):\n",
    "\n",
    "- **`user_artist_data.txt`**: It contains about 140,000+ unique users, and 1.6 million unique artists. About 24.2 million users’ plays of artists’ are recorded, along with their count. It has 3 columns separated by **spaces**: \n",
    "\n",
    "| UserID | ArtistID | PlayCount |\n",
    "|----|----|----|\n",
    "| ...|...|...|\n",
    "\n",
    "\n",
    "- **`artist_data.txt`** : It prodives the names of each artist by their IDs. It has 2 columns separated by tab characters **(`\\t`).**\n",
    "\n",
    "| ArtistID | Name |\n",
    "|---|---|\n",
    "|...|...|\n",
    "\n",
    "- **`artist_alias.txt`**: Note that when plays are scrobbled, the client application submits the name of the artist being played. This name could be misspelled or nonstandard. For example, \"The Smiths\", \"Smiths, The\", and \"the smiths\" may appear as distinct artist IDs in the data set, even though they are plainly the same. `artist_alias.txt` maps artist IDs that are known misspellings or variants to the canonical ID of that artist. The data in this file has 2 columns separated by tab characters **(`\\t`).**\n",
    "\n",
    "| MisspelledArtistID | StandardArtistID |\n",
    "|---|---|\n",
    "|...|...|\n",
    "\n"
   ]
  },
  {
   "cell_type": "markdown",
   "metadata": {},
   "source": [
    "## 1.2. Understanding data: simple descriptive statistic\n",
    "\n",
    "In order to choose or design a suitable algorithm for achieving our goals, given the data we have, we should first understand data characteristics. To start, we import the necessary packages to work with regular expressions, Data Frames, and other nice features of our programming environment."
   ]
  },
  {
   "cell_type": "code",
   "execution_count": 1,
   "metadata": {
    "collapsed": false
   },
   "outputs": [],
   "source": [
    "import os\n",
    "import sys\n",
    "import re\n",
    "import random\n",
    "from pyspark import SparkContext\n",
    "from pyspark.sql import SQLContext\n",
    "from pyspark.sql.types import *\n",
    "from pyspark.sql import Row\n",
    "from pyspark.sql.functions import *\n",
    "\n",
    "%matplotlib inline \n",
    "import matplotlib.pyplot as plt\n",
    "import pandas as pd\n",
    "import numpy as np\n",
    "from time import time\n",
    "\n",
    "sqlContext = SQLContext(sc)\n",
    "base = \"/datasets/lastfm/\""
   ]
  },
  {
   "cell_type": "markdown",
   "metadata": {},
   "source": [
    "<font color=OrangeRed size=4>**[Group 6]**</font>\n",
    "\n",
    "magic function ```%matplotlib inline``` : plot inline in Notebook"
   ]
  },
  {
   "cell_type": "code",
   "execution_count": 1,
   "metadata": {
    "collapsed": false
   },
   "outputs": [
    {
     "name": "stdout",
     "output_type": "stream",
     "text": [
      "Found 4 items\n",
      "-rw-r--r--   3 zoeadmin supergroup       1273 2016-02-17 18:09 /datasets/lastfm/README.txt\n",
      "-rw-r--r--   3 zoeadmin supergroup    2932731 2016-02-17 18:09 /datasets/lastfm/artist_alias.txt\n",
      "-rw-r--r--   3 zoeadmin supergroup   55963575 2016-02-17 18:09 /datasets/lastfm/artist_data.txt\n",
      "-rw-r--r--   3 zoeadmin supergroup  426761761 2016-02-17 18:09 /datasets/lastfm/user_artist_data.txt\n",
      "1134999\t06Crazy Life\n",
      "6821360\tPang Nakarin\n",
      "10113088\tTerfel, Bartoli- Mozart: Don\n",
      "10151459\tThe Flaming Sidebur\n",
      "6826647\tBodenstandig 3000\n",
      "10186265\tJota Quest e Ivete Sangalo\n",
      "6828986\tToto_XX (1977\n",
      "10236364\tU.S Bombs -\n",
      "1135000\tartist formaly know as Mat\n",
      "10299728\tKassierer - Musik für beide Ohren\n",
      "cat: Unable to write to output stream.\n"
     ]
    }
   ],
   "source": [
    "!hdfs dfs -ls /datasets/lastfm\n",
    "!hdfs dfs -cat /datasets/lastfm/artist_data.txt | head -10"
   ]
  },
  {
   "cell_type": "markdown",
   "metadata": {},
   "source": [
    "## Question 1\n",
    "\n",
    "#### Question 1.0 (Non-grading)\n",
    "\n",
    "Using SPARK SQL, load data from `/datasets/lastfm/user_artist_data.txt` and show the first 20 entries (via function `show()`).\n",
    "\n",
    "For this Notebook, from a programming point of view, we are given the schema for the data we use, which is as follows:\n",
    "\n",
    "```\n",
    "userID: long int\n",
    "artistID: long int\n",
    "playCount: int\n",
    "```\n",
    "\n",
    "Each line of the dataset contains the above three fields, separated by a \"white space\"."
   ]
  },
  {
   "cell_type": "code",
   "execution_count": 2,
   "metadata": {
    "collapsed": false
   },
   "outputs": [
    {
     "name": "stdout",
     "output_type": "stream",
     "text": [
      "+-------+--------+---------+\n",
      "| userID|artistID|playCount|\n",
      "+-------+--------+---------+\n",
      "|1000002|       1|       55|\n",
      "|1000002| 1000006|       33|\n",
      "|1000002| 1000007|        8|\n",
      "|1000002| 1000009|      144|\n",
      "|1000002| 1000010|      314|\n",
      "|1000002| 1000013|        8|\n",
      "|1000002| 1000014|       42|\n",
      "|1000002| 1000017|       69|\n",
      "|1000002| 1000024|      329|\n",
      "|1000002| 1000025|        1|\n",
      "|1000002| 1000028|       17|\n",
      "|1000002| 1000031|       47|\n",
      "|1000002| 1000033|       15|\n",
      "|1000002| 1000042|        1|\n",
      "|1000002| 1000045|        1|\n",
      "|1000002| 1000054|        2|\n",
      "|1000002| 1000055|       25|\n",
      "|1000002| 1000056|        4|\n",
      "|1000002| 1000059|        2|\n",
      "|1000002| 1000062|       71|\n",
      "+-------+--------+---------+\n",
      "only showing top 20 rows\n",
      "\n"
     ]
    }
   ],
   "source": [
    "userArtistDataSchema = StructType([ \\\n",
    "    StructField(\"userID\", LongType(), True), \\\n",
    "    StructField(\"artistID\", LongType(), True), \\\n",
    "    StructField(\"playCount\", IntegerType(), True)])\n",
    "\n",
    "userArtistDF = sqlContext.read \\\n",
    "    .format('com.databricks.spark.csv') \\\n",
    "    .options(header='false', delimiter=' ') \\\n",
    "    .load(base + \"user_artist_data.txt\", schema = userArtistDataSchema) \\\n",
    "    .cache()\n",
    "\n",
    "# we can cache an Dataframe to avoid computing it from the beginning everytime it is accessed.\n",
    "userArtistDF.cache()\n",
    "\n",
    "userArtistDF.show()"
   ]
  },
  {
   "cell_type": "markdown",
   "metadata": {},
   "source": [
    "<font color=OrangeRed size=4>**[Group 6]**</font>\n",
    "\n",
    "```pyspark.sql.StructType```: The data type representing rows. A StructType object comprises a list of **StructFields.**"
   ]
  },
  {
   "cell_type": "markdown",
   "metadata": {},
   "source": [
    "#### Question 1.1: \n",
    "How many distinct users do we have in our data? "
   ]
  },
  {
   "cell_type": "code",
   "execution_count": 3,
   "metadata": {
    "collapsed": false
   },
   "outputs": [
    {
     "name": "stdout",
     "output_type": "stream",
     "text": [
      "<class 'pyspark.sql.dataframe.DataFrame'>\n",
      "Total n. of users:  148111\n"
     ]
    }
   ],
   "source": [
    "\n",
    "uniqueUsers = userArtistDF.select('userID').distinct().count()\n",
    "print (type(userArtistDF.select('userID')))\n",
    "#uniqueUsers = userArtistDF.select('userID').groupby(userArtistDF['userID']).count().count()\n",
    "\n",
    "\n",
    "\n",
    "print(\"Total n. of users: \", uniqueUsers)\n"
   ]
  },
  {
   "cell_type": "markdown",
   "metadata": {},
   "source": [
    "#### Question 1.2\n",
    "How many distinct artists do we have in our data ?"
   ]
  },
  {
   "cell_type": "code",
   "execution_count": 4,
   "metadata": {
    "collapsed": false
   },
   "outputs": [
    {
     "name": "stdout",
     "output_type": "stream",
     "text": [
      "Total n. of artists:  1631028\n"
     ]
    }
   ],
   "source": [
    "\n",
    "uniqueArtists = userArtistDF.select('artistID').distinct().count()\n",
    "print(\"Total n. of artists: \", uniqueArtists)\n"
   ]
  },
  {
   "cell_type": "markdown",
   "metadata": {},
   "source": [
    "#### Question 1.3\n",
    "\n",
    "One limitation of Spark MLlib's ALS implementation - which we will use later - is that it requires IDs for users and items to be nonnegative 32-bit integers. This means that IDs larger than Integer.MAX_VALUE, or 2147483647, can't be used. So we need to check whether this data set conforms to the strict requirements of our library.\n",
    "\n",
    "What are the maximum and minimum values of column `userID` ?\n",
    "\n",
    "HINT: Refer to section 4.3 of Laboratory 2."
   ]
  },
  {
   "cell_type": "code",
   "execution_count": 5,
   "metadata": {
    "collapsed": false
   },
   "outputs": [
    {
     "name": "stdout",
     "output_type": "stream",
     "text": [
      "[Row(userID=90)]\n",
      "[Row(userID=2443548)]\n"
     ]
    }
   ],
   "source": [
    "\n",
    "#userArtistDF....show()\n",
    "minimum=userArtistDF.select('userID').orderBy('userID', ascending=1).take(1)\n",
    "maximum=userArtistDF.select('userID').orderBy('userID',ascending=0).take(1)\n",
    "print (minimum)\n",
    "print (maximum)"
   ]
  },
  {
   "cell_type": "markdown",
   "metadata": {},
   "source": [
    "#### Question 1.4\n",
    "What is the maximum and minimum values of column `artistID` ?"
   ]
  },
  {
   "cell_type": "code",
   "execution_count": 6,
   "metadata": {
    "collapsed": false
   },
   "outputs": [
    {
     "name": "stdout",
     "output_type": "stream",
     "text": [
      "[Row(artistID=1)]\n",
      "[Row(artistID=10794401)]\n"
     ]
    }
   ],
   "source": [
    "\n",
    "minimum=userArtistDF.select('artistID').orderBy('artistID',ascending=1).take(1)\n",
    "\n",
    "\n",
    "maximum=userArtistDF.select('artistID').orderBy('artistID',ascending=0).take(1)\n",
    "print(minimum)\n",
    "print(maximum)"
   ]
  },
  {
   "cell_type": "markdown",
   "metadata": {},
   "source": [
    "We just discovered that we have a total of 148,111 users in our dataset. Similarly, we have a total of 1,631,028 artists in our dataset. The maximum values of `userID` and `artistID` are still smaller than the biggest number of integer type.  No additional transformation will be necessary to use these IDs.\n",
    "\n",
    "One thing we can see here is that SPARK SQL provides very concise and powerful methods for data analytics (compared to using RDD and their low-level API). You can see more examples [here](https://databricks.com/blog/2015/06/02/statistical-and-mathematical-functions-with-dataframes-in-spark.html)."
   ]
  },
  {
   "cell_type": "markdown",
   "metadata": {},
   "source": [
    "Next, we might want to understand better user activity and artist popularity.\n",
    "\n",
    "Here is a list of simple descriptive queries that helps us reaching these purposes:\n",
    "\n",
    "* How many times each user has played a song? This is a good indicator of who are the **most active users** of our service. Note that a very active user with many play counts does not necessarily mean that the user is also \"curious\"! Indeed, she could have played the same song several times.\n",
    "* How many play counts for each artist? This is a good indicator of the **artist popularity**. Since we do not have time information associated to our data, we can only build a, e.g., top-10 ranking of the most popular artists in the dataset. Later in the notebook, we will learn that our dataset has a very \"loose\" definition about artists: very often artist IDs point to song titles as well. This means we have to be careful when establishing popular artists. Indeed, artists whose data is \"well formed\" will have the correct number of play counts associated to them. Instead, artists that appear mixed with song titles may see their play counts \"diluted\" across their songs."
   ]
  },
  {
   "cell_type": "markdown",
   "metadata": {},
   "source": [
    "### Question 2\n",
    "\n",
    "#### Question 2.1\n",
    "How many times each user has played a song? Show 5 samples of the result."
   ]
  },
  {
   "cell_type": "code",
   "execution_count": 7,
   "metadata": {
    "collapsed": false
   },
   "outputs": [
    {
     "name": "stdout",
     "output_type": "stream",
     "text": [
      "+-------+--------------+\n",
      "| userID|sum(playCount)|\n",
      "+-------+--------------+\n",
      "|2361719|             1|\n",
      "|1000866|             1|\n",
      "|2174815|             1|\n",
      "|2439629|             1|\n",
      "|2019325|             1|\n",
      "|2426901|             1|\n",
      "|2026801|             1|\n",
      "|1051273|             1|\n",
      "|2334525|             1|\n",
      "|2440776|             1|\n",
      "|2164247|             1|\n",
      "|2329216|             1|\n",
      "|2211957|             1|\n",
      "|2357159|             1|\n",
      "|2167896|             1|\n",
      "|2427475|             1|\n",
      "|2213063|             1|\n",
      "|2438308|             1|\n",
      "|2232063|             1|\n",
      "|2438838|             1|\n",
      "+-------+--------------+\n",
      "only showing top 20 rows\n",
      "\n",
      "[Row(userID=1041783, sum(playCount)=8730), Row(userID=1042771, sum(playCount)=3), Row(userID=1043190, sum(playCount)=8), Row(userID=1043621, sum(playCount)=125), Row(userID=1043703, sum(playCount)=2609)]\n"
     ]
    }
   ],
   "source": [
    "\n",
    "# Compute user activity\n",
    "# We are interested in how many playcounts each user has scored.\n",
    "userArtistDF.groupBy('userID').sum('playCount').orderBy('sum(playCount)',ascending=1).show()\n",
    "userActivity = userArtistDF.groupBy('userID').sum('playCount').collect()\n",
    "\n",
    "print(userActivity[0:5])"
   ]
  },
  {
   "cell_type": "markdown",
   "metadata": {},
   "source": [
    "#### Question 2.2\n",
    "Plot CDF (or ECDF) of the number of play counts per User ID.\n",
    "\n",
    "Explain and comment the figure you just created: \n",
    "\n",
    "* for example, look at important percentiles (25%, median, 75%, tails such as >90%) and cross check with what you have found above to figure out if the result is plausible.\n",
    "* discuss about your users, with respect to the application domain we target in the notebook: you will notice that for some users, there is very little interaction with the system, which means that maybe reccommending something to them is going to be more difficult than for other users who interact more with the system.\n",
    "* look at outliers and reason about their impact on your reccommender algorithm"
   ]
  },
  {
   "cell_type": "code",
   "execution_count": 5,
   "metadata": {
    "collapsed": false
   },
   "outputs": [
    {
     "name": "stdout",
     "output_type": "stream",
     "text": [
      "np.arrange(len(Y):)\n",
      " [     0      1      2 ..., 148108 148109 148110]\n"
     ]
    },
    {
     "data": {
      "image/png": "[encoded data removed]",
      "text/plain": [
       "<matplotlib.figure.Figure at 0x7f4bdbebda90>"
      ]
     },
     "metadata": {},
     "output_type": "display_data"
    },
    {
     "data": {
      "image/png": "[encoded data removed]",
      "text/plain": [
       "<matplotlib.figure.Figure at 0x7f4bd9ab2c50>"
      ]
     },
     "metadata": {},
     "output_type": "display_data"
    },
    {
     "data": {
      "image/png": "[encoded data removed]",
      "text/plain": [
       "<matplotlib.figure.Figure at 0x7f4bd95b1550>"
      ]
     },
     "metadata": {},
     "output_type": "display_data"
    },
    {
     "data": {
      "image/png": "[encoded data removed]",
      "text/plain": [
       "<matplotlib.figure.Figure at 0x7f4bd9584d68>"
      ]
     },
     "metadata": {},
     "output_type": "display_data"
    },
    {
     "data": {
      "image/png": "[encoded data removed]",
      "text/plain": [
       "<matplotlib.figure.Figure at 0x7f4bd94fafd0>"
      ]
     },
     "metadata": {},
     "output_type": "display_data"
    }
   ],
   "source": [
    "pdf = pd.DataFrame(data=userActivity)\n",
    "Y = np.sort(pdf[1])\n",
    "yvals=np.arange(len(Y))/float(len(Y))\n",
    "#print(\"PDF:\",pdf)\n",
    "#print(\"pdf[1]:\\n\",pdf[1])\n",
    "#print(\"Y:\\n\",Y)\n",
    "print(\"np.arrange(len(Y):)\\n\",np.arange(len(Y)))\n",
    "plt.plot(Y,yvals)\n",
    "plt.xlabel('Play Counts')\n",
    "plt.ylabel('ECDF')\n",
    "plt.grid(True,which=\"both\",ls=\"-\")\n",
    "plt.title('Fig 1 ECDF of number of play counts per User ID')\n",
    "plt.show()\n",
    "\n",
    "#Focus on first 25% users\n",
    "plt.plot(Y[0:37000],yvals[0:37000])\n",
    "plt.xlabel('Play Counts')\n",
    "plt.ylabel('ECDF')\n",
    "plt.title('Fig 2 ECDF of number of play counts per User ID,first 25%')\n",
    "plt.show()\n",
    "\n",
    "#Focus on first 50% users\n",
    "plt.plot(Y[0:74000],yvals[0:74000])\n",
    "plt.xlabel('Play Counts')\n",
    "plt.ylabel('ECDF')\n",
    "plt.title('Fig 3 ECDF of number of play counts per User ID,first 50%')\n",
    "plt.show()\n",
    "\n",
    "#Focus on first 75% users\n",
    "plt.plot(Y[0:111000],yvals[0:111000])\n",
    "plt.xlabel('Play Counts')\n",
    "plt.ylabel('ECDF')\n",
    "plt.title('Fig 4ECDF of number of play counts per User ID,first 75%')\n",
    "plt.show()\n",
    "\n",
    "#Focus on last 15% users\n",
    "plt.plot(Y[-14810:-1],yvals[-14810:-1])\n",
    "plt.xlabel('Play Counts')\n",
    "plt.ylabel('ECDF')\n",
    "plt.title('Fig 5 ECDF of number of play counts per User ID, last 10%')\n",
    "plt.show()"
   ]
  },
  {
   "cell_type": "code",
   "execution_count": 6,
   "metadata": {
    "collapsed": false
   },
   "outputs": [
    {
     "name": "stdout",
     "output_type": "stream",
     "text": [
      "Number of users who only play the song once: 1848\n",
      "[ 1  2  3  4  5  6  7  8  9 10 11 12 13 14 15 16 17 18 19 20]\n",
      "[ 96058  97449  98477 102037 111546 122316 134032 135266 136293 143092\n",
      " 151504 165642 167273 168977 175822 183972 285978 393515 548427]\n"
     ]
    }
   ],
   "source": [
    "print(\"Number of users who only play the song once:\",len(Y[Y == 1]))\n",
    "\n",
    "Z = np.unique(Y)\n",
    "\n",
    "print (Z[0:20])\n",
    "print (Z[-20:-1])\n"
   ]
  },
  {
   "cell_type": "markdown",
   "metadata": {},
   "source": [
    "<font color=OrangeRed size=4>**[Group 6]**</font>\n",
    "\n",
    "#### 1.The distribution is not uniform\n",
    "\n",
    "As is shown in the figures and table above, the distribution of the play counts per user ID is not generally uniform. \n",
    "\n",
    "In the first **25%, 50%, 75%** of the total data, the curve is relatively flat. i.e. the distribution of the data is fairly uniform.\n",
    "\n",
    "However, when we include the whole dataset(Fig 1), the last part of the curve is rather gentle, which means the final part of the x axis data points(i.e.play counts) performs **a distinct increase.**\n",
    "\n",
    "#### 2. outlier points\n",
    "\n",
    "As we can see in the Fig 5 and the output of Z, the last **5** points(play counts) perform a prominant increase:  183972 285978 393515 548427 674412. Whichmakes Fig1 looks steep at the first 75% part and gentle at the last part.\n",
    "These are extreme active users, so we can consider making personalized recommendation plan for them\n",
    "\n",
    "Besides, there are **1848** users who only play the music **once**, so it is hard to recommend music for them based on the current data. In this case we can consider to recommend the music most rated by other users to these unactive users."
   ]
  },
  {
   "cell_type": "markdown",
   "metadata": {},
   "source": [
    "#### Question 2.3\n",
    "\n",
    "How many play counts for each artist? Plot CDF or ECDF of the result.\n",
    "\n",
    "Similarly to the previous question, you need to comment and interpret your result: what is the figure telling you?"
   ]
  },
  {
   "cell_type": "code",
   "execution_count": 7,
   "metadata": {
    "collapsed": false
   },
   "outputs": [],
   "source": [
    "\n",
    "# Compute artist popularity\n",
    "# We are interested in how many playcounts per artist\n",
    "# ATTENTION! Grouping by artistID may be problematic, as stated above.\n",
    "\n",
    "artistPopularity = userArtistDF.groupBy('ArtistID').sum('playCount').collect()\n"
   ]
  },
  {
   "cell_type": "markdown",
   "metadata": {},
   "source": [
    "\n",
    "\n",
    "<font color=OrangeRed size=4>**[Group 6]**</font>\n",
    "\n",
    "As the artistID for the same artist may vary, the result will not be precise. We will fix this problem later inthis Notebook."
   ]
  },
  {
   "cell_type": "code",
   "execution_count": 8,
   "metadata": {
    "collapsed": false
   },
   "outputs": [
    {
     "name": "stdout",
     "output_type": "stream",
     "text": [
      "np.arrange(len(Y):)\n",
      " [      0       1       2 ..., 1631025 1631026 1631027]\n"
     ]
    },
    {
     "data": {
      "image/png": "[encoded data removed]",
      "text/plain": [
       "<matplotlib.figure.Figure at 0x7f4bd9509518>"
      ]
     },
     "metadata": {},
     "output_type": "display_data"
    },
    {
     "data": {
      "image/png": "[encoded data removed]",
      "text/plain": [
       "<matplotlib.figure.Figure at 0x7f4bdbebd780>"
      ]
     },
     "metadata": {},
     "output_type": "display_data"
    },
    {
     "data": {
      "image/png": "[encoded data removed]",
      "text/plain": [
       "<matplotlib.figure.Figure at 0x7f4bc6e92e10>"
      ]
     },
     "metadata": {},
     "output_type": "display_data"
    },
    {
     "data": {
      "image/png": "[encoded data removed]",
      "text/plain": [
       "<matplotlib.figure.Figure at 0x7f4bc6e35358>"
      ]
     },
     "metadata": {},
     "output_type": "display_data"
    },
    {
     "data": {
      "image/png": "[encoded data removed]",
      "text/plain": [
       "<matplotlib.figure.Figure at 0x7f4bc6de0f28>"
      ]
     },
     "metadata": {},
     "output_type": "display_data"
    },
    {
     "data": {
      "image/png": "[encoded data removed]",
      "text/plain": [
       "<matplotlib.figure.Figure at 0x7f4bd956a9e8>"
      ]
     },
     "metadata": {},
     "output_type": "display_data"
    }
   ],
   "source": [
    "\n",
    "pdf = pd.DataFrame(data=artistPopularity)\n",
    "Y=np.sort(pdf[1])\n",
    "yvals=np.arange(len(Y))/float(len(Y))\n",
    "\n",
    "#print(\"pdf[1]:\\n\",pdf[1])\n",
    "\n",
    "print(\"np.arrange(len(Y):)\\n\",np.arange(len(Y)))\n",
    "plt.plot(Y,yvals)\n",
    "plt.xlabel('Play Counts')\n",
    "plt.ylabel('ECDF')\n",
    "plt.grid(True,which=\"both\",ls=\"-\")\n",
    "plt.title('ECDF of number of play counts per Artist ID')\n",
    "plt.show()\n",
    "\n",
    "##first 25% of the artists\n",
    "\n",
    "plt.plot(Y[0:400000],yvals[0:400000])\n",
    "plt.xlabel('Play Counts')\n",
    "plt.ylabel('ECDF')\n",
    "plt.grid(True,which=\"both\",ls=\"-\")\n",
    "plt.title('ECDF of number of play counts per Artist ID,first 25%')\n",
    "plt.show()\n",
    "\n",
    "##first 50% of the artists\n",
    "plt.plot(Y[0:800000],yvals[0:800000])\n",
    "plt.xlabel('Play Counts')\n",
    "plt.ylabel('ECDF')\n",
    "plt.grid(True,which=\"both\",ls=\"-\")\n",
    "plt.title('ECDF of number of play counts per Artist ID,first 50%')\n",
    "plt.show()\n",
    "\n",
    "##first 75% of the artists\n",
    "plt.plot(Y[0:1200000],yvals[0:1200000])\n",
    "plt.xlabel('Play Counts')\n",
    "plt.ylabel('ECDF')\n",
    "plt.grid(True,which=\"both\",ls=\"-\")\n",
    "plt.title('ECDF of number of play counts per Artist ID,first 75%')\n",
    "plt.show()\n",
    "\n",
    "##first 90% of the artists\n",
    "plt.plot(Y[0:1470000],yvals[0:1470000])\n",
    "plt.xlabel('Play Counts')\n",
    "plt.ylabel('ECDF')\n",
    "plt.grid(True,which=\"both\",ls=\"-\")\n",
    "plt.title('ECDF of number of play counts per Artist ID,first 90%')\n",
    "plt.show()\n",
    "\n",
    "##last 0.3% of the artists\n",
    "plt.plot(Y[1631000:],yvals[1631000:])\n",
    "plt.xlabel('Play Counts')\n",
    "plt.ylabel('ECDF')\n",
    "plt.grid(True,which=\"both\",ls=\"-\")\n",
    "plt.title('ECDF of number of play counts per Artist ID,last 0.3%')\n",
    "plt.show()\n",
    "\n"
   ]
  },
  {
   "cell_type": "code",
   "execution_count": 9,
   "metadata": {
    "collapsed": false
   },
   "outputs": [
    {
     "name": "stdout",
     "output_type": "stream",
     "text": [
      "524942 0.321847325735671\n",
      "[ 1  2  3  4  5  6  7  8  9 10 11 12 13 14 15 16 17 18 19 20] [524942 230502 133035  89881  65282  50745  40071  33718  28173  24768\n",
      "  21558  19404  16860  15159  13483  12335  11118  10334   9406   8722]\n",
      "[ 979539 1001228 1010807 1015064 1028627 1046922 1080412 1088657 1117143\n",
      " 1148568 1203226 1234387 1328869 1361392 1399418 1425942 1542806 1930592\n",
      " 2259185 2502130] [1 1 1 1 1 1 1 1 1 1 1 1 1 1 1 1 1 1 1 1]\n"
     ]
    }
   ],
   "source": [
    "#print(Y[-1])\n",
    "W = len(Y[Y==1])\n",
    "X = float(W)/float(len(Y))\n",
    "print(W,X)\n",
    "Z = np.unique(Y,return_counts=True)\n",
    "Z1 = Z[0]\n",
    "\n",
    "\n",
    "print (Z[0][0:20],Z[1][0:20])\n",
    "print (Z[0][-20:],Z[1][-20:])\n"
   ]
  },
  {
   "cell_type": "markdown",
   "metadata": {},
   "source": [
    "<font color=OrangeRed size=4>**[Group 6]**</font>\n",
    "\n",
    "#### Distribution is not uniform\n",
    "From the figure and data above, the distribution of the artists' popularity is not uniform either, like the distribution of the user activity. There are 524942 artists'songs, nearly 1/3(0.3218) of the whole data, are played only **once**. And there are 524,942+230,502+133,035 = 888,479(**54.47% out of 1,631,028, over half**) artists, whose songs are played **3 times or less**.\n",
    "\n",
    "We can consider these artists as **\"non-popular\"** ones, so when we recommend music to users, these artists should be rarely included.\n",
    "\n",
    "Meanwhile, we can also set a threshold to distinguish which are popular and non-popular artists, say, the artists whose play counts are over **1,600,000**(nearly same as the number of the users) are regarded as **top-popular**(In this case, we got **3 top-poplar artists** among all).From the bar chart below, they are artist **979,1000113 and 4267**.So we recommend these top-popular artists to every users.\n",
    "\n",
    "### **These 3 artists are important, because we will use them later in our discussion.**"
   ]
  },
  {
   "cell_type": "markdown",
   "metadata": {},
   "source": [
    "#### Question 2.4\n",
    "Plot a bar chart to show top 5 artists In terms of absolute play counts.\n",
    "\n",
    "Comment the figure you just obtained:\n",
    "\n",
    "* are these reasonable results?\n",
    "* is looking at top-5 artists enough to learn more about your data?\n",
    "* do you see anything strange in the data?"
   ]
  },
  {
   "cell_type": "code",
   "execution_count": 10,
   "metadata": {
    "collapsed": false
   },
   "outputs": [
    {
     "name": "stdout",
     "output_type": "stream",
     "text": [
      "[Row(ArtistID=979, sum(playCount)=2502130), Row(ArtistID=1000113, sum(playCount)=2259185), Row(ArtistID=4267, sum(playCount)=1930592), Row(ArtistID=1000024, sum(playCount)=1542806)]\n"
     ]
    },
    {
     "data": {
      "image/png": "[encoded data removed]",
      "text/plain": [
       "<matplotlib.figure.Figure at 0x7f4bd956aeb8>"
      ]
     },
     "metadata": {},
     "output_type": "display_data"
    },
    {
     "name": "stdout",
     "output_type": "stream",
     "text": [
      "ratio of top-5 artists by artists number: 3.0655512964829543e-06\n",
      "ratio of top-5 artists by play counts: 0.0311906871284\n"
     ]
    }
   ],
   "source": [
    "\n",
    "sortedArtist = sorted(artistPopularity, key = lambda x: -x[1])[:5]\n",
    "print (sortedArtist[-10:-1])\n",
    "artistID = [w[0] for w in sortedArtist]\n",
    "\n",
    "y_pos = range(len(sortedArtist))\n",
    "frequency = [w[1] for w in sortedArtist]\n",
    "\n",
    "plt.barh(y_pos, frequency[::-1], align='center', alpha=0.4)\n",
    "plt.yticks(y_pos, artistID[::-1])\n",
    "plt.xlabel('Play Count')\n",
    "plt.ylabel('Artist')\n",
    "plt.title('Top-5 Artist ID per play counts')\n",
    "plt.show()\n",
    "\n",
    "print(\"ratio of top-5 artists by artists number:\",float(5)/1631028)\n",
    "print(\"ratio of top-5 artists by play counts:\",Z1[-5:].sum()/float(Z1.sum()))\n",
    "\n"
   ]
  },
  {
   "cell_type": "markdown",
   "metadata": {},
   "source": [
    "<font color=OrangeRed size=4>**[Group 6]**</font>\n",
    "\n",
    "#### 1. These results are resonable.\n",
    "The play counts of top-5 artists range **from 1,400,000 to 2,500,000**, which are extremely higer than the first 90% artists(**less than 50**) shown in the ECDF figure above.\n",
    "\n",
    "#### 2. Ratio\n",
    "These top-5 artists account for only **0.000306%** of the **total artists(1,631,028)**. Meanwhile their play counts occupy **3.12%** of the whole play counts number. This implies these artists are excessively popular than other artists. However, it's not enough only to look at the top 5 artists. There are still **96.88%** play counts are not included, we need to think more about these **\"not so popular\"** artists in our recommendation system.\n",
    "\n",
    "\n",
    "\n"
   ]
  },
  {
   "cell_type": "markdown",
   "metadata": {},
   "source": [
    "All seems clear right now, but ... wait a second! What about the problems indicated above about artist \"disambiguation\"? Are these artist ID we are using referring to unique artists? How can we make sure that such \"opaque\" identifiers point to different bands? Let's try to use some additional dataset to answer this question:  `artist_data.txt` dataset. This time, the schema of the dataset consists in:\n",
    "\n",
    "```\n",
    "artist ID: long int\n",
    "name: string\n",
    "```\n",
    "\n",
    "We will try to find whether a single artist has two different IDs."
   ]
  },
  {
   "cell_type": "markdown",
   "metadata": {},
   "source": [
    "### Question 3\n",
    "\n",
    "#### Question 3.1\n",
    "Load the data from `/datasets/lastfm/artist_data.txt` and use the SparkSQL API to show 5 samples.\n",
    "\n",
    "HINT: If you encounter some error when parsing lines in data because of invalid entries, parameter `mode='DROPMALFORMED'` will help you to eliminate these entries. The suggested syntax is: `<df>.options(header='false', delimiter='\\t', mode='DROPMALFORMED')`."
   ]
  },
  {
   "cell_type": "code",
   "execution_count": 8,
   "metadata": {
    "collapsed": false
   },
   "outputs": [
    {
     "name": "stdout",
     "output_type": "stream",
     "text": [
      "+--------+--------------------+\n",
      "|artistID|                name|\n",
      "+--------+--------------------+\n",
      "| 1134999|        06Crazy Life|\n",
      "| 6821360|        Pang Nakarin|\n",
      "|10113088|Terfel, Bartoli- ...|\n",
      "|10151459| The Flaming Sidebur|\n",
      "| 6826647|   Bodenstandig 3000|\n",
      "+--------+--------------------+\n",
      "only showing top 5 rows\n",
      "\n",
      "+-------+--------+---------+\n",
      "| userID|artistID|playCount|\n",
      "+-------+--------+---------+\n",
      "|1000002|       1|       55|\n",
      "|1000002| 1000006|       33|\n",
      "|1000002| 1000007|        8|\n",
      "|1000002| 1000009|      144|\n",
      "|1000002| 1000010|      314|\n",
      "|1000002| 1000013|        8|\n",
      "|1000002| 1000014|       42|\n",
      "|1000002| 1000017|       69|\n",
      "|1000002| 1000024|      329|\n",
      "|1000002| 1000025|        1|\n",
      "|1000002| 1000028|       17|\n",
      "|1000002| 1000031|       47|\n",
      "|1000002| 1000033|       15|\n",
      "|1000002| 1000042|        1|\n",
      "|1000002| 1000045|        1|\n",
      "|1000002| 1000054|        2|\n",
      "|1000002| 1000055|       25|\n",
      "|1000002| 1000056|        4|\n",
      "|1000002| 1000059|        2|\n",
      "|1000002| 1000062|       71|\n",
      "+-------+--------+---------+\n",
      "only showing top 20 rows\n",
      "\n"
     ]
    }
   ],
   "source": [
    "customSchemaArtist = StructType([ \\\n",
    "    StructField(\"artistID\", LongType(), True), \\\n",
    "    StructField(\"name\", StringType(), True)])\n",
    "LongType(), True\n",
    "artistDF = sqlContext.read \\\n",
    "    .format('com.databricks.spark.csv') \\\n",
    "    .options(header='false', delimiter='\\t',mode='DROPMALFORMED') \\\n",
    "    .load(base + \"artist_data.txt\", schema = customSchemaArtist) \\\n",
    "    .cache()\n",
    "    \n",
    "artistDF.show(5)\n",
    "\n",
    "# we can cache an Dataframe to avoid computing it from the beginning everytime it is accessed.\n",
    "userArtistDF.cache()\n",
    "\n",
    "userArtistDF.show()"
   ]
  },
  {
   "cell_type": "markdown",
   "metadata": {},
   "source": [
    "#### Question 3.2\n",
    "Find 20 artists whose name contains \"Aerosmith\". Take a look at artists that have ID equal to `1000010` and `2082323`. In your opinion, are they pointing to the same artist?\n",
    "\n",
    "HINT: Function `locate(sub_string, string)` can be useful in this case."
   ]
  },
  {
   "cell_type": "code",
   "execution_count": 9,
   "metadata": {
    "collapsed": false
   },
   "outputs": [
    {
     "name": "stdout",
     "output_type": "stream",
     "text": [
      "+--------+--------------------+\n",
      "|artistID|                name|\n",
      "+--------+--------------------+\n",
      "|10586006|Dusty Springfield...|\n",
      "| 6946007|    Aerosmith/RunDMC|\n",
      "|10475683|Aerosmith: Just P...|\n",
      "| 1083031|    Aerosmith/ G n R|\n",
      "| 6872848|Britney, Nsync, N...|\n",
      "|10586963|Green Day - Oasis...|\n",
      "|10028830|The Aerosmith Ant...|\n",
      "|10300357| Run-DMC + Aerosmith|\n",
      "| 2027746|Aerosmith by Musi...|\n",
      "| 1140418|[rap]Run DMC and ...|\n",
      "|10237208| Aerosmith + Run DMC|\n",
      "|10588537|Aerosmith, Kid Ro...|\n",
      "| 9934757|Aerosmith - Big Ones|\n",
      "|10437510|Green Day ft. Oas...|\n",
      "| 6936680| RUN DNC & Aerosmith|\n",
      "|10479781|      Aerosmith Hits|\n",
      "|10114147|Charlies Angels -...|\n",
      "| 1262439|Kid Rock, Run DMC...|\n",
      "| 7032554|Aerosmith & Run-D...|\n",
      "|10033592|          Aerosmith?|\n",
      "+--------+--------------------+\n",
      "only showing top 20 rows\n",
      "\n",
      "+--------+---------+\n",
      "|artistID|     name|\n",
      "+--------+---------+\n",
      "| 1000010|Aerosmith|\n",
      "+--------+---------+\n",
      "\n",
      "+--------+------------+\n",
      "|artistID|        name|\n",
      "+--------+------------+\n",
      "| 2082323|01 Aerosmith|\n",
      "+--------+------------+\n",
      "\n"
     ]
    }
   ],
   "source": [
    "\n",
    "# get artists whose name contains \"Aerosmith\"\n",
    "artistDF[locate(\"Aerosmith\",artistDF.name) > 0].show()\n",
    "\n",
    "# show two examples\n",
    "artistDF[artistDF.artistID==1000010].show()\n",
    "artistDF[artistDF.artistID==2082323].show()\n"
   ]
  },
  {
   "cell_type": "markdown",
   "metadata": {},
   "source": [
    "To answer this question correctly, we need to use an additional dataset `artist_alias.txt` which contains the ids of mispelled artists and standard artists. The schema of the dataset consists in:\n",
    "\n",
    "```\n",
    "mispelledID ID: long int\n",
    "standard ID: long int\n",
    "```"
   ]
  },
  {
   "cell_type": "markdown",
   "metadata": {},
   "source": [
    "#### Question 3.3\n",
    "Using SparkSQL API, load the dataset from `/datasets/lastfm/artist_alias.txt` then show 5 samples."
   ]
  },
  {
   "cell_type": "code",
   "execution_count": 10,
   "metadata": {
    "collapsed": false
   },
   "outputs": [
    {
     "name": "stdout",
     "output_type": "stream",
     "text": [
      "+--------+-------+\n",
      "|   misID|  stdID|\n",
      "+--------+-------+\n",
      "| 1092764|1000311|\n",
      "| 1095122|1000557|\n",
      "| 6708070|1007267|\n",
      "|10088054|1042317|\n",
      "| 1195917|1042317|\n",
      "+--------+-------+\n",
      "only showing top 5 rows\n",
      "\n"
     ]
    }
   ],
   "source": [
    "\n",
    "customSchemaArtistAlias = StructType([ \\\n",
    "    StructField(\"misID\",LongType(), True), \\\n",
    "    StructField(\"stdID\",LongType(), True)])\n",
    "\n",
    "artistAliasDF = sqlContext.read \\\n",
    "    .format('com.databricks.spark.csv') \\\n",
    "    .options(header='false', delimiter='\\t',mode='DROPMALFORMED') \\\n",
    "    .load(base + \"artist_alias.txt\", schema = customSchemaArtistAlias) \\\n",
    "    .cache()\n",
    "\n",
    "artistAliasDF.show(5)\n"
   ]
  },
  {
   "cell_type": "markdown",
   "metadata": {},
   "source": [
    "#### Question 3.4\n",
    "Verify the answer of question 3.2 (\"Are artists that have ID equal to `1000010` and `2082323` the same ?\") by finding the standard ids corresponding to the mispelled ids `1000010` and `2082323` respectively."
   ]
  },
  {
   "cell_type": "code",
   "execution_count": 11,
   "metadata": {
    "collapsed": false
   },
   "outputs": [
    {
     "name": "stdout",
     "output_type": "stream",
     "text": [
      "+-----+-----+\n",
      "|misID|stdID|\n",
      "+-----+-----+\n",
      "+-----+-----+\n",
      "\n",
      "+-------+-------+\n",
      "|  misID|  stdID|\n",
      "+-------+-------+\n",
      "|2082323|1000010|\n",
      "+-------+-------+\n",
      "\n",
      "+-----+-----+\n",
      "|misID|stdID|\n",
      "+-----+-----+\n",
      "+-----+-----+\n",
      "\n"
     ]
    }
   ],
   "source": [
    "\n",
    "artistAliasDF[artistAliasDF.misID==1000010].show()\n",
    "artistAliasDF[artistAliasDF.misID==2082323].show()\n",
    "artistAliasDF[artistAliasDF.misID==10033592].show()\n",
    "\n",
    "\n",
    "# 1000010 is a standard id, so it haven't been considered as mispelled id in the dataset\n"
   ]
  },
  {
   "cell_type": "markdown",
   "metadata": {},
   "source": [
    "<font color=OrangeRed size=4>**[Group 6]**</font>\n",
    "\n",
    "From the results above, we found the ID 2082323 and 1000010 point to the same artist. In fact 1000010 is the standard artist ID, and 2082323 is one mispelled ID of 1000010."
   ]
  },
  {
   "cell_type": "markdown",
   "metadata": {},
   "source": [
    "### Question 4\n",
    "\n",
    "The mispelled or nonstandard information about artist make our results in the previous queries a bit \"sloppy\". To overcome this problem, we can replace all mispelled artist ids by the corresponding standard ids and re-compute the basic descriptive statistics on the \"amended\" data.\n",
    "First, we construct a \"dictionary\" that maps non-standard ids to a standard ones. Then this \"dictionary\" will be used to replace the mispelled artists.\n",
    "\n",
    "#### Question 4.1\n",
    "From data in the dataframe loaded from `/datasets/lastfm/artist_alias.txt`, construct a dictionary that maps each non-standard id to its standard id.\n",
    "\n",
    "HINT: Instead of using function `collect`, we can use `collectAsMap` to convert the collected data to a dictionary inline."
   ]
  },
  {
   "cell_type": "code",
   "execution_count": 12,
   "metadata": {
    "collapsed": false
   },
   "outputs": [
    {
     "name": "stdout",
     "output_type": "stream",
     "text": [
      "<class 'pyspark.sql.dataframe.DataFrame'>\n",
      "<class 'pyspark.rdd.RDD'>\n",
      "<class 'dict'>\n"
     ]
    },
    {
     "data": {
      "text/plain": [
       "PythonRDD[82] at RDD at PythonRDD.scala:48"
      ]
     },
     "execution_count": 12,
     "metadata": {},
     "output_type": "execute_result"
    }
   ],
   "source": [
    "\n",
    "artistAlias = artistAliasDF.rdd.map(lambda row: ( row[0], row[1])).collectAsMap()\n",
    "print(type(artistAliasDF))\n",
    "print(type(artistAliasDF.rdd))\n",
    "print(type(artistAlias))\n",
    "artistAliasDF.rdd.map(lambda x:x)"
   ]
  },
  {
   "cell_type": "markdown",
   "metadata": {},
   "source": [
    "#### Question 4.2\n",
    "Using the constructed dictionary in question 4.1, replace the non-standard artist ids in the dataframe that was loaded from `/datasets/lastfm/user_artist_data.txt` by the corresponding standard ids then show 5 samples.\n",
    "\n",
    "**NOTE 1**: If an id doesn't exist in the dictionary as a mispelled id, it is really a standard id.\n",
    "\n",
    "\n",
    "Using funtion `map` on Spark Dataframe will give us an RDD. We can convert this RDD back to Dataframe by using `sqlContext.createDataFrame(rdd_name, sql_schema)`\n",
    "\n",
    "\n",
    "**NOTE 2**: be careful! you need to be able to verify that you indeed solved the problem of having bad artist IDs. In principle, for the new data to be correct, we should to have duplicate pairs (user, artist), potentially with different play counts, right? In answering the question, please **show** that you indeed fixed the problem. "
   ]
  },
  {
   "cell_type": "code",
   "execution_count": 26,
   "metadata": {
    "collapsed": false
   },
   "outputs": [
    {
     "name": "stdout",
     "output_type": "stream",
     "text": [
      "1st print\n",
      "The script takes 0.940128 seconds\n",
      "2nd print\n",
      "[Row(artistID=1000010, sum(playCount)=272992)]\n",
      "3rd print\n",
      "[Row(artistID=1000010, sum(playCount)=272606)]\n",
      "1st show\n",
      "+------+--------+---------+\n",
      "|userID|artistID|playCount|\n",
      "+------+--------+---------+\n",
      "+------+--------+---------+\n",
      "\n",
      "2nd show\n",
      "+--------+-------+\n",
      "|   misID|  stdID|\n",
      "+--------+-------+\n",
      "|10300357|1008164|\n",
      "+--------+-------+\n",
      "\n",
      "3rd show\n",
      "+--------+----------+\n",
      "|artistID|      name|\n",
      "+--------+----------+\n",
      "| 1008164|Run-D.M.C.|\n",
      "+--------+----------+\n",
      "\n"
     ]
    }
   ],
   "source": [
    "\n",
    "from time import time\n",
    "\n",
    "def replaceMispelledIDs(fields):\n",
    "    finalID = artistAlias.get(fields[1], fields[1])\n",
    "    return (fields[0], finalID, fields[2])\n",
    "\n",
    "t0 = time()\n",
    "\n",
    "newUserArtistDF = sqlContext.createDataFrame(\n",
    "    userArtistDF.rdd.map( lambda x:replaceMispelledIDs(x),userArtistDF),\n",
    "    userArtistDataSchema\n",
    ")\n",
    "#artistAliasDF.show()\n",
    "\n",
    "#newUserArtistDF.rdd.filter(lambda x:x == newUserArtistDF.artistID,)\n",
    "\n",
    "#newUserArtistDF.[newUserArtistDF.artistID==artistAliasDF.stdID].show()\n",
    "t1 = time()\n",
    "print(\"1st print\")\n",
    "print('The script takes %f seconds' %(t1-t0))\n",
    "print(\"2nd print\")\n",
    "print(newUserArtistDF[newUserArtistDF.artistID==1000010].groupBy(\"artistID\").sum(\"playCount\").take(1))\n",
    "print(\"3rd print\")\n",
    "print(userArtistDF[userArtistDF.artistID==1000010].groupBy(\"artistID\").sum(\"playCount\").take(1))\n",
    "print(\"1st show\")\n",
    "newUserArtistDF[newUserArtistDF.artistID==10300357].show()\n",
    "print(\"2nd show\")\n",
    "artistAliasDF[artistAliasDF.misID==10300357].show()\n",
    "print(\"3rd show\")\n",
    "artistDF[artistDF.artistID==1008164].show()\n",
    "\n",
    "\n"
   ]
  },
  {
   "cell_type": "markdown",
   "metadata": {},
   "source": [
    "<font color=OrangeRed size=4>**[Group 6]**</font>\n",
    "\n",
    "In order to prove we really solve this problem, we count the standard artistID **\"1000010\"** both in userArtistDF and newUserArtistDF. The result shows that the total playCount of these two are 272,992 and 272,606 respectively. So there are 272,992 - 272,606 = 386 play counts of **artist 1000010** mispelled.\n",
    "\n",
    "#### Example\n",
    "\n",
    "As is shown in **Question3.4**, 10300357 is a mispelled ID. So here we didn't find any artistID euqal to 10300357(referring to the ```1st show```). Instead, in the original Dataframe **\"artistDF\"**, we can find 10300357 refering to **\"Run-DMC + Aerosmith\"**, and this has been proved to be a misspelled ID(referring to the ```2nd show```).\n",
    "Actually, ID 10300357 represents \"Run DMC+Aerosmith\". Its std ID is 1008164, which represents \"Run-MC\"\n",
    "\n",
    "Another way to prove this:"
   ]
  },
  {
   "cell_type": "code",
   "execution_count": 13,
   "metadata": {
    "collapsed": false
   },
   "outputs": [
    {
     "name": "stdout",
     "output_type": "stream",
     "text": [
      "+-------+--------+---------+-------+-------+\n",
      "| userID|artistID|playCount|  misID|  stdID|\n",
      "+-------+--------+---------+-------+-------+\n",
      "|1000002| 1000434|       89|1000434|1000518|\n",
      "|1000002| 1000762|        1|1000762|1001514|\n",
      "|1000002| 1001220|        1|1001220|    721|\n",
      "|1000002| 1001410|        5|1001410|1034635|\n",
      "|1000002| 1002498|        1|1002498|   3066|\n",
      "|1000002| 1003377|        1|1003377|6691692|\n",
      "|1000002| 1003633|        1|1003633|1237611|\n",
      "|1000002| 1006102|        4|1006102|1034635|\n",
      "|1000002| 1007652|        1|1007652|1001172|\n",
      "|1000002| 1010219|        2|1010219|1008391|\n",
      "|1000002| 1017405|        1|1017405|2006683|\n",
      "|1000002| 1059598|        2|1059598|1000840|\n",
      "|1000002|    3197|        2|   3197|2058809|\n",
      "|1000002|    5702|       76|   5702|1066440|\n",
      "|1000002|     709|        2|    709|2003588|\n",
      "|1000019| 1000287|        1|1000287|1239413|\n",
      "|1000019| 1000586|        1|1000586|2001739|\n",
      "|1000019| 1000943|        6|1000943|1247540|\n",
      "|1000019| 1001379|        4|1001379|1049809|\n",
      "|1000019| 1002143|        1|1002143|   4377|\n",
      "+-------+--------+---------+-------+-------+\n",
      "only showing top 20 rows\n",
      "\n",
      "+--------+--------------+\n",
      "|   stdID|sum(playCount)|\n",
      "+--------+--------------+\n",
      "| 1002519|            31|\n",
      "| 1279485|           628|\n",
      "| 1008798|         46589|\n",
      "| 1279464|           252|\n",
      "| 1233634|           200|\n",
      "|10407516|          1372|\n",
      "| 1019016|          3082|\n",
      "| 1087201|            22|\n",
      "| 1277866|           904|\n",
      "| 1007205|          1492|\n",
      "| 1007049|           129|\n",
      "| 1019906|           584|\n",
      "| 6915893|            59|\n",
      "| 1287895|           749|\n",
      "| 1014330|            48|\n",
      "| 1172061|            23|\n",
      "| 1314871|            54|\n",
      "| 1061659|           188|\n",
      "| 1004346|            14|\n",
      "| 1009366|             1|\n",
      "+--------+--------------+\n",
      "only showing top 20 rows\n",
      "\n"
     ]
    }
   ],
   "source": [
    "fulldf=userArtistDF.join(artistAliasDF,userArtistDF['artistID']==artistAliasDF['misID'],'inner')\n",
    "fulldf.show()\n",
    "\n",
    "#to figure out how many playCounts is added by misID for each stdID\n",
    "extraPlayCount=fulldf.groupBy('stdID').sum('playCount')\n",
    "extraPlayCount.show()"
   ]
  },
  {
   "cell_type": "markdown",
   "metadata": {},
   "source": [
    "Test it with \"stdID=1000010\":"
   ]
  },
  {
   "cell_type": "code",
   "execution_count": 16,
   "metadata": {
    "collapsed": false
   },
   "outputs": [
    {
     "name": "stdout",
     "output_type": "stream",
     "text": [
      "[Row(stdID=1000010, sum(playCount)=386)]\n"
     ]
    }
   ],
   "source": [
    "print(extraPlayCount[extraPlayCount[0]==1000010].take(1))"
   ]
  },
  {
   "cell_type": "markdown",
   "metadata": {},
   "source": [
    "\n",
    "Which is same with what we got before, so we indeed fixed the problem."
   ]
  },
  {
   "cell_type": "markdown",
   "metadata": {},
   "source": [
    "#### Question 4.3\n",
    "Spark actions are executed through a set of stages, separated by distributed \"shuffle\" operations. Spark can be instructed to **automatically and efficiently** broadcast common data needed by tasks within **each stage**. The data broadcasted this way is cached in **serialized form** and deserialized before running each task. \n",
    "\n",
    "We can thus improve our answer to question 4.2: we can reduce the communication cost by shipping the \"dictionary\" in a more efficient way by using `broadcast variable`. Broadcast variables allow the programmer to keep a read-only variable cached on **each machine** rather than shipping a copy of it with tasks. They are cached in deserialized form. They can be used, for example, to give every node a copy of a large input dataset in an efficient manner. \n",
    "\n",
    "The broadcast of variable `v` can be created by `bV = sc.broadcast(v)`. Then value of this broadcast variable can be access via `bV.value`\n",
    "\n",
    "To question is then: using a broadcast variable, modify the script in question 4.2 to get better performance in terms of running time.\n"
   ]
  },
  {
   "cell_type": "code",
   "execution_count": 17,
   "metadata": {
    "collapsed": false
   },
   "outputs": [
    {
     "name": "stdout",
     "output_type": "stream",
     "text": [
      "+-------+--------+---------+\n",
      "| userID|artistID|playCount|\n",
      "+-------+--------+---------+\n",
      "|1000002|       1|       55|\n",
      "|1000002| 1000006|       33|\n",
      "|1000002| 1000007|        8|\n",
      "|1000002| 1000009|      144|\n",
      "|1000002| 1000010|      314|\n",
      "+-------+--------+---------+\n",
      "only showing top 5 rows\n",
      "\n",
      "The script takes 0.482129 seconds\n"
     ]
    }
   ],
   "source": [
    "\n",
    "from time import time\n",
    "\n",
    "bArtistAlias = sc.broadcast(artistAlias)\n",
    "\n",
    "def replaceMispelledIDs(fields):\n",
    "    finalID = bArtistAlias.value.get(fields[1] , fields[1])\n",
    "    return (fields[0] , finalID, fields[2])\n",
    "\n",
    "t0 = time()\n",
    "\n",
    "newUserArtistDF = sqlContext.createDataFrame(\n",
    "    userArtistDF.rdd.map(replaceMispelledIDs), \n",
    "    userArtistDataSchema\n",
    ")\n",
    "newUserArtistDF.show(5)\n",
    "t1 = time()\n",
    "\n",
    "print('The script takes %f seconds' %(t1-t0))\n",
    "newUserArtistDF = newUserArtistDF.cache()\n",
    "\n"
   ]
  },
  {
   "cell_type": "markdown",
   "metadata": {},
   "source": [
    "<font color=OrangeRed size=4>**[Group 6]**</font>\n",
    "\n",
    "Compared with 1.529793 seconds we got before,broadcast indeed has better performance."
   ]
  },
  {
   "cell_type": "markdown",
   "metadata": {},
   "source": [
    "Although having some advantages, explicitly creating broadcast variables is only useful when tasks across multiple stages need the same data or when caching the data in deserialized form is important."
   ]
  },
  {
   "cell_type": "markdown",
   "metadata": {},
   "source": [
    "### Question 5\n",
    "\n",
    "Well, our data frame contains clean and \"standard\" data. We can use it to redo previous statistic queries.\n",
    "\n",
    "#### Question 5.1\n",
    "\n",
    "How many unique artists? Compare with the result when using old data."
   ]
  },
  {
   "cell_type": "code",
   "execution_count": 18,
   "metadata": {
    "collapsed": false
   },
   "outputs": [
    {
     "name": "stdout",
     "output_type": "stream",
     "text": [
      "Total n. of artists:  1568126\n"
     ]
    }
   ],
   "source": [
    "uniqueArtists = newUserArtistDF.select(\"ArtistID\").distinct().count()\n",
    "#uniqueArtists = newUserArtistDF.groupBy(\"ArtistID\").count().count()\n",
    "\n",
    "print(\"Total n. of artists: \", uniqueArtists)\n",
    "\n"
   ]
  },
  {
   "cell_type": "markdown",
   "metadata": {},
   "source": [
    "<font color=OrangeRed size=4>**[Group 6]**</font>\n",
    "\n",
    "With related to **Qustion 1.2**, the number of unique artists is 1,631,028, which is more than 1,568,126. \n",
    "This proves that we have 1,631,028-1,568,126 = **62,902** artists' names are mispelled.\n"
   ]
  },
  {
   "cell_type": "markdown",
   "metadata": {},
   "source": [
    "#### Question 5.2\n",
    "\n",
    "Who are the top-10 artistis?\n",
    "  * In terms of absolute play counts\n",
    "  * In terms of \"audience size\", that is, how many users listened to one of their track at least once\n",
    "  \n",
    "Plot the results, and explain the figures you obtain."
   ]
  },
  {
   "cell_type": "code",
   "execution_count": 20,
   "metadata": {
    "collapsed": false
   },
   "outputs": [
    {
     "name": "stdout",
     "output_type": "stream",
     "text": [
      "   artistID  playCount\n",
      "0       979    2502596\n",
      "1   1000113    2259825\n",
      "2      4267    1931143\n",
      "3   1000024    1543430\n",
      "4      4468    1426254\n",
      "5        82    1399665\n",
      "6       831    1361977\n",
      "7   1001779    1328969\n",
      "8   1000130    1234773\n",
      "9       976    1203348\n"
     ]
    },
    {
     "data": {
      "image/png": "[encoded data removed]",
      "text/plain": [
       "<matplotlib.figure.Figure at 0x7f3297698b00>"
      ]
     },
     "metadata": {},
     "output_type": "display_data"
    }
   ],
   "source": [
    "\n",
    "# calculate top-10 artists in term of play counts\n",
    "top10ArtistsPC = newUserArtistDF.groupBy(\"ArtistID\").sum(\"PlayCount\").orderBy('sum(playCount)', ascending=0).take(10)\n",
    "y_pos = range(len(top10ArtistsPC))\n",
    "pdf = pd.DataFrame(data=top10ArtistsPC,columns = [\"artistID\",\"playCount\"])\n",
    "\n",
    "print (pdf)\n",
    "\n",
    "artistID = [w[0] for w in top10ArtistsPC]\n",
    "plt.barh(y_pos, pdf.playCount[::-1], align='center', alpha=0.4)\n",
    "plt.yticks(y_pos, artistID[::-1])\n",
    "plt.xlabel('Play Count')\n",
    "plt.ylabel('Artist')\n",
    "plt.title('Top-10 Artist ID in terms of play counts')\n",
    "plt.show()\n"
   ]
  },
  {
   "cell_type": "markdown",
   "metadata": {},
   "source": [
    "<font color=OrangeRed size=4>**[Group 6]**</font>\n",
    "\n",
    "We compared the result with the one before replacing the misspelled artistID, **as shown below**. The play counts after replacement are **slightly larger** than the previous ones. \n",
    "\n",
    "**e.g**. The play counts for **artist 979** now is **2,502,596**, while the previous is **2,502,130**.\n",
    "\n",
    "This also proves thet some misspelled artist IDs are added into thestandard artistIDs after replacement."
   ]
  },
  {
   "cell_type": "code",
   "execution_count": 21,
   "metadata": {
    "collapsed": false
   },
   "outputs": [
    {
     "name": "stdout",
     "output_type": "stream",
     "text": [
      "<class 'list'>\n",
      "[Row(ArtistID=979, sum(playCount)=2502130), Row(ArtistID=1000113, sum(playCount)=2259185), Row(ArtistID=4267, sum(playCount)=1930592), Row(ArtistID=1000024, sum(playCount)=1542806)]\n"
     ]
    },
    {
     "data": {
      "image/png": "[encoded data removed]",
      "text/plain": [
       "<matplotlib.figure.Figure at 0x7f32ceba2cc0>"
      ]
     },
     "metadata": {},
     "output_type": "display_data"
    }
   ],
   "source": [
    "sortedArtist = sorted(artistPopularity, key = lambda x: -x[1])[:5]\n",
    "print(type(artistPopularity))\n",
    "print (sortedArtist[-10:-1])\n",
    "artistID = [w[0] for w in sortedArtist]\n",
    "\n",
    "y_pos = range(len(sortedArtist))\n",
    "frequency = [w[1] for w in sortedArtist]\n",
    "\n",
    "plt.barh(y_pos, frequency[::-1], align='center', alpha=0.4)\n",
    "plt.yticks(y_pos, artistID[::-1])\n",
    "plt.xlabel('Play Count')\n",
    "plt.ylabel('Artist')\n",
    "plt.title('Top-5 Artist ID per play counts')\n",
    "plt.show()\n"
   ]
  },
  {
   "cell_type": "code",
   "execution_count": 22,
   "metadata": {
    "collapsed": false
   },
   "outputs": [
    {
     "name": "stdout",
     "output_type": "stream",
     "text": [
      "         0      1\n",
      "0      979  45714\n",
      "1     4267  43943\n",
      "2  1000113  41063\n",
      "3     1177  38553\n",
      "4  1034635  37691\n",
      "5      976  36899\n",
      "6     1274  36052\n",
      "7     1205  34936\n",
      "8  1000024  32554\n",
      "9     3327  31983\n"
     ]
    },
    {
     "data": {
      "image/png": "[encoded data removed]",
      "text/plain": [
       "<matplotlib.figure.Figure at 0x7f3284ced2b0>"
      ]
     },
     "metadata": {},
     "output_type": "display_data"
    }
   ],
   "source": [
    "# calculate top-10 artists in term of audience size\n",
    "top10ArtistsAS = newUserArtistDF.groupBy(\"ArtistID\").count().orderBy('count', ascending=0).take(10)\n",
    "\n",
    "y_pos = range(len(top10ArtistsAS))\n",
    "pdf = pd.DataFrame(data=top10ArtistsAS)\n",
    "artistID = [w[0] for w in top10ArtistsAS]\n",
    "plt.barh(y_pos, pdf[1][::-1], align='center', alpha=0.4)\n",
    "plt.yticks(y_pos, artistID[::-1])\n",
    "print(pdf)\n",
    "plt.xlabel('Audience Size')\n",
    "plt.ylabel('Artist')\n",
    "plt.title('Top-10 Artist ID  in term of audience size')\n",
    "plt.show()\n"
   ]
  },
  {
   "cell_type": "markdown",
   "metadata": {},
   "source": [
    "<font color=OrangeRed size=4>**[Group 6]**</font>"
   ]
  },
  {
   "cell_type": "code",
   "execution_count": 23,
   "metadata": {
    "collapsed": false
   },
   "outputs": [
    {
     "name": "stdout",
     "output_type": "stream",
     "text": [
      "    artistID  playCount  AudienceSize\n",
      "0        979    2502596         45714\n",
      "1    1000113    2259825         41063\n",
      "2       4267    1931143         43943\n",
      "3    1000024    1543430         32554\n",
      "4       4468    1426254           NaN\n",
      "5         82    1399665           NaN\n",
      "6        831    1361977           NaN\n",
      "7    1001779    1328969           NaN\n",
      "8    1000130    1234773           NaN\n",
      "9        976    1203348         36899\n",
      "10      1177        NaN         38553\n",
      "11   1034635        NaN         37691\n",
      "12      1274        NaN         36052\n",
      "13      1205        NaN         34936\n",
      "14      3327        NaN         31983\n"
     ]
    }
   ],
   "source": [
    "pdfPC = pd.DataFrame(data=top10ArtistsPC,columns=[\"artistID\",\"playCount\"])\n",
    "pdfAS = pd.DataFrame(data=top10ArtistsAS,columns=[\"artistID\",\"AudienceSize\"])\n",
    "\n",
    "fulldfArtist=pd.merge(pdfPC,pdfAS,left_on=\"artistID\",right_on=\"artistID\",how='outer')\n",
    "print(fulldfArtist)\n"
   ]
  },
  {
   "cell_type": "markdown",
   "metadata": {},
   "source": [
    "\n",
    "Speaking to popularity of an artist, we should consider not only the **play counts**, but also the **audience size.**\n",
    "\n",
    "Here we use ```join``` function to compare the top-10 artist we got in terms of play counts and audience size respectively. \n",
    "\n",
    "From the table above we can see that **\"1177, 1034635, 1274, 1205, 3327\"**, these 5 artists have a wider range of fans, but the play counts of the are not in the top 10 list. Meanwhile, **\"4468,82,831,1001779,1000130\"**, these 5 artists stands out in the play counts but have a relatively limited audience range.\n",
    "\n",
    "Also we can see the rest of the artists in this joint table(namely **979,1000113,4267,1000024,976**), they have both the high play counts and wide audience range, which means they can be regarded as **the top-5 most popular singers** among all the audiences in the sample.\n",
    "\n",
    "Looking back to our comment in **question 2.3**, the top-popular we recommended in Q2.3 are **979,1000113 and 4267**. Here they are proved to be the real popular artists(high-rated in both play counts and audience size). So it is resonable to recommend them to every users in this system.\n",
    "\n",
    "Curious about these **three top-popular artists**, we use ```artistDF``` to find who they are. Here we go:"
   ]
  },
  {
   "cell_type": "code",
   "execution_count": 24,
   "metadata": {
    "collapsed": false,
    "scrolled": false
   },
   "outputs": [
    {
     "name": "stdout",
     "output_type": "stream",
     "text": [
      "[Row(artistID=979, name='Radiohead')]\n",
      "[Row(artistID=1000113, name='The Beatles')]\n",
      "[Row(artistID=4267, name='Green Day')]\n",
      "Radiohead:\n"
     ]
    },
    {
     "data": {
      "text/html": [
       "<img src=\"http://i0.kym-cdn.com/entries/icons/original/000/018/291/radiohead.jpg\"/>"
      ],
      "text/plain": [
       "<IPython.core.display.Image object>"
      ]
     },
     "metadata": {},
     "output_type": "display_data"
    },
    {
     "name": "stdout",
     "output_type": "stream",
     "text": [
      "The Beatles:\n"
     ]
    },
    {
     "data": {
      "text/html": [
       "<img src=\"https://im.novinky.cz/051/200511-original1-ynl2t.jpg\"/>"
      ],
      "text/plain": [
       "<IPython.core.display.Image object>"
      ]
     },
     "metadata": {},
     "output_type": "display_data"
    },
    {
     "name": "stdout",
     "output_type": "stream",
     "text": [
      "Green Day\n"
     ]
    },
    {
     "data": {
      "text/html": [
       "<img src=\"http://total-management.com/wp-content/uploads/2017/01/greenday-2.jpg\"/>"
      ],
      "text/plain": [
       "<IPython.core.display.Image object>"
      ]
     },
     "metadata": {},
     "output_type": "display_data"
    }
   ],
   "source": [
    "print(artistDF[artistDF.artistID==979].take(1))\n",
    "print(artistDF[artistDF.artistID==1000113].take(1))\n",
    "print(artistDF[artistDF.artistID==4267].take(1))\n",
    "from IPython.display import Image\n",
    "from IPython.core.display import HTML \n",
    "from IPython.display import display\n",
    "print(\"Radiohead:\")\n",
    "x = Image(url= \"http://i0.kym-cdn.com/entries/icons/original/000/018/291/radiohead.jpg\")\n",
    "display(x)\n",
    "print(\"The Beatles:\")\n",
    "y = Image(url= \"https://im.novinky.cz/051/200511-original1-ynl2t.jpg\")\n",
    "display(y)\n",
    "print(\"Green Day\")\n",
    "z = Image(url= \"http://total-management.com/wp-content/uploads/2017/01/greenday-2.jpg\")\n",
    "display(z)"
   ]
  },
  {
   "cell_type": "markdown",
   "metadata": {},
   "source": [
    "#### Question 5.3\n",
    "\n",
    "Who are the top-10 users?\n",
    "  * In terms of absolute play counts\n",
    "  * In terms of \"curiosity\", that is, how many different artists they listened to\n",
    "\n",
    "Plot the results"
   ]
  },
  {
   "cell_type": "code",
   "execution_count": 25,
   "metadata": {
    "collapsed": false
   },
   "outputs": [
    {
     "name": "stdout",
     "output_type": "stream",
     "text": [
      "    userID  playCount\n",
      "0  1059637     674412\n",
      "1  2064012     548427\n",
      "2  2069337     393515\n",
      "3  2023977     285978\n",
      "4  1046559     183972\n",
      "5  1052461     175822\n",
      "6  1070932     168977\n",
      "7  1031009     167273\n",
      "8  2020513     165642\n",
      "9  2062243     151504\n"
     ]
    },
    {
     "data": {
      "image/png": "[encoded data removed]",
      "text/plain": [
       "<matplotlib.figure.Figure at 0x7f32838fcb38>"
      ]
     },
     "metadata": {},
     "output_type": "display_data"
    }
   ],
   "source": [
    "\n",
    "# calculate top 10 users interm of play counts\n",
    "top10UsersByPlayCount = newUserArtistDF.groupBy(\"UserID\").sum(\"PlayCount\").orderBy(\"sum(PlayCount)\",ascending=0).take(10)\n",
    "y_pos = range(len(top10UsersByPlayCount))\n",
    "pdfUserPC = pd.DataFrame(data=top10UsersByPlayCount,columns = [\"userID\",\"playCount\"])\n",
    "print(pdfUserPC)\n",
    "userListPC = [w[0] for w in top10UsersByPlayCount]\n",
    "plt.barh(y_pos, pdfUserPC.playCount[::-1], align='center', alpha=0.4)\n",
    "plt.yticks(y_pos, userListPC[::-1])\n",
    "plt.xlabel('Play Count')\n",
    "plt.ylabel('User')\n",
    "plt.title('Top-10 Users ID per play counts')\n",
    "plt.show()\n"
   ]
  },
  {
   "cell_type": "code",
   "execution_count": 26,
   "metadata": {
    "collapsed": false
   },
   "outputs": [
    {
     "name": "stdout",
     "output_type": "stream",
     "text": [
      "[Row(UserID=2030067, count=6836), Row(UserID=1024631, count=6188), Row(UserID=1059334, count=5864), Row(UserID=2016026, count=5806), Row(UserID=2023686, count=4863), Row(UserID=1045464, count=4796), Row(UserID=1004584, count=4709), Row(UserID=2010008, count=4512), Row(UserID=2232770, count=4115), Row(UserID=1006093, count=4019)]\n"
     ]
    },
    {
     "data": {
      "image/png": "[encoded data removed]",
      "text/plain": [
       "<matplotlib.figure.Figure at 0x7f3283aa7470>"
      ]
     },
     "metadata": {},
     "output_type": "display_data"
    }
   ],
   "source": [
    "\n",
    "# calculate top 10 users interm of curiosity\n",
    "top10UsersByCuriosity = newUserArtistDF.groupBy(\"UserID\").count().orderBy(\"count\",ascending=0).take(10)\n",
    "print (top10UsersByCuriosity)\n",
    "\n",
    "y_pos = range(len(top10UsersByCuriosity))\n",
    "pdfUserCuri = pd.DataFrame(data=top10UsersByCuriosity,columns = [\"userID\",\"artistNumber\"])\n",
    "userListCuri = [w[0] for w in top10UsersByCuriosity]\n",
    "plt.barh(y_pos,pdfUserCuri.artistNumber[::-1],align='center',alpha=0.4)\n",
    "plt.yticks(y_pos,userListCuri[::-1])\n",
    "plt.xlabel(\"Unique Artists Number per User\")\n",
    "plt.ylabel(\"User\")\n",
    "plt.title(\"Top 10 User ID in terms of curiosity\")\n",
    "plt.show()\n"
   ]
  },
  {
   "cell_type": "markdown",
   "metadata": {},
   "source": [
    "<font color=OrangeRed size=4>**[Group 6]**</font>"
   ]
  },
  {
   "cell_type": "code",
   "execution_count": 27,
   "metadata": {
    "collapsed": false
   },
   "outputs": [
    {
     "name": "stdout",
     "output_type": "stream",
     "text": [
      "     userID  playCount  artistNumber\n",
      "0   1059637     674412           NaN\n",
      "1   2064012     548427           NaN\n",
      "2   2069337     393515           NaN\n",
      "3   2023977     285978           NaN\n",
      "4   1046559     183972           NaN\n",
      "5   1052461     175822           NaN\n",
      "6   1070932     168977           NaN\n",
      "7   1031009     167273           NaN\n",
      "8   2020513     165642           NaN\n",
      "9   2062243     151504           NaN\n",
      "10  2030067        NaN          6836\n",
      "11  1024631        NaN          6188\n",
      "12  1059334        NaN          5864\n",
      "13  2016026        NaN          5806\n",
      "14  2023686        NaN          4863\n",
      "15  1045464        NaN          4796\n",
      "16  1004584        NaN          4709\n",
      "17  2010008        NaN          4512\n",
      "18  2232770        NaN          4115\n",
      "19  1006093        NaN          4019\n"
     ]
    }
   ],
   "source": [
    "fulldfUser = pd.merge(pdfUserPC,pdfUserCuri,left_on = \"userID\", right_on=\"userID\",how=\"outer\")\n",
    "print(fulldfUser)"
   ]
  },
  {
   "cell_type": "markdown",
   "metadata": {},
   "source": [
    "Same as we analyse the artist data, we join the ```userPlayCount``` and ```userCuri```  by collum ```userID```together.\n",
    "\n",
    "From the table above we saw that the users who are active both in play count and curiosity **don't exist**. Either they listen to a limited range of artists for many times, or they spend time trying various artists without repeating their songs a lot."
   ]
  },
  {
   "cell_type": "markdown",
   "metadata": {},
   "source": [
    "Now we have some valuable information about the data. It's the time to study how to build a statistical models."
   ]
  },
  {
   "cell_type": "markdown",
   "metadata": {},
   "source": [
    "# 2. Build a statistical models to make recommendations\n",
    "\n",
    "## 2.1 Introduction to recommender systems\n",
    "\n",
    "In a recommendation-system application there are two classes of entities, which we shall refer to as `users` and `items`. Users have preferences for certain items, and these preferences must be inferred from the data. The data itself is represented as a `preference matrix` $A$, giving for each user-item pair, a value that represents what is known about the degree of preference of that user for that item. The table below is an example for a `preference matrix` of 5 users and `k` items. The `preference matrix` is also known as `utility matrix`.\n",
    "\n",
    "| | IT1 | IT2 | IT3 | ... | ITk |\n",
    "|---|---|---|---|---|---|\n",
    "| U1 | 1 |  | 5 | ... | 3 |\n",
    "| U2 |  | 2 |  | ... | 2 |\n",
    "| U3 | 5 |  | 3 | ... |  |\n",
    "| U4 | 3 | 3 |  | ... | 4 |\n",
    "| U5 |  | 1 |  | ... | ... |\n",
    "\n",
    "The value of row i, column j expresses how much does user `i` like item `j`. The values are often the rating scores of users for items. An unknown value implies that we have no explicit information about the user's preference for the item. The goal of a recommendation system is to predict \"the blanks\" in the `preference matrix`. For example, assume that the rating score is from 1 (dislike) to 5 (love), would user `U5` like `IT3` ? We have two approaches:\n",
    "\n",
    "* Designing our recommendation system to take into account properties of items such as brand, category, price... or even the similarity of their names. We can denote the similarity of items `IT2` and `IT3`, and then conclude that because user `U5` did not like `IT2`, they were unlikely to enjoy SW2 either.\n",
    "\n",
    "* We might observe that the people who rated both `IT2` and `IT3` tended to give them similar ratings. Thus, we could conclude that user `U5` would also give `IT3` a low rating, similar to `U5`'s rating of `IT2`\n",
    "\n",
    "It is not necessary to predict every blank entry in a `utility matrix`. Rather, it is only necessary to discover some entries in each row that are likely to be high. In most applications, the recommendation system does not oﬀer users a ranking of all items, but rather suggests a few that the user should value highly. It may not even be necessary to ﬁnd all items with the highest expected ratings, but only to ﬁnd a large subset of those with the highest ratings.\n",
    "\n",
    "\n",
    "## 2.2 Families of recommender systems\n",
    "\n",
    "In general, recommender systems can be categorized into two groups:\n",
    "\n",
    "* **Content-Based** systems focus on properties of items. Similarity of items is determined by measuring the similarity in their properties.\n",
    "\n",
    "* **Collaborative-Filtering** systems focus on the relationship between users and items. Similarity of items is determined by the similarity of the ratings of those items by the users who have rated both items.\n",
    "\n",
    "In the usecase of this notebook, artists take the role of `items`, and `users` keep the same role as `users`.\n",
    "Since we have no information about `artists`, except their names, we cannot build a `content-based` recommender system.\n",
    "\n",
    "Therefore, in the rest of this notebook, we only focus on `Collaborative-Filtering` algorithms.\n",
    "\n",
    "## 2.3 Collaborative-Filtering \n",
    "In this section, we study a member of a broad class of algorithms called `latent-factor` models. They try to explain observed interactions between large numbers of users and products through a relatively small number of unobserved, underlying reasons. It is analogous to explaining why millions of people buy a particular few of thousands of possible albums by describing users and albums in terms of tastes for perhaps tens of genres, tastes which are **not directly observable or given** as data. \n",
    "\n",
    "First, we formulate the learning problem as a matrix completion problem. Then, we will use a type of `matrix factorization` model to \"fill in\" the blanks.  We are given implicit ratings that users have given certain items (that is, the number of times they played a particular artist) and our goal is to predict their ratings for the rest of the items. Formally, if there are $n$ users and $m$ items, we are given an $n \\times m$ matrix $R$ in which the generic entry $(u, i)$ represents the rating for item $i$ by user $u$. **Matrix $R$ has many missing entries indicating unobserved ratings, and our task is to estimate these unobserved ratings**.\n",
    "\n",
    "A popular approach to the matrix completion problem is **matrix factorization**, where we want to \"summarize\" users and items with their **latent factors**.\n",
    "\n",
    "### 2.3.1 Basic idea and an example of Matrix Factorization\n",
    "For example, given a preference matrix 5x5 as below, we want to approximate this matrix into the product of two smaller matrixes $X$ and $Y$ .\n",
    "\n",
    "$$\n",
    "M = \n",
    "\\begin{bmatrix}\n",
    " 5 & 2 & 4 & 4 & 3 \\\\\n",
    " 3 & 1 & 2 & 4 & 1 \\\\\n",
    " 2 &  & 3 & 1 & 4 \\\\\n",
    " 2 & 5 & 4 & 3 & 5 \\\\\n",
    " 4 & 4 & 5 & 4 &  \\\\\n",
    "\\end{bmatrix}\n",
    "\\approx M^\\prime =\n",
    "\\begin{bmatrix}\n",
    " x_{11} & x_{12} \\\\\n",
    " x_{21} & x_{22} \\\\\n",
    " x_{31} & x_{32} \\\\\n",
    " x_{41} & x_{42} \\\\\n",
    " x_{51} & x_{52} \\\\\n",
    "\\end{bmatrix}\n",
    "\\times\n",
    "\\begin{bmatrix}\n",
    " y_{11} & y_{12} & y_{13} & y_{14} & y_{15} \\\\\n",
    " y_{21} & y_{22} & y_{23} & y_{24} & y_{25} \\\\\n",
    "\\end{bmatrix}\n",
    "$$\n",
    "\n",
    "$M^\\prime$ is an approximation that is as close to A as possible. To calculate how far from $M$ $M^\\prime$ is, we often calculate the sum of squared distances of non-empty elements in $M$ and the corresponding elements in $M^\\prime$.\n",
    "In this way, for $M^\\prime$, besides the approximated elements in $M$, we also have the non-observed elements. Therefore, to see how much does user `i` like item `j`, we simply pick up the value of $M^\\prime_{i,j}$.\n",
    "\n",
    "The challenge is how to calculate $X$ and $Y$. The bad news is that this can't be solved directly for both the best $X$ and best $Y$ at the same time. Fortunately, if $Y$ is known, we can calculate the best of $X$, and vice versa. It means from the initial values of $X$ and $Y$ in the beginning, we calculate best $X$ according to $Y$, and then calculate the best $Y$ according to the new $X$. This process is repeated until the distance from $XY$ to $M$ is converged. It's simple, right ?\n",
    "\n",
    "Let's take an example. To compute the approximation for the above 5x5 matrix $M$, first, we init the value of $X$ and $Y$ as below.\n",
    "\n",
    "$$\n",
    "M^\\prime = X \\times Y =\n",
    "\\begin{bmatrix}\n",
    " 1 & 1 \\\\\n",
    " 1 & 1 \\\\\n",
    " 1 & 1 \\\\\n",
    " 1 & 1 \\\\\n",
    " 1 & 1 \\\\\n",
    "\\end{bmatrix}\n",
    "\\times\n",
    "\\begin{bmatrix}\n",
    " 1 & 1 & 1 & 1 & 1 \\\\\n",
    " 1 & 1 & 1 & 1 & 1 \\\\\n",
    "\\end{bmatrix}\n",
    "=\n",
    "\\begin{bmatrix}\n",
    " 2 & 2 & 2 & 2 & 2 \\\\\n",
    " 2 & 2 & 2 & 2 & 2 \\\\\n",
    " 2 & 2 & 2 & 2 & 2 \\\\\n",
    " 2 & 2 & 2 & 2 & 2 \\\\\n",
    " 2 & 2 & 2 & 2 & 2 \\\\\n",
    "\\end{bmatrix}\n",
    "$$\n",
    "\n",
    "With the initial iteration, we calculate the the Root-Mean-Square Error from $XY$ to $M$.\n",
    "\n",
    "Consider the ﬁrst rows of $M$ and $XY$ . We subtract the first row from $XY$ from the entries in the ﬁrst row of $M$, to get $3,0,2,2,1$. We square and sum these to get $18$. \n",
    "\n",
    "In the second row, we do the same to get $1,−1,0,2,−1$, square and sum to get $7$. \n",
    "\n",
    "In the third row, the second column is blank, so that entry is ignored when computing the RMSE. The diﬀerences are $0,1,−1,2$ and the sum of squares is $6$. \n",
    "\n",
    "For the fourth row, the diﬀerences are $0,3,2,1,3$ and the sum of squares is $23$. \n",
    "\n",
    "The ﬁfth row has a blank entry in the last column, so the diﬀerences are $2,2,3,2$ and the sum of squares is $21$. \n",
    "\n",
    "When we sum the sums from each of the ﬁve rows, we get $18+7+6+23+21 = 75$. So, $RMSE=\\sqrt{75/23}=1.806$ where $23$ is the number of non-empty values in $M$.\n",
    "\n",
    "Next, with the given value of $Y$, we calculate $X$ by finding the best value for $X_{11}$.\n",
    "\n",
    "$$\n",
    "M^\\prime = X \\times Y =\n",
    "\\begin{bmatrix}\n",
    " x & 1 \\\\\n",
    " 1 & 1 \\\\\n",
    " 1 & 1 \\\\\n",
    " 1 & 1 \\\\\n",
    " 1 & 1 \\\\\n",
    "\\end{bmatrix}\n",
    "\\times\n",
    "\\begin{bmatrix}\n",
    " 1 & 1 & 1 & 1 & 1 \\\\\n",
    " 1 & 1 & 1 & 1 & 1 \\\\\n",
    "\\end{bmatrix}\n",
    "=\n",
    "\\begin{bmatrix}\n",
    " x+1 & x+1 & x+1 & x+1 & x+1 \\\\\n",
    " 2 & 2 & 2 & 2 & 2 \\\\\n",
    " 2 & 2 & 2 & 2 & 2 \\\\\n",
    " 2 & 2 & 2 & 2 & 2 \\\\\n",
    " 2 & 2 & 2 & 2 & 2 \\\\\n",
    "\\end{bmatrix}\n",
    "$$\n",
    "\n",
    "Now, to minimize the $RMSE$  we minimize the difference of the first rows $(5−(x+1))^2 + (2−(x+1))^2 + (4−(x+1))^2 + (4−(x+1))^2 + (3−(x+1))^2$. By  taking the derivative and set that equal to 0, we pick $x=2.6$\n",
    "\n",
    "Given the new value of $X$, we can calculate the best value for $Y$.\n",
    "\n",
    "$$\n",
    "M^\\prime = X \\times Y =\n",
    "\\begin{bmatrix}\n",
    " 2.6 & 1 \\\\\n",
    " 1 & 1 \\\\\n",
    " 1 & 1 \\\\\n",
    " 1 & 1 \\\\\n",
    " 1 & 1 \\\\\n",
    "\\end{bmatrix}\n",
    "\\times\n",
    "\\begin{bmatrix}\n",
    " y & 1 & 1 & 1 & 1 \\\\\n",
    " 1 & 1 & 1 & 1 & 1 \\\\\n",
    "\\end{bmatrix}\n",
    "=\n",
    "\\begin{bmatrix}\n",
    " 3.6 & 3.6 & 3.6 & 3.6 & 3.6 \\\\\n",
    " 2 & 2 & 2 & 2 & 2 \\\\\n",
    " 2 & 2 & 2 & 2 & 2 \\\\\n",
    " 2 & 2 & 2 & 2 & 2 \\\\\n",
    " 2 & 2 & 2 & 2 & 2 \\\\\n",
    "\\end{bmatrix}\n",
    "$$\n",
    "\n",
    "By doing the same process as before, we can pick value for $y=1.617$. After that, we can check if the $RMSE$ is not converged, we continue to update $X$ by $Y$ and vice versa. In this example, for simple, we only update one element of each matrix in each iteration. In practice, we can update a full row or full matrix at once.\n"
   ]
  },
  {
   "cell_type": "markdown",
   "metadata": {},
   "source": [
    "### 2.3.2 Matrix Factorization: Objective and ALS Algorithm on a Single Machine\n",
    "\n",
    "More formally, in general, we select $k$ latent features, and describe each user $u$ with a $k-$dimensional vector $x_u$, and each item $i$ with a $k-$dimensional vector $y_i$.\n",
    "\n",
    "Then, to predict user $u$'s rating for item $i$, we do as follows: $ r_{ui} \\approx x_{u}^{T}y_i$.\n",
    "\n",
    "This can be put, more elegantly, in a matrix form. Let $x_1, \\cdots x_n \\in \\mathbb{R}^k$ be the factors for the users, and $y_1, \\cdots y_m \\in \\mathbb{R}^k$ the factors for the items. The $k \\times n$ user matrix $X$ and the $k \\times m$ item matrix $Y$ are then defined by:\n",
    "\n",
    "$$\n",
    "X = \n",
    "\\begin{bmatrix}\n",
    " |   &         & |  \\\\\n",
    "x_1  &  \\cdots & x_n\\\\\n",
    " |   &         & |  \\\\\n",
    "\\end{bmatrix}\n",
    "$$\n",
    "\n",
    "$$\n",
    "Y = \n",
    "\\begin{bmatrix}\n",
    " |   &         & |  \\\\\n",
    "y_1  &  \\cdots & y_i\\\\\n",
    " |   &         & |  \\\\\n",
    "\\end{bmatrix}\n",
    "$$\n",
    "\n",
    "Our goal is to estimate the complete ratings matrix $R \\approx X^{T} Y$. We can formulate this problem as an optimization problem in which we aim to minimize an objective function and find optimal $X$ and $Y$ . In particular, we aim to minimize the least squares error of the observed ratings (and regularize):\n",
    "\n",
    "$$\n",
    "\\min_{X,Y} \\sum_{r_{ui} \\text{observed}}(r_{ui} - x_{u}^{T}y_i)^2 + \\lambda \\left( \\sum_{u} \\|x_u\\|^2 + \\sum_{i} \\|y_i\\|^2 \\right) \n",
    "$$\n",
    "\n",
    "Notice that this objective is non-convex (because of the $x_{u}^{T} y_i$ term); in fact it’s NP-hard to optimize. Gradient descent can be used as an approximate approach here, however it turns out to be slow and costs lots of iterations. Note however, that if we fix the set of variables $X$ and treat them as constants, then the objective is a convex function of $Y$ and vice versa. Our approach will therefore be to fix $Y$ and optimize $X$, then fix $X$ and optimize $Y$, and repeat until convergence. This approach is known as **ALS (Alternating Least Squares)**. For our objective function, the alternating least squares algorithm can be expressed with this simple pseudo-code:"
   ]
  },
  {
   "cell_type": "markdown",
   "metadata": {},
   "source": [
    "Initialize $X$, $Y$\n",
    "\n",
    "**while**(convergence is not true) **do**\n",
    "\n",
    "\n",
    "**for** $u = 1 \\cdots n$ **do**\n",
    "\n",
    "$x_u = \\left( \\sum_{r_ui \\in r_{u*}} y_i y_{i}^{T} + \\lambda I_k \\right)^{-1} \\sum_{r_ui \\in r_{u*}} r_{ui} y_i $ \n",
    "   \n",
    "**end for**\n",
    "\n",
    "**for** $u = 1 \\cdots n$ **do**\n",
    "\n",
    "$y_i = \\left( \\sum_{r_ui \\in r_{*i}} x_u x_{u}^{T} + \\lambda I_k \\right)^{-1} \\sum_{r_ui \\in r_{*i}} r_{ui} x_u $ \n",
    "   \n",
    "**end for**\n",
    "\n",
    "\n",
    "**end while**"
   ]
  },
  {
   "cell_type": "markdown",
   "metadata": {},
   "source": [
    "For a single machine, we can analyze the computational cost of this algorithm. Updating each $x_u$ will cost $O(n_u k^2 + k^3)$, where $n_u$ is the number of items rated by user $u$, and similarly updating each $y_i$ will cost $O(n_i k^2 + k^3)$, where $n_i$ is the number of users that have rated item $i$.\n",
    "\n",
    "\n",
    "Once we’ve computed the matrices $X$ and $Y$, there are several ways compute a prediction. The first is to do what was discussed before, which is to simply predict $ r_{ui} \\approx x_{u}^{T}y_i$ for each user $u$ and item $i$. \n",
    "This approach will cost $O(nmk)$ if we’d like to estimate every user-item pair. \n",
    "\n",
    "However, this approach is prohibitively expensive for most real-world datasets. A second (and more holistic) approach is to use the $x_u$ and $y_i$ as features in another learning algorithm, incorporating these features with others that are relevant to the prediction task."
   ]
  },
  {
   "cell_type": "markdown",
   "metadata": {},
   "source": [
    "### 2.3.3 Parallel Altenating Least Squares\n",
    "\n",
    "There are several ways to distribute the computation of the ALS algorithm depending on how data is partitioned.\n",
    "\n",
    "#### Method 1: using joins\n",
    "First we consider a fully distributed version, in the sense that all data (both input and output) is stored in a distributed file system. In practice, input data (ratings) and parameters ($X$ and $Y$) are stored in an a Spark RDD. Specifically, ratings -- that are always **sparse** -- are stored as RDD of triplets:\n",
    "\n",
    "Ratings: RDD((u, i, $r_{ui}$), . . . )\n",
    "\n",
    "\n",
    "Instead, we can use dense representation for factor matrices $X$ and $Y$, and these are stored as RDDs of vectors. More precisely, we can use the data types introduced in Spark MLLib to store such vectors and matrices:\n",
    "\n",
    "X : RDD($x_1$,...,$x_n$)\n",
    "\n",
    "Y : RDD($y_1$,...,$y_m$)\n",
    "\n",
    "\n",
    "Now, recall the expression to compute $x_u$:\n",
    "\n",
    "$x_u = \\left( \\sum_{r_ui \\in r_{u*}} y_i y_{i}^{T} + \\lambda I_k \\right)^{-1} \\sum_{r_ui \\in r_{u*}} r_{ui} y_i $ \n",
    "\n",
    "Let's call the first summation *part A* and the second summation *part B*. To compute such parts, in parallel, we can proceed with the following high-level pseudocode:\n",
    "\n",
    "* Join the Ratings RDD with the $Y$ matrix RDD using key $i$ (items)\n",
    "* Map to compute $y_i y_{i}^{T}$ and emit using key $u$ (user)\n",
    "* ReduceByKey $u$ (user) to compute 􏰀$\\sum_{r_ui \\in r_{u*}} y_i y_{i}^{T}$\n",
    "* Invert\n",
    "* Another ReduceByKey $u$ (user) to compute 􏰁$\\sum_{r_ui \\in r_{u*}} r_{ui} y_i$\n",
    "\n",
    "We can use the same template to copmute $y_i$.\n",
    "\n",
    "This approach works fine, but note it requires computing $y_i y_{i}^{T}$ for each user that has rated item $i$. \n",
    "\n",
    "#### Method 2: using broadcast variables (advanced topic)\n",
    "The next approach takes advantage of the fact that the $X$ and $Y$ factor matrices are often very small and can be stored locally on each machine.\n",
    "\n",
    "* Partition the Ratings RDD **by user** to create $R_1$, and similarly partition the Ratings RDD **by item** to create $R_2$. This means there are two copies of the same Ratings RDD, albeit with different partitionings. In $R_1$, all ratings by the same user are on the same machine, and in $R_2$ all ratings for same item are on the same machine.\n",
    "* Broadcast the matrices $X$ and $Y$. Note that these matrices are not RDD of vectors: they are now \"local: matrices.\n",
    "* Using $R_1$ and $Y$, we can use expression $x_u$ from above to compute the update of $x_u$ locally on each machine\n",
    "* Using $R_2$ and $X$, we can use expression $y_i$ from above to compute the update of $y_i$ locally on each machine\n",
    "\n",
    "A further optimization to this method is to group the $X$ and $Y$ factors matrices into blocks (user blocks and item blocks) and reduce the communication by only sending to each machine the block of users (or items) that are needed to compute the updates at that machine. \n",
    "\n",
    "This method is called **Block ALS**. It is achieved by precomputing some information about the ratings matrix to determine the \"out-links\" of each user (which blocks of the items it will contribute to) and \"in-link\" information for each item (which of the factor vectors it receives from each user block it will depend on). For exmple, assume that machine 1 is responsible for users 1,2,...,37: these will be block 1 of users. The items rated by these users are block 1 of items. Only the factors of block 1 of users and block 1 of items will be broadcasted to machine 1.\n",
    "\n",
    "### Further readings\n",
    "Other methods for matrix factorization include:\n",
    "\n",
    "* Low Rank Approximation and Regression in Input Sparsity Time, by Kenneth L. Clarkson, David P. Woodruff. http://arxiv.org/abs/1207.6365\n",
    "* Generalized Low Rank Models (GLRM), by Madeleine Udell, Corinne Horn, Reza Zadeh, Stephen Boyd. http://arxiv.org/abs/1410.0342\n",
    "* Matrix Completion and Low-Rank SVD via Fast Alternating Least Squares, by Trevor Hastie, Rahul Mazumder, Jason D. Lee, Reza Zadeh . Statistics Department and ICME, Stanford University, 2014. http://stanford.edu/~rezab/papers/fastals.pdf"
   ]
  },
  {
   "cell_type": "markdown",
   "metadata": {},
   "source": [
    "# 3. Usecase : Music recommender system\n",
    "\n",
    "In this usecase, we use the data of users and artists in the previous sections to build a statistical model to recommend artists for users.\n",
    " \n",
    "## 3.1 Requirements\n",
    "According to the properties of data, we need to choose a recommender algorithm that is suitable for this implicit feedback data. It means that the algorithm should learn without access to user or artist attributes such as age, genre,.... Therefore, an algorithm of type `collaborative filtering` is the best choice.\n",
    "\n",
    "Second, in the data, there are some users that have listened to only 1 artist. We need an algorithm that might provide decent recommendations to even these users. After all, at some point, every user starts out with just one play at some point! \n",
    "\n",
    "Third, we need an algorithm that scales, both in its ability to build large models, and to create recommendations quickly. So, an algorithm which can run on a distributed system (SPARK, Hadoop...) is very suitable.\n",
    "\n",
    "From these requirement, we can choose using ALS algorithm in SPARK's MLLIB.\n",
    "\n",
    "Spark MLlib’s ALS implementation draws on ideas from [1](http://yifanhu.net/PUB/cf.pdf) and [2](http://link.springer.com/chapter/10.1007%2F978-3-540-68880-8_32).\n",
    "\n",
    "## 3.2 Notes\n",
    "\n",
    "Currently, MLLIB can only build models from an RDD. That means we have two ways to prepare data:\n",
    "\n",
    "* Loading to into SPARK SQL DataFrame as before, and then access the corresponding RDD by calling `<dataframe>.rdd`. The invalid data is often sucessfully dropped by using mode `DROPMALFORMED`. However, this way might not work in all cases. Fortunately, we can use it with this usecase.\n",
    "\n",
    "* Loading data directly to RDD. However, we have to deal with the invalid data ourself. In the trade-off, this way is the most reliable, and can work in every case.\n",
    "\n",
    "In this notebook, we will use the second approach: it requires a bit more effort, but the reward is worth it!\n",
    "\n",
    " \n",
    "## 3.3 Cleanup the data\n",
    "In section 1, we already replaced the ids of mispelled artists by the corresponding standard ids by using SPARK SQL API.\n",
    "However, if the data has the invalid entries such that SPARK SQL API is stuck, the best way to work with it is using an RDD.\n",
    "\n",
    "Just as a recall, we work with three datasets in `user_artist_data.txt`, `` and `artist_alias.txt`. The entries in these file can be empty or have only one field. \n",
    "\n",
    "In details our goal now is:\n",
    "\n",
    "* Read the input ```user_artist_data.txt``` and transforms its representation into an output dataset.\n",
    "* To produce an output \"tuple\" containing the original user identifier and play counts, but with the artist identifier replaced by its most common alias, as found in the ```artist_alias.txt``` dataset.\n",
    "* Since the ```artist_alias.txt``` file is small, we can use a technique called **broadcast variables** to make such transformation more efficient.\n"
   ]
  },
  {
   "cell_type": "markdown",
   "metadata": {},
   "source": [
    "### Question 6\n",
    "\n",
    "#### Question 6.1\n",
    "Load data from `/datasets/lastfm/artist_alias.txt` and filter out the invalid entries to construct a dictionary to map from mispelled artists' ids to standard ids.\n",
    "\n",
    "NOTE: From now on, we will use the \"standard\" data to train our model.\n",
    "\n",
    "HINT: If a line contains less than 2 fields or contains invalid numerial values, we can return a special tuple. After that, we can filter out these special tuples."
   ]
  },
  {
   "cell_type": "code",
   "execution_count": 23,
   "metadata": {
    "collapsed": false
   },
   "outputs": [],
   "source": [
    "\n",
    "rawArtistAlias = sc.textFile(base + \"artist_alias.txt\")\n",
    "\n",
    "def xtractFields(s):\n",
    "    # Using white space or tab character as separetors,\n",
    "    # split a line into list of strings \n",
    "    line = re.split(\"\\s|\\t\",s,1)\n",
    "    # if this line has at least 2 characters\n",
    "    if (len(line) > 1):\n",
    "        try:\n",
    "            # try to parse the first and the second components to integer type\n",
    "            return (int(line[0]), int\n",
    "                    (line[1]))\n",
    "        except ValueError:\n",
    "            # if parsing has any error, return a special tuple\n",
    "            return (-1,-1)\n",
    "    else:\n",
    "        # if this line has less than 2 characters, return a special tuple\n",
    "        return (-1,-1)\n",
    "\n",
    "artistAlias = (\n",
    "                rawArtistAlias\n",
    "                    # extract fields using function xtractFields\n",
    "                    .map(lambda x:xtractFields(x),rawArtistAlias)\n",
    "    \n",
    "                    # fileter out the special tuples\n",
    "                    .filter(lambda x: x!=(-1,-1) )\n",
    "    \n",
    "                    # collect result to the driver as a \"dictionary\"\n",
    "                    .collectAsMap()\n",
    "                )\n"
   ]
  },
  {
   "cell_type": "markdown",
   "metadata": {
    "collapsed": false
   },
   "source": [
    "#### Question 6.2\n",
    "Using the dictionary in question 6.1, prepare RDD `userArtistDataRDD` by replacing mispelled artists' ids to standard ids. Show 5 samples.\n",
    "\n",
    "HINT: Using broadcast varible can help us increase the effiency."
   ]
  },
  {
   "cell_type": "code",
   "execution_count": 24,
   "metadata": {
    "collapsed": false
   },
   "outputs": [
    {
     "name": "stdout",
     "output_type": "stream",
     "text": [
      "<class 'pyspark.broadcast.Broadcast'>\n",
      "<class 'dict_items'>\n",
      "type of rawdata <class 'pyspark.rdd.RDD'>\n"
     ]
    },
    {
     "data": {
      "text/plain": [
       "[('1000002', '1', '55'),\n",
       " ('1000002', '1000006', '33'),\n",
       " ('1000002', '1000007', '8'),\n",
       " ('1000002', '1000009', '144'),\n",
       " ('1000002', '1000010', '314')]"
      ]
     },
     "execution_count": 24,
     "metadata": {},
     "output_type": "execute_result"
    }
   ],
   "source": [
    "\n",
    "bArtistAlias = sc.broadcast(artistAlias)\n",
    "print (type (bArtistAlias))\n",
    "print (type (bArtistAlias.value.items()))\n",
    "#print (bArtistAlias.value.items())\n",
    "rawUserArtistData = sc.textFile(base + \"user_artist_data.txt\")\n",
    "\n",
    "def disambiguate(line):\n",
    "    [userID, artistID, count] = line.split(' ')\n",
    "    finalArtistID = bArtistAlias.value.get(artistID,artistID)\n",
    "    return (userID,finalArtistID,count)\n",
    "print (\"type of rawdata\",type(rawUserArtistData))\n",
    "userArtistDataRDD = rawUserArtistData.map(lambda x:disambiguate(x),rawUserArtistData)\n",
    "userArtistDataRDD.take(5)\n"
   ]
  },
  {
   "cell_type": "markdown",
   "metadata": {},
   "source": [
    "## 3.4 Training our statistical model\n",
    "To train a model using ALS, we must use a preference matrix  as an input. MLLIB uses the class `Rating` to support the construction of a distributed preference matrix."
   ]
  },
  {
   "cell_type": "markdown",
   "metadata": {},
   "source": [
    "### Question 7\n",
    "\n",
    "#### Question 7.1\n",
    "Given RDD `userArtistDataRDD` in question 6.2, construct a new RDD `trainingData` by tranforming each item of it into a `Rating` object."
   ]
  },
  {
   "cell_type": "code",
   "execution_count": 19,
   "metadata": {
    "collapsed": false
   },
   "outputs": [],
   "source": [
    "from pyspark.mllib.recommendation import ALS, MatrixFactorizationModel, Rating"
   ]
  },
  {
   "cell_type": "code",
   "execution_count": 21,
   "metadata": {
    "collapsed": false
   },
   "outputs": [
    {
     "name": "stdout",
     "output_type": "stream",
     "text": [
      "[Rating(user=2036216, product=1201049, rating=9.0), Rating(user=2036216, product=1203824, rating=4.0), Rating(user=2036216, product=1216872, rating=2.0), Rating(user=2036216, product=1231740, rating=9.0), Rating(user=2036216, product=1233193, rating=7.0), Rating(user=2036216, product=1233977, rating=42.0), Rating(user=2036216, product=1234338, rating=5.0), Rating(user=2036216, product=1234422, rating=11.0), Rating(user=2036216, product=1235281, rating=4.0), Rating(user=2036216, product=1235736, rating=6.0), Rating(user=2036216, product=2153582, rating=11.0), Rating(user=2036216, product=2154365, rating=6.0), Rating(user=2036216, product=2160296, rating=4.0), Rating(user=2036216, product=2160373, rating=9.0), Rating(user=2036216, product=2194, rating=8.0), Rating(user=2036216, product=221, rating=27.0), Rating(user=2036216, product=2229, rating=9.0), Rating(user=2036216, product=2237, rating=50.0), Rating(user=2036216, product=227, rating=9.0), Rating(user=2036216, product=2439, rating=15.0)]\n"
     ]
    }
   ],
   "source": [
    "\n",
    "allData = userArtistDataRDD.map(lambda r: Rating(r[0], r[1], r[2])).repartition(10).cache()\n",
    "print(allData.take(20))\n"
   ]
  },
  {
   "cell_type": "markdown",
   "metadata": {},
   "source": [
    "<font color=OrangeRed size=4>**[Group 6]**</font>"
   ]
  },
  {
   "cell_type": "code",
   "execution_count": 27,
   "metadata": {
    "collapsed": false
   },
   "outputs": [
    {
     "data": {
      "text/plain": [
       "[Row(userID=2036216, artistID=1201049, playCount=9)]"
      ]
     },
     "execution_count": 27,
     "metadata": {},
     "output_type": "execute_result"
    }
   ],
   "source": [
    "newUserArtistDF[newUserArtistDF.userID==2036216][newUserArtistDF.artistID==1201049].take(1)"
   ]
  },
  {
   "cell_type": "markdown",
   "metadata": {},
   "source": [
    "The cell above is to check the usage of ```Rating``` function."
   ]
  },
  {
   "cell_type": "markdown",
   "metadata": {
    "collapsed": false
   },
   "source": [
    "#### Question 7.2\n",
    "A model can be trained by using `ALS.trainImplicit(<training data>, <rank>)`, where:\n",
    "* `training data` is the input data you decide to feed to the ALS algorithm\n",
    "* `rank` is the number of laten features\n",
    "\n",
    "We can also use some additional parameters to adjust the quality of the model. Currently, let's set \n",
    "\n",
    "- `rank=10`\n",
    "- `iterations=5`\n",
    "- `lambda_=0.01`\n",
    "- `alpha=1.0` \n",
    "\n",
    "to build model."
   ]
  },
  {
   "cell_type": "code",
   "execution_count": 29,
   "metadata": {
    "collapsed": false
   },
   "outputs": [
    {
     "name": "stdout",
     "output_type": "stream",
     "text": [
      "finish training model in 27.488327 secs\n"
     ]
    }
   ],
   "source": [
    "\n",
    "t0 = time()\n",
    "model = ALS.trainImplicit( allData,10 )\n",
    "t1 = time()\n",
    "print(\"finish training model in %f secs\" % (t1 - t0))\n"
   ]
  },
  {
   "cell_type": "code",
   "execution_count": 27,
   "metadata": {
    "collapsed": false
   },
   "outputs": [
    {
     "name": "stdout",
     "output_type": "stream",
     "text": [
      "<class 'pyspark.mllib.recommendation.MatrixFactorizationModel'>\n"
     ]
    }
   ],
   "source": [
    "print (type(model))"
   ]
  },
  {
   "cell_type": "markdown",
   "metadata": {},
   "source": [
    "#### Question 7.3\n",
    "The trained model can be saved into HDFS for later use. This can be done via `model.save(sc, <file_name>)`.\n",
    "Let's use this function to store our model as name `lastfm_model.spark`.\n",
    "\n",
    "NOTE 1: since you may have noticed that building the model takes some time, it might come to your mind that this information could be stored, such that you can \"interrupt\" your laboratory session here, and restart next time by loading your model.\n",
    "\n",
    "NOTE 2: funnily enough, it could take more time to save the model than to build it from scratch! So take a look at the execution time to save the model: this method actually stores the model as Parquet files, which are column-oriented and compressed.\n",
    "\n",
    "NOTE 3: to check you have your file on HDFS, you are invited to open a terminal from the \"Home\" Jupyter dashboard, and type `hdfs dfs -ls` to check."
   ]
  },
  {
   "cell_type": "code",
   "execution_count": 30,
   "metadata": {
    "collapsed": false
   },
   "outputs": [
    {
     "name": "stdout",
     "output_type": "stream",
     "text": [
      "Deleted lastfm_model.spark\n",
      "finish saving model in 4.371998 secs\n"
     ]
    }
   ],
   "source": [
    "\n",
    "! hdfs dfs -rm -R -f -skipTrash lastfm_model.spark\n",
    "t0 = time()\n",
    "model.save(sc , \"lastfm_model.spark\")\n",
    "t1 = time()\n",
    "print(\"finish saving model in %f secs\" % (t1-t0))\n"
   ]
  },
  {
   "cell_type": "markdown",
   "metadata": {},
   "source": [
    "<font color=OrangeRed size=4>**[Group 6]**</font>\n",
    "\n",
    "Based on our observation, the **saving time(4.371998s)** is shorter than the **running time(27.488327s)**"
   ]
  },
  {
   "cell_type": "code",
   "execution_count": 36,
   "metadata": {
    "collapsed": false
   },
   "outputs": [
    {
     "name": "stdout",
     "output_type": "stream",
     "text": [
      "Found 1 items\r\n",
      "drwxr-xr-x   - user6 supergroup          0 2017-03-16 15:50 lastfm_model.spark\r\n"
     ]
    }
   ],
   "source": [
    "! hdfs dfs -ls "
   ]
  },
  {
   "cell_type": "markdown",
   "metadata": {},
   "source": [
    "#### Question 7.4\n",
    "A saved model can be load from file by using `MatrixFactorizationModel.load(sc, <file_name>)`. \n",
    "\n",
    "Let's load our model from file."
   ]
  },
  {
   "cell_type": "code",
   "execution_count": 31,
   "metadata": {
    "collapsed": false
   },
   "outputs": [
    {
     "name": "stdout",
     "output_type": "stream",
     "text": [
      "finish loading model in 1.337787 secs\n"
     ]
    }
   ],
   "source": [
    "\n",
    "t0 = time()\n",
    "model_loaded = MatrixFactorizationModel.load(sc, \"lastfm_model.spark\")\n",
    "t1 = time()\n",
    "print(\"finish loading model in %f secs\" % (t1 - t0))"
   ]
  },
  {
   "cell_type": "markdown",
   "metadata": {},
   "source": [
    "#### Question 7.5\n",
    "Print the first row of user features in our model."
   ]
  },
  {
   "cell_type": "code",
   "execution_count": 32,
   "metadata": {
    "collapsed": false
   },
   "outputs": [
    {
     "name": "stdout",
     "output_type": "stream",
     "text": [
      "<class 'pyspark.mllib.recommendation.MatrixFactorizationModel'>\n",
      "[(120, array('d', [0.038196176290512085, -0.004820053465664387, -0.04861538112163544, -0.021210389211773872, 0.0042330375872552395, -0.034289903938770294, 0.04037928581237793, -0.008364418521523476, 0.014011275954544544, -0.03047269955277443]))]\n",
      "[(24, array('d', [0.044969890266656876, 7.692998769925907e-05, 0.026003751903772354, -0.049107037484645844, 0.029640045017004013, 0.006427656393498182, -0.012239793315529823, -0.00363758928142488, -0.02331002801656723, 0.022030219435691833]))]\n"
     ]
    }
   ],
   "source": [
    "\n",
    "print(type(model_loaded))\n",
    "#userFeatures():Returns a paired RDD, where the first element is the user and the\n",
    "#second is an array of features corresponding to that user.\n",
    "print(model.userFeatures().take(1))\n",
    "print(model.productFeatures().take(1))\n"
   ]
  },
  {
   "cell_type": "markdown",
   "metadata": {},
   "source": [
    "### Question 8\n",
    "Show the top-5 artist names recommendated for user `2093760`.\n",
    "\n",
    "HINT: The recommendations can be given by function `recommendProducts(userID, num_recommendations)`. These recommendations are only artist ids. You have to map them to artist names by using data in `artist_data.txt`."
   ]
  },
  {
   "cell_type": "code",
   "execution_count": 104,
   "metadata": {
    "collapsed": false
   },
   "outputs": [
    {
     "name": "stdout",
     "output_type": "stream",
     "text": [
      "[Rating(user=2093760, product=1034635, rating=0.3497436397415201), Rating(user=2093760, product=2814, rating=0.3457145777297242), Rating(user=2093760, product=1001819, rating=0.34286126130029515), Rating(user=2093760, product=930, rating=0.3412789670903478), Rating(user=2093760, product=393, rating=0.3398518507018743)]\n"
     ]
    }
   ],
   "source": [
    "\n",
    "# Make five reccommendations to user 2093760\n",
    "recommendations = (model.recommendProducts(2093760,5))\n",
    "\n",
    "\n",
    "# construct set of recommendated artists\n",
    "recArtist = set(recommendations)\n",
    "print(recommendations)"
   ]
  },
  {
   "cell_type": "markdown",
   "metadata": {},
   "source": [
    "<font color=OrangeRed size=4>**[Group 6]**</font>"
   ]
  },
  {
   "cell_type": "code",
   "execution_count": 105,
   "metadata": {
    "collapsed": false
   },
   "outputs": [
    {
     "name": "stdout",
     "output_type": "stream",
     "text": [
      "[Row(artistID=1007614, count=16825)]\n",
      "[Row(artistID=4605, count=16331)]\n",
      "[Row(artistID=2814, count=17540)]\n",
      "[Row(artistID=250, count=24963)]\n",
      "[Row(artistID=829, count=10145)]\n"
     ]
    }
   ],
   "source": [
    "artistPlaycount = newUserArtistDF.groupBy(\"artistID\").count().orderBy('count', ascending=0)\n",
    "userPlayCount = newUserArtistDF.groupBy(\"userID\").sum(\"PlayCount\").orderBy('sum(PlayCount)', ascending=0)\n",
    "\n",
    "print(artistPlaycount[artistPlaycount.artistID==1007614].take(1))\n",
    "print(artistPlaycount[artistPlaycount.artistID==4605].take(1))\n",
    "print(artistPlaycount[artistPlaycount.artistID==2814].take(1))\n",
    "print(artistPlaycount[artistPlaycount.artistID==250].take(1))\n",
    "print(artistPlaycount[artistPlaycount.artistID==829].take(1))\n"
   ]
  },
  {
   "cell_type": "markdown",
   "metadata": {},
   "source": [
    "As is shown in the result above, user **\"2093760\"** has listened only 5 artists, and the play count in total is 9, which means that 2093760 is an **unactive user** among all the data set.\n",
    "\n",
    "While applying this recommendation system, the recommendation artists for 2093760 are **1007614,4605,2814,250,829**. We calculate the play count of these 5 recommendation artists : 16825, 16331, 17540, 24963, 10145. They are quite popular artists. \n",
    "\n",
    "So the result shows that, while recommendating artists for unactive users, this system tends to give the relatively popular artists to these users. This consequence also conforms to our common sense.\n"
   ]
  },
  {
   "cell_type": "code",
   "execution_count": 35,
   "metadata": {
    "collapsed": true
   },
   "outputs": [],
   "source": [
    "\n",
    "# construct data of artists (artist_id, artist_name)\n",
    "\n",
    "rawArtistData = sc.textFile(base + \"artist_data.txt\")\n",
    "\n",
    "def xtractFields(s):\n",
    "    line = re.split(\"\\s|\\t\",s,1)\n",
    "    if (len(line) > 1):\n",
    "        try:\n",
    "            return (int(line[0]), str(line[1].strip()))\n",
    "        except ValueError:\n",
    "            return (-1,\"\")\n",
    "    else: \n",
    "        return (-1,\"\")\n",
    "\n",
    "artistByID = rawArtistData.map(xtractFields).filter(lambda x: x[0] > 0)\n"
   ]
  },
  {
   "cell_type": "code",
   "execution_count": 112,
   "metadata": {
    "collapsed": false
   },
   "outputs": [
    {
     "name": "stdout",
     "output_type": "stream",
     "text": [
      "[]\n"
     ]
    }
   ],
   "source": [
    "\n",
    "# Filter in those artists, get just artist, and print\n",
    "def artistNames(line):\n",
    "#     [artistID, name]\n",
    "    if (line in recArtist):\n",
    "        return True\n",
    "    else:\n",
    "        return False\n",
    "#recListID = artistByID.filter(lambda x: artistNames(x)).keys().collect()\n",
    "recList = artistByID.filter(lambda x: artistNames(x)).values().collect()\n",
    "#print(recListID[:5])\n",
    "print(recList)\n",
    "\n"
   ]
  },
  {
   "cell_type": "code",
   "execution_count": 106,
   "metadata": {
    "collapsed": false
   },
   "outputs": [
    {
     "name": "stdout",
     "output_type": "stream",
     "text": [
      "[(1134999, '06Crazy Life')]\n"
     ]
    }
   ],
   "source": [
    "print(artistByID.take(1))"
   ]
  },
  {
   "cell_type": "code",
   "execution_count": 108,
   "metadata": {
    "collapsed": false
   },
   "outputs": [
    {
     "name": "stdout",
     "output_type": "stream",
     "text": [
      "{Rating(user=2093760, product=1034635, rating=0.3497436397415201), Rating(user=2093760, product=1001819, rating=0.34286126130029515), Rating(user=2093760, product=393, rating=0.3398518507018743), Rating(user=2093760, product=2814, rating=0.3457145777297242), Rating(user=2093760, product=930, rating=0.3412789670903478)}\n"
     ]
    }
   ],
   "source": [
    "print(recArtist)"
   ]
  },
  {
   "cell_type": "markdown",
   "metadata": {},
   "source": [
    "#### IMPORTANT NOTE\n",
    "\n",
    "At the moment, it is necessary to manually unpersist the RDDs inside the model when you are done with it. The following function can be used to make sure models are promptly uncached."
   ]
  },
  {
   "cell_type": "code",
   "execution_count": 37,
   "metadata": {
    "collapsed": false
   },
   "outputs": [],
   "source": [
    "\n",
    "def unpersist(model):\n",
    "    model.userFeatures().unpersist()\n",
    "    model.productFeatures().unpersist()\n",
    "\n",
    "# uncache data and model when they are no longer used  \n",
    "unpersist(model)"
   ]
  },
  {
   "cell_type": "markdown",
   "metadata": {
    "collapsed": true
   },
   "source": [
    "## 3.5 Evaluating Recommendation Quality \n",
    "\n",
    "In this section, we study how to evaluate the quality of our model. It's hard to say how good the recommendations are.\n",
    "One of serveral methods approach to evaluate  a recommender based on its ability to rank good items (artists) high in a list of recommendations. The problem is how to define \"good artists\". Currently, by training all data, \"good artists\" is defined as \"artists the user has listened to\", and the recommender system has already received all of this information as input. It could trivially return the users previously-listened artists as top recommendations and score perfectly. Indeed, this is not useful, because the recommender's is used to recommend artists that the user has **never** listened to. \n",
    "\n",
    "To overcome that problem, we can hide the some of the artist play data and only use the rest to train model. Then, this held-out data can be interpreted as a collection of \"good\" recommendations for each user. The recommender is asked to rank all items in the model, and the rank of the held-out artists are examined. Ideally the recommender places all of them at or near the top of the list.\n",
    "\n",
    "The recommender's score can then be computed by comparing all held-out artists' ranks to the rest.  The fraction of pairs where the held-out artist is ranked higher is its score. 1.0 is perfect, 0.0 is the worst possible score, and 0.5 is the expected value achieved from randomly ranking artists. \n",
    "\n",
    "AUC(Area Under the Curve) can be used as a metric to evaluate model. It is also viewed as the probability that a randomly-chosen \"good\" artist ranks above a randomly-chosen \"bad\" artist.\n",
    "\n",
    "Next, we split the training data into 2 parts: `trainData` and `cvData` with ratio 0.9:0.1 respectively, where `trainData` is the dataset that will be used to train model. Then we write a function to calculate AUC to evaluate the quality of our model.\n"
   ]
  },
  {
   "cell_type": "markdown",
   "metadata": {},
   "source": [
    "### Question 9\n",
    "\n",
    "#### Question 9.1\n",
    "Split the data into `trainData` and `cvData` with ratio 0.9:0.1 and use the first part to train a statistic model with:\n",
    "\n",
    "- rank=10\n",
    "- iterations=5\n",
    "- lambda_=0.01\n",
    "- alpha=1.0"
   ]
  },
  {
   "cell_type": "code",
   "execution_count": 38,
   "metadata": {
    "collapsed": false
   },
   "outputs": [
    {
     "data": {
      "text/plain": [
       "PythonRDD[366] at RDD at PythonRDD.scala:48"
      ]
     },
     "execution_count": 38,
     "metadata": {},
     "output_type": "execute_result"
    }
   ],
   "source": [
    "\n",
    "trainData, cvData = allData.randomSplit([0.9,0.1],)\n",
    "trainData.cache()\n",
    "cvData.cache()\n"
   ]
  },
  {
   "cell_type": "code",
   "execution_count": 39,
   "metadata": {
    "collapsed": false
   },
   "outputs": [
    {
     "name": "stdout",
     "output_type": "stream",
     "text": [
      "finish training model in 46.793379 secs\n"
     ]
    }
   ],
   "source": [
    "\n",
    "t0 = time()\n",
    "model = ALS.trainImplicit(trainData,rank=10,iterations=5,lambda_=0.01,alpha=1.0)\n",
    "t1 = time()\n",
    "print(\"finish training model in %f secs\" % (t1 - t0))\n"
   ]
  },
  {
   "cell_type": "markdown",
   "metadata": {},
   "source": [
    "#### Area under the ROC curve: a function to compute it"
   ]
  },
  {
   "cell_type": "code",
   "execution_count": 42,
   "metadata": {
    "collapsed": false
   },
   "outputs": [],
   "source": [
    "# Get all unique artistId, and broadcast them\n",
    "allItemIDs = np.array(allData.map(lambda x: x[1]).distinct().collect())\n",
    "bAllItemIDs = sc.broadcast(allItemIDs)"
   ]
  },
  {
   "cell_type": "code",
   "execution_count": 40,
   "metadata": {
    "collapsed": false
   },
   "outputs": [],
   "source": [
    "from random import randint\n",
    "\n",
    "# Depend on the number of item in userIDAndPosItemIDs,\n",
    "# create a set of \"negative\" products for each user. These are randomly chosen\n",
    "# from among all of the other items, excluding those that are \"positive\" for the user.\n",
    "# NOTE 1: mapPartitions operates on many (user,positive-items) pairs at once\n",
    "# NOTE 2: flatMap breaks the collections above down into one big set of tuples\n",
    "def xtractNegative(userIDAndPosItemIDs):\n",
    "    def pickEnoughNegatives(line):\n",
    "        userID = line[0]\n",
    "        posItemIDSet = set(line[1])\n",
    "        #posItemIDSet = line[1]\n",
    "        negative = []\n",
    "        allItemIDs = bAllItemIDs.value\n",
    "        # Keep about as many negative examples per user as positive. Duplicates are OK.\n",
    "        i = 0\n",
    "        while (i < len(allItemIDs) and len(negative) < len(posItemIDSet)):\n",
    "            itemID = allItemIDs[randint(0,len(allItemIDs)-1)]\n",
    "            if itemID not in posItemIDSet:\n",
    "                negative.append(itemID)\n",
    "            i += 1\n",
    "        \n",
    "        # Result is a collection of (user,negative-item) tuples\n",
    "        return map(lambda itemID: (userID, itemID), negative)\n",
    "\n",
    "    # Init an RNG and the item IDs set once for partition\n",
    "    # allItemIDs = bAllItemIDs.value\n",
    "    return map(pickEnoughNegatives, userIDAndPosItemIDs)\n",
    "\n",
    "def ratioOfCorrectRanks(positiveRatings, negativeRatings):\n",
    "    \n",
    "    # find number elements in arr that has index >= start and has value smaller than x\n",
    "    # arr is a sorted array\n",
    "    def findNumElementsSmallerThan(arr, x, start=0):\n",
    "        left = start\n",
    "        right = len(arr) -1\n",
    "        # if x is bigger than the biggest element in arr\n",
    "        if start > right or x > arr[right]:\n",
    "            return right + 1\n",
    "        mid = -1\n",
    "        while left <= right:\n",
    "            mid = (left + right) // 2\n",
    "            if arr[mid] < x:\n",
    "                left = mid + 1\n",
    "            elif arr[mid] > x:\n",
    "                right = mid - 1\n",
    "            else:\n",
    "                while mid-1 >= start and arr[mid-1] == x:\n",
    "                    mid -= 1\n",
    "                return mid\n",
    "        return mid if arr[mid] > x else mid + 1\n",
    "    \n",
    "    ## AUC may be viewed as the probability that a random positive item scores\n",
    "    ## higher than a random negative one. Here the proportion of all positive-negative\n",
    "    ## pairs that are correctly ranked is computed. The result is equal to the AUC metric.\n",
    "    correct = 0 ## L\n",
    "    total = 0 ## L\n",
    "    \n",
    "    # sorting positiveRatings array needs more cost\n",
    "    #positiveRatings = np.array(map(lambda x: x.rating, positiveRatings))\n",
    "\n",
    "    negativeRatings = list(map(lambda x:x.rating, negativeRatings))\n",
    "    \n",
    "    #np.sort(positiveRatings)\n",
    "    negativeRatings.sort()# = np.sort(negativeRatings)\n",
    "    total = len(positiveRatings)*len(negativeRatings)\n",
    "    \n",
    "    for positive in positiveRatings:\n",
    "        # Count the correctly-ranked pairs\n",
    "        correct += findNumElementsSmallerThan(negativeRatings, positive.rating)\n",
    "        \n",
    "    ## Return AUC: fraction of pairs ranked correctly\n",
    "    return float(correct) / total\n",
    "\n",
    "def calculateAUC(positiveData, bAllItemIDs, predictFunction):\n",
    "    # Take held-out data as the \"positive\", and map to tuples\n",
    "    positiveUserProducts = positiveData.map(lambda r: (r[0], r[1]))\n",
    "    # Make predictions for each of them, including a numeric score, and gather by user\n",
    "    positivePredictions = predictFunction(positiveUserProducts).groupBy(lambda r: r.user)\n",
    "    \n",
    "    # Create a set of \"negative\" products for each user. These are randomly chosen \n",
    "    # from among all of the other items, excluding those that are \"positive\" for the user. \n",
    "    negativeUserProducts = positiveUserProducts.groupByKey().mapPartitions(xtractNegative).flatMap(lambda x: x)\n",
    "    # Make predictions on the rest\n",
    "    negativePredictions = predictFunction(negativeUserProducts).groupBy(lambda r: r.user)\n",
    "    \n",
    "    return (\n",
    "            positivePredictions.join(negativePredictions)\n",
    "                .values()\n",
    "                .map(\n",
    "                    lambda positive_negativeRatings: ratioOfCorrectRanks(positive_negativeRatings[0], positive_negativeRatings[1])\n",
    "                )\n",
    "                .mean()\n",
    "            )"
   ]
  },
  {
   "cell_type": "markdown",
   "metadata": {},
   "source": [
    "####  Question 9.2\n",
    "Using part `cvData` and function `calculateAUC` to compute the AUC of the trained model."
   ]
  },
  {
   "cell_type": "code",
   "execution_count": 43,
   "metadata": {
    "collapsed": false
   },
   "outputs": [
    {
     "name": "stdout",
     "output_type": "stream",
     "text": [
      "auc= 0.9643956772548857\n",
      "finish in 35.997382 seconds\n"
     ]
    }
   ],
   "source": [
    "t0 = time()\n",
    "auc = calculateAUC(cvData,bAllItemIDs, model.predictAll)\n",
    "t1 = time()\n",
    "print(\"auc=\",auc)\n",
    "print(\"finish in %f seconds\" % (t1 - t0))"
   ]
  },
  {
   "cell_type": "code",
   "execution_count": 44,
   "metadata": {
    "collapsed": false
   },
   "outputs": [
    {
     "name": "stdout",
     "output_type": "stream",
     "text": [
      "<class 'pyspark.rdd.PipelinedRDD'>\n"
     ]
    }
   ],
   "source": [
    "print(type(trainData))"
   ]
  },
  {
   "cell_type": "markdown",
   "metadata": {},
   "source": [
    "#### Question 9.3\n",
    "Now we have the UAC of our model, it’s helpful to benchmark this against a simpler approach. For example, consider recommending the globally most-played artists to every user. This is not personalized, but is simple and may be effective. \n",
    "\n",
    "Implement this simple pupolarity-based prediction algorithm, evaluate its AUC score, and compare to the results achieved by the more sophisticated ALS algorithm."
   ]
  },
  {
   "cell_type": "code",
   "execution_count": 45,
   "metadata": {
    "collapsed": false
   },
   "outputs": [
    {
     "name": "stdout",
     "output_type": "stream",
     "text": [
      "[Row(artist=1, sum(rating)=302896.0), Row(artist=2, sum(rating)=628408.0), Row(artist=3, sum(rating)=3896.0), Row(artist=4, sum(rating)=14212.0), Row(artist=5, sum(rating)=12490.0), Row(artist=6, sum(rating)=918.0), Row(artist=7, sum(rating)=177.0), Row(artist=8, sum(rating)=11297.0), Row(artist=9, sum(rating)=1357.0), Row(artist=11, sum(rating)=7569.0)]\n"
     ]
    }
   ],
   "source": [
    "\n",
    "bListenCount = sc.broadcast(trainData.map(lambda r: (r[1], r[2])).reduceByKey(lambda x,y:x+y).collectAsMap())\n",
    "print (trainData.map(lambda r: (r[1], r[2])).toDF([\"artist\",\"rating\"]).groupBy(\"artist\").sum(\"rating\").orderBy(\"artist\").take(10))\n",
    "#!!! danger  !!! print(trainData.map(lambda r: (r[1], r[2])).reduceByKey(lambda x,y:x+y).collectAsMap())\n",
    "\n",
    "\n",
    "def predictMostListened(allData):\n",
    "    #[userID,artistID,rating]=allData.split(\" \")\n",
    "    return allData.map(lambda r: Rating(r[0], r[1], bListenCount.value.get(r[1], 0.0)))\n"
   ]
  },
  {
   "cell_type": "code",
   "execution_count": 46,
   "metadata": {
    "collapsed": false
   },
   "outputs": [
    {
     "name": "stdout",
     "output_type": "stream",
     "text": [
      "0.9373245953417353\n"
     ]
    }
   ],
   "source": [
    "\n",
    "auc = calculateAUC(cvData,bAllItemIDs, predictMostListened)\n",
    "print(auc)\n"
   ]
  },
  {
   "cell_type": "markdown",
   "metadata": {
    "collapsed": true
   },
   "source": [
    "## 3.6 Personalized recommendations with ALS\n",
    "\n",
    "In the previous section, we build our models with some given paramters without any knowledge about them. Actually, choosing the best parameters' values is very important. It can significantly affect the quality of models. Especially, with the current implementation of ALS in MLLIB, these parameters are not learned by the algorithm, and must be chosen by the caller. The following parameters should get consideration before training models:\n",
    "\n",
    "* `rank = 10`: the number of latent factors in the model, or equivalently, the number of columns $k$ in the user-feature and product-feature matrices. In non-trivial cases, this is also their rank. \n",
    "\n",
    "* `iterations = 5`: the number of iterations that the factorization runs. Instead of runing the algorithm until RMSE converged which actually takes very long time to finish with large datasets, we only let it run in a given number of iterations. More iterations take more time but may produce a better factorization.\n",
    "\n",
    "* `lambda_ = 0.01`: a standard overfitting parameter. Higher values resist overfitting, but values that are too high hurt the factorization's accuracy.\n",
    "\n",
    "*  `alpha = 1.0`: controls the relative weight of observed versus unobserved userproduct interactions in the factorization. \n",
    "\n",
    "Although all of them have impact on the models' quality, `iterations` is more of a constraint on resources used in the factorization. So, `rank`, `lambda_` and `alpha` can be considered hyperparameters to the model. \n",
    "We will try to find \"good\" values for them. Indeed, the values of hyperparameter are not necessarily optimal. Choosing good hyperparameter values is a common problem in machine learning. The most basic way to choose values is to simply try combinations of values and evaluate a metric for each of them, and choose the combination that produces the best value of the metric. \n"
   ]
  },
  {
   "cell_type": "markdown",
   "metadata": {
    "collapsed": true
   },
   "source": [
    "### Question 10\n",
    "\n",
    "#### Question 10.1\n",
    "For simplicity, assume that we want to explore the following parameter space: $ rank \\in \\{10, 50\\}$, $lambda\\_ \\in \\{1.0, 0.0001\\}$ and $alpha \\in \\{1.0, 40.0\\}$.\n",
    "\n",
    "Find the best combination of them in terms of the highest AUC value."
   ]
  },
  {
   "cell_type": "code",
   "execution_count": 48,
   "metadata": {
    "collapsed": false,
    "scrolled": true
   },
   "outputs": [
    {
     "name": "stdout",
     "output_type": "stream",
     "text": [
      "Train model with rank=8 lambda_=5.000000 alpha=1.000000\n",
      "Train model with rank=8 lambda_=5.000000 alpha=40.000000\n",
      "Train model with rank=8 lambda_=5.000000 alpha=80.000000\n",
      "Train model with rank=8 lambda_=2.000000 alpha=1.000000\n",
      "Train model with rank=8 lambda_=2.000000 alpha=40.000000\n",
      "Train model with rank=8 lambda_=2.000000 alpha=80.000000\n",
      "Train model with rank=8 lambda_=1.000000 alpha=1.000000\n",
      "Train model with rank=8 lambda_=1.000000 alpha=40.000000\n",
      "Train model with rank=8 lambda_=1.000000 alpha=80.000000\n",
      "Train model with rank=8 lambda_=0.000100 alpha=1.000000\n",
      "Train model with rank=8 lambda_=0.000100 alpha=40.000000\n",
      "Train model with rank=8 lambda_=0.000100 alpha=80.000000\n",
      "Train model with rank=10 lambda_=5.000000 alpha=1.000000\n",
      "Train model with rank=10 lambda_=5.000000 alpha=40.000000\n",
      "Train model with rank=10 lambda_=5.000000 alpha=80.000000\n",
      "Train model with rank=10 lambda_=2.000000 alpha=1.000000\n",
      "Train model with rank=10 lambda_=2.000000 alpha=40.000000\n",
      "Train model with rank=10 lambda_=2.000000 alpha=80.000000\n",
      "Train model with rank=10 lambda_=1.000000 alpha=1.000000\n",
      "Train model with rank=10 lambda_=1.000000 alpha=40.000000\n",
      "Train model with rank=10 lambda_=1.000000 alpha=80.000000\n",
      "Train model with rank=10 lambda_=0.000100 alpha=1.000000\n",
      "Train model with rank=10 lambda_=0.000100 alpha=40.000000\n",
      "Train model with rank=10 lambda_=0.000100 alpha=80.000000\n",
      "Train model with rank=50 lambda_=5.000000 alpha=1.000000\n",
      "Train model with rank=50 lambda_=5.000000 alpha=40.000000\n",
      "Train model with rank=50 lambda_=5.000000 alpha=80.000000\n",
      "Train model with rank=50 lambda_=2.000000 alpha=1.000000\n",
      "Train model with rank=50 lambda_=2.000000 alpha=40.000000\n",
      "Train model with rank=50 lambda_=2.000000 alpha=80.000000\n",
      "Train model with rank=50 lambda_=1.000000 alpha=1.000000\n",
      "Train model with rank=50 lambda_=1.000000 alpha=40.000000\n",
      "Train model with rank=50 lambda_=1.000000 alpha=80.000000\n",
      "Train model with rank=50 lambda_=0.000100 alpha=1.000000\n",
      "Train model with rank=50 lambda_=0.000100 alpha=40.000000\n",
      "Train model with rank=50 lambda_=0.000100 alpha=80.000000\n",
      "Train model with rank=70 lambda_=5.000000 alpha=1.000000\n",
      "Train model with rank=70 lambda_=5.000000 alpha=40.000000\n",
      "Train model with rank=70 lambda_=5.000000 alpha=80.000000\n",
      "Train model with rank=70 lambda_=2.000000 alpha=1.000000\n",
      "Train model with rank=70 lambda_=2.000000 alpha=40.000000\n",
      "Train model with rank=70 lambda_=2.000000 alpha=80.000000\n",
      "Train model with rank=70 lambda_=1.000000 alpha=1.000000\n",
      "Train model with rank=70 lambda_=1.000000 alpha=40.000000\n",
      "Train model with rank=70 lambda_=1.000000 alpha=80.000000\n",
      "Train model with rank=70 lambda_=0.000100 alpha=1.000000\n",
      "Train model with rank=70 lambda_=0.000100 alpha=40.000000\n",
      "Train model with rank=70 lambda_=0.000100 alpha=80.000000\n",
      "                     0         1\n",
      "0    (70, 0.0001, 1.0)  0.949382\n",
      "1    (50, 0.0001, 1.0)  0.953258\n",
      "2     (8, 0.0001, 1.0)  0.963364\n",
      "3    (10, 0.0001, 1.0)  0.963929\n",
      "4       (70, 1.0, 1.0)  0.965697\n",
      "5       (50, 1.0, 1.0)  0.966908\n",
      "6       (10, 1.0, 1.0)  0.967891\n",
      "7        (8, 1.0, 1.0)  0.970663\n",
      "8       (70, 2.0, 1.0)  0.971100\n",
      "9       (50, 2.0, 1.0)  0.971183\n",
      "10      (10, 2.0, 1.0)  0.971719\n",
      "11       (8, 2.0, 1.0)  0.972288\n",
      "12  (70, 0.0001, 40.0)  0.973777\n",
      "13  (10, 0.0001, 40.0)  0.974696\n",
      "14  (50, 0.0001, 40.0)  0.974904\n",
      "15     (70, 1.0, 40.0)  0.975240\n",
      "16      (10, 5.0, 1.0)  0.975358\n",
      "17      (8, 1.0, 40.0)  0.975363\n",
      "18       (8, 5.0, 1.0)  0.975945\n",
      "19   (8, 0.0001, 80.0)  0.975948\n",
      "20  (70, 0.0001, 80.0)  0.975995\n",
      "21     (50, 1.0, 40.0)  0.976224\n",
      "22     (70, 2.0, 40.0)  0.976257\n",
      "23     (10, 2.0, 40.0)  0.976526\n",
      "24  (10, 0.0001, 80.0)  0.976683\n",
      "25     (50, 2.0, 40.0)  0.976686\n",
      "26     (10, 1.0, 40.0)  0.976749\n",
      "27     (70, 1.0, 80.0)  0.976910\n",
      "28      (8, 5.0, 40.0)  0.976924\n",
      "29      (8, 2.0, 80.0)  0.976940\n",
      "30  (50, 0.0001, 80.0)  0.977359\n",
      "31   (8, 0.0001, 40.0)  0.977508\n",
      "32      (8, 1.0, 80.0)  0.977521\n",
      "33      (8, 2.0, 40.0)  0.977690\n",
      "34     (10, 5.0, 40.0)  0.977764\n",
      "35     (70, 2.0, 80.0)  0.977822\n",
      "36      (8, 5.0, 80.0)  0.977874\n",
      "37     (50, 1.0, 80.0)  0.977895\n",
      "38     (50, 5.0, 40.0)  0.977992\n",
      "39     (70, 5.0, 40.0)  0.978099\n",
      "40     (10, 2.0, 80.0)  0.978276\n",
      "41      (50, 5.0, 1.0)  0.978348\n",
      "42      (70, 5.0, 1.0)  0.978470\n",
      "43     (10, 1.0, 80.0)  0.978482\n",
      "44     (10, 5.0, 80.0)  0.978714\n",
      "45     (50, 2.0, 80.0)  0.978714\n",
      "46     (70, 5.0, 80.0)  0.979311\n",
      "47     (50, 5.0, 80.0)  0.979608\n"
     ]
    },
    {
     "data": {
      "text/plain": [
       "PythonRDD[366] at RDD at PythonRDD.scala:48"
      ]
     },
     "execution_count": 48,
     "metadata": {},
     "output_type": "execute_result"
    }
   ],
   "source": [
    "\n",
    "evaluations = []\n",
    "\n",
    "\n",
    "for rank in [8,10,50,70]:\n",
    "    for lambda_ in [5.0,2.0,1.0, 0.0001]:\n",
    "        for alpha in [1.0, 40.0, 80.0]:\n",
    "            print(\"Train model with rank=%d lambda_=%f alpha=%f\" % (rank, lambda_, alpha))\n",
    "            # with each combination of params, we should run multiple times and get avg\n",
    "            # for simple, we only run one time.\n",
    "            model = ALS.trainImplicit(trainData,rank=rank,lambda_=lambda_,alpha=alpha)\n",
    "            \n",
    "            auc = calculateAUC(cvData,bAllItemIDs,model.predictAll)\n",
    "            \n",
    "            evaluations.append(((rank, lambda_, alpha), auc))\n",
    "            \n",
    "            unpersist(model)\n",
    "\n",
    "\n",
    "\n",
    "evaluations.sort(key=lambda x: x[1])\n",
    "                 \n",
    "evalDataFrame = pd.DataFrame(data=evaluations)\n",
    "print(evalDataFrame)\n",
    "\n",
    "trainData.unpersist()\n",
    "cvData.unpersist()"
   ]
  },
  {
   "cell_type": "markdown",
   "metadata": {},
   "source": [
    "<font color=OrangeRed size=4>**[Group 6]**</font>\n",
    "\n",
    "The first parameter **rank** stands for the number of latent factors in the model, more features means finer granularity, but it will cause the problem of overfitting.\n",
    "\n",
    "The second parameter,**lambda_**, represents for overfitting. Higher value resists overfitting. So to some extent it is complementary with **rank**.\n",
    "\n",
    "The third parameter, **alpha**, refers to the relation between observed and unobserved userproduct.\n",
    "\n",
    "Based on the original parameters(rank = 10, 50, lambda_ = 1, 0.0001, alpha = 1, 40), we add some new parameters, and train for the 48 results in total. The best result we got is **AUC = 0.979608**, with parameters rank = 50, lambda_ = 5.0, alpha = 80.0. Compared the initial result(rank = 10,lambda_ = 0.01, alpha = 1.0, **AUC = 0.9373245953417353**), the increment in AUC is remarkable."
   ]
  },
  {
   "cell_type": "markdown",
   "metadata": {
    "collapsed": true
   },
   "source": [
    "#### Question 10.2 \n",
    "\n",
    "Using \"optimal\" hyper-parameters in question 10.1, re-train the model and show top-5 artist names recommendated for user 2093760."
   ]
  },
  {
   "cell_type": "code",
   "execution_count": 54,
   "metadata": {
    "collapsed": false
   },
   "outputs": [
    {
     "name": "stdout",
     "output_type": "stream",
     "text": [
      "[Rating(user=2093760, product=1034635, rating=0.3497436397415201), Rating(user=2093760, product=2814, rating=0.3457145777297242), Rating(user=2093760, product=1001819, rating=0.34286126130029515), Rating(user=2093760, product=930, rating=0.3412789670903478), Rating(user=2093760, product=393, rating=0.3398518507018743)]\n",
      "['06Crazy Life', 'Pang Nakarin', 'Terfel, Bartoli- Mozart: Don', 'The Flaming Sidebur', 'Bodenstandig 3000', 'Jota Quest e Ivete Sangalo', 'Toto_XX (1977', 'U.S Bombs -', 'artist formaly know as Mat', 'Kassierer - Musik für beide Ohren', 'Rahzel, RZA', 'Jon Richardson', 'Young Fresh Fellowslows & the Minus 5', 'Ki-ya-Kiss', 'Underminded - The Task Of Modern Educator', 'Kox-Box', 'alexisonfire [wo!]', 'dj salinger', \"The B52's - Channel Z\", '44 Hoes']\n"
     ]
    }
   ],
   "source": [
    "\n",
    "model = ALS.trainImplicit(trainData,rank=50,lambda_=5.0,alpha=80.0)\n",
    "allData.unpersist()\n",
    "\n",
    "userID = 2093760\n",
    "recommendations = model.recommendProducts(userID,5)\n",
    "\n",
    "recommendedProductIDs = set(recommendations)\n",
    "print (recommendations)\n",
    "recList = artistByID.filter(lambda x: artistNames(x)).values().collect()\n",
    "print(recList[0:20])\n",
    "\n",
    "unpersist(model)\n"
   ]
  },
  {
   "cell_type": "markdown",
   "metadata": {},
   "source": [
    "# Summary\n",
    "\n",
    "In this notebook, we introduce an algorithm to do matrix factorization and the way of using it to make recommendation. Further more, we studied how to build a large-scale recommender system on SPARK using ALS algorithm and evaluate its quality. Finally, a simple approach to choose good parameters is mentioned."
   ]
  },
  {
   "cell_type": "markdown",
   "metadata": {
    "collapsed": true
   },
   "source": [
    "# References\n",
    "\n",
    "- The example in section 2 is taken from [Recommender system](infolab.stanford.edu/~ullman/mmds/ch9.pdf)"
   ]
  }
 ],
 "metadata": {
  "kernelspec": {
   "display_name": "Python 3",
   "language": "python",
   "name": "python3"
  },
  "language_info": {
   "codemirror_mode": {
    "name": "ipython",
    "version": 3
   },
   "file_extension": ".py",
   "mimetype": "text/x-python",
   "name": "python",
   "nbconvert_exporter": "python",
   "pygments_lexer": "ipython3",
   "version": "3.6.0"
  }
 },
 "nbformat": 4,
 "nbformat_minor": 0
}
